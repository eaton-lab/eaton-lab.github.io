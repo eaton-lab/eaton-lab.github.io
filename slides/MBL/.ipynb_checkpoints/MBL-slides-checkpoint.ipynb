{
 "cells": [
  {
   "cell_type": "markdown",
   "metadata": {
    "slideshow": {
     "slide_type": "slide"
    }
   },
   "source": [
    "## ipyrad -- interactive assembly and analysis of RAD-seq data\n",
    "\n",
    "#### *And*, a primer on Python, Jupyter, and reproducible science"
   ]
  },
  {
   "cell_type": "markdown",
   "metadata": {
    "slideshow": {
     "slide_type": "slide"
    }
   },
   "source": [
    "### Skills in this course:\n",
    "    \n",
    "    + introduction to RAD-seq assembly\n",
    "    + ipyrad command line (CLI)\n",
    "    + ipyrad Python code (API)\n",
    "    + introduction to jupyter\n",
    "    + introduction to parallel computing in Python"
   ]
  },
  {
   "cell_type": "markdown",
   "metadata": {
    "slideshow": {
     "slide_type": "slide"
    }
   },
   "source": [
    "### Introduction to RAD-seq assembly\n",
    "\n",
    "+ Short reads (usually 50-150bp) single or paired.\n",
    "+ Loci usually align perfectly, not *tiled* into contigs.\n",
    "+ SNP data including full sequence data.\n",
    "+ usually ~1e3 - 1e6 loci.\n",
    "+ phased SNPs within loci, not phased *between* loci\n",
    "+ anonymous (*denovo*) or spatial-located (*reference-mapped*)\n",
    "\n"
   ]
  },
  {
   "cell_type": "markdown",
   "metadata": {
    "slideshow": {
     "slide_type": "slide"
    }
   },
   "source": [
    "# Available assembly software\n",
    "\n",
    "1. Standard reference-mapping approaches (BWA + Picard + GATK + ...)\n",
    "2. [STACKS](http://catchenlab.life.illinois.edu/stacks/) \n",
    "3. [pyRAD](http://github.com/dereneaton/pyrad))\n",
    "4. [TASSEL-UNEAK](http://www.maizegenetics.net/tassel)\n",
    "5. [ipyrad](http://ipyrad.readthedocs.io)\n",
    "\n",
    "### Advantages to using ipyrad over the other methods:\n",
    "1. Provides denovo, reference, and denovo-reference hybrid assembly methods\n",
    "2. Includes alignment steps to allow for indel variation \n",
    "3. Fast and massively parallelizable (hundreds/thousands of cores)\n",
    "4. Low memory footprint, e.g., compared to stacks.\n",
    "5. Branching methods support reproducibility and exploring parameter settings\n",
    "6. Python API supports integration with Jupyter and scripting. "
   ]
  },
  {
   "cell_type": "markdown",
   "metadata": {
    "slideshow": {
     "slide_type": "subslide"
    }
   },
   "source": [
    "## ipyrad online documentation\n",
    "\n",
    "<img  src=\"../slide-images/MBL-1.png\">"
   ]
  },
  {
   "cell_type": "markdown",
   "metadata": {
    "slideshow": {
     "slide_type": "slide"
    }
   },
   "source": [
    "## The ipyrad command-line (CLI)\n",
    "\n",
    "And introduction to the ipyrad setup and parameter settings."
   ]
  },
  {
   "cell_type": "code",
   "execution_count": null,
   "metadata": {
    "collapsed": true
   },
   "outputs": [],
   "source": []
  },
  {
   "cell_type": "code",
   "execution_count": null,
   "metadata": {
    "collapsed": true
   },
   "outputs": [],
   "source": []
  },
  {
   "cell_type": "code",
   "execution_count": null,
   "metadata": {
    "collapsed": true
   },
   "outputs": [],
   "source": []
  },
  {
   "cell_type": "code",
   "execution_count": null,
   "metadata": {
    "collapsed": true
   },
   "outputs": [],
   "source": []
  },
  {
   "cell_type": "code",
   "execution_count": null,
   "metadata": {
    "collapsed": true
   },
   "outputs": [],
   "source": []
  },
  {
   "cell_type": "markdown",
   "metadata": {
    "collapsed": true
   },
   "source": [
    "## Phylogenetic gene/species tree inference\n",
    "\n",
    "<img width=500 src=\"../slide-images/tree-inference.png\">\n",
    "\n",
    "\n",
    "<span class=\"align-right\">\n",
    "    <a href=\"http://onlinelibrary.wiley.com/doi/10.1111/nyas.12747/abstract\">Liu et al. 2015</a>\n",
    "</span>"
   ]
  }
 ],
 "metadata": {
  "celltoolbar": "Slideshow",
  "kernelspec": {
   "display_name": "Python 2",
   "language": "python",
   "name": "python2"
  },
  "language_info": {
   "codemirror_mode": {
    "name": "ipython",
    "version": 2
   },
   "file_extension": ".py",
   "mimetype": "text/x-python",
   "name": "python",
   "nbconvert_exporter": "python",
   "pygments_lexer": "ipython2",
   "version": "2.7.13"
  }
 },
 "nbformat": 4,
 "nbformat_minor": 2
}
