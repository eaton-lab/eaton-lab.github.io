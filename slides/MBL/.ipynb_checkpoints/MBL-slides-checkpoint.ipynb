{
 "cells": [
  {
   "cell_type": "markdown",
   "metadata": {
    "slideshow": {
     "slide_type": "slide"
    }
   },
   "source": [
    "## ipyrad -- interactive assembly and analysis of RAD-seq data\n",
    "\n",
    "#### *And*, a primer on Python, Jupyter, and reproducible science"
   ]
  },
  {
   "cell_type": "markdown",
   "metadata": {
    "slideshow": {
     "slide_type": "slide"
    }
   },
   "source": [
    "### Skills in this course:\n",
    "\n",
    "+ introduction to RAD-seq assembly\n",
    "+ ipyrad command line (CLI)\n",
    "+ ipyrad Python code (API)\n",
    "+ introduction to jupyter\n",
    "+ introduction to parallel computing in Python"
   ]
  },
  {
   "cell_type": "markdown",
   "metadata": {
    "slideshow": {
     "slide_type": "slide"
    }
   },
   "source": [
    "### Introduction to RAD-seq assembly\n",
    "\n",
    "+ Short reads (usually 50-150bp) single or paired.\n",
    "+ Loci usually align perfectly, not *tiled* into contigs.\n",
    "+ SNP data including full sequence data.\n",
    "+ usually ~1e3 - 1e6 loci.\n",
    "+ phased SNPs within loci, not phased *between* loci\n",
    "+ anonymous (*denovo*) or spatial-located (*reference-mapped*)\n",
    "\n"
   ]
  },
  {
   "cell_type": "markdown",
   "metadata": {
    "slideshow": {
     "slide_type": "slide"
    }
   },
   "source": [
    "# Available assembly software\n",
    "\n",
    "1. Standard reference-mapping approaches (BWA + Picard + GATK + ...)\n",
    "2. [STACKS](http://catchenlab.life.illinois.edu/stacks/) \n",
    "3. [pyRAD](http://github.com/dereneaton/pyrad))\n",
    "4. [TASSEL-UNEAK](http://www.maizegenetics.net/tassel)\n",
    "5. [ipyrad](http://ipyrad.readthedocs.io)\n",
    "\n",
    "### Advantages to using ipyrad over the other methods:\n",
    "1. Provides denovo, reference, and denovo-reference hybrid assembly methods\n",
    "2. Includes alignment steps to allow for indel variation \n",
    "3. Fast and massively parallelizable (hundreds/thousands of cores)\n",
    "4. Low memory footprint, e.g., compared to stacks.\n",
    "5. Branching methods support reproducibility and exploring parameter settings\n",
    "6. Python API supports integration with Jupyter and scripting. "
   ]
  },
  {
   "cell_type": "markdown",
   "metadata": {
    "slideshow": {
     "slide_type": "subslide"
    }
   },
   "source": [
    "## ipyrad online documentation\n",
    "\n",
    "<img  src=\"../slide-images/MBL-1.png\">"
   ]
  },
  {
   "cell_type": "markdown",
   "metadata": {
    "slideshow": {
     "slide_type": "slide"
    }
   },
   "source": [
    "## The ipyrad command-line (CLI)\n",
    "\n",
    "And introduction to the ipyrad setup and parameter settings."
   ]
  },
  {
   "cell_type": "code",
   "execution_count": 3,
   "metadata": {
    "slideshow": {
     "slide_type": "subslide"
    }
   },
   "outputs": [
    {
     "name": "stdout",
     "output_type": "stream",
     "text": [
      "\n",
      "  New file 'params-tutorial.txt' created in /home/deren/websites/eaton-lab/slides/MBL\n",
      "\n"
     ]
    }
   ],
   "source": [
    "%%bash\n",
    "\n",
    "ipyrad -n tutorial"
   ]
  },
  {
   "cell_type": "code",
   "execution_count": 6,
   "metadata": {
    "slideshow": {
     "slide_type": "subslide"
    }
   },
   "outputs": [
    {
     "name": "stdout",
     "output_type": "stream",
     "text": [
      "------- ipyrad params file (v.0.7.5)--------------------------------------------\n",
      "tutorial                       ## [0] [assembly_name]: Assembly name. Used to name output directories for assembly steps\n",
      "./                             ## [1] [project_dir]: Project dir (made in curdir if not present)\n",
      "                               ## [2] [raw_fastq_path]: Location of raw non-demultiplexed fastq files\n",
      "                               ## [3] [barcodes_path]: Location of barcodes file\n",
      "                               ## [4] [sorted_fastq_path]: Location of demultiplexed/sorted fastq files\n",
      "denovo                         ## [5] [assembly_method]: Assembly method (denovo, reference, denovo+reference, denovo-reference)\n",
      "                               ## [6] [reference_sequence]: Location of reference sequence file\n",
      "rad                            ## [7] [datatype]: Datatype (see docs): rad, gbs, ddrad, etc.\n",
      "TGCAG,                         ## [8] [restriction_overhang]: Restriction overhang (cut1,) or (cut1, cut2)\n",
      "5                              ## [9] [max_low_qual_bases]: Max low quality base calls (Q<20) in a read\n",
      "33                             ## [10] [phred_Qscore_offset]: phred Q score offset (33 is default and very standard)\n",
      "6                              ## [11] [mindepth_statistical]: Min depth for statistical base calling\n",
      "6                              ## [12] [mindepth_majrule]: Min depth for majority-rule base calling\n",
      "10000                          ## [13] [maxdepth]: Max cluster depth within samples\n",
      "0.85                           ## [14] [clust_threshold]: Clustering threshold for de novo assembly\n",
      "0                              ## [15] [max_barcode_mismatch]: Max number of allowable mismatches in barcodes\n",
      "0                              ## [16] [filter_adapters]: Filter for adapters/primers (1 or 2=stricter)\n",
      "35                             ## [17] [filter_min_trim_len]: Min length of reads after adapter trim\n",
      "2                              ## [18] [max_alleles_consens]: Max alleles per site in consensus sequences\n",
      "5, 5                           ## [19] [max_Ns_consens]: Max N's (uncalled bases) in consensus (R1, R2)\n",
      "8, 8                           ## [20] [max_Hs_consens]: Max Hs (heterozygotes) in consensus (R1, R2)\n",
      "4                              ## [21] [min_samples_locus]: Min # samples per locus for output\n",
      "20, 20                         ## [22] [max_SNPs_locus]: Max # SNPs per locus (R1, R2)\n",
      "8, 8                           ## [23] [max_Indels_locus]: Max # of indels per locus (R1, R2)\n",
      "0.5                            ## [24] [max_shared_Hs_locus]: Max # heterozygous sites per locus (R1, R2)\n",
      "0, 0, 0, 0                     ## [25] [trim_reads]: Trim raw read edges (R1>, <R1, R2>, <R2) (see docs)\n",
      "0, 0, 0, 0                     ## [26] [trim_loci]: Trim locus edges (see docs) (R1>, <R1, R2>, <R2)\n",
      "p, s, v                        ## [27] [output_formats]: Output formats (see docs)\n",
      "                               ## [28] [pop_assign_file]: Path to population assignment file"
     ]
    }
   ],
   "source": [
    "%%bash\n",
    "\n",
    "cat params-tutorial.txt"
   ]
  },
  {
   "cell_type": "code",
   "execution_count": null,
   "metadata": {
    "collapsed": true
   },
   "outputs": [],
   "source": []
  },
  {
   "cell_type": "code",
   "execution_count": null,
   "metadata": {
    "collapsed": true
   },
   "outputs": [],
   "source": []
  },
  {
   "cell_type": "code",
   "execution_count": null,
   "metadata": {
    "collapsed": true
   },
   "outputs": [],
   "source": []
  },
  {
   "cell_type": "code",
   "execution_count": null,
   "metadata": {
    "collapsed": true
   },
   "outputs": [],
   "source": []
  },
  {
   "cell_type": "code",
   "execution_count": null,
   "metadata": {
    "collapsed": true
   },
   "outputs": [],
   "source": []
  },
  {
   "cell_type": "markdown",
   "metadata": {
    "collapsed": true
   },
   "source": [
    "## Phylogenetic gene/species tree inference\n",
    "\n",
    "<img width=500 src=\"../slide-images/tree-inference.png\">\n",
    "\n",
    "\n",
    "<span class=\"align-right\">\n",
    "    <a href=\"http://onlinelibrary.wiley.com/doi/10.1111/nyas.12747/abstract\">Liu et al. 2015</a>\n",
    "</span>"
   ]
  }
 ],
 "metadata": {
  "celltoolbar": "Slideshow",
  "kernelspec": {
   "display_name": "Python 2",
   "language": "python",
   "name": "python2"
  },
  "language_info": {
   "codemirror_mode": {
    "name": "ipython",
    "version": 2
   },
   "file_extension": ".py",
   "mimetype": "text/x-python",
   "name": "python",
   "nbconvert_exporter": "python",
   "pygments_lexer": "ipython2",
   "version": "2.7.13"
  }
 },
 "nbformat": 4,
 "nbformat_minor": 2
}
