{
 "cells": [
  {
   "cell_type": "markdown",
   "metadata": {
    "slideshow": {
     "slide_type": "slide"
    }
   },
   "source": [
    "## ipyrad -- interactive assembly and analysis of RAD-seq data\n",
    "\n",
    "#### *And*, a primer on Python, Jupyter, and reproducible science"
   ]
  },
  {
   "cell_type": "markdown",
   "metadata": {
    "slideshow": {
     "slide_type": "slide"
    }
   },
   "source": [
    "### Skills in this course:\n",
    "    \n",
    "    + introduction to RAD-seq assembly\n",
    "    + ipyrad command line (CLI)\n",
    "    + ipyrad Python code (API)\n",
    "    + introduction to jupyter\n",
    "    + introduction to parallel computing in Python"
   ]
  },
  {
   "attachments": {},
   "cell_type": "markdown",
   "metadata": {
    "slideshow": {
     "slide_type": "slide"
    }
   },
   "source": [
    "### Introduction to RAD-seq assembly\n",
    "\n",
    "+ Short reads (usually 50-150bp) single or paired.\n",
    "+ Loci usually align perfectly, not *tiled* into contigs.\n",
    "+ SNP data including full sequence data.\n",
    "+ usually ~1e3 - 1e6 loci.\n",
    "+ phased SNPs within loci, not phased *between* loci\n",
    "+ anonymous (*denovo*) or spatial-located (*reference-mapped*)\n",
    "\n"
   ]
  },
  {
   "attachments": {},
   "cell_type": "markdown",
   "metadata": {
    "slideshow": {
     "slide_type": "slide"
    }
   },
   "source": [
    "## ipyrad online documentation\n",
    "\n",
    "<img width=400 src=\"../slide-images/MBL-1.png\">"
   ]
  },
  {
   "cell_type": "code",
   "execution_count": null,
   "metadata": {
    "collapsed": true
   },
   "outputs": [],
   "source": []
  }
 ],
 "metadata": {
  "celltoolbar": "Slideshow",
  "kernelspec": {
   "display_name": "Python 2",
   "language": "python",
   "name": "python2"
  },
  "language_info": {
   "codemirror_mode": {
    "name": "ipython",
    "version": 2
   },
   "file_extension": ".py",
   "mimetype": "text/x-python",
   "name": "python",
   "nbconvert_exporter": "python",
   "pygments_lexer": "ipython2",
   "version": "2.7.13"
  }
 },
 "nbformat": 4,
 "nbformat_minor": 2
}
