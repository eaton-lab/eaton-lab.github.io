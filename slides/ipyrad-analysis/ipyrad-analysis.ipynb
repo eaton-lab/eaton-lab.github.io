{
 "cells": [
  {
   "cell_type": "markdown",
   "metadata": {
    "slideshow": {
     "slide_type": "slide"
    }
   },
   "source": [
    "# The ipyrad.analysis tool kit\n",
    "Deren Eaton  \n"
   ]
  },
  {
   "cell_type": "markdown",
   "metadata": {
    "slideshow": {
     "slide_type": "slide"
    }
   },
   "source": [
    "### Install software\n",
    "All required software for this walkthrough is available on conda. "
   ]
  },
  {
   "cell_type": "code",
   "execution_count": 1,
   "metadata": {
    "slideshow": {
     "slide_type": "-"
    }
   },
   "outputs": [],
   "source": [
    "# conda install -c ipyrad ipyrad structure clumpp bpp \n",
    "# conda install -c eaton-lab toytree toyplot\n",
    "# conda install -c bioconda raxml"
   ]
  },
  {
   "cell_type": "markdown",
   "metadata": {
    "slideshow": {
     "slide_type": "slide"
    }
   },
   "source": [
    "### Start an ipyparallel cluster\n",
    "In a separate terminal run the following command to start a cluster of engines. If working on a notebook running remotely, use the dashboard to open a new terminal. "
   ]
  },
  {
   "cell_type": "code",
   "execution_count": 49,
   "metadata": {
    "collapsed": true
   },
   "outputs": [],
   "source": [
    "# ipcluster start --n=4"
   ]
  },
  {
   "cell_type": "markdown",
   "metadata": {},
   "source": [
    "You should then be able to connect to the engines in your notebook:"
   ]
  },
  {
   "cell_type": "code",
   "execution_count": 10,
   "metadata": {},
   "outputs": [
    {
     "name": "stdout",
     "output_type": "stream",
     "text": [
      "4 connected engines\n"
     ]
    }
   ],
   "source": [
    "## connect to the cluster\n",
    "import ipyparallel as ipp\n",
    "ipyclient = ipp.Client()\n",
    "\n",
    "## print number of engines\n",
    "print len(ipyclient), \"connected engines\""
   ]
  },
  {
   "cell_type": "markdown",
   "metadata": {
    "slideshow": {
     "slide_type": "slide"
    }
   },
   "source": [
    "### Assemble a RAD data set\n",
    "The code here is to assemble the example empirical data set from the [ipyrad tutotial](http://ipyrad.readthedocs.io/userguide.html#empirical-examples). "
   ]
  },
  {
   "cell_type": "code",
   "execution_count": null,
   "metadata": {
    "collapsed": true
   },
   "outputs": [],
   "source": [
    "## import ipyrad\n",
    "import ipyrad as ip"
   ]
  },
  {
   "cell_type": "markdown",
   "metadata": {},
   "source": [
    "Minimal workflow: scroll down for details."
   ]
  },
  {
   "cell_type": "code",
   "execution_count": null,
   "metadata": {
    "slideshow": {
     "slide_type": "-"
    }
   },
   "outputs": [],
   "source": [
    "## create an Assembly object\n",
    "data = ip.Assembly(\"simdata\")\n",
    "\n",
    "## set I/O paths for the data\n",
    "data.set_params(\"project_dir\", \"~/workshop\")\n",
    "data.set_params(\"raw_fastq_path\", \"ipsimdata/rad_example_R1_.fastq.gz\")\n",
    "data.set_params(\"barcodes_path\", \"ipsimdata/rad_example_barcodes.txt\")\n",
    "\n",
    "## run all steps of the Assembly\n",
    "data.run(\"1234567\")"
   ]
  },
  {
   "cell_type": "markdown",
   "metadata": {
    "slideshow": {
     "slide_type": "subslide"
    }
   },
   "source": [
    "### Modify more parameters"
   ]
  },
  {
   "cell_type": "code",
   "execution_count": 3,
   "metadata": {
    "slideshow": {
     "slide_type": "-"
    }
   },
   "outputs": [
    {
     "name": "stdout",
     "output_type": "stream",
     "text": [
      "  0   assembly_name               simdata                                      \n",
      "  1   project_dir                 /home/deren/workshop                         \n",
      "  2   raw_fastq_path              ./ipsimdata/rad_example_R1_.fastq.gz         \n",
      "  3   barcodes_path               ./ipsimdata/rad_example_barcodes.txt         \n",
      "  4   sorted_fastq_path                                                        \n",
      "  5   assembly_method             denovo                                       \n",
      "  6   reference_sequence                                                       \n",
      "  7   datatype                    rad                                          \n",
      "  8   restriction_overhang        ('TGCAG', '')                                \n",
      "  9   max_low_qual_bases          5                                            \n",
      "  10  phred_Qscore_offset         33                                           \n",
      "  11  mindepth_statistical        6                                            \n",
      "  12  mindepth_majrule            6                                            \n",
      "  13  maxdepth                    10000                                        \n",
      "  14  clust_threshold             0.85                                         \n",
      "  15  max_barcode_mismatch        0                                            \n",
      "  16  filter_adapters             2                                            \n",
      "  17  filter_min_trim_len         35                                           \n",
      "  18  max_alleles_consens         2                                            \n",
      "  19  max_Ns_consens              (5, 5)                                       \n",
      "  20  max_Hs_consens              (8, 8)                                       \n",
      "  21  min_samples_locus           4                                            \n",
      "  22  max_SNPs_locus              (20, 20)                                     \n",
      "  23  max_Indels_locus            (8, 8)                                       \n",
      "  24  max_shared_Hs_locus         0.5                                          \n",
      "  25  trim_reads                  (0, 0, 0, 0)                                 \n",
      "  26  trim_loci                   (0, 0, 0, 0)                                 \n",
      "  27  output_formats              ('l', 'p', 'a', 's', 'k')                    \n",
      "  28  pop_assign_file                                                          \n"
     ]
    }
   ],
   "source": [
    "## set params\n",
    "data.set_params(\"filter_adapters\", 2)\n",
    "data.set_params(\"output_formats\", \"lpask\")\n",
    "\n",
    "## show params\n",
    "data.get_params()"
   ]
  },
  {
   "cell_type": "markdown",
   "metadata": {
    "slideshow": {
     "slide_type": "subslide"
    }
   },
   "source": [
    "### Assemble the data set\n",
    "You can run one or more steps just like in the CLI. "
   ]
  },
  {
   "cell_type": "code",
   "execution_count": 4,
   "metadata": {
    "scrolled": false
   },
   "outputs": [
    {
     "name": "stdout",
     "output_type": "stream",
     "text": [
      "\n",
      "  Assembly: simdata\n",
      "  [####################] 100%  sorting reads         | 0:00:03 | s1 | \n",
      "  [####################] 100%  writing/compressing   | 0:00:01 | s1 | \n",
      "  [####################] 100%  processing reads      | 0:00:03 | s2 | \n",
      "  [####################] 100%  dereplicating         | 0:00:00 | s3 | \n",
      "  [####################] 100%  clustering            | 0:00:01 | s3 | \n",
      "  [####################] 100%  building clusters     | 0:00:00 | s3 | \n",
      "  [####################] 100%  chunking              | 0:00:00 | s3 | \n",
      "  [####################] 100%  aligning              | 0:00:08 | s3 | \n",
      "  [####################] 100%  concatenating         | 0:00:00 | s3 | \n",
      "  [####################] 100%  inferring [H, E]      | 0:00:03 | s4 | \n",
      "  [####################] 100%  calculating depths    | 0:00:00 | s5 | \n",
      "  [####################] 100%  chunking clusters     | 0:00:00 | s5 | \n",
      "  [####################] 100%  consens calling       | 0:00:23 | s5 | \n",
      "  [####################] 100%  concat/shuffle input  | 0:00:00 | s6 | \n",
      "  [####################] 100%  clustering across     | 0:00:00 | s6 | \n",
      "  [####################] 100%  building clusters     | 0:00:00 | s6 | \n",
      "  [####################] 100%  aligning clusters     | 0:00:04 | s6 | \n",
      "  [####################] 100%  database indels       | 0:00:00 | s6 | \n",
      "  [####################] 100%  indexing clusters     | 0:00:01 | s6 | \n",
      "  [####################] 100%  building database     | 0:00:00 | s6 | \n",
      "  [####################] 100%  filtering loci        | 0:00:06 | s7 | \n",
      "  [####################] 100%  building loci/stats   | 0:00:00 | s7 | \n",
      "  [####################] 100%  building arrays       | 0:00:00 | s7 | \n",
      "  [####################] 100%  writing outfiles      | 0:00:00 | s7 | \n",
      "  Outfiles written to: ~/workshop/simdata_outfiles\n"
     ]
    }
   ],
   "source": [
    "## run all steps of assembly\n",
    "data.run(\"1234567\")"
   ]
  },
  {
   "cell_type": "markdown",
   "metadata": {
    "slideshow": {
     "slide_type": "subslide"
    }
   },
   "source": [
    "### Access assembly results\n",
    "You can easily access summary stats for the assembly as a data frame. "
   ]
  },
  {
   "cell_type": "code",
   "execution_count": 5,
   "metadata": {},
   "outputs": [
    {
     "data": {
      "text/html": [
       "<div>\n",
       "<table border=\"1\" class=\"dataframe\">\n",
       "  <thead>\n",
       "    <tr style=\"text-align: right;\">\n",
       "      <th></th>\n",
       "      <th>state</th>\n",
       "      <th>reads_raw</th>\n",
       "      <th>reads_passed_filter</th>\n",
       "      <th>clusters_total</th>\n",
       "      <th>clusters_hidepth</th>\n",
       "      <th>hetero_est</th>\n",
       "      <th>error_est</th>\n",
       "      <th>reads_consens</th>\n",
       "    </tr>\n",
       "  </thead>\n",
       "  <tbody>\n",
       "    <tr>\n",
       "      <th>1A_0</th>\n",
       "      <td>6</td>\n",
       "      <td>19862</td>\n",
       "      <td>19862</td>\n",
       "      <td>1000</td>\n",
       "      <td>1000</td>\n",
       "      <td>0.001852</td>\n",
       "      <td>0.000758</td>\n",
       "      <td>1000</td>\n",
       "    </tr>\n",
       "    <tr>\n",
       "      <th>1B_0</th>\n",
       "      <td>6</td>\n",
       "      <td>20043</td>\n",
       "      <td>20043</td>\n",
       "      <td>1000</td>\n",
       "      <td>1000</td>\n",
       "      <td>0.001900</td>\n",
       "      <td>0.000752</td>\n",
       "      <td>1000</td>\n",
       "    </tr>\n",
       "    <tr>\n",
       "      <th>1C_0</th>\n",
       "      <td>6</td>\n",
       "      <td>20136</td>\n",
       "      <td>20136</td>\n",
       "      <td>1000</td>\n",
       "      <td>1000</td>\n",
       "      <td>0.002084</td>\n",
       "      <td>0.000745</td>\n",
       "      <td>1000</td>\n",
       "    </tr>\n",
       "    <tr>\n",
       "      <th>1D_0</th>\n",
       "      <td>6</td>\n",
       "      <td>19966</td>\n",
       "      <td>19966</td>\n",
       "      <td>1000</td>\n",
       "      <td>1000</td>\n",
       "      <td>0.001803</td>\n",
       "      <td>0.000754</td>\n",
       "      <td>1000</td>\n",
       "    </tr>\n",
       "    <tr>\n",
       "      <th>2E_0</th>\n",
       "      <td>6</td>\n",
       "      <td>20017</td>\n",
       "      <td>20017</td>\n",
       "      <td>1000</td>\n",
       "      <td>1000</td>\n",
       "      <td>0.001831</td>\n",
       "      <td>0.000765</td>\n",
       "      <td>1000</td>\n",
       "    </tr>\n",
       "    <tr>\n",
       "      <th>2F_0</th>\n",
       "      <td>6</td>\n",
       "      <td>19933</td>\n",
       "      <td>19933</td>\n",
       "      <td>1000</td>\n",
       "      <td>1000</td>\n",
       "      <td>0.001996</td>\n",
       "      <td>0.000755</td>\n",
       "      <td>1000</td>\n",
       "    </tr>\n",
       "    <tr>\n",
       "      <th>2G_0</th>\n",
       "      <td>6</td>\n",
       "      <td>20030</td>\n",
       "      <td>20030</td>\n",
       "      <td>1000</td>\n",
       "      <td>1000</td>\n",
       "      <td>0.001940</td>\n",
       "      <td>0.000763</td>\n",
       "      <td>1000</td>\n",
       "    </tr>\n",
       "    <tr>\n",
       "      <th>2H_0</th>\n",
       "      <td>6</td>\n",
       "      <td>20199</td>\n",
       "      <td>20198</td>\n",
       "      <td>1000</td>\n",
       "      <td>1000</td>\n",
       "      <td>0.001747</td>\n",
       "      <td>0.000756</td>\n",
       "      <td>1000</td>\n",
       "    </tr>\n",
       "    <tr>\n",
       "      <th>3I_0</th>\n",
       "      <td>6</td>\n",
       "      <td>19885</td>\n",
       "      <td>19885</td>\n",
       "      <td>1000</td>\n",
       "      <td>1000</td>\n",
       "      <td>0.001818</td>\n",
       "      <td>0.000755</td>\n",
       "      <td>1000</td>\n",
       "    </tr>\n",
       "    <tr>\n",
       "      <th>3J_0</th>\n",
       "      <td>6</td>\n",
       "      <td>19822</td>\n",
       "      <td>19822</td>\n",
       "      <td>1000</td>\n",
       "      <td>1000</td>\n",
       "      <td>0.001968</td>\n",
       "      <td>0.000783</td>\n",
       "      <td>1000</td>\n",
       "    </tr>\n",
       "    <tr>\n",
       "      <th>3K_0</th>\n",
       "      <td>6</td>\n",
       "      <td>19965</td>\n",
       "      <td>19965</td>\n",
       "      <td>1000</td>\n",
       "      <td>1000</td>\n",
       "      <td>0.002072</td>\n",
       "      <td>0.000760</td>\n",
       "      <td>1000</td>\n",
       "    </tr>\n",
       "    <tr>\n",
       "      <th>3L_0</th>\n",
       "      <td>6</td>\n",
       "      <td>20008</td>\n",
       "      <td>20008</td>\n",
       "      <td>1000</td>\n",
       "      <td>1000</td>\n",
       "      <td>0.002042</td>\n",
       "      <td>0.000748</td>\n",
       "      <td>1000</td>\n",
       "    </tr>\n",
       "  </tbody>\n",
       "</table>\n",
       "</div>"
      ],
      "text/plain": [
       "      state  reads_raw  reads_passed_filter  clusters_total  clusters_hidepth  \\\n",
       "1A_0      6      19862                19862            1000              1000   \n",
       "1B_0      6      20043                20043            1000              1000   \n",
       "1C_0      6      20136                20136            1000              1000   \n",
       "1D_0      6      19966                19966            1000              1000   \n",
       "2E_0      6      20017                20017            1000              1000   \n",
       "2F_0      6      19933                19933            1000              1000   \n",
       "2G_0      6      20030                20030            1000              1000   \n",
       "2H_0      6      20199                20198            1000              1000   \n",
       "3I_0      6      19885                19885            1000              1000   \n",
       "3J_0      6      19822                19822            1000              1000   \n",
       "3K_0      6      19965                19965            1000              1000   \n",
       "3L_0      6      20008                20008            1000              1000   \n",
       "\n",
       "      hetero_est  error_est  reads_consens  \n",
       "1A_0    0.001852   0.000758           1000  \n",
       "1B_0    0.001900   0.000752           1000  \n",
       "1C_0    0.002084   0.000745           1000  \n",
       "1D_0    0.001803   0.000754           1000  \n",
       "2E_0    0.001831   0.000765           1000  \n",
       "2F_0    0.001996   0.000755           1000  \n",
       "2G_0    0.001940   0.000763           1000  \n",
       "2H_0    0.001747   0.000756           1000  \n",
       "3I_0    0.001818   0.000755           1000  \n",
       "3J_0    0.001968   0.000783           1000  \n",
       "3K_0    0.002072   0.000760           1000  \n",
       "3L_0    0.002042   0.000748           1000  "
      ]
     },
     "execution_count": 5,
     "metadata": {},
     "output_type": "execute_result"
    }
   ],
   "source": [
    "## summary stats\n",
    "data.stats"
   ]
  },
  {
   "cell_type": "markdown",
   "metadata": {
    "slideshow": {
     "slide_type": "subslide"
    }
   },
   "source": [
    "### Plot statistics"
   ]
  },
  {
   "cell_type": "code",
   "execution_count": 35,
   "metadata": {
    "scrolled": true,
    "slideshow": {
     "slide_type": "-"
    }
   },
   "outputs": [
    {
     "data": {
      "text/html": [
       "<div align=\"center\" class=\"toyplot\" id=\"td4682106a7d5449db8f06db5b721d638\"><svg class=\"toyplot-canvas-Canvas\" height=\"250.0px\" id=\"tebe205913a6b46a485c64679163bd63d\" preserveAspectRatio=\"xMidYMid meet\" style=\"background-color:transparent;fill:rgb(16.1%,15.3%,14.1%);fill-opacity:1.0;font-family:Helvetica;font-size:12px;opacity:1.0;stroke:rgb(16.1%,15.3%,14.1%);stroke-opacity:1.0;stroke-width:1.0\" viewBox=\"0 0 600 250.0\" width=\"600px\" xmlns=\"http://www.w3.org/2000/svg\" xmlns:toyplot=\"http://www.sandia.gov/toyplot\" xmlns:xlink=\"http://www.w3.org/1999/xlink\"><g class=\"toyplot-coordinates-Cartesian\" id=\"tcc535256dd30478ba5600fce87534a6f\"><clipPath id=\"t56497068c29049788f8dd77fce54b642\"><rect height=\"170.0\" width=\"520.0\" x=\"40.0\" y=\"40.0\"></rect></clipPath><g clip-path=\"url(#t56497068c29049788f8dd77fce54b642)\"><g class=\"toyplot-mark-BarMagnitudes\" id=\"t2a62c8d5223d406b8d5a6ab12621f720\" style=\"stroke:rgb(100%,100%,100%);stroke-opacity:1.0;stroke-width:1.0\"><g class=\"toyplot-Series\"><rect class=\"toyplot-Datum\" height=\"133.27487221555279\" style=\"fill:rgb(40%,76.1%,64.7%);fill-opacity:1.0;opacity:1.0;stroke:rgb(100%,100%,100%);stroke-opacity:1.0;stroke-width:1.0\" width=\"41.666666666666657\" x=\"50.0\" y=\"66.72512778444721\"></rect><rect class=\"toyplot-Datum\" height=\"136.73512338313571\" style=\"fill:rgb(40%,76.1%,64.7%);fill-opacity:1.0;opacity:1.0;stroke:rgb(100%,100%,100%);stroke-opacity:1.0;stroke-width:1.0\" width=\"41.666666666666657\" x=\"91.666666666666657\" y=\"63.264876616864285\"></rect><rect class=\"toyplot-Datum\" height=\"150.0\" style=\"fill:rgb(40%,76.1%,64.7%);fill-opacity:1.0;opacity:1.0;stroke:rgb(100%,100%,100%);stroke-opacity:1.0;stroke-width:1.0\" width=\"41.666666666666686\" x=\"133.33333333333331\" y=\"50.0\"></rect><rect class=\"toyplot-Datum\" height=\"129.72341507023796\" style=\"fill:rgb(40%,76.1%,64.7%);fill-opacity:1.0;opacity:1.0;stroke:rgb(100%,100%,100%);stroke-opacity:1.0;stroke-width:1.0\" width=\"41.666666666666657\" x=\"175.0\" y=\"70.276584929762038\"></rect><rect class=\"toyplot-Datum\" height=\"131.79579468841285\" style=\"fill:rgb(40%,76.1%,64.7%);fill-opacity:1.0;opacity:1.0;stroke:rgb(100%,100%,100%);stroke-opacity:1.0;stroke-width:1.0\" width=\"41.666666666666714\" x=\"216.66666666666666\" y=\"68.204205311587145\"></rect><rect class=\"toyplot-Datum\" height=\"143.65277767610758\" style=\"fill:rgb(40%,76.1%,64.7%);fill-opacity:1.0;opacity:1.0;stroke:rgb(100%,100%,100%);stroke-opacity:1.0;stroke-width:1.0\" width=\"41.666666666666629\" x=\"258.33333333333337\" y=\"56.347222323892439\"></rect><rect class=\"toyplot-Datum\" height=\"139.5892047991685\" style=\"fill:rgb(40%,76.1%,64.7%);fill-opacity:1.0;opacity:1.0;stroke:rgb(100%,100%,100%);stroke-opacity:1.0;stroke-width:1.0\" width=\"41.666666666666686\" x=\"300.0\" y=\"60.410795200831487\"></rect><rect class=\"toyplot-Datum\" height=\"125.74774976071859\" style=\"fill:rgb(40%,76.1%,64.7%);fill-opacity:1.0;opacity:1.0;stroke:rgb(100%,100%,100%);stroke-opacity:1.0;stroke-width:1.0\" width=\"41.666666666666629\" x=\"341.66666666666669\" y=\"74.252250239281409\"></rect><rect class=\"toyplot-Datum\" height=\"130.85694873112288\" style=\"fill:rgb(40%,76.1%,64.7%);fill-opacity:1.0;opacity:1.0;stroke:rgb(100%,100%,100%);stroke-opacity:1.0;stroke-width:1.0\" width=\"41.666666666666686\" x=\"383.33333333333331\" y=\"69.143051268877116\"></rect><rect class=\"toyplot-Datum\" height=\"141.62426820184936\" style=\"fill:rgb(40%,76.1%,64.7%);fill-opacity:1.0;opacity:1.0;stroke:rgb(100%,100%,100%);stroke-opacity:1.0;stroke-width:1.0\" width=\"41.666666666666686\" x=\"425.0\" y=\"58.375731798150639\"></rect><rect class=\"toyplot-Datum\" height=\"149.10966083363223\" style=\"fill:rgb(40%,76.1%,64.7%);fill-opacity:1.0;opacity:1.0;stroke:rgb(100%,100%,100%);stroke-opacity:1.0;stroke-width:1.0\" width=\"41.666666666666629\" x=\"466.66666666666669\" y=\"50.890339166367774\"></rect><rect class=\"toyplot-Datum\" height=\"146.94634974781658\" style=\"fill:rgb(40%,76.1%,64.7%);fill-opacity:1.0;opacity:1.0;stroke:rgb(100%,100%,100%);stroke-opacity:1.0;stroke-width:1.0\" width=\"41.666666666666686\" x=\"508.33333333333331\" y=\"53.053650252183417\"></rect></g></g></g><g class=\"toyplot-coordinates-Axis\" id=\"t9e669e4aa2014a0d8400c15d0ee79f88\" transform=\"translate(50.0,200.0)translate(0,10.0)\"><line style=\"\" x1=\"0\" x2=\"500.0\" y1=\"0\" y2=\"0\"></line><g><text style=\"font-weight:normal;stroke:none;text-anchor:middle\" transform=\"translate(20.833333333333332,6)translate(0,7.5)\"><tspan style=\"font-size:10.0px\">1A_0</tspan></text><text style=\"font-weight:normal;stroke:none;text-anchor:middle\" transform=\"translate(62.5,6)translate(0,7.5)\"><tspan style=\"font-size:10.0px\">1B_0</tspan></text><text style=\"font-weight:normal;stroke:none;text-anchor:middle\" transform=\"translate(104.16666666666667,6)translate(0,7.5)\"><tspan style=\"font-size:10.0px\">1C_0</tspan></text><text style=\"font-weight:normal;stroke:none;text-anchor:middle\" transform=\"translate(145.83333333333334,6)translate(0,7.5)\"><tspan style=\"font-size:10.0px\">1D_0</tspan></text><text style=\"font-weight:normal;stroke:none;text-anchor:middle\" transform=\"translate(187.5,6)translate(0,7.5)\"><tspan style=\"font-size:10.0px\">2E_0</tspan></text><text style=\"font-weight:normal;stroke:none;text-anchor:middle\" transform=\"translate(229.16666666666666,6)translate(0,7.5)\"><tspan style=\"font-size:10.0px\">2F_0</tspan></text><text style=\"font-weight:normal;stroke:none;text-anchor:middle\" transform=\"translate(270.8333333333333,6)translate(0,7.5)\"><tspan style=\"font-size:10.0px\">2G_0</tspan></text><text style=\"font-weight:normal;stroke:none;text-anchor:middle\" transform=\"translate(312.5,6)translate(0,7.5)\"><tspan style=\"font-size:10.0px\">2H_0</tspan></text><text style=\"font-weight:normal;stroke:none;text-anchor:middle\" transform=\"translate(354.1666666666667,6)translate(0,7.5)\"><tspan style=\"font-size:10.0px\">3I_0</tspan></text><text style=\"font-weight:normal;stroke:none;text-anchor:middle\" transform=\"translate(395.8333333333333,6)translate(0,7.5)\"><tspan style=\"font-size:10.0px\">3J_0</tspan></text><text style=\"font-weight:normal;stroke:none;text-anchor:middle\" transform=\"translate(437.5,6)translate(0,7.5)\"><tspan style=\"font-size:10.0px\">3K_0</tspan></text><text style=\"font-weight:normal;stroke:none;text-anchor:middle\" transform=\"translate(479.1666666666667,6)translate(0,7.5)\"><tspan style=\"font-size:10.0px\">3L_0</tspan></text></g><g class=\"toyplot-coordinates-Axis-coordinates\" style=\"visibility:hidden\" transform=\"\"><line style=\"stroke:rgb(43.9%,50.2%,56.5%);stroke-opacity:1.0;stroke-width:1.0\" x1=\"0\" x2=\"0\" y1=\"-3.0\" y2=\"4.5\"></line><text style=\"alignment-baseline:alphabetic;fill:rgb(43.9%,50.2%,56.5%);fill-opacity:1.0;font-size:10px;font-weight:normal;stroke:none;text-anchor:middle\" x=\"0\" y=\"-6\"></text></g></g><g class=\"toyplot-coordinates-Axis\" id=\"t9f71c921e67e46358adaeaa3cb654a80\" transform=\"translate(50.0,200.0)rotate(-90.0)translate(0,-10.0)\"><line style=\"\" x1=\"0\" x2=\"150.0\" y1=\"0\" y2=\"0\"></line><g><line style=\"\" x1=\"0.0\" x2=\"0.0\" y1=\"0\" y2=\"5\"></line><line style=\"\" x1=\"71.96117329273211\" x2=\"71.96117329273211\" y1=\"0\" y2=\"5\"></line><line style=\"\" x1=\"143.92234658546423\" x2=\"143.92234658546423\" y1=\"0\" y2=\"5\"></line></g><g><text style=\"font-weight:normal;stroke:none;text-anchor:middle\" transform=\"translate(0.0,-6)\"><tspan style=\"font-size:10.0px\">0.000</tspan></text><text style=\"font-weight:normal;stroke:none;text-anchor:middle\" transform=\"translate(71.96117329273211,-6)\"><tspan style=\"font-size:10.0px\">0.001</tspan></text><text style=\"font-weight:normal;stroke:none;text-anchor:middle\" transform=\"translate(143.92234658546423,-6)\"><tspan style=\"font-size:10.0px\">0.002</tspan></text></g><text style=\"font-weight:bold;stroke:none;text-anchor:middle\" transform=\"translate(75.0,-22)\"><tspan style=\"font-size:12.0px\">Heterozygosity</tspan></text><g class=\"toyplot-coordinates-Axis-coordinates\" style=\"visibility:hidden\" transform=\"\"><line style=\"stroke:rgb(43.9%,50.2%,56.5%);stroke-opacity:1.0;stroke-width:1.0\" x1=\"0\" x2=\"0\" y1=\"3.0\" y2=\"-4.5\"></line><text style=\"alignment-baseline:hanging;fill:rgb(43.9%,50.2%,56.5%);fill-opacity:1.0;font-size:10px;font-weight:normal;stroke:none;text-anchor:middle\" x=\"0\" y=\"6\"></text></g></g></g></svg><div class=\"toyplot-interactive\"><ul class=\"toyplot-mark-popup\" onmouseleave=\"this.style.visibility='hidden'\" style=\"background:rgba(0%,0%,0%,0.75);border:0;border-radius:6px;color:white;cursor:default;list-style:none;margin:0;padding:5px;position:fixed;visibility:hidden\">\n",
       "            <li class=\"toyplot-mark-popup-title\" style=\"color:lightgray;cursor:default;padding:5px;list-style:none;margin:0\"></li>\n",
       "            <li class=\"toyplot-mark-popup-save-csv\" onmouseout=\"this.style.color='white';this.style.background='steelblue'\" onmouseover=\"this.style.color='steelblue';this.style.background='white'\" style=\"border-radius:3px;padding:5px;list-style:none;margin:0\">\n",
       "                Save as .csv\n",
       "            </li>\n",
       "        </ul><script>\n",
       "        (function()\n",
       "        {\n",
       "          var data_tables = [{\"title\": \"Bar Data\", \"names\": [\"left\", \"right\", \"baseline\", \"magnitude0\"], \"id\": \"t2a62c8d5223d406b8d5a6ab12621f720\", \"columns\": [[-0.5, 0.5, 1.5, 2.5, 3.5, 4.5, 5.5, 6.5, 7.5, 8.5, 9.5, 10.5], [0.5, 1.5, 2.5, 3.5, 4.5, 5.5, 6.5, 7.5, 8.5, 9.5, 10.5, 11.5], [0.0, 0.0, 0.0, 0.0, 0.0, 0.0, 0.0, 0.0, 0.0, 0.0, 0.0, 0.0], [0.0018520386219024196, 0.001900123596191359, 0.0020844573974608833, 0.0018026862144469745, 0.001831484794616653, 0.001996253967285107, 0.0019397850036620603, 0.0017474388480185992, 0.001818438231944991, 0.0019680650234221936, 0.0020720849037169867, 0.00204202270507807]], \"filename\": \"toyplot\"}];\n",
       "\n",
       "          function save_csv(data_table)\n",
       "          {\n",
       "            var uri = \"data:text/csv;charset=utf-8,\";\n",
       "            uri += data_table.names.join(\",\") + \"\\n\";\n",
       "            for(var i = 0; i != data_table.columns[0].length; ++i)\n",
       "            {\n",
       "              for(var j = 0; j != data_table.columns.length; ++j)\n",
       "              {\n",
       "                if(j)\n",
       "                  uri += \",\";\n",
       "                uri += data_table.columns[j][i];\n",
       "              }\n",
       "              uri += \"\\n\";\n",
       "            }\n",
       "            uri = encodeURI(uri);\n",
       "\n",
       "            var link = document.createElement(\"a\");\n",
       "            if(typeof link.download != \"undefined\")\n",
       "            {\n",
       "              link.href = uri;\n",
       "              link.style = \"visibility:hidden\";\n",
       "              link.download = data_table.filename + \".csv\";\n",
       "\n",
       "              document.body.appendChild(link);\n",
       "              link.click();\n",
       "              document.body.removeChild(link);\n",
       "            }\n",
       "            else\n",
       "            {\n",
       "              window.open(uri);\n",
       "            }\n",
       "          }\n",
       "\n",
       "          function open_popup(data_table)\n",
       "          {\n",
       "            return function(e)\n",
       "            {\n",
       "              var popup = document.querySelector(\"#td4682106a7d5449db8f06db5b721d638 .toyplot-mark-popup\");\n",
       "              popup.querySelector(\".toyplot-mark-popup-title\").innerHTML = data_table.title;\n",
       "              popup.querySelector(\".toyplot-mark-popup-save-csv\").onclick = function() { popup.style.visibility = \"hidden\"; save_csv(data_table); }\n",
       "              popup.style.left = (e.clientX - 50) + \"px\";\n",
       "              popup.style.top = (e.clientY - 20) + \"px\";\n",
       "              popup.style.visibility = \"visible\";\n",
       "              e.stopPropagation();\n",
       "              e.preventDefault();\n",
       "            }\n",
       "\n",
       "          }\n",
       "\n",
       "          for(var i = 0; i != data_tables.length; ++i)\n",
       "          {\n",
       "            var data_table = data_tables[i];\n",
       "            var event_target = document.querySelector(\"#\" + data_table.id);\n",
       "            event_target.oncontextmenu = open_popup(data_table);\n",
       "          }\n",
       "        })();\n",
       "        </script><script>\n",
       "        (function()\n",
       "        {\n",
       "            function _sign(x)\n",
       "            {\n",
       "                return x < 0 ? -1 : x > 0 ? 1 : 0;\n",
       "            }\n",
       "\n",
       "            function _mix(a, b, amount)\n",
       "            {\n",
       "                return ((1.0 - amount) * a) + (amount * b);\n",
       "            }\n",
       "\n",
       "            function _log(x, base)\n",
       "            {\n",
       "                return Math.log(Math.abs(x)) / Math.log(base);\n",
       "            }\n",
       "\n",
       "            function _in_range(a, x, b)\n",
       "            {\n",
       "                var left = Math.min(a, b);\n",
       "                var right = Math.max(a, b);\n",
       "                return left <= x && x <= right;\n",
       "            }\n",
       "\n",
       "            function inside(range, projection)\n",
       "            {\n",
       "                for(var i = 0; i != projection.length; ++i)\n",
       "                {\n",
       "                    var segment = projection[i];\n",
       "                    if(_in_range(segment.range.min, range, segment.range.max))\n",
       "                        return true;\n",
       "                }\n",
       "                return false;\n",
       "            }\n",
       "\n",
       "            function to_domain(range, projection)\n",
       "            {\n",
       "                for(var i = 0; i != projection.length; ++i)\n",
       "                {\n",
       "                    var segment = projection[i];\n",
       "                    if(_in_range(segment.range.bounds.min, range, segment.range.bounds.max))\n",
       "                    {\n",
       "                        if(segment.scale == \"linear\")\n",
       "                        {\n",
       "                            var amount = (range - segment.range.min) / (segment.range.max - segment.range.min);\n",
       "                            return _mix(segment.domain.min, segment.domain.max, amount)\n",
       "                        }\n",
       "                        else if(segment.scale[0] == \"log\")\n",
       "                        {\n",
       "                            var amount = (range - segment.range.min) / (segment.range.max - segment.range.min);\n",
       "                            var base = segment.scale[1];\n",
       "                            return _sign(segment.domain.min) * Math.pow(base, _mix(_log(segment.domain.min, base), _log(segment.domain.max, base), amount));\n",
       "                        }\n",
       "                    }\n",
       "                }\n",
       "            }\n",
       "\n",
       "            function display_coordinates(e)\n",
       "            {\n",
       "                var current = svg.createSVGPoint();\n",
       "                current.x = e.clientX;\n",
       "                current.y = e.clientY;\n",
       "\n",
       "                for(var axis_id in axes)\n",
       "                {\n",
       "                    var axis = document.querySelector(\"#\" + axis_id);\n",
       "                    var coordinates = axis.querySelector(\".toyplot-coordinates-Axis-coordinates\");\n",
       "                    if(coordinates)\n",
       "                    {\n",
       "                        var projection = axes[axis_id];\n",
       "                        var local = current.matrixTransform(axis.getScreenCTM().inverse());\n",
       "                        if(inside(local.x, projection))\n",
       "                        {\n",
       "                            var domain = to_domain(local.x, projection);\n",
       "                            coordinates.style.visibility = \"visible\";\n",
       "                            coordinates.setAttribute(\"transform\", \"translate(\" + local.x + \")\");\n",
       "                            var text = coordinates.querySelector(\"text\");\n",
       "                            text.textContent = domain.toFixed(2);\n",
       "                        }\n",
       "                        else\n",
       "                        {\n",
       "                            coordinates.style.visibility= \"hidden\";\n",
       "                        }\n",
       "                    }\n",
       "                }\n",
       "            }\n",
       "\n",
       "            var root_id = \"td4682106a7d5449db8f06db5b721d638\";\n",
       "            var axes = {\"t9e669e4aa2014a0d8400c15d0ee79f88\": [{\"domain\": {\"bounds\": {\"max\": Infinity, \"min\": -Infinity}, \"max\": 11.5, \"min\": -0.5}, \"range\": {\"bounds\": {\"max\": Infinity, \"min\": -Infinity}, \"max\": 500.0, \"min\": 0.0}, \"scale\": \"linear\"}], \"t9f71c921e67e46358adaeaa3cb654a80\": [{\"domain\": {\"bounds\": {\"max\": Infinity, \"min\": -Infinity}, \"max\": 0.0020844573974608833, \"min\": 0.0}, \"range\": {\"bounds\": {\"max\": Infinity, \"min\": -Infinity}, \"max\": 150.0, \"min\": 0.0}, \"scale\": \"linear\"}]};\n",
       "\n",
       "            var svg = document.querySelector(\"#\" + root_id + \" svg\");\n",
       "            svg.addEventListener(\"click\", display_coordinates);\n",
       "        })();\n",
       "        </script></div></div>"
      ]
     },
     "metadata": {},
     "output_type": "display_data"
    }
   ],
   "source": [
    "import toyplot\n",
    "\n",
    "## plot barplot\n",
    "c, a, m = toyplot.bars(\n",
    "    data.stats.hetero_est, \n",
    "    height=250, width=500,\n",
    "    )\n",
    "\n",
    "## style the axes\n",
    "a.x.ticks.locator = toyplot.locator.Explicit(\n",
    "    locations=range(len(data.stats)),\n",
    "    labels=data.stats.index)\n",
    "a.y.label.text = \"Heterozygosity\"\n",
    "a.y.ticks.show = True"
   ]
  },
  {
   "cell_type": "markdown",
   "metadata": {
    "slideshow": {
     "slide_type": "subslide"
    }
   },
   "source": [
    "### Access result files  \n",
    "You can also access the stats files for each step, and the output files for downstream analyses. "
   ]
  },
  {
   "cell_type": "code",
   "execution_count": 27,
   "metadata": {},
   "outputs": [
    {
     "name": "stdout",
     "output_type": "stream",
     "text": [
      "/home/deren/workshop/simdata_edits/s2_rawedit_stats.txt\n",
      "/home/deren/workshop/simdata_outfiles/simdata.loci\n"
     ]
    }
   ],
   "source": [
    "## s2 stats file\n",
    "print data.stats_files.s2\n",
    "\n",
    "## the .loci file location\n",
    "print data.outfiles.loci"
   ]
  },
  {
   "cell_type": "markdown",
   "metadata": {
    "slideshow": {
     "slide_type": "slide"
    }
   },
   "source": [
    "## ipyrad.analysis tools\n",
    "The ipyrad.analysis module includes many *wrapper* tools that can be used to efficiently run evolutionary analysis tools in a notebook. "
   ]
  },
  {
   "cell_type": "code",
   "execution_count": 1,
   "metadata": {},
   "outputs": [],
   "source": [
    "## import the toolkit\n",
    "import ipyrad.analysis as ipa"
   ]
  },
  {
   "cell_type": "markdown",
   "metadata": {
    "slideshow": {
     "slide_type": "slide"
    }
   },
   "source": [
    "### RAxML analysis\n",
    "Simply enter the location of the phylip file, which can be accessed from the `.outfiles` attribute of the Assembly object. You can also provide a name and output directory, and set many other optional parameters. "
   ]
  },
  {
   "cell_type": "code",
   "execution_count": 2,
   "metadata": {
    "slideshow": {
     "slide_type": "skip"
    }
   },
   "outputs": [
    {
     "name": "stdout",
     "output_type": "stream",
     "text": [
      "  loading Assembly: simdata\n",
      "  from saved path: ~/workshop/simdata.json\n"
     ]
    }
   ],
   "source": [
    "import ipyrad as ip\n",
    "import ipyparallel as ipp\n",
    "\n",
    "data = ip.load_json(\"/home/deren/workshop/simdata.json\")\n",
    "ipyclient = ipp.Client()\n"
   ]
  },
  {
   "cell_type": "markdown",
   "metadata": {},
   "source": [
    "Minimal workflow: scroll down for details."
   ]
  },
  {
   "cell_type": "code",
   "execution_count": 3,
   "metadata": {
    "slideshow": {
     "slide_type": "-"
    }
   },
   "outputs": [
    {
     "name": "stdout",
     "output_type": "stream",
     "text": [
      "Error: set a new name for this job:\n",
      "File exists: /home/deren/workshop/analysis-raxml/RAxML_info.simdata\n"
     ]
    }
   ],
   "source": [
    "## create a raxml object\n",
    "s = ipa.raxml(\n",
    "        name=data.name,\n",
    "        phyfile=data.outfiles.phy, \n",
    "        workdir=\"~/workshop/analysis-raxml\");\n",
    "\n",
    "## run the analysis\n",
    "s.run()"
   ]
  },
  {
   "cell_type": "markdown",
   "metadata": {
    "slideshow": {
     "slide_type": "subslide"
    }
   },
   "source": [
    "### Modify parameters and other functions"
   ]
  },
  {
   "cell_type": "code",
   "execution_count": 4,
   "metadata": {},
   "outputs": [],
   "source": [
    "## modify params\n",
    "s.params.T = 4\n",
    "s.params.N = 100"
   ]
  },
  {
   "cell_type": "code",
   "execution_count": 5,
   "metadata": {
    "slideshow": {
     "slide_type": "fragment"
    }
   },
   "outputs": [
    {
     "name": "stdout",
     "output_type": "stream",
     "text": [
      "raxmlHPC-PTHREADS-SSE3 -f a -T 4 -m GTRGAMMA -N 100 -x 12345 -p 54321 -n simdata -w /home/deren/workshop/analysis-raxml -s /home/deren/workshop/simdata_outfiles/simdata.phy\n"
     ]
    }
   ],
   "source": [
    "## print the raxml command as a string\n",
    "print s.command"
   ]
  },
  {
   "cell_type": "code",
   "execution_count": 6,
   "metadata": {
    "slideshow": {
     "slide_type": "fragment"
    }
   },
   "outputs": [
    {
     "name": "stdout",
     "output_type": "stream",
     "text": [
      "job simdata finished successfully\n"
     ]
    }
   ],
   "source": [
    "## overwrite existing result with this 'name'\n",
    "s.run(force=True)"
   ]
  },
  {
   "cell_type": "markdown",
   "metadata": {
    "slideshow": {
     "slide_type": "subslide"
    }
   },
   "source": [
    "### Access the tree files and plot"
   ]
  },
  {
   "cell_type": "code",
   "execution_count": 7,
   "metadata": {},
   "outputs": [
    {
     "name": "stdout",
     "output_type": "stream",
     "text": [
      "bestTree                   ~/workshop/analysis-raxml/RAxML_bestTree.simdata\n",
      "bipartitions               ~/workshop/analysis-raxml/RAxML_bipartitions.simdata\n",
      "bipartitionsBranchLabels   ~/workshop/analysis-raxml/RAxML_bipartitionsBranchLabels.simdata\n",
      "boostrap                   ~/workshop/analysis-raxml/RAxML_bootstrap.simdata\n",
      "info                       ~/workshop/analysis-raxml/RAxML_info.simdata\n",
      "\n"
     ]
    }
   ],
   "source": [
    "print s.trees"
   ]
  },
  {
   "cell_type": "code",
   "execution_count": 8,
   "metadata": {
    "slideshow": {
     "slide_type": "fragment"
    }
   },
   "outputs": [
    {
     "data": {
      "text/html": [
       "<div align=\"center\" class=\"toyplot\" id=\"t54affede6b224e10a8b79dbbe0ab40a2\"><svg class=\"toyplot-canvas-Canvas\" height=\"300.0px\" id=\"t4f9955bea6d4444bae6e0aaf814a20ec\" preserveAspectRatio=\"xMidYMid meet\" style=\"background-color:transparent;fill:rgb(16.1%,15.3%,14.1%);fill-opacity:1.0;font-family:Helvetica;font-size:12px;opacity:1.0;stroke:rgb(16.1%,15.3%,14.1%);stroke-opacity:1.0;stroke-width:1.0\" viewBox=\"0 0 300.0 300.0\" width=\"300.0px\" xmlns=\"http://www.w3.org/2000/svg\" xmlns:toyplot=\"http://www.sandia.gov/toyplot\" xmlns:xlink=\"http://www.w3.org/1999/xlink\"><g class=\"toyplot-coordinates-Cartesian\" id=\"t8856d8f557ac4fb6bf405a50139b4049\"><clipPath id=\"t40887fc9e3b34d64ac8738635e2e81b9\"><rect height=\"260.0\" width=\"260.0\" x=\"20.0\" y=\"20.0\"></rect></clipPath><g clip-path=\"url(#t40887fc9e3b34d64ac8738635e2e81b9)\"><g class=\"toyplot-mark-Text\" id=\"t5d160efd7a06439eb6e937d6bedbf664\" style=\"-toyplot-anchor-shift:15px;alignment-baseline:middle;font-size:12px;font-weight:normal;stroke:none;text-anchor:start\"><g class=\"toyplot-Series\"><text class=\"toyplot-Datum\" style=\"fill:rgb(16.1%,15.3%,14.1%);fill-opacity:1.0;font-weight:normal;opacity:1.0;stroke:none;text-anchor:start\" transform=\"translate(220.09900990099013,35.714285714285694)translate(15.0,3.375)\"><tspan style=\"font-size:12.0px\">3L_0</tspan></text><text class=\"toyplot-Datum\" style=\"fill:rgb(16.1%,15.3%,14.1%);fill-opacity:1.0;font-weight:normal;opacity:1.0;stroke:none;text-anchor:start\" transform=\"translate(220.09900990099013,56.493506493506459)translate(15.0,3.375)\"><tspan style=\"font-size:12.0px\">3K_0</tspan></text><text class=\"toyplot-Datum\" style=\"fill:rgb(16.1%,15.3%,14.1%);fill-opacity:1.0;font-weight:normal;opacity:1.0;stroke:none;text-anchor:start\" transform=\"translate(220.09900990099013,77.272727272727252)translate(15.0,3.375)\"><tspan style=\"font-size:12.0px\">3J_0</tspan></text><text class=\"toyplot-Datum\" style=\"fill:rgb(16.1%,15.3%,14.1%);fill-opacity:1.0;font-weight:normal;opacity:1.0;stroke:none;text-anchor:start\" transform=\"translate(220.09900990099013,98.051948051948031)translate(15.0,3.375)\"><tspan style=\"font-size:12.0px\">3I_0</tspan></text><text class=\"toyplot-Datum\" style=\"fill:rgb(16.1%,15.3%,14.1%);fill-opacity:1.0;font-weight:normal;opacity:1.0;stroke:none;text-anchor:start\" transform=\"translate(220.09900990099013,118.83116883116882)translate(15.0,3.375)\"><tspan style=\"font-size:12.0px\">2H_0</tspan></text><text class=\"toyplot-Datum\" style=\"fill:rgb(16.1%,15.3%,14.1%);fill-opacity:1.0;font-weight:normal;opacity:1.0;stroke:none;text-anchor:start\" transform=\"translate(220.09900990099013,139.61038961038957)translate(15.0,3.375)\"><tspan style=\"font-size:12.0px\">2G_0</tspan></text><text class=\"toyplot-Datum\" style=\"fill:rgb(16.1%,15.3%,14.1%);fill-opacity:1.0;font-weight:normal;opacity:1.0;stroke:none;text-anchor:start\" transform=\"translate(220.09900990099013,160.38961038961034)translate(15.0,3.375)\"><tspan style=\"font-size:12.0px\">2E_0</tspan></text><text class=\"toyplot-Datum\" style=\"fill:rgb(16.1%,15.3%,14.1%);fill-opacity:1.0;font-weight:normal;opacity:1.0;stroke:none;text-anchor:start\" transform=\"translate(220.09900990099013,181.16883116883116)translate(15.0,3.375)\"><tspan style=\"font-size:12.0px\">2F_0</tspan></text><text class=\"toyplot-Datum\" style=\"fill:rgb(16.1%,15.3%,14.1%);fill-opacity:1.0;font-weight:normal;opacity:1.0;stroke:none;text-anchor:start\" transform=\"translate(220.09900990099013,201.94805194805195)translate(15.0,3.375)\"><tspan style=\"font-size:12.0px\">1D_0</tspan></text><text class=\"toyplot-Datum\" style=\"fill:rgb(16.1%,15.3%,14.1%);fill-opacity:1.0;font-weight:normal;opacity:1.0;stroke:none;text-anchor:start\" transform=\"translate(220.09900990099013,222.72727272727272)translate(15.0,3.375)\"><tspan style=\"font-size:12.0px\">1C_0</tspan></text><text class=\"toyplot-Datum\" style=\"fill:rgb(16.1%,15.3%,14.1%);fill-opacity:1.0;font-weight:normal;opacity:1.0;stroke:none;text-anchor:start\" transform=\"translate(220.09900990099013,243.50649350649351)translate(15.0,3.375)\"><tspan style=\"font-size:12.0px\">1B_0</tspan></text><text class=\"toyplot-Datum\" style=\"fill:rgb(16.1%,15.3%,14.1%);fill-opacity:1.0;font-weight:normal;opacity:1.0;stroke:none;text-anchor:start\" transform=\"translate(220.09900990099013,264.28571428571428)translate(15.0,3.375)\"><tspan style=\"font-size:12.0px\">1A_0</tspan></text></g></g><g class=\"toyplot-mark-Graph\" id=\"t7fe7f07fb5e546208afa9bbe5fcdcfdf\"><g class=\"toyplot-Edges\"><path d=\"M 30.0 116.233766234 L 30.0 53.8961038961\" style=\"fill:none;stroke:rgb(16.1%,15.3%,14.1%);stroke-linecap:round;stroke-opacity:1.0;stroke-width:2\"></path><path d=\"M 30.0 53.8961038961 L 106.03960396 53.8961038961\" style=\"fill:none;stroke:rgb(16.1%,15.3%,14.1%);stroke-linecap:round;stroke-opacity:1.0;stroke-width:2\"></path><path d=\"M 30.0 116.233766234 L 30.0 178.571428571\" style=\"fill:none;stroke:rgb(16.1%,15.3%,14.1%);stroke-linecap:round;stroke-opacity:1.0;stroke-width:2\"></path><path d=\"M 30.0 178.571428571 L 68.0198019802 178.571428571\" style=\"fill:none;stroke:rgb(16.1%,15.3%,14.1%);stroke-linecap:round;stroke-opacity:1.0;stroke-width:2\"></path><path d=\"M 106.03960396 53.8961038961 L 106.03960396 35.7142857143\" style=\"fill:none;stroke:rgb(16.1%,15.3%,14.1%);stroke-linecap:round;stroke-opacity:1.0;stroke-width:2\"></path><path d=\"M 106.03960396 35.7142857143 L 220.099009901 35.7142857143\" style=\"fill:none;stroke:rgb(16.1%,15.3%,14.1%);stroke-linecap:round;stroke-opacity:1.0;stroke-width:2\"></path><path d=\"M 106.03960396 53.8961038961 L 106.03960396 72.0779220779\" style=\"fill:none;stroke:rgb(16.1%,15.3%,14.1%);stroke-linecap:round;stroke-opacity:1.0;stroke-width:2\"></path><path d=\"M 106.03960396 72.0779220779 L 144.059405941 72.0779220779\" style=\"fill:none;stroke:rgb(16.1%,15.3%,14.1%);stroke-linecap:round;stroke-opacity:1.0;stroke-width:2\"></path><path d=\"M 68.0198019802 178.571428571 L 68.0198019802 137.012987013\" style=\"fill:none;stroke:rgb(16.1%,15.3%,14.1%);stroke-linecap:round;stroke-opacity:1.0;stroke-width:2\"></path><path d=\"M 68.0198019802 137.012987013 L 106.03960396 137.012987013\" style=\"fill:none;stroke:rgb(16.1%,15.3%,14.1%);stroke-linecap:round;stroke-opacity:1.0;stroke-width:2\"></path><path d=\"M 68.0198019802 178.571428571 L 68.0198019802 220.12987013\" style=\"fill:none;stroke:rgb(16.1%,15.3%,14.1%);stroke-linecap:round;stroke-opacity:1.0;stroke-width:2\"></path><path d=\"M 68.0198019802 220.12987013 L 106.03960396 220.12987013\" style=\"fill:none;stroke:rgb(16.1%,15.3%,14.1%);stroke-linecap:round;stroke-opacity:1.0;stroke-width:2\"></path><path d=\"M 144.059405941 72.0779220779 L 144.059405941 56.4935064935\" style=\"fill:none;stroke:rgb(16.1%,15.3%,14.1%);stroke-linecap:round;stroke-opacity:1.0;stroke-width:2\"></path><path d=\"M 144.059405941 56.4935064935 L 220.099009901 56.4935064935\" style=\"fill:none;stroke:rgb(16.1%,15.3%,14.1%);stroke-linecap:round;stroke-opacity:1.0;stroke-width:2\"></path><path d=\"M 144.059405941 72.0779220779 L 144.059405941 87.6623376623\" style=\"fill:none;stroke:rgb(16.1%,15.3%,14.1%);stroke-linecap:round;stroke-opacity:1.0;stroke-width:2\"></path><path d=\"M 144.059405941 87.6623376623 L 182.079207921 87.6623376623\" style=\"fill:none;stroke:rgb(16.1%,15.3%,14.1%);stroke-linecap:round;stroke-opacity:1.0;stroke-width:2\"></path><path d=\"M 106.03960396 137.012987013 L 106.03960396 118.831168831\" style=\"fill:none;stroke:rgb(16.1%,15.3%,14.1%);stroke-linecap:round;stroke-opacity:1.0;stroke-width:2\"></path><path d=\"M 106.03960396 118.831168831 L 220.099009901 118.831168831\" style=\"fill:none;stroke:rgb(16.1%,15.3%,14.1%);stroke-linecap:round;stroke-opacity:1.0;stroke-width:2\"></path><path d=\"M 106.03960396 137.012987013 L 106.03960396 155.194805195\" style=\"fill:none;stroke:rgb(16.1%,15.3%,14.1%);stroke-linecap:round;stroke-opacity:1.0;stroke-width:2\"></path><path d=\"M 106.03960396 155.194805195 L 144.059405941 155.194805195\" style=\"fill:none;stroke:rgb(16.1%,15.3%,14.1%);stroke-linecap:round;stroke-opacity:1.0;stroke-width:2\"></path><path d=\"M 106.03960396 220.12987013 L 106.03960396 201.948051948\" style=\"fill:none;stroke:rgb(16.1%,15.3%,14.1%);stroke-linecap:round;stroke-opacity:1.0;stroke-width:2\"></path><path d=\"M 106.03960396 201.948051948 L 220.099009901 201.948051948\" style=\"fill:none;stroke:rgb(16.1%,15.3%,14.1%);stroke-linecap:round;stroke-opacity:1.0;stroke-width:2\"></path><path d=\"M 106.03960396 220.12987013 L 106.03960396 238.311688312\" style=\"fill:none;stroke:rgb(16.1%,15.3%,14.1%);stroke-linecap:round;stroke-opacity:1.0;stroke-width:2\"></path><path d=\"M 106.03960396 238.311688312 L 144.059405941 238.311688312\" style=\"fill:none;stroke:rgb(16.1%,15.3%,14.1%);stroke-linecap:round;stroke-opacity:1.0;stroke-width:2\"></path><path d=\"M 182.079207921 87.6623376623 L 182.079207921 77.2727272727\" style=\"fill:none;stroke:rgb(16.1%,15.3%,14.1%);stroke-linecap:round;stroke-opacity:1.0;stroke-width:2\"></path><path d=\"M 182.079207921 77.2727272727 L 220.099009901 77.2727272727\" style=\"fill:none;stroke:rgb(16.1%,15.3%,14.1%);stroke-linecap:round;stroke-opacity:1.0;stroke-width:2\"></path><path d=\"M 182.079207921 87.6623376623 L 182.079207921 98.0519480519\" style=\"fill:none;stroke:rgb(16.1%,15.3%,14.1%);stroke-linecap:round;stroke-opacity:1.0;stroke-width:2\"></path><path d=\"M 182.079207921 98.0519480519 L 220.099009901 98.0519480519\" style=\"fill:none;stroke:rgb(16.1%,15.3%,14.1%);stroke-linecap:round;stroke-opacity:1.0;stroke-width:2\"></path><path d=\"M 144.059405941 155.194805195 L 144.059405941 139.61038961\" style=\"fill:none;stroke:rgb(16.1%,15.3%,14.1%);stroke-linecap:round;stroke-opacity:1.0;stroke-width:2\"></path><path d=\"M 144.059405941 139.61038961 L 220.099009901 139.61038961\" style=\"fill:none;stroke:rgb(16.1%,15.3%,14.1%);stroke-linecap:round;stroke-opacity:1.0;stroke-width:2\"></path><path d=\"M 144.059405941 155.194805195 L 144.059405941 170.779220779\" style=\"fill:none;stroke:rgb(16.1%,15.3%,14.1%);stroke-linecap:round;stroke-opacity:1.0;stroke-width:2\"></path><path d=\"M 144.059405941 170.779220779 L 182.079207921 170.779220779\" style=\"fill:none;stroke:rgb(16.1%,15.3%,14.1%);stroke-linecap:round;stroke-opacity:1.0;stroke-width:2\"></path><path d=\"M 144.059405941 238.311688312 L 144.059405941 222.727272727\" style=\"fill:none;stroke:rgb(16.1%,15.3%,14.1%);stroke-linecap:round;stroke-opacity:1.0;stroke-width:2\"></path><path d=\"M 144.059405941 222.727272727 L 220.099009901 222.727272727\" style=\"fill:none;stroke:rgb(16.1%,15.3%,14.1%);stroke-linecap:round;stroke-opacity:1.0;stroke-width:2\"></path><path d=\"M 144.059405941 238.311688312 L 144.059405941 253.896103896\" style=\"fill:none;stroke:rgb(16.1%,15.3%,14.1%);stroke-linecap:round;stroke-opacity:1.0;stroke-width:2\"></path><path d=\"M 144.059405941 253.896103896 L 182.079207921 253.896103896\" style=\"fill:none;stroke:rgb(16.1%,15.3%,14.1%);stroke-linecap:round;stroke-opacity:1.0;stroke-width:2\"></path><path d=\"M 182.079207921 170.779220779 L 182.079207921 160.38961039\" style=\"fill:none;stroke:rgb(16.1%,15.3%,14.1%);stroke-linecap:round;stroke-opacity:1.0;stroke-width:2\"></path><path d=\"M 182.079207921 160.38961039 L 220.099009901 160.38961039\" style=\"fill:none;stroke:rgb(16.1%,15.3%,14.1%);stroke-linecap:round;stroke-opacity:1.0;stroke-width:2\"></path><path d=\"M 182.079207921 170.779220779 L 182.079207921 181.168831169\" style=\"fill:none;stroke:rgb(16.1%,15.3%,14.1%);stroke-linecap:round;stroke-opacity:1.0;stroke-width:2\"></path><path d=\"M 182.079207921 181.168831169 L 220.099009901 181.168831169\" style=\"fill:none;stroke:rgb(16.1%,15.3%,14.1%);stroke-linecap:round;stroke-opacity:1.0;stroke-width:2\"></path><path d=\"M 182.079207921 253.896103896 L 182.079207921 243.506493506\" style=\"fill:none;stroke:rgb(16.1%,15.3%,14.1%);stroke-linecap:round;stroke-opacity:1.0;stroke-width:2\"></path><path d=\"M 182.079207921 243.506493506 L 220.099009901 243.506493506\" style=\"fill:none;stroke:rgb(16.1%,15.3%,14.1%);stroke-linecap:round;stroke-opacity:1.0;stroke-width:2\"></path><path d=\"M 182.079207921 253.896103896 L 182.079207921 264.285714286\" style=\"fill:none;stroke:rgb(16.1%,15.3%,14.1%);stroke-linecap:round;stroke-opacity:1.0;stroke-width:2\"></path><path d=\"M 182.079207921 264.285714286 L 220.099009901 264.285714286\" style=\"fill:none;stroke:rgb(16.1%,15.3%,14.1%);stroke-linecap:round;stroke-opacity:1.0;stroke-width:2\"></path></g><g class=\"toyplot-Vertices\"><g class=\"toyplot-Datum\" style=\"fill:rgb(40%,76.1%,64.7%);fill-opacity:1.0;opacity:1.0;stroke:rgb(40%,76.1%,64.7%);stroke-opacity:1.0\"><circle cx=\"30.0\" cy=\"116.23376623376622\" r=\"0.0\"></circle></g><g class=\"toyplot-Datum\" style=\"fill:rgb(40%,76.1%,64.7%);fill-opacity:1.0;opacity:1.0;stroke:rgb(40%,76.1%,64.7%);stroke-opacity:1.0\"><circle cx=\"30.0\" cy=\"53.89610389610386\" r=\"0.0\"></circle></g><g class=\"toyplot-Datum\" style=\"fill:rgb(40%,76.1%,64.7%);fill-opacity:1.0;opacity:1.0;stroke:rgb(40%,76.1%,64.7%);stroke-opacity:1.0\"><circle cx=\"106.03960396039605\" cy=\"53.89610389610386\" r=\"0.0\"></circle></g><g class=\"toyplot-Datum\" style=\"fill:rgb(40%,76.1%,64.7%);fill-opacity:1.0;opacity:1.0;stroke:rgb(40%,76.1%,64.7%);stroke-opacity:1.0\"><circle cx=\"30.0\" cy=\"178.57142857142856\" r=\"0.0\"></circle></g><g class=\"toyplot-Datum\" style=\"fill:rgb(40%,76.1%,64.7%);fill-opacity:1.0;opacity:1.0;stroke:rgb(40%,76.1%,64.7%);stroke-opacity:1.0\"><circle cx=\"68.019801980198025\" cy=\"178.57142857142856\" r=\"0.0\"></circle></g><g class=\"toyplot-Datum\" style=\"fill:rgb(40%,76.1%,64.7%);fill-opacity:1.0;opacity:1.0;stroke:rgb(40%,76.1%,64.7%);stroke-opacity:1.0\"><circle cx=\"106.03960396039605\" cy=\"53.89610389610386\" r=\"0.0\"></circle></g><g class=\"toyplot-Datum\" style=\"fill:rgb(40%,76.1%,64.7%);fill-opacity:1.0;opacity:1.0;stroke:rgb(40%,76.1%,64.7%);stroke-opacity:1.0\"><circle cx=\"106.03960396039605\" cy=\"35.714285714285694\" r=\"0.0\"></circle></g><g class=\"toyplot-Datum\" style=\"fill:rgb(40%,76.1%,64.7%);fill-opacity:1.0;opacity:1.0;stroke:rgb(40%,76.1%,64.7%);stroke-opacity:1.0\"><circle cx=\"220.09900990099013\" cy=\"35.714285714285694\" r=\"0.0\"></circle></g><g class=\"toyplot-Datum\" style=\"fill:rgb(40%,76.1%,64.7%);fill-opacity:1.0;opacity:1.0;stroke:rgb(40%,76.1%,64.7%);stroke-opacity:1.0\"><circle cx=\"106.03960396039605\" cy=\"72.077922077922054\" r=\"0.0\"></circle></g><g class=\"toyplot-Datum\" style=\"fill:rgb(40%,76.1%,64.7%);fill-opacity:1.0;opacity:1.0;stroke:rgb(40%,76.1%,64.7%);stroke-opacity:1.0\"><circle cx=\"144.05940594059405\" cy=\"72.077922077922054\" r=\"0.0\"></circle></g><g class=\"toyplot-Datum\" style=\"fill:rgb(40%,76.1%,64.7%);fill-opacity:1.0;opacity:1.0;stroke:rgb(40%,76.1%,64.7%);stroke-opacity:1.0\"><circle cx=\"68.019801980198025\" cy=\"178.57142857142856\" r=\"0.0\"></circle></g><g class=\"toyplot-Datum\" style=\"fill:rgb(40%,76.1%,64.7%);fill-opacity:1.0;opacity:1.0;stroke:rgb(40%,76.1%,64.7%);stroke-opacity:1.0\"><circle cx=\"68.019801980198025\" cy=\"137.01298701298697\" r=\"0.0\"></circle></g><g class=\"toyplot-Datum\" style=\"fill:rgb(40%,76.1%,64.7%);fill-opacity:1.0;opacity:1.0;stroke:rgb(40%,76.1%,64.7%);stroke-opacity:1.0\"><circle cx=\"106.03960396039605\" cy=\"137.01298701298697\" r=\"0.0\"></circle></g><g class=\"toyplot-Datum\" style=\"fill:rgb(40%,76.1%,64.7%);fill-opacity:1.0;opacity:1.0;stroke:rgb(40%,76.1%,64.7%);stroke-opacity:1.0\"><circle cx=\"68.019801980198025\" cy=\"220.12987012987011\" r=\"0.0\"></circle></g><g class=\"toyplot-Datum\" style=\"fill:rgb(40%,76.1%,64.7%);fill-opacity:1.0;opacity:1.0;stroke:rgb(40%,76.1%,64.7%);stroke-opacity:1.0\"><circle cx=\"106.03960396039605\" cy=\"220.12987012987011\" r=\"0.0\"></circle></g><g class=\"toyplot-Datum\" style=\"fill:rgb(40%,76.1%,64.7%);fill-opacity:1.0;opacity:1.0;stroke:rgb(40%,76.1%,64.7%);stroke-opacity:1.0\"><circle cx=\"144.05940594059405\" cy=\"72.077922077922054\" r=\"0.0\"></circle></g><g class=\"toyplot-Datum\" style=\"fill:rgb(40%,76.1%,64.7%);fill-opacity:1.0;opacity:1.0;stroke:rgb(40%,76.1%,64.7%);stroke-opacity:1.0\"><circle cx=\"144.05940594059405\" cy=\"56.493506493506459\" r=\"0.0\"></circle></g><g class=\"toyplot-Datum\" style=\"fill:rgb(40%,76.1%,64.7%);fill-opacity:1.0;opacity:1.0;stroke:rgb(40%,76.1%,64.7%);stroke-opacity:1.0\"><circle cx=\"220.09900990099013\" cy=\"56.493506493506459\" r=\"0.0\"></circle></g><g class=\"toyplot-Datum\" style=\"fill:rgb(40%,76.1%,64.7%);fill-opacity:1.0;opacity:1.0;stroke:rgb(40%,76.1%,64.7%);stroke-opacity:1.0\"><circle cx=\"144.05940594059405\" cy=\"87.662337662337634\" r=\"0.0\"></circle></g><g class=\"toyplot-Datum\" style=\"fill:rgb(40%,76.1%,64.7%);fill-opacity:1.0;opacity:1.0;stroke:rgb(40%,76.1%,64.7%);stroke-opacity:1.0\"><circle cx=\"182.0792079207921\" cy=\"87.662337662337634\" r=\"0.0\"></circle></g><g class=\"toyplot-Datum\" style=\"fill:rgb(40%,76.1%,64.7%);fill-opacity:1.0;opacity:1.0;stroke:rgb(40%,76.1%,64.7%);stroke-opacity:1.0\"><circle cx=\"106.03960396039605\" cy=\"137.01298701298697\" r=\"0.0\"></circle></g><g class=\"toyplot-Datum\" style=\"fill:rgb(40%,76.1%,64.7%);fill-opacity:1.0;opacity:1.0;stroke:rgb(40%,76.1%,64.7%);stroke-opacity:1.0\"><circle cx=\"106.03960396039605\" cy=\"118.83116883116882\" r=\"0.0\"></circle></g><g class=\"toyplot-Datum\" style=\"fill:rgb(40%,76.1%,64.7%);fill-opacity:1.0;opacity:1.0;stroke:rgb(40%,76.1%,64.7%);stroke-opacity:1.0\"><circle cx=\"220.09900990099013\" cy=\"118.83116883116882\" r=\"0.0\"></circle></g><g class=\"toyplot-Datum\" style=\"fill:rgb(40%,76.1%,64.7%);fill-opacity:1.0;opacity:1.0;stroke:rgb(40%,76.1%,64.7%);stroke-opacity:1.0\"><circle cx=\"106.03960396039605\" cy=\"155.19480519480518\" r=\"0.0\"></circle></g><g class=\"toyplot-Datum\" style=\"fill:rgb(40%,76.1%,64.7%);fill-opacity:1.0;opacity:1.0;stroke:rgb(40%,76.1%,64.7%);stroke-opacity:1.0\"><circle cx=\"144.05940594059405\" cy=\"155.19480519480518\" r=\"0.0\"></circle></g><g class=\"toyplot-Datum\" style=\"fill:rgb(40%,76.1%,64.7%);fill-opacity:1.0;opacity:1.0;stroke:rgb(40%,76.1%,64.7%);stroke-opacity:1.0\"><circle cx=\"106.03960396039605\" cy=\"220.12987012987011\" r=\"0.0\"></circle></g><g class=\"toyplot-Datum\" style=\"fill:rgb(40%,76.1%,64.7%);fill-opacity:1.0;opacity:1.0;stroke:rgb(40%,76.1%,64.7%);stroke-opacity:1.0\"><circle cx=\"106.03960396039605\" cy=\"201.94805194805195\" r=\"0.0\"></circle></g><g class=\"toyplot-Datum\" style=\"fill:rgb(40%,76.1%,64.7%);fill-opacity:1.0;opacity:1.0;stroke:rgb(40%,76.1%,64.7%);stroke-opacity:1.0\"><circle cx=\"220.09900990099013\" cy=\"201.94805194805195\" r=\"0.0\"></circle></g><g class=\"toyplot-Datum\" style=\"fill:rgb(40%,76.1%,64.7%);fill-opacity:1.0;opacity:1.0;stroke:rgb(40%,76.1%,64.7%);stroke-opacity:1.0\"><circle cx=\"106.03960396039605\" cy=\"238.3116883116883\" r=\"0.0\"></circle></g><g class=\"toyplot-Datum\" style=\"fill:rgb(40%,76.1%,64.7%);fill-opacity:1.0;opacity:1.0;stroke:rgb(40%,76.1%,64.7%);stroke-opacity:1.0\"><circle cx=\"144.05940594059405\" cy=\"238.3116883116883\" r=\"0.0\"></circle></g><g class=\"toyplot-Datum\" style=\"fill:rgb(40%,76.1%,64.7%);fill-opacity:1.0;opacity:1.0;stroke:rgb(40%,76.1%,64.7%);stroke-opacity:1.0\"><circle cx=\"182.0792079207921\" cy=\"87.662337662337634\" r=\"0.0\"></circle></g><g class=\"toyplot-Datum\" style=\"fill:rgb(40%,76.1%,64.7%);fill-opacity:1.0;opacity:1.0;stroke:rgb(40%,76.1%,64.7%);stroke-opacity:1.0\"><circle cx=\"182.0792079207921\" cy=\"77.272727272727252\" r=\"0.0\"></circle></g><g class=\"toyplot-Datum\" style=\"fill:rgb(40%,76.1%,64.7%);fill-opacity:1.0;opacity:1.0;stroke:rgb(40%,76.1%,64.7%);stroke-opacity:1.0\"><circle cx=\"220.09900990099013\" cy=\"77.272727272727252\" r=\"0.0\"></circle></g><g class=\"toyplot-Datum\" style=\"fill:rgb(40%,76.1%,64.7%);fill-opacity:1.0;opacity:1.0;stroke:rgb(40%,76.1%,64.7%);stroke-opacity:1.0\"><circle cx=\"182.0792079207921\" cy=\"98.051948051948031\" r=\"0.0\"></circle></g><g class=\"toyplot-Datum\" style=\"fill:rgb(40%,76.1%,64.7%);fill-opacity:1.0;opacity:1.0;stroke:rgb(40%,76.1%,64.7%);stroke-opacity:1.0\"><circle cx=\"220.09900990099013\" cy=\"98.051948051948031\" r=\"0.0\"></circle></g><g class=\"toyplot-Datum\" style=\"fill:rgb(40%,76.1%,64.7%);fill-opacity:1.0;opacity:1.0;stroke:rgb(40%,76.1%,64.7%);stroke-opacity:1.0\"><circle cx=\"144.05940594059405\" cy=\"155.19480519480518\" r=\"0.0\"></circle></g><g class=\"toyplot-Datum\" style=\"fill:rgb(40%,76.1%,64.7%);fill-opacity:1.0;opacity:1.0;stroke:rgb(40%,76.1%,64.7%);stroke-opacity:1.0\"><circle cx=\"144.05940594059405\" cy=\"139.61038961038957\" r=\"0.0\"></circle></g><g class=\"toyplot-Datum\" style=\"fill:rgb(40%,76.1%,64.7%);fill-opacity:1.0;opacity:1.0;stroke:rgb(40%,76.1%,64.7%);stroke-opacity:1.0\"><circle cx=\"220.09900990099013\" cy=\"139.61038961038957\" r=\"0.0\"></circle></g><g class=\"toyplot-Datum\" style=\"fill:rgb(40%,76.1%,64.7%);fill-opacity:1.0;opacity:1.0;stroke:rgb(40%,76.1%,64.7%);stroke-opacity:1.0\"><circle cx=\"144.05940594059405\" cy=\"170.77922077922076\" r=\"0.0\"></circle></g><g class=\"toyplot-Datum\" style=\"fill:rgb(40%,76.1%,64.7%);fill-opacity:1.0;opacity:1.0;stroke:rgb(40%,76.1%,64.7%);stroke-opacity:1.0\"><circle cx=\"182.0792079207921\" cy=\"170.77922077922076\" r=\"0.0\"></circle></g><g class=\"toyplot-Datum\" style=\"fill:rgb(40%,76.1%,64.7%);fill-opacity:1.0;opacity:1.0;stroke:rgb(40%,76.1%,64.7%);stroke-opacity:1.0\"><circle cx=\"144.05940594059405\" cy=\"238.3116883116883\" r=\"0.0\"></circle></g><g class=\"toyplot-Datum\" style=\"fill:rgb(40%,76.1%,64.7%);fill-opacity:1.0;opacity:1.0;stroke:rgb(40%,76.1%,64.7%);stroke-opacity:1.0\"><circle cx=\"144.05940594059405\" cy=\"222.72727272727272\" r=\"0.0\"></circle></g><g class=\"toyplot-Datum\" style=\"fill:rgb(40%,76.1%,64.7%);fill-opacity:1.0;opacity:1.0;stroke:rgb(40%,76.1%,64.7%);stroke-opacity:1.0\"><circle cx=\"220.09900990099013\" cy=\"222.72727272727272\" r=\"0.0\"></circle></g><g class=\"toyplot-Datum\" style=\"fill:rgb(40%,76.1%,64.7%);fill-opacity:1.0;opacity:1.0;stroke:rgb(40%,76.1%,64.7%);stroke-opacity:1.0\"><circle cx=\"144.05940594059405\" cy=\"253.89610389610391\" r=\"0.0\"></circle></g><g class=\"toyplot-Datum\" style=\"fill:rgb(40%,76.1%,64.7%);fill-opacity:1.0;opacity:1.0;stroke:rgb(40%,76.1%,64.7%);stroke-opacity:1.0\"><circle cx=\"182.0792079207921\" cy=\"253.89610389610391\" r=\"0.0\"></circle></g><g class=\"toyplot-Datum\" style=\"fill:rgb(40%,76.1%,64.7%);fill-opacity:1.0;opacity:1.0;stroke:rgb(40%,76.1%,64.7%);stroke-opacity:1.0\"><circle cx=\"182.0792079207921\" cy=\"170.77922077922076\" r=\"0.0\"></circle></g><g class=\"toyplot-Datum\" style=\"fill:rgb(40%,76.1%,64.7%);fill-opacity:1.0;opacity:1.0;stroke:rgb(40%,76.1%,64.7%);stroke-opacity:1.0\"><circle cx=\"182.0792079207921\" cy=\"160.38961038961034\" r=\"0.0\"></circle></g><g class=\"toyplot-Datum\" style=\"fill:rgb(40%,76.1%,64.7%);fill-opacity:1.0;opacity:1.0;stroke:rgb(40%,76.1%,64.7%);stroke-opacity:1.0\"><circle cx=\"220.09900990099013\" cy=\"160.38961038961034\" r=\"0.0\"></circle></g><g class=\"toyplot-Datum\" style=\"fill:rgb(40%,76.1%,64.7%);fill-opacity:1.0;opacity:1.0;stroke:rgb(40%,76.1%,64.7%);stroke-opacity:1.0\"><circle cx=\"182.0792079207921\" cy=\"181.16883116883116\" r=\"0.0\"></circle></g><g class=\"toyplot-Datum\" style=\"fill:rgb(40%,76.1%,64.7%);fill-opacity:1.0;opacity:1.0;stroke:rgb(40%,76.1%,64.7%);stroke-opacity:1.0\"><circle cx=\"220.09900990099013\" cy=\"181.16883116883116\" r=\"0.0\"></circle></g><g class=\"toyplot-Datum\" style=\"fill:rgb(40%,76.1%,64.7%);fill-opacity:1.0;opacity:1.0;stroke:rgb(40%,76.1%,64.7%);stroke-opacity:1.0\"><circle cx=\"182.0792079207921\" cy=\"253.89610389610391\" r=\"0.0\"></circle></g><g class=\"toyplot-Datum\" style=\"fill:rgb(40%,76.1%,64.7%);fill-opacity:1.0;opacity:1.0;stroke:rgb(40%,76.1%,64.7%);stroke-opacity:1.0\"><circle cx=\"182.0792079207921\" cy=\"243.50649350649351\" r=\"0.0\"></circle></g><g class=\"toyplot-Datum\" style=\"fill:rgb(40%,76.1%,64.7%);fill-opacity:1.0;opacity:1.0;stroke:rgb(40%,76.1%,64.7%);stroke-opacity:1.0\"><circle cx=\"220.09900990099013\" cy=\"243.50649350649351\" r=\"0.0\"></circle></g><g class=\"toyplot-Datum\" style=\"fill:rgb(40%,76.1%,64.7%);fill-opacity:1.0;opacity:1.0;stroke:rgb(40%,76.1%,64.7%);stroke-opacity:1.0\"><circle cx=\"182.0792079207921\" cy=\"264.28571428571428\" r=\"0.0\"></circle></g><g class=\"toyplot-Datum\" style=\"fill:rgb(40%,76.1%,64.7%);fill-opacity:1.0;opacity:1.0;stroke:rgb(40%,76.1%,64.7%);stroke-opacity:1.0\"><circle cx=\"220.09900990099013\" cy=\"264.28571428571428\" r=\"0.0\"></circle></g></g></g><g class=\"toyplot-mark-Scatterplot\" id=\"t17a11639f6de45bd8f0b7bfd52a46ff3\" style=\"\"><g class=\"toyplot-Series\"><g class=\"toyplot-Datum\" style=\"fill:rgb(40%,76.1%,64.7%);fill-opacity:1.0;opacity:1.0;stroke:none\"><circle cx=\"30.0\" cy=\"116.23376623376622\" r=\"0.0\"></circle></g><g class=\"toyplot-Datum\" style=\"fill:rgb(40%,76.1%,64.7%);fill-opacity:1.0;opacity:1.0;stroke:none\"><circle cx=\"106.03960396039605\" cy=\"53.89610389610386\" r=\"10.0\"></circle></g><g class=\"toyplot-Datum\" style=\"fill:rgb(40%,76.1%,64.7%);fill-opacity:1.0;opacity:1.0;stroke:none\"><circle cx=\"144.05940594059405\" cy=\"72.077922077922054\" r=\"10.0\"></circle></g><g class=\"toyplot-Datum\" style=\"fill:rgb(40%,76.1%,64.7%);fill-opacity:1.0;opacity:1.0;stroke:none\"><circle cx=\"182.0792079207921\" cy=\"87.662337662337634\" r=\"10.0\"></circle></g><g class=\"toyplot-Datum\" style=\"fill:rgb(40%,76.1%,64.7%);fill-opacity:1.0;opacity:1.0;stroke:none\"><circle cx=\"68.019801980198025\" cy=\"178.57142857142856\" r=\"10.0\"></circle></g><g class=\"toyplot-Datum\" style=\"fill:rgb(40%,76.1%,64.7%);fill-opacity:1.0;opacity:1.0;stroke:none\"><circle cx=\"106.03960396039605\" cy=\"137.01298701298697\" r=\"10.0\"></circle></g><g class=\"toyplot-Datum\" style=\"fill:rgb(40%,76.1%,64.7%);fill-opacity:1.0;opacity:1.0;stroke:none\"><circle cx=\"144.05940594059405\" cy=\"155.19480519480518\" r=\"10.0\"></circle></g><g class=\"toyplot-Datum\" style=\"fill:rgb(40%,76.1%,64.7%);fill-opacity:1.0;opacity:1.0;stroke:none\"><circle cx=\"182.0792079207921\" cy=\"170.77922077922076\" r=\"10.0\"></circle></g><g class=\"toyplot-Datum\" style=\"fill:rgb(40%,76.1%,64.7%);fill-opacity:1.0;opacity:1.0;stroke:none\"><circle cx=\"106.03960396039605\" cy=\"220.12987012987011\" r=\"10.0\"></circle></g><g class=\"toyplot-Datum\" style=\"fill:rgb(40%,76.1%,64.7%);fill-opacity:1.0;opacity:1.0;stroke:none\"><circle cx=\"144.05940594059405\" cy=\"238.3116883116883\" r=\"10.0\"></circle></g><g class=\"toyplot-Datum\" style=\"fill:rgb(40%,76.1%,64.7%);fill-opacity:1.0;opacity:1.0;stroke:none\"><circle cx=\"182.0792079207921\" cy=\"253.89610389610391\" r=\"10.0\"></circle></g><g class=\"toyplot-Datum\" style=\"fill:rgb(40%,76.1%,64.7%);fill-opacity:1.0;opacity:1.0;stroke:none\"><circle cx=\"220.09900990099013\" cy=\"35.714285714285694\" r=\"0.0\"></circle></g><g class=\"toyplot-Datum\" style=\"fill:rgb(40%,76.1%,64.7%);fill-opacity:1.0;opacity:1.0;stroke:none\"><circle cx=\"220.09900990099013\" cy=\"56.493506493506459\" r=\"0.0\"></circle></g><g class=\"toyplot-Datum\" style=\"fill:rgb(40%,76.1%,64.7%);fill-opacity:1.0;opacity:1.0;stroke:none\"><circle cx=\"220.09900990099013\" cy=\"77.272727272727252\" r=\"0.0\"></circle></g><g class=\"toyplot-Datum\" style=\"fill:rgb(40%,76.1%,64.7%);fill-opacity:1.0;opacity:1.0;stroke:none\"><circle cx=\"220.09900990099013\" cy=\"98.051948051948031\" r=\"0.0\"></circle></g><g class=\"toyplot-Datum\" style=\"fill:rgb(40%,76.1%,64.7%);fill-opacity:1.0;opacity:1.0;stroke:none\"><circle cx=\"220.09900990099013\" cy=\"118.83116883116882\" r=\"0.0\"></circle></g><g class=\"toyplot-Datum\" style=\"fill:rgb(40%,76.1%,64.7%);fill-opacity:1.0;opacity:1.0;stroke:none\"><circle cx=\"220.09900990099013\" cy=\"139.61038961038957\" r=\"0.0\"></circle></g><g class=\"toyplot-Datum\" style=\"fill:rgb(40%,76.1%,64.7%);fill-opacity:1.0;opacity:1.0;stroke:none\"><circle cx=\"220.09900990099013\" cy=\"160.38961038961034\" r=\"0.0\"></circle></g><g class=\"toyplot-Datum\" style=\"fill:rgb(40%,76.1%,64.7%);fill-opacity:1.0;opacity:1.0;stroke:none\"><circle cx=\"220.09900990099013\" cy=\"181.16883116883116\" r=\"0.0\"></circle></g><g class=\"toyplot-Datum\" style=\"fill:rgb(40%,76.1%,64.7%);fill-opacity:1.0;opacity:1.0;stroke:none\"><circle cx=\"220.09900990099013\" cy=\"201.94805194805195\" r=\"0.0\"></circle></g><g class=\"toyplot-Datum\" style=\"fill:rgb(40%,76.1%,64.7%);fill-opacity:1.0;opacity:1.0;stroke:none\"><circle cx=\"220.09900990099013\" cy=\"222.72727272727272\" r=\"0.0\"></circle></g><g class=\"toyplot-Datum\" style=\"fill:rgb(40%,76.1%,64.7%);fill-opacity:1.0;opacity:1.0;stroke:none\"><circle cx=\"220.09900990099013\" cy=\"243.50649350649351\" r=\"0.0\"></circle></g><g class=\"toyplot-Datum\" style=\"fill:rgb(40%,76.1%,64.7%);fill-opacity:1.0;opacity:1.0;stroke:none\"><circle cx=\"220.09900990099013\" cy=\"264.28571428571428\" r=\"0.0\"></circle></g></g></g><g class=\"toyplot-mark-Text\" id=\"tacfa38efc4a94b6582a0cfdae1ba2e6c\" style=\"alignment-baseline:middle;fill:262626;font-size:9px;font-weight:normal;stroke:none;text-anchor:middle\"><g class=\"toyplot-Series\"><text class=\"toyplot-Datum\" style=\"fill:262626;font-weight:normal;opacity:1.0;stroke:none;text-anchor:middle\" transform=\"translate(106.03960396039605,53.89610389610386)translate(0,2.53125)\"><tspan style=\"font-size:9.0px\">100</tspan></text><text class=\"toyplot-Datum\" style=\"fill:262626;font-weight:normal;opacity:1.0;stroke:none;text-anchor:middle\" transform=\"translate(144.05940594059405,72.077922077922054)translate(0,2.53125)\"><tspan style=\"font-size:9.0px\">100</tspan></text><text class=\"toyplot-Datum\" style=\"fill:262626;font-weight:normal;opacity:1.0;stroke:none;text-anchor:middle\" transform=\"translate(182.0792079207921,87.662337662337634)translate(0,2.53125)\"><tspan style=\"font-size:9.0px\">100</tspan></text><text class=\"toyplot-Datum\" style=\"fill:262626;font-weight:normal;opacity:1.0;stroke:none;text-anchor:middle\" transform=\"translate(68.019801980198025,178.57142857142856)translate(0,2.53125)\"><tspan style=\"font-size:9.0px\">100</tspan></text><text class=\"toyplot-Datum\" style=\"fill:262626;font-weight:normal;opacity:1.0;stroke:none;text-anchor:middle\" transform=\"translate(106.03960396039605,137.01298701298697)translate(0,2.53125)\"><tspan style=\"font-size:9.0px\">100</tspan></text><text class=\"toyplot-Datum\" style=\"fill:262626;font-weight:normal;opacity:1.0;stroke:none;text-anchor:middle\" transform=\"translate(144.05940594059405,155.19480519480518)translate(0,2.53125)\"><tspan style=\"font-size:9.0px\">100</tspan></text><text class=\"toyplot-Datum\" style=\"fill:262626;font-weight:normal;opacity:1.0;stroke:none;text-anchor:middle\" transform=\"translate(182.0792079207921,170.77922077922076)translate(0,2.53125)\"><tspan style=\"font-size:9.0px\">100</tspan></text><text class=\"toyplot-Datum\" style=\"fill:262626;font-weight:normal;opacity:1.0;stroke:none;text-anchor:middle\" transform=\"translate(106.03960396039605,220.12987012987011)translate(0,2.53125)\"><tspan style=\"font-size:9.0px\">100</tspan></text><text class=\"toyplot-Datum\" style=\"fill:262626;font-weight:normal;opacity:1.0;stroke:none;text-anchor:middle\" transform=\"translate(144.05940594059405,238.3116883116883)translate(0,2.53125)\"><tspan style=\"font-size:9.0px\">100</tspan></text><text class=\"toyplot-Datum\" style=\"fill:262626;font-weight:normal;opacity:1.0;stroke:none;text-anchor:middle\" transform=\"translate(182.0792079207921,253.89610389610391)translate(0,2.53125)\"><tspan style=\"font-size:9.0px\">100</tspan></text></g></g></g></g></svg><div class=\"toyplot-interactive\"><ul class=\"toyplot-mark-popup\" onmouseleave=\"this.style.visibility='hidden'\" style=\"background:rgba(0%,0%,0%,0.75);border:0;border-radius:6px;color:white;cursor:default;list-style:none;margin:0;padding:5px;position:fixed;visibility:hidden\">\n",
       "            <li class=\"toyplot-mark-popup-title\" style=\"color:lightgray;cursor:default;padding:5px;list-style:none;margin:0\"></li>\n",
       "            <li class=\"toyplot-mark-popup-save-csv\" onmouseout=\"this.style.color='white';this.style.background='steelblue'\" onmouseover=\"this.style.color='steelblue';this.style.background='white'\" style=\"border-radius:3px;padding:5px;list-style:none;margin:0\">\n",
       "                Save as .csv\n",
       "            </li>\n",
       "        </ul><script>\n",
       "        (function()\n",
       "        {\n",
       "          var data_tables = [{\"title\": \"Scatterplot Data\", \"names\": [\"x\", \"y0\"], \"id\": \"t17a11639f6de45bd8f0b7bfd52a46ff3\", \"columns\": [[-5.0, -3.0, -2.0, -1.0, -4.0, -3.0, -2.0, -1.0, -3.0, -2.0, -1.0, 0.0, 0.0, 0.0, 0.0, 0.0, 0.0, 0.0, 0.0, 0.0, 0.0, 0.0, 0.0], [7.125, 10.125, 9.25, 8.5, 4.125, 6.125, 5.25, 4.5, 2.125, 1.25, 0.5, 11.0, 10.0, 9.0, 8.0, 7.0, 6.0, 5.0, 4.0, 3.0, 2.0, 1.0, 0.0]], \"filename\": \"toyplot\"}];\n",
       "\n",
       "          function save_csv(data_table)\n",
       "          {\n",
       "            var uri = \"data:text/csv;charset=utf-8,\";\n",
       "            uri += data_table.names.join(\",\") + \"\\n\";\n",
       "            for(var i = 0; i != data_table.columns[0].length; ++i)\n",
       "            {\n",
       "              for(var j = 0; j != data_table.columns.length; ++j)\n",
       "              {\n",
       "                if(j)\n",
       "                  uri += \",\";\n",
       "                uri += data_table.columns[j][i];\n",
       "              }\n",
       "              uri += \"\\n\";\n",
       "            }\n",
       "            uri = encodeURI(uri);\n",
       "\n",
       "            var link = document.createElement(\"a\");\n",
       "            if(typeof link.download != \"undefined\")\n",
       "            {\n",
       "              link.href = uri;\n",
       "              link.style = \"visibility:hidden\";\n",
       "              link.download = data_table.filename + \".csv\";\n",
       "\n",
       "              document.body.appendChild(link);\n",
       "              link.click();\n",
       "              document.body.removeChild(link);\n",
       "            }\n",
       "            else\n",
       "            {\n",
       "              window.open(uri);\n",
       "            }\n",
       "          }\n",
       "\n",
       "          function open_popup(data_table)\n",
       "          {\n",
       "            return function(e)\n",
       "            {\n",
       "              var popup = document.querySelector(\"#t54affede6b224e10a8b79dbbe0ab40a2 .toyplot-mark-popup\");\n",
       "              popup.querySelector(\".toyplot-mark-popup-title\").innerHTML = data_table.title;\n",
       "              popup.querySelector(\".toyplot-mark-popup-save-csv\").onclick = function() { popup.style.visibility = \"hidden\"; save_csv(data_table); }\n",
       "              popup.style.left = (e.clientX - 50) + \"px\";\n",
       "              popup.style.top = (e.clientY - 20) + \"px\";\n",
       "              popup.style.visibility = \"visible\";\n",
       "              e.stopPropagation();\n",
       "              e.preventDefault();\n",
       "            }\n",
       "\n",
       "          }\n",
       "\n",
       "          for(var i = 0; i != data_tables.length; ++i)\n",
       "          {\n",
       "            var data_table = data_tables[i];\n",
       "            var event_target = document.querySelector(\"#\" + data_table.id);\n",
       "            event_target.oncontextmenu = open_popup(data_table);\n",
       "          }\n",
       "        })();\n",
       "        </script></div></div>"
      ]
     },
     "metadata": {},
     "output_type": "display_data"
    }
   ],
   "source": [
    "import toytree\n",
    "tre = toytree.tree(s.trees.bipartitions)\n",
    "tre.root(wildcard='3')\n",
    "tre.draw(\n",
    "    width=300,\n",
    "    node_labels=tre.get_node_values(\"support\"),\n",
    "    node_size=20,\n",
    "    );"
   ]
  },
  {
   "cell_type": "markdown",
   "metadata": {
    "slideshow": {
     "slide_type": "slide"
    }
   },
   "source": [
    "### introgression (abba-baba) analysis\n",
    "The baba object can be used to set up abba-baba tests, to calculate results, and to generate plots to visualize them. "
   ]
  },
  {
   "cell_type": "markdown",
   "metadata": {},
   "source": [
    "Minimal example, scroll down for details. "
   ]
  },
  {
   "cell_type": "code",
   "execution_count": 9,
   "metadata": {},
   "outputs": [
    {
     "name": "stdout",
     "output_type": "stream",
     "text": [
      "[####################] 100%  calculating D-stats  | 0:00:00 |  \n"
     ]
    },
    {
     "data": {
      "text/html": [
       "<div>\n",
       "<table border=\"1\" class=\"dataframe\">\n",
       "  <thead>\n",
       "    <tr style=\"text-align: right;\">\n",
       "      <th></th>\n",
       "      <th>dstat</th>\n",
       "      <th>bootmean</th>\n",
       "      <th>bootstd</th>\n",
       "      <th>Z</th>\n",
       "      <th>ABBA</th>\n",
       "      <th>BABA</th>\n",
       "      <th>nloci</th>\n",
       "    </tr>\n",
       "  </thead>\n",
       "  <tbody>\n",
       "    <tr>\n",
       "      <th>0</th>\n",
       "      <td>-0.098</td>\n",
       "      <td>-0.098</td>\n",
       "      <td>0.228</td>\n",
       "      <td>0.43</td>\n",
       "      <td>11.5</td>\n",
       "      <td>14.0</td>\n",
       "      <td>1000</td>\n",
       "    </tr>\n",
       "  </tbody>\n",
       "</table>\n",
       "</div>"
      ],
      "text/plain": [
       "   dstat  bootmean  bootstd     Z  ABBA  BABA  nloci\n",
       "0 -0.098    -0.098    0.228  0.43  11.5  14.0   1000"
      ]
     },
     "execution_count": 9,
     "metadata": {},
     "output_type": "execute_result"
    }
   ],
   "source": [
    "## create a baba object\n",
    "b = ipa.baba(data=data.outfiles.loci)\n",
    "\n",
    "## generate tests given the rooted tree\n",
    "b.tests = [\n",
    "    {\"p4\":[\"3L_0\"], \n",
    "     \"p3\":[\"2F_0\"], \n",
    "     \"p2\":[\"1D_0\"],\n",
    "     \"p1\":[\"1A_0\"]}]\n",
    "\n",
    "## run jobs distributed across the cluster\n",
    "b.run(ipyclient)\n",
    "b.results_table"
   ]
  },
  {
   "cell_type": "markdown",
   "metadata": {
    "slideshow": {
     "slide_type": "subslide"
    }
   },
   "source": [
    "### Auto-generate tests \n",
    "Instead of writing out many tests explicitly, you can instead enter a rooted tree to the baba object and use this function to auto-generate four-taxon test fitting the tree and constraints. "
   ]
  },
  {
   "cell_type": "code",
   "execution_count": 10,
   "metadata": {
    "slideshow": {
     "slide_type": "-"
    }
   },
   "outputs": [
    {
     "name": "stdout",
     "output_type": "stream",
     "text": [
      "674 tests generated from tree\n",
      "12 tests generated from tree\n"
     ]
    }
   ],
   "source": [
    "## init baba object\n",
    "b = ipa.baba(data=data.outfiles.loci, newick=tre)\n",
    "\n",
    "## generate all possible tests on this tree\n",
    "b.generate_tests_from_tree()\n",
    "\n",
    "## set constraints on tests\n",
    "cdict = {\"p4\": [\"3L_0\"], \n",
    "         \"p3\": [\"2E_0\", \"2F_0\"], \n",
    "         \"p2\": [\"1D_0\"]}\n",
    "\n",
    "## generate constrainted number of tests\n",
    "b.generate_tests_from_tree(\n",
    "    constraint_dict=cdict,\n",
    "    constraint_exact=False,\n",
    "    )"
   ]
  },
  {
   "cell_type": "markdown",
   "metadata": {
    "slideshow": {
     "slide_type": "subslide"
    }
   },
   "source": [
    "### Run all tests linked to a baba object"
   ]
  },
  {
   "cell_type": "code",
   "execution_count": 11,
   "metadata": {
    "slideshow": {
     "slide_type": "-"
    }
   },
   "outputs": [
    {
     "name": "stdout",
     "output_type": "stream",
     "text": [
      "[####################] 100%  calculating D-stats  | 0:00:03 |  \n"
     ]
    },
    {
     "data": {
      "text/html": [
       "<div>\n",
       "<table border=\"1\" class=\"dataframe\">\n",
       "  <thead>\n",
       "    <tr style=\"text-align: right;\">\n",
       "      <th></th>\n",
       "      <th>dstat</th>\n",
       "      <th>bootmean</th>\n",
       "      <th>bootstd</th>\n",
       "      <th>Z</th>\n",
       "      <th>ABBA</th>\n",
       "      <th>BABA</th>\n",
       "      <th>nloci</th>\n",
       "    </tr>\n",
       "  </thead>\n",
       "  <tbody>\n",
       "    <tr>\n",
       "      <th>0</th>\n",
       "      <td>-0.181</td>\n",
       "      <td>-0.186</td>\n",
       "      <td>0.217</td>\n",
       "      <td>0.836</td>\n",
       "      <td>11.0</td>\n",
       "      <td>15.875</td>\n",
       "      <td>1000</td>\n",
       "    </tr>\n",
       "    <tr>\n",
       "      <th>1</th>\n",
       "      <td>-0.030</td>\n",
       "      <td>-0.037</td>\n",
       "      <td>0.213</td>\n",
       "      <td>0.143</td>\n",
       "      <td>13.0</td>\n",
       "      <td>13.812</td>\n",
       "      <td>1000</td>\n",
       "    </tr>\n",
       "    <tr>\n",
       "      <th>2</th>\n",
       "      <td>-0.005</td>\n",
       "      <td>-0.004</td>\n",
       "      <td>0.216</td>\n",
       "      <td>0.021</td>\n",
       "      <td>13.5</td>\n",
       "      <td>13.625</td>\n",
       "      <td>1000</td>\n",
       "    </tr>\n",
       "    <tr>\n",
       "      <th>3</th>\n",
       "      <td>-0.057</td>\n",
       "      <td>-0.060</td>\n",
       "      <td>0.222</td>\n",
       "      <td>0.255</td>\n",
       "      <td>12.5</td>\n",
       "      <td>14.000</td>\n",
       "      <td>1000</td>\n",
       "    </tr>\n",
       "    <tr>\n",
       "      <th>4</th>\n",
       "      <td>-0.135</td>\n",
       "      <td>-0.128</td>\n",
       "      <td>0.224</td>\n",
       "      <td>0.603</td>\n",
       "      <td>12.0</td>\n",
       "      <td>15.750</td>\n",
       "      <td>1000</td>\n",
       "    </tr>\n",
       "    <tr>\n",
       "      <th>5</th>\n",
       "      <td>-0.004</td>\n",
       "      <td>-0.007</td>\n",
       "      <td>0.208</td>\n",
       "      <td>0.021</td>\n",
       "      <td>14.0</td>\n",
       "      <td>14.125</td>\n",
       "      <td>1000</td>\n",
       "    </tr>\n",
       "    <tr>\n",
       "      <th>6</th>\n",
       "      <td>0.009</td>\n",
       "      <td>0.007</td>\n",
       "      <td>0.211</td>\n",
       "      <td>0.041</td>\n",
       "      <td>14.5</td>\n",
       "      <td>14.250</td>\n",
       "      <td>1000</td>\n",
       "    </tr>\n",
       "    <tr>\n",
       "      <th>7</th>\n",
       "      <td>-0.018</td>\n",
       "      <td>-0.009</td>\n",
       "      <td>0.227</td>\n",
       "      <td>0.080</td>\n",
       "      <td>13.5</td>\n",
       "      <td>14.000</td>\n",
       "      <td>1000</td>\n",
       "    </tr>\n",
       "    <tr>\n",
       "      <th>8</th>\n",
       "      <td>-0.231</td>\n",
       "      <td>-0.226</td>\n",
       "      <td>0.224</td>\n",
       "      <td>1.030</td>\n",
       "      <td>10.0</td>\n",
       "      <td>16.000</td>\n",
       "      <td>1000</td>\n",
       "    </tr>\n",
       "    <tr>\n",
       "      <th>9</th>\n",
       "      <td>-0.059</td>\n",
       "      <td>-0.076</td>\n",
       "      <td>0.211</td>\n",
       "      <td>0.279</td>\n",
       "      <td>12.0</td>\n",
       "      <td>13.500</td>\n",
       "      <td>1000</td>\n",
       "    </tr>\n",
       "    <tr>\n",
       "      <th>10</th>\n",
       "      <td>-0.020</td>\n",
       "      <td>-0.009</td>\n",
       "      <td>0.220</td>\n",
       "      <td>0.089</td>\n",
       "      <td>12.5</td>\n",
       "      <td>13.000</td>\n",
       "      <td>1000</td>\n",
       "    </tr>\n",
       "    <tr>\n",
       "      <th>11</th>\n",
       "      <td>-0.098</td>\n",
       "      <td>-0.095</td>\n",
       "      <td>0.223</td>\n",
       "      <td>0.440</td>\n",
       "      <td>11.5</td>\n",
       "      <td>14.000</td>\n",
       "      <td>1000</td>\n",
       "    </tr>\n",
       "  </tbody>\n",
       "</table>\n",
       "</div>"
      ],
      "text/plain": [
       "    dstat  bootmean  bootstd      Z  ABBA    BABA  nloci\n",
       "0  -0.181    -0.186    0.217  0.836  11.0  15.875   1000\n",
       "1  -0.030    -0.037    0.213  0.143  13.0  13.812   1000\n",
       "2  -0.005    -0.004    0.216  0.021  13.5  13.625   1000\n",
       "3  -0.057    -0.060    0.222  0.255  12.5  14.000   1000\n",
       "4  -0.135    -0.128    0.224  0.603  12.0  15.750   1000\n",
       "5  -0.004    -0.007    0.208  0.021  14.0  14.125   1000\n",
       "6   0.009     0.007    0.211  0.041  14.5  14.250   1000\n",
       "7  -0.018    -0.009    0.227  0.080  13.5  14.000   1000\n",
       "8  -0.231    -0.226    0.224  1.030  10.0  16.000   1000\n",
       "9  -0.059    -0.076    0.211  0.279  12.0  13.500   1000\n",
       "10 -0.020    -0.009    0.220  0.089  12.5  13.000   1000\n",
       "11 -0.098    -0.095    0.223  0.440  11.5  14.000   1000"
      ]
     },
     "execution_count": 11,
     "metadata": {},
     "output_type": "execute_result"
    }
   ],
   "source": [
    "## run the tests (in this case 4) linked to the baba object\n",
    "b.run(ipyclient)\n",
    "\n",
    "## show results table\n",
    "b.results_table"
   ]
  },
  {
   "cell_type": "markdown",
   "metadata": {
    "slideshow": {
     "slide_type": "subslide"
    }
   },
   "source": [
    "### Plot results "
   ]
  },
  {
   "cell_type": "code",
   "execution_count": 12,
   "metadata": {},
   "outputs": [
    {
     "data": {
      "text/html": [
       "<div align=\"center\" class=\"toyplot\" id=\"tc5fc5feb753f4550847352f5d9c1b9c0\"><svg class=\"toyplot-canvas-Canvas\" height=\"350.0px\" id=\"t0a6868e16c96447d9e45a23d538d1ab8\" preserveAspectRatio=\"xMidYMid meet\" style=\"background-color:transparent;fill:rgb(16.1%,15.3%,14.1%);fill-opacity:1.0;font-family:Helvetica;font-size:12px;opacity:1.0;stroke:rgb(16.1%,15.3%,14.1%);stroke-opacity:1.0;stroke-width:1.0\" viewBox=\"0 0 600.0 350.0\" width=\"600.0px\" xmlns=\"http://www.w3.org/2000/svg\" xmlns:toyplot=\"http://www.sandia.gov/toyplot\" xmlns:xlink=\"http://www.w3.org/1999/xlink\"><g class=\"toyplot-coordinates-Cartesian\" id=\"t1ddb18c86a6a4a2cac319dbe74cd8377\"><clipPath id=\"td86dc10b24c64b008c4619349e320b8c\"><rect height=\"335.0\" width=\"500.0\" x=\"50.0\" y=\"7.5\"></rect></clipPath><g clip-path=\"url(#td86dc10b24c64b008c4619349e320b8c)\"><g class=\"toyplot-mark-Text\" id=\"t363e99a14d684a788b6074ecd88ce595\" style=\"-toyplot-anchor-shift:0px;alignment-baseline:middle;font-size:12px;font-weight:normal;stroke:none;text-anchor:start\"><g class=\"toyplot-Series\"></g></g><g class=\"toyplot-mark-Graph\" id=\"t69d9395c4b48463eb3fd0409e47193a4\"><g class=\"toyplot-Edges\"><path d=\"M 443.540669856 17.5 L 489.473684211 17.5\" style=\"fill:none;stroke:rgb(16.1%,15.3%,14.1%);stroke-linecap:round;stroke-opacity:1.0;stroke-width:2\"></path><path d=\"M 489.473684211 17.5 L 489.473684211 38.5797891899\" style=\"fill:none;stroke:rgb(16.1%,15.3%,14.1%);stroke-linecap:round;stroke-opacity:1.0;stroke-width:2\"></path><path d=\"M 443.540669856 17.5 L 397.607655502 17.5\" style=\"fill:none;stroke:rgb(16.1%,15.3%,14.1%);stroke-linecap:round;stroke-opacity:1.0;stroke-width:2\"></path><path d=\"M 397.607655502 17.5 L 397.607655502 28.0398945949\" style=\"fill:none;stroke:rgb(16.1%,15.3%,14.1%);stroke-linecap:round;stroke-opacity:1.0;stroke-width:2\"></path><path d=\"M 489.473684211 38.5797891899 L 502.870813397 38.5797891899\" style=\"fill:none;stroke:rgb(16.1%,15.3%,14.1%);stroke-linecap:round;stroke-opacity:1.0;stroke-width:2\"></path><path d=\"M 502.870813397 38.5797891899 L 502.870813397 70.1994729746\" style=\"fill:none;stroke:rgb(16.1%,15.3%,14.1%);stroke-linecap:round;stroke-opacity:1.0;stroke-width:2\"></path><path d=\"M 489.473684211 38.5797891899 L 476.076555024 38.5797891899\" style=\"fill:none;stroke:rgb(16.1%,15.3%,14.1%);stroke-linecap:round;stroke-opacity:1.0;stroke-width:2\"></path><path d=\"M 476.076555024 38.5797891899 L 476.076555024 49.1196837848\" style=\"fill:none;stroke:rgb(16.1%,15.3%,14.1%);stroke-linecap:round;stroke-opacity:1.0;stroke-width:2\"></path><path d=\"M 397.607655502 28.0398945949 L 428.229665072 28.0398945949\" style=\"fill:none;stroke:rgb(16.1%,15.3%,14.1%);stroke-linecap:round;stroke-opacity:1.0;stroke-width:2\"></path><path d=\"M 428.229665072 28.0398945949 L 428.229665072 38.5797891899\" style=\"fill:none;stroke:rgb(16.1%,15.3%,14.1%);stroke-linecap:round;stroke-opacity:1.0;stroke-width:2\"></path><path d=\"M 397.607655502 28.0398945949 L 366.985645933 28.0398945949\" style=\"fill:none;stroke:rgb(16.1%,15.3%,14.1%);stroke-linecap:round;stroke-opacity:1.0;stroke-width:2\"></path><path d=\"M 366.985645933 28.0398945949 L 366.985645933 38.5797891899\" style=\"fill:none;stroke:rgb(16.1%,15.3%,14.1%);stroke-linecap:round;stroke-opacity:1.0;stroke-width:2\"></path><path d=\"M 476.076555024 49.1196837848 L 487.559808612 49.1196837848\" style=\"fill:none;stroke:rgb(16.1%,15.3%,14.1%);stroke-linecap:round;stroke-opacity:1.0;stroke-width:2\"></path><path d=\"M 487.559808612 49.1196837848 L 487.559808612 70.1994729746\" style=\"fill:none;stroke:rgb(16.1%,15.3%,14.1%);stroke-linecap:round;stroke-opacity:1.0;stroke-width:2\"></path><path d=\"M 476.076555024 49.1196837848 L 464.593301435 49.1196837848\" style=\"fill:none;stroke:rgb(16.1%,15.3%,14.1%);stroke-linecap:round;stroke-opacity:1.0;stroke-width:2\"></path><path d=\"M 464.593301435 49.1196837848 L 464.593301435 59.6595783797\" style=\"fill:none;stroke:rgb(16.1%,15.3%,14.1%);stroke-linecap:round;stroke-opacity:1.0;stroke-width:2\"></path><path d=\"M 428.229665072 38.5797891899 L 441.626794258 38.5797891899\" style=\"fill:none;stroke:rgb(16.1%,15.3%,14.1%);stroke-linecap:round;stroke-opacity:1.0;stroke-width:2\"></path><path d=\"M 441.626794258 38.5797891899 L 441.626794258 70.1994729746\" style=\"fill:none;stroke:rgb(16.1%,15.3%,14.1%);stroke-linecap:round;stroke-opacity:1.0;stroke-width:2\"></path><path d=\"M 428.229665072 38.5797891899 L 414.832535885 38.5797891899\" style=\"fill:none;stroke:rgb(16.1%,15.3%,14.1%);stroke-linecap:round;stroke-opacity:1.0;stroke-width:2\"></path><path d=\"M 414.832535885 38.5797891899 L 414.832535885 49.1196837848\" style=\"fill:none;stroke:rgb(16.1%,15.3%,14.1%);stroke-linecap:round;stroke-opacity:1.0;stroke-width:2\"></path><path d=\"M 366.985645933 38.5797891899 L 380.38277512 38.5797891899\" style=\"fill:none;stroke:rgb(16.1%,15.3%,14.1%);stroke-linecap:round;stroke-opacity:1.0;stroke-width:2\"></path><path d=\"M 380.38277512 38.5797891899 L 380.38277512 70.1994729746\" style=\"fill:none;stroke:rgb(16.1%,15.3%,14.1%);stroke-linecap:round;stroke-opacity:1.0;stroke-width:2\"></path><path d=\"M 366.985645933 38.5797891899 L 353.588516746 38.5797891899\" style=\"fill:none;stroke:rgb(16.1%,15.3%,14.1%);stroke-linecap:round;stroke-opacity:1.0;stroke-width:2\"></path><path d=\"M 353.588516746 38.5797891899 L 353.588516746 49.1196837848\" style=\"fill:none;stroke:rgb(16.1%,15.3%,14.1%);stroke-linecap:round;stroke-opacity:1.0;stroke-width:2\"></path><path d=\"M 464.593301435 59.6595783797 L 472.248803828 59.6595783797\" style=\"fill:none;stroke:rgb(16.1%,15.3%,14.1%);stroke-linecap:round;stroke-opacity:1.0;stroke-width:2\"></path><path d=\"M 472.248803828 59.6595783797 L 472.248803828 70.1994729746\" style=\"fill:none;stroke:rgb(16.1%,15.3%,14.1%);stroke-linecap:round;stroke-opacity:1.0;stroke-width:2\"></path><path d=\"M 464.593301435 59.6595783797 L 456.937799043 59.6595783797\" style=\"fill:none;stroke:rgb(16.1%,15.3%,14.1%);stroke-linecap:round;stroke-opacity:1.0;stroke-width:2\"></path><path d=\"M 456.937799043 59.6595783797 L 456.937799043 70.1994729746\" style=\"fill:none;stroke:rgb(16.1%,15.3%,14.1%);stroke-linecap:round;stroke-opacity:1.0;stroke-width:2\"></path><path d=\"M 414.832535885 49.1196837848 L 426.315789474 49.1196837848\" style=\"fill:none;stroke:rgb(16.1%,15.3%,14.1%);stroke-linecap:round;stroke-opacity:1.0;stroke-width:2\"></path><path d=\"M 426.315789474 49.1196837848 L 426.315789474 70.1994729746\" style=\"fill:none;stroke:rgb(16.1%,15.3%,14.1%);stroke-linecap:round;stroke-opacity:1.0;stroke-width:2\"></path><path d=\"M 414.832535885 49.1196837848 L 403.349282297 49.1196837848\" style=\"fill:none;stroke:rgb(16.1%,15.3%,14.1%);stroke-linecap:round;stroke-opacity:1.0;stroke-width:2\"></path><path d=\"M 403.349282297 49.1196837848 L 403.349282297 59.6595783797\" style=\"fill:none;stroke:rgb(16.1%,15.3%,14.1%);stroke-linecap:round;stroke-opacity:1.0;stroke-width:2\"></path><path d=\"M 353.588516746 49.1196837848 L 365.071770335 49.1196837848\" style=\"fill:none;stroke:rgb(16.1%,15.3%,14.1%);stroke-linecap:round;stroke-opacity:1.0;stroke-width:2\"></path><path d=\"M 365.071770335 49.1196837848 L 365.071770335 70.1994729746\" style=\"fill:none;stroke:rgb(16.1%,15.3%,14.1%);stroke-linecap:round;stroke-opacity:1.0;stroke-width:2\"></path><path d=\"M 353.588516746 49.1196837848 L 342.105263158 49.1196837848\" style=\"fill:none;stroke:rgb(16.1%,15.3%,14.1%);stroke-linecap:round;stroke-opacity:1.0;stroke-width:2\"></path><path d=\"M 342.105263158 49.1196837848 L 342.105263158 59.6595783797\" style=\"fill:none;stroke:rgb(16.1%,15.3%,14.1%);stroke-linecap:round;stroke-opacity:1.0;stroke-width:2\"></path><path d=\"M 403.349282297 59.6595783797 L 411.004784689 59.6595783797\" style=\"fill:none;stroke:rgb(16.1%,15.3%,14.1%);stroke-linecap:round;stroke-opacity:1.0;stroke-width:2\"></path><path d=\"M 411.004784689 59.6595783797 L 411.004784689 70.1994729746\" style=\"fill:none;stroke:rgb(16.1%,15.3%,14.1%);stroke-linecap:round;stroke-opacity:1.0;stroke-width:2\"></path><path d=\"M 403.349282297 59.6595783797 L 395.693779904 59.6595783797\" style=\"fill:none;stroke:rgb(16.1%,15.3%,14.1%);stroke-linecap:round;stroke-opacity:1.0;stroke-width:2\"></path><path d=\"M 395.693779904 59.6595783797 L 395.693779904 70.1994729746\" style=\"fill:none;stroke:rgb(16.1%,15.3%,14.1%);stroke-linecap:round;stroke-opacity:1.0;stroke-width:2\"></path><path d=\"M 342.105263158 59.6595783797 L 349.76076555 59.6595783797\" style=\"fill:none;stroke:rgb(16.1%,15.3%,14.1%);stroke-linecap:round;stroke-opacity:1.0;stroke-width:2\"></path><path d=\"M 349.76076555 59.6595783797 L 349.76076555 70.1994729746\" style=\"fill:none;stroke:rgb(16.1%,15.3%,14.1%);stroke-linecap:round;stroke-opacity:1.0;stroke-width:2\"></path><path d=\"M 342.105263158 59.6595783797 L 334.449760766 59.6595783797\" style=\"fill:none;stroke:rgb(16.1%,15.3%,14.1%);stroke-linecap:round;stroke-opacity:1.0;stroke-width:2\"></path><path d=\"M 334.449760766 59.6595783797 L 334.449760766 70.1994729746\" style=\"fill:none;stroke:rgb(16.1%,15.3%,14.1%);stroke-linecap:round;stroke-opacity:1.0;stroke-width:2\"></path></g><g class=\"toyplot-Vertices\"><g class=\"toyplot-Datum\" style=\"fill:rgb(40%,76.1%,64.7%);fill-opacity:1.0;opacity:1.0;stroke:rgb(40%,76.1%,64.7%);stroke-opacity:1.0\"><circle cx=\"443.54066985645932\" cy=\"17.5\" r=\"0.0\"></circle></g><g class=\"toyplot-Datum\" style=\"fill:rgb(40%,76.1%,64.7%);fill-opacity:1.0;opacity:1.0;stroke:rgb(40%,76.1%,64.7%);stroke-opacity:1.0\"><circle cx=\"489.4736842105263\" cy=\"17.5\" r=\"0.0\"></circle></g><g class=\"toyplot-Datum\" style=\"fill:rgb(40%,76.1%,64.7%);fill-opacity:1.0;opacity:1.0;stroke:rgb(40%,76.1%,64.7%);stroke-opacity:1.0\"><circle cx=\"489.4736842105263\" cy=\"38.579789189851709\" r=\"0.0\"></circle></g><g class=\"toyplot-Datum\" style=\"fill:rgb(40%,76.1%,64.7%);fill-opacity:1.0;opacity:1.0;stroke:rgb(40%,76.1%,64.7%);stroke-opacity:1.0\"><circle cx=\"397.60765550239233\" cy=\"17.5\" r=\"0.0\"></circle></g><g class=\"toyplot-Datum\" style=\"fill:rgb(40%,76.1%,64.7%);fill-opacity:1.0;opacity:1.0;stroke:rgb(40%,76.1%,64.7%);stroke-opacity:1.0\"><circle cx=\"397.60765550239233\" cy=\"28.039894594925855\" r=\"0.0\"></circle></g><g class=\"toyplot-Datum\" style=\"fill:rgb(40%,76.1%,64.7%);fill-opacity:1.0;opacity:1.0;stroke:rgb(40%,76.1%,64.7%);stroke-opacity:1.0\"><circle cx=\"489.4736842105263\" cy=\"38.579789189851709\" r=\"0.0\"></circle></g><g class=\"toyplot-Datum\" style=\"fill:rgb(40%,76.1%,64.7%);fill-opacity:1.0;opacity:1.0;stroke:rgb(40%,76.1%,64.7%);stroke-opacity:1.0\"><circle cx=\"502.87081339712921\" cy=\"38.579789189851709\" r=\"0.0\"></circle></g><g class=\"toyplot-Datum\" style=\"fill:rgb(40%,76.1%,64.7%);fill-opacity:1.0;opacity:1.0;stroke:rgb(40%,76.1%,64.7%);stroke-opacity:1.0\"><circle cx=\"502.87081339712921\" cy=\"70.199472974629245\" r=\"0.0\"></circle></g><g class=\"toyplot-Datum\" style=\"fill:rgb(40%,76.1%,64.7%);fill-opacity:1.0;opacity:1.0;stroke:rgb(40%,76.1%,64.7%);stroke-opacity:1.0\"><circle cx=\"476.07655502392345\" cy=\"38.579789189851709\" r=\"0.0\"></circle></g><g class=\"toyplot-Datum\" style=\"fill:rgb(40%,76.1%,64.7%);fill-opacity:1.0;opacity:1.0;stroke:rgb(40%,76.1%,64.7%);stroke-opacity:1.0\"><circle cx=\"476.07655502392345\" cy=\"49.119683784777529\" r=\"0.0\"></circle></g><g class=\"toyplot-Datum\" style=\"fill:rgb(40%,76.1%,64.7%);fill-opacity:1.0;opacity:1.0;stroke:rgb(40%,76.1%,64.7%);stroke-opacity:1.0\"><circle cx=\"397.60765550239233\" cy=\"28.039894594925855\" r=\"0.0\"></circle></g><g class=\"toyplot-Datum\" style=\"fill:rgb(40%,76.1%,64.7%);fill-opacity:1.0;opacity:1.0;stroke:rgb(40%,76.1%,64.7%);stroke-opacity:1.0\"><circle cx=\"428.22966507177034\" cy=\"28.039894594925855\" r=\"0.0\"></circle></g><g class=\"toyplot-Datum\" style=\"fill:rgb(40%,76.1%,64.7%);fill-opacity:1.0;opacity:1.0;stroke:rgb(40%,76.1%,64.7%);stroke-opacity:1.0\"><circle cx=\"428.22966507177034\" cy=\"38.579789189851709\" r=\"0.0\"></circle></g><g class=\"toyplot-Datum\" style=\"fill:rgb(40%,76.1%,64.7%);fill-opacity:1.0;opacity:1.0;stroke:rgb(40%,76.1%,64.7%);stroke-opacity:1.0\"><circle cx=\"366.98564593301433\" cy=\"28.039894594925855\" r=\"0.0\"></circle></g><g class=\"toyplot-Datum\" style=\"fill:rgb(40%,76.1%,64.7%);fill-opacity:1.0;opacity:1.0;stroke:rgb(40%,76.1%,64.7%);stroke-opacity:1.0\"><circle cx=\"366.98564593301433\" cy=\"38.579789189851709\" r=\"0.0\"></circle></g><g class=\"toyplot-Datum\" style=\"fill:rgb(40%,76.1%,64.7%);fill-opacity:1.0;opacity:1.0;stroke:rgb(40%,76.1%,64.7%);stroke-opacity:1.0\"><circle cx=\"476.07655502392345\" cy=\"49.119683784777529\" r=\"0.0\"></circle></g><g class=\"toyplot-Datum\" style=\"fill:rgb(40%,76.1%,64.7%);fill-opacity:1.0;opacity:1.0;stroke:rgb(40%,76.1%,64.7%);stroke-opacity:1.0\"><circle cx=\"487.55980861244024\" cy=\"49.119683784777529\" r=\"0.0\"></circle></g><g class=\"toyplot-Datum\" style=\"fill:rgb(40%,76.1%,64.7%);fill-opacity:1.0;opacity:1.0;stroke:rgb(40%,76.1%,64.7%);stroke-opacity:1.0\"><circle cx=\"487.55980861244024\" cy=\"70.199472974629245\" r=\"0.0\"></circle></g><g class=\"toyplot-Datum\" style=\"fill:rgb(40%,76.1%,64.7%);fill-opacity:1.0;opacity:1.0;stroke:rgb(40%,76.1%,64.7%);stroke-opacity:1.0\"><circle cx=\"464.59330143540666\" cy=\"49.119683784777529\" r=\"0.0\"></circle></g><g class=\"toyplot-Datum\" style=\"fill:rgb(40%,76.1%,64.7%);fill-opacity:1.0;opacity:1.0;stroke:rgb(40%,76.1%,64.7%);stroke-opacity:1.0\"><circle cx=\"464.59330143540666\" cy=\"59.65957837970339\" r=\"0.0\"></circle></g><g class=\"toyplot-Datum\" style=\"fill:rgb(40%,76.1%,64.7%);fill-opacity:1.0;opacity:1.0;stroke:rgb(40%,76.1%,64.7%);stroke-opacity:1.0\"><circle cx=\"428.22966507177034\" cy=\"38.579789189851709\" r=\"0.0\"></circle></g><g class=\"toyplot-Datum\" style=\"fill:rgb(40%,76.1%,64.7%);fill-opacity:1.0;opacity:1.0;stroke:rgb(40%,76.1%,64.7%);stroke-opacity:1.0\"><circle cx=\"441.6267942583732\" cy=\"38.579789189851709\" r=\"0.0\"></circle></g><g class=\"toyplot-Datum\" style=\"fill:rgb(40%,76.1%,64.7%);fill-opacity:1.0;opacity:1.0;stroke:rgb(40%,76.1%,64.7%);stroke-opacity:1.0\"><circle cx=\"441.6267942583732\" cy=\"70.199472974629245\" r=\"0.0\"></circle></g><g class=\"toyplot-Datum\" style=\"fill:rgb(40%,76.1%,64.7%);fill-opacity:1.0;opacity:1.0;stroke:rgb(40%,76.1%,64.7%);stroke-opacity:1.0\"><circle cx=\"414.83253588516749\" cy=\"38.579789189851709\" r=\"0.0\"></circle></g><g class=\"toyplot-Datum\" style=\"fill:rgb(40%,76.1%,64.7%);fill-opacity:1.0;opacity:1.0;stroke:rgb(40%,76.1%,64.7%);stroke-opacity:1.0\"><circle cx=\"414.83253588516749\" cy=\"49.119683784777529\" r=\"0.0\"></circle></g><g class=\"toyplot-Datum\" style=\"fill:rgb(40%,76.1%,64.7%);fill-opacity:1.0;opacity:1.0;stroke:rgb(40%,76.1%,64.7%);stroke-opacity:1.0\"><circle cx=\"366.98564593301433\" cy=\"38.579789189851709\" r=\"0.0\"></circle></g><g class=\"toyplot-Datum\" style=\"fill:rgb(40%,76.1%,64.7%);fill-opacity:1.0;opacity:1.0;stroke:rgb(40%,76.1%,64.7%);stroke-opacity:1.0\"><circle cx=\"380.38277511961724\" cy=\"38.579789189851709\" r=\"0.0\"></circle></g><g class=\"toyplot-Datum\" style=\"fill:rgb(40%,76.1%,64.7%);fill-opacity:1.0;opacity:1.0;stroke:rgb(40%,76.1%,64.7%);stroke-opacity:1.0\"><circle cx=\"380.38277511961724\" cy=\"70.199472974629245\" r=\"0.0\"></circle></g><g class=\"toyplot-Datum\" style=\"fill:rgb(40%,76.1%,64.7%);fill-opacity:1.0;opacity:1.0;stroke:rgb(40%,76.1%,64.7%);stroke-opacity:1.0\"><circle cx=\"353.58851674641141\" cy=\"38.579789189851709\" r=\"0.0\"></circle></g><g class=\"toyplot-Datum\" style=\"fill:rgb(40%,76.1%,64.7%);fill-opacity:1.0;opacity:1.0;stroke:rgb(40%,76.1%,64.7%);stroke-opacity:1.0\"><circle cx=\"353.58851674641141\" cy=\"49.119683784777529\" r=\"0.0\"></circle></g><g class=\"toyplot-Datum\" style=\"fill:rgb(40%,76.1%,64.7%);fill-opacity:1.0;opacity:1.0;stroke:rgb(40%,76.1%,64.7%);stroke-opacity:1.0\"><circle cx=\"464.59330143540666\" cy=\"59.65957837970339\" r=\"0.0\"></circle></g><g class=\"toyplot-Datum\" style=\"fill:rgb(40%,76.1%,64.7%);fill-opacity:1.0;opacity:1.0;stroke:rgb(40%,76.1%,64.7%);stroke-opacity:1.0\"><circle cx=\"472.2488038277512\" cy=\"59.65957837970339\" r=\"0.0\"></circle></g><g class=\"toyplot-Datum\" style=\"fill:rgb(40%,76.1%,64.7%);fill-opacity:1.0;opacity:1.0;stroke:rgb(40%,76.1%,64.7%);stroke-opacity:1.0\"><circle cx=\"472.2488038277512\" cy=\"70.199472974629245\" r=\"0.0\"></circle></g><g class=\"toyplot-Datum\" style=\"fill:rgb(40%,76.1%,64.7%);fill-opacity:1.0;opacity:1.0;stroke:rgb(40%,76.1%,64.7%);stroke-opacity:1.0\"><circle cx=\"456.93779904306217\" cy=\"59.65957837970339\" r=\"0.0\"></circle></g><g class=\"toyplot-Datum\" style=\"fill:rgb(40%,76.1%,64.7%);fill-opacity:1.0;opacity:1.0;stroke:rgb(40%,76.1%,64.7%);stroke-opacity:1.0\"><circle cx=\"456.93779904306217\" cy=\"70.199472974629245\" r=\"0.0\"></circle></g><g class=\"toyplot-Datum\" style=\"fill:rgb(40%,76.1%,64.7%);fill-opacity:1.0;opacity:1.0;stroke:rgb(40%,76.1%,64.7%);stroke-opacity:1.0\"><circle cx=\"414.83253588516749\" cy=\"49.119683784777529\" r=\"0.0\"></circle></g><g class=\"toyplot-Datum\" style=\"fill:rgb(40%,76.1%,64.7%);fill-opacity:1.0;opacity:1.0;stroke:rgb(40%,76.1%,64.7%);stroke-opacity:1.0\"><circle cx=\"426.31578947368422\" cy=\"49.119683784777529\" r=\"0.0\"></circle></g><g class=\"toyplot-Datum\" style=\"fill:rgb(40%,76.1%,64.7%);fill-opacity:1.0;opacity:1.0;stroke:rgb(40%,76.1%,64.7%);stroke-opacity:1.0\"><circle cx=\"426.31578947368422\" cy=\"70.199472974629245\" r=\"0.0\"></circle></g><g class=\"toyplot-Datum\" style=\"fill:rgb(40%,76.1%,64.7%);fill-opacity:1.0;opacity:1.0;stroke:rgb(40%,76.1%,64.7%);stroke-opacity:1.0\"><circle cx=\"403.3492822966507\" cy=\"49.119683784777529\" r=\"0.0\"></circle></g><g class=\"toyplot-Datum\" style=\"fill:rgb(40%,76.1%,64.7%);fill-opacity:1.0;opacity:1.0;stroke:rgb(40%,76.1%,64.7%);stroke-opacity:1.0\"><circle cx=\"403.3492822966507\" cy=\"59.65957837970339\" r=\"0.0\"></circle></g><g class=\"toyplot-Datum\" style=\"fill:rgb(40%,76.1%,64.7%);fill-opacity:1.0;opacity:1.0;stroke:rgb(40%,76.1%,64.7%);stroke-opacity:1.0\"><circle cx=\"353.58851674641141\" cy=\"49.119683784777529\" r=\"0.0\"></circle></g><g class=\"toyplot-Datum\" style=\"fill:rgb(40%,76.1%,64.7%);fill-opacity:1.0;opacity:1.0;stroke:rgb(40%,76.1%,64.7%);stroke-opacity:1.0\"><circle cx=\"365.0717703349282\" cy=\"49.119683784777529\" r=\"0.0\"></circle></g><g class=\"toyplot-Datum\" style=\"fill:rgb(40%,76.1%,64.7%);fill-opacity:1.0;opacity:1.0;stroke:rgb(40%,76.1%,64.7%);stroke-opacity:1.0\"><circle cx=\"365.0717703349282\" cy=\"70.199472974629245\" r=\"0.0\"></circle></g><g class=\"toyplot-Datum\" style=\"fill:rgb(40%,76.1%,64.7%);fill-opacity:1.0;opacity:1.0;stroke:rgb(40%,76.1%,64.7%);stroke-opacity:1.0\"><circle cx=\"342.1052631578948\" cy=\"49.119683784777529\" r=\"0.0\"></circle></g><g class=\"toyplot-Datum\" style=\"fill:rgb(40%,76.1%,64.7%);fill-opacity:1.0;opacity:1.0;stroke:rgb(40%,76.1%,64.7%);stroke-opacity:1.0\"><circle cx=\"342.1052631578948\" cy=\"59.65957837970339\" r=\"0.0\"></circle></g><g class=\"toyplot-Datum\" style=\"fill:rgb(40%,76.1%,64.7%);fill-opacity:1.0;opacity:1.0;stroke:rgb(40%,76.1%,64.7%);stroke-opacity:1.0\"><circle cx=\"403.3492822966507\" cy=\"59.65957837970339\" r=\"0.0\"></circle></g><g class=\"toyplot-Datum\" style=\"fill:rgb(40%,76.1%,64.7%);fill-opacity:1.0;opacity:1.0;stroke:rgb(40%,76.1%,64.7%);stroke-opacity:1.0\"><circle cx=\"411.00478468899524\" cy=\"59.65957837970339\" r=\"0.0\"></circle></g><g class=\"toyplot-Datum\" style=\"fill:rgb(40%,76.1%,64.7%);fill-opacity:1.0;opacity:1.0;stroke:rgb(40%,76.1%,64.7%);stroke-opacity:1.0\"><circle cx=\"411.00478468899524\" cy=\"70.199472974629245\" r=\"0.0\"></circle></g><g class=\"toyplot-Datum\" style=\"fill:rgb(40%,76.1%,64.7%);fill-opacity:1.0;opacity:1.0;stroke:rgb(40%,76.1%,64.7%);stroke-opacity:1.0\"><circle cx=\"395.69377990430621\" cy=\"59.65957837970339\" r=\"0.0\"></circle></g><g class=\"toyplot-Datum\" style=\"fill:rgb(40%,76.1%,64.7%);fill-opacity:1.0;opacity:1.0;stroke:rgb(40%,76.1%,64.7%);stroke-opacity:1.0\"><circle cx=\"395.69377990430621\" cy=\"70.199472974629245\" r=\"0.0\"></circle></g><g class=\"toyplot-Datum\" style=\"fill:rgb(40%,76.1%,64.7%);fill-opacity:1.0;opacity:1.0;stroke:rgb(40%,76.1%,64.7%);stroke-opacity:1.0\"><circle cx=\"342.1052631578948\" cy=\"59.65957837970339\" r=\"0.0\"></circle></g><g class=\"toyplot-Datum\" style=\"fill:rgb(40%,76.1%,64.7%);fill-opacity:1.0;opacity:1.0;stroke:rgb(40%,76.1%,64.7%);stroke-opacity:1.0\"><circle cx=\"349.76076555023923\" cy=\"59.65957837970339\" r=\"0.0\"></circle></g><g class=\"toyplot-Datum\" style=\"fill:rgb(40%,76.1%,64.7%);fill-opacity:1.0;opacity:1.0;stroke:rgb(40%,76.1%,64.7%);stroke-opacity:1.0\"><circle cx=\"349.76076555023923\" cy=\"70.199472974629245\" r=\"0.0\"></circle></g><g class=\"toyplot-Datum\" style=\"fill:rgb(40%,76.1%,64.7%);fill-opacity:1.0;opacity:1.0;stroke:rgb(40%,76.1%,64.7%);stroke-opacity:1.0\"><circle cx=\"334.44976076555025\" cy=\"59.65957837970339\" r=\"0.0\"></circle></g><g class=\"toyplot-Datum\" style=\"fill:rgb(40%,76.1%,64.7%);fill-opacity:1.0;opacity:1.0;stroke:rgb(40%,76.1%,64.7%);stroke-opacity:1.0\"><circle cx=\"334.44976076555025\" cy=\"70.199472974629245\" r=\"0.0\"></circle></g></g></g><g class=\"toyplot-mark-Scatterplot\" id=\"t74a7e8304536463d81570408f57caff8\" style=\"\"><g class=\"toyplot-Series\"><g class=\"toyplot-Datum\" style=\"fill:rgb(40%,76.1%,64.7%);fill-opacity:1.0;opacity:1.0;stroke:none\"><circle cx=\"443.54066985645932\" cy=\"17.5\" r=\"0.0\"></circle></g><g class=\"toyplot-Datum\" style=\"fill:rgb(40%,76.1%,64.7%);fill-opacity:1.0;opacity:1.0;stroke:none\"><circle cx=\"489.4736842105263\" cy=\"38.579789189851709\" r=\"0.0\"></circle></g><g class=\"toyplot-Datum\" style=\"fill:rgb(40%,76.1%,64.7%);fill-opacity:1.0;opacity:1.0;stroke:none\"><circle cx=\"476.07655502392345\" cy=\"49.119683784777529\" r=\"0.0\"></circle></g><g class=\"toyplot-Datum\" style=\"fill:rgb(40%,76.1%,64.7%);fill-opacity:1.0;opacity:1.0;stroke:none\"><circle cx=\"464.59330143540666\" cy=\"59.65957837970339\" r=\"0.0\"></circle></g><g class=\"toyplot-Datum\" style=\"fill:rgb(40%,76.1%,64.7%);fill-opacity:1.0;opacity:1.0;stroke:none\"><circle cx=\"397.60765550239233\" cy=\"28.039894594925855\" r=\"0.0\"></circle></g><g class=\"toyplot-Datum\" style=\"fill:rgb(40%,76.1%,64.7%);fill-opacity:1.0;opacity:1.0;stroke:none\"><circle cx=\"428.22966507177034\" cy=\"38.579789189851709\" r=\"0.0\"></circle></g><g class=\"toyplot-Datum\" style=\"fill:rgb(40%,76.1%,64.7%);fill-opacity:1.0;opacity:1.0;stroke:none\"><circle cx=\"414.83253588516749\" cy=\"49.119683784777529\" r=\"0.0\"></circle></g><g class=\"toyplot-Datum\" style=\"fill:rgb(40%,76.1%,64.7%);fill-opacity:1.0;opacity:1.0;stroke:none\"><circle cx=\"403.3492822966507\" cy=\"59.65957837970339\" r=\"0.0\"></circle></g><g class=\"toyplot-Datum\" style=\"fill:rgb(40%,76.1%,64.7%);fill-opacity:1.0;opacity:1.0;stroke:none\"><circle cx=\"366.98564593301433\" cy=\"38.579789189851709\" r=\"0.0\"></circle></g><g class=\"toyplot-Datum\" style=\"fill:rgb(40%,76.1%,64.7%);fill-opacity:1.0;opacity:1.0;stroke:none\"><circle cx=\"353.58851674641141\" cy=\"49.119683784777529\" r=\"0.0\"></circle></g><g class=\"toyplot-Datum\" style=\"fill:rgb(40%,76.1%,64.7%);fill-opacity:1.0;opacity:1.0;stroke:none\"><circle cx=\"342.1052631578948\" cy=\"59.65957837970339\" r=\"0.0\"></circle></g><g class=\"toyplot-Datum\" style=\"fill:rgb(40%,76.1%,64.7%);fill-opacity:1.0;opacity:1.0;stroke:none\"><circle cx=\"502.87081339712921\" cy=\"70.199472974629245\" r=\"0.0\"></circle></g><g class=\"toyplot-Datum\" style=\"fill:rgb(40%,76.1%,64.7%);fill-opacity:1.0;opacity:1.0;stroke:none\"><circle cx=\"487.55980861244024\" cy=\"70.199472974629245\" r=\"0.0\"></circle></g><g class=\"toyplot-Datum\" style=\"fill:rgb(40%,76.1%,64.7%);fill-opacity:1.0;opacity:1.0;stroke:none\"><circle cx=\"472.2488038277512\" cy=\"70.199472974629245\" r=\"0.0\"></circle></g><g class=\"toyplot-Datum\" style=\"fill:rgb(40%,76.1%,64.7%);fill-opacity:1.0;opacity:1.0;stroke:none\"><circle cx=\"456.93779904306217\" cy=\"70.199472974629245\" r=\"0.0\"></circle></g><g class=\"toyplot-Datum\" style=\"fill:rgb(40%,76.1%,64.7%);fill-opacity:1.0;opacity:1.0;stroke:none\"><circle cx=\"441.6267942583732\" cy=\"70.199472974629245\" r=\"0.0\"></circle></g><g class=\"toyplot-Datum\" style=\"fill:rgb(40%,76.1%,64.7%);fill-opacity:1.0;opacity:1.0;stroke:none\"><circle cx=\"426.31578947368422\" cy=\"70.199472974629245\" r=\"0.0\"></circle></g><g class=\"toyplot-Datum\" style=\"fill:rgb(40%,76.1%,64.7%);fill-opacity:1.0;opacity:1.0;stroke:none\"><circle cx=\"411.00478468899524\" cy=\"70.199472974629245\" r=\"0.0\"></circle></g><g class=\"toyplot-Datum\" style=\"fill:rgb(40%,76.1%,64.7%);fill-opacity:1.0;opacity:1.0;stroke:none\"><circle cx=\"395.69377990430621\" cy=\"70.199472974629245\" r=\"0.0\"></circle></g><g class=\"toyplot-Datum\" style=\"fill:rgb(40%,76.1%,64.7%);fill-opacity:1.0;opacity:1.0;stroke:none\"><circle cx=\"380.38277511961724\" cy=\"70.199472974629245\" r=\"0.0\"></circle></g><g class=\"toyplot-Datum\" style=\"fill:rgb(40%,76.1%,64.7%);fill-opacity:1.0;opacity:1.0;stroke:none\"><circle cx=\"365.0717703349282\" cy=\"70.199472974629245\" r=\"0.0\"></circle></g><g class=\"toyplot-Datum\" style=\"fill:rgb(40%,76.1%,64.7%);fill-opacity:1.0;opacity:1.0;stroke:none\"><circle cx=\"349.76076555023923\" cy=\"70.199472974629245\" r=\"0.0\"></circle></g><g class=\"toyplot-Datum\" style=\"fill:rgb(40%,76.1%,64.7%);fill-opacity:1.0;opacity:1.0;stroke:none\"><circle cx=\"334.44976076555025\" cy=\"70.199472974629245\" r=\"0.0\"></circle></g></g></g><g class=\"toyplot-mark-Graph\" id=\"t98f4a58eeab845888ac49a7d11715aaf\"><g class=\"toyplot-Edges\"><path d=\"M 334.449760766 86.4146954284 L 502.870813397 86.4146954284\" style=\"fill:none;stroke:rgb(70.2%,70.2%,70.2%);stroke-dasharray:5, 5;stroke-opacity:1.0;stroke-width:1.0\"></path></g><g class=\"toyplot-Vertices\"><g class=\"toyplot-Datum\" style=\"fill:rgb(98.8%,55.3%,38.4%);fill-opacity:1.0;opacity:1.0;stroke:rgb(98.8%,55.3%,38.4%);stroke-opacity:1.0\"><circle cx=\"334.44976076555025\" cy=\"86.414695428361327\" r=\"0.0\"></circle></g><g class=\"toyplot-Datum\" style=\"fill:rgb(98.8%,55.3%,38.4%);fill-opacity:1.0;opacity:1.0;stroke:rgb(98.8%,55.3%,38.4%);stroke-opacity:1.0\"><circle cx=\"502.87081339712921\" cy=\"86.414695428361327\" r=\"0.0\"></circle></g></g></g><g class=\"toyplot-mark-Graph\" id=\"t202c22e4071b4be5b6b3f554df1d2539\"><g class=\"toyplot-Edges\"><path d=\"M 334.449760766 102.629917882 L 502.870813397 102.629917882\" style=\"fill:none;stroke:rgb(70.2%,70.2%,70.2%);stroke-dasharray:5, 5;stroke-opacity:1.0;stroke-width:1.0\"></path></g><g class=\"toyplot-Vertices\"><g class=\"toyplot-Datum\" style=\"fill:rgb(55.3%,62.7%,79.6%);fill-opacity:1.0;opacity:1.0;stroke:rgb(55.3%,62.7%,79.6%);stroke-opacity:1.0\"><circle cx=\"334.44976076555025\" cy=\"102.62991788209338\" r=\"0.0\"></circle></g><g class=\"toyplot-Datum\" style=\"fill:rgb(55.3%,62.7%,79.6%);fill-opacity:1.0;opacity:1.0;stroke:rgb(55.3%,62.7%,79.6%);stroke-opacity:1.0\"><circle cx=\"502.87081339712921\" cy=\"102.62991788209338\" r=\"0.0\"></circle></g></g></g><g class=\"toyplot-mark-Graph\" id=\"tdbfc6f4e689b4e3eb174ac8e5139a31f\"><g class=\"toyplot-Edges\"><path d=\"M 334.449760766 118.845140336 L 502.870813397 118.845140336\" style=\"fill:none;stroke:rgb(70.2%,70.2%,70.2%);stroke-dasharray:5, 5;stroke-opacity:1.0;stroke-width:1.0\"></path></g><g class=\"toyplot-Vertices\"><g class=\"toyplot-Datum\" style=\"fill:rgb(90.6%,54.1%,76.5%);fill-opacity:1.0;opacity:1.0;stroke:rgb(90.6%,54.1%,76.5%);stroke-opacity:1.0\"><circle cx=\"334.44976076555025\" cy=\"118.8451403358255\" r=\"0.0\"></circle></g><g class=\"toyplot-Datum\" style=\"fill:rgb(90.6%,54.1%,76.5%);fill-opacity:1.0;opacity:1.0;stroke:rgb(90.6%,54.1%,76.5%);stroke-opacity:1.0\"><circle cx=\"502.87081339712921\" cy=\"118.8451403358255\" r=\"0.0\"></circle></g></g></g><g class=\"toyplot-mark-Graph\" id=\"t8f73772afcda4052a976c56002d71394\"><g class=\"toyplot-Edges\"><path d=\"M 334.449760766 135.06036279 L 502.870813397 135.06036279\" style=\"fill:none;stroke:rgb(70.2%,70.2%,70.2%);stroke-dasharray:5, 5;stroke-opacity:1.0;stroke-width:1.0\"></path></g><g class=\"toyplot-Vertices\"><g class=\"toyplot-Datum\" style=\"fill:rgb(65.1%,84.7%,32.9%);fill-opacity:1.0;opacity:1.0;stroke:rgb(65.1%,84.7%,32.9%);stroke-opacity:1.0\"><circle cx=\"334.44976076555025\" cy=\"135.06036278955753\" r=\"0.0\"></circle></g><g class=\"toyplot-Datum\" style=\"fill:rgb(65.1%,84.7%,32.9%);fill-opacity:1.0;opacity:1.0;stroke:rgb(65.1%,84.7%,32.9%);stroke-opacity:1.0\"><circle cx=\"502.87081339712921\" cy=\"135.06036278955753\" r=\"0.0\"></circle></g></g></g><g class=\"toyplot-mark-Graph\" id=\"td294f4588b604ab787fd1167e2dfc875\"><g class=\"toyplot-Edges\"><path d=\"M 334.449760766 151.275585243 L 502.870813397 151.275585243\" style=\"fill:none;stroke:rgb(70.2%,70.2%,70.2%);stroke-dasharray:5, 5;stroke-opacity:1.0;stroke-width:1.0\"></path></g><g class=\"toyplot-Vertices\"><g class=\"toyplot-Datum\" style=\"fill:rgb(100%,85.1%,18.4%);fill-opacity:1.0;opacity:1.0;stroke:rgb(100%,85.1%,18.4%);stroke-opacity:1.0\"><circle cx=\"334.44976076555025\" cy=\"151.27558524328964\" r=\"0.0\"></circle></g><g class=\"toyplot-Datum\" style=\"fill:rgb(100%,85.1%,18.4%);fill-opacity:1.0;opacity:1.0;stroke:rgb(100%,85.1%,18.4%);stroke-opacity:1.0\"><circle cx=\"502.87081339712921\" cy=\"151.27558524328964\" r=\"0.0\"></circle></g></g></g><g class=\"toyplot-mark-Graph\" id=\"tb959aa33f65c4fc0a40b257fcd7a87d7\"><g class=\"toyplot-Edges\"><path d=\"M 334.449760766 167.490807697 L 502.870813397 167.490807697\" style=\"fill:none;stroke:rgb(70.2%,70.2%,70.2%);stroke-dasharray:5, 5;stroke-opacity:1.0;stroke-width:1.0\"></path></g><g class=\"toyplot-Vertices\"><g class=\"toyplot-Datum\" style=\"fill:rgb(89.8%,76.9%,58%);fill-opacity:1.0;opacity:1.0;stroke:rgb(89.8%,76.9%,58%);stroke-opacity:1.0\"><circle cx=\"334.44976076555025\" cy=\"167.49080769702169\" r=\"0.0\"></circle></g><g class=\"toyplot-Datum\" style=\"fill:rgb(89.8%,76.9%,58%);fill-opacity:1.0;opacity:1.0;stroke:rgb(89.8%,76.9%,58%);stroke-opacity:1.0\"><circle cx=\"502.87081339712921\" cy=\"167.49080769702169\" r=\"0.0\"></circle></g></g></g><g class=\"toyplot-mark-Graph\" id=\"te0142901c3c94c90aba84d2568901708\"><g class=\"toyplot-Edges\"><path d=\"M 334.449760766 183.706030151 L 502.870813397 183.706030151\" style=\"fill:none;stroke:rgb(70.2%,70.2%,70.2%);stroke-dasharray:5, 5;stroke-opacity:1.0;stroke-width:1.0\"></path></g><g class=\"toyplot-Vertices\"><g class=\"toyplot-Datum\" style=\"fill:rgb(70.2%,70.2%,70.2%);fill-opacity:1.0;opacity:1.0;stroke:rgb(70.2%,70.2%,70.2%);stroke-opacity:1.0\"><circle cx=\"334.44976076555025\" cy=\"183.70603015075375\" r=\"0.0\"></circle></g><g class=\"toyplot-Datum\" style=\"fill:rgb(70.2%,70.2%,70.2%);fill-opacity:1.0;opacity:1.0;stroke:rgb(70.2%,70.2%,70.2%);stroke-opacity:1.0\"><circle cx=\"502.87081339712921\" cy=\"183.70603015075375\" r=\"0.0\"></circle></g></g></g><g class=\"toyplot-mark-Graph\" id=\"ta1cd6c28b5774938ace9b2c84144e961\"><g class=\"toyplot-Edges\"><path d=\"M 334.449760766 199.921252604 L 502.870813397 199.921252604\" style=\"fill:none;stroke:rgb(70.2%,70.2%,70.2%);stroke-dasharray:5, 5;stroke-opacity:1.0;stroke-width:1.0\"></path></g><g class=\"toyplot-Vertices\"><g class=\"toyplot-Datum\" style=\"fill:rgb(40%,76.1%,64.7%);fill-opacity:1.0;opacity:1.0;stroke:rgb(40%,76.1%,64.7%);stroke-opacity:1.0\"><circle cx=\"334.44976076555025\" cy=\"199.92125260448586\" r=\"0.0\"></circle></g><g class=\"toyplot-Datum\" style=\"fill:rgb(40%,76.1%,64.7%);fill-opacity:1.0;opacity:1.0;stroke:rgb(40%,76.1%,64.7%);stroke-opacity:1.0\"><circle cx=\"502.87081339712921\" cy=\"199.92125260448586\" r=\"0.0\"></circle></g></g></g><g class=\"toyplot-mark-Graph\" id=\"tec3937c99e0c444694a099cacc20fea9\"><g class=\"toyplot-Edges\"><path d=\"M 334.449760766 216.136475058 L 502.870813397 216.136475058\" style=\"fill:none;stroke:rgb(70.2%,70.2%,70.2%);stroke-dasharray:5, 5;stroke-opacity:1.0;stroke-width:1.0\"></path></g><g class=\"toyplot-Vertices\"><g class=\"toyplot-Datum\" style=\"fill:rgb(98.8%,55.3%,38.4%);fill-opacity:1.0;opacity:1.0;stroke:rgb(98.8%,55.3%,38.4%);stroke-opacity:1.0\"><circle cx=\"334.44976076555025\" cy=\"216.13647505821791\" r=\"0.0\"></circle></g><g class=\"toyplot-Datum\" style=\"fill:rgb(98.8%,55.3%,38.4%);fill-opacity:1.0;opacity:1.0;stroke:rgb(98.8%,55.3%,38.4%);stroke-opacity:1.0\"><circle cx=\"502.87081339712921\" cy=\"216.13647505821791\" r=\"0.0\"></circle></g></g></g><g class=\"toyplot-mark-Graph\" id=\"t821663e9184a4668b5a27fdd138810f1\"><g class=\"toyplot-Edges\"><path d=\"M 334.449760766 232.351697512 L 502.870813397 232.351697512\" style=\"fill:none;stroke:rgb(70.2%,70.2%,70.2%);stroke-dasharray:5, 5;stroke-opacity:1.0;stroke-width:1.0\"></path></g><g class=\"toyplot-Vertices\"><g class=\"toyplot-Datum\" style=\"fill:rgb(55.3%,62.7%,79.6%);fill-opacity:1.0;opacity:1.0;stroke:rgb(55.3%,62.7%,79.6%);stroke-opacity:1.0\"><circle cx=\"334.44976076555025\" cy=\"232.35169751195002\" r=\"0.0\"></circle></g><g class=\"toyplot-Datum\" style=\"fill:rgb(55.3%,62.7%,79.6%);fill-opacity:1.0;opacity:1.0;stroke:rgb(55.3%,62.7%,79.6%);stroke-opacity:1.0\"><circle cx=\"502.87081339712921\" cy=\"232.35169751195002\" r=\"0.0\"></circle></g></g></g><g class=\"toyplot-mark-Graph\" id=\"te5adf7100ad34282be31ea43b3afdcd3\"><g class=\"toyplot-Edges\"><path d=\"M 334.449760766 248.566919966 L 502.870813397 248.566919966\" style=\"fill:none;stroke:rgb(70.2%,70.2%,70.2%);stroke-dasharray:5, 5;stroke-opacity:1.0;stroke-width:1.0\"></path></g><g class=\"toyplot-Vertices\"><g class=\"toyplot-Datum\" style=\"fill:rgb(90.6%,54.1%,76.5%);fill-opacity:1.0;opacity:1.0;stroke:rgb(90.6%,54.1%,76.5%);stroke-opacity:1.0\"><circle cx=\"334.44976076555025\" cy=\"248.56691996568205\" r=\"0.0\"></circle></g><g class=\"toyplot-Datum\" style=\"fill:rgb(90.6%,54.1%,76.5%);fill-opacity:1.0;opacity:1.0;stroke:rgb(90.6%,54.1%,76.5%);stroke-opacity:1.0\"><circle cx=\"502.87081339712921\" cy=\"248.56691996568205\" r=\"0.0\"></circle></g></g></g><g class=\"toyplot-mark-Graph\" id=\"te7e1e8d23a3a4ca1a0fe657296c269cb\"><g class=\"toyplot-Edges\"><path d=\"M 334.449760766 264.782142419 L 502.870813397 264.782142419\" style=\"fill:none;stroke:rgb(70.2%,70.2%,70.2%);stroke-dasharray:5, 5;stroke-opacity:1.0;stroke-width:1.0\"></path></g><g class=\"toyplot-Vertices\"><g class=\"toyplot-Datum\" style=\"fill:rgb(65.1%,84.7%,32.9%);fill-opacity:1.0;opacity:1.0;stroke:rgb(65.1%,84.7%,32.9%);stroke-opacity:1.0\"><circle cx=\"334.44976076555025\" cy=\"264.78214241941413\" r=\"0.0\"></circle></g><g class=\"toyplot-Datum\" style=\"fill:rgb(65.1%,84.7%,32.9%);fill-opacity:1.0;opacity:1.0;stroke:rgb(65.1%,84.7%,32.9%);stroke-opacity:1.0\"><circle cx=\"502.87081339712921\" cy=\"264.78214241941413\" r=\"0.0\"></circle></g></g></g><g class=\"toyplot-mark-Text\" id=\"t9dd6b71846d94f7a8fab233cb44445dc\" style=\"-toyplot-anchor-shift:0;alignment-baseline:middle;font-size:12px;font-weight:normal;stroke:none;text-anchor:start\"><g class=\"toyplot-Series\"><text class=\"toyplot-Datum\" style=\"fill:rgb(16.1%,15.3%,14.1%);fill-opacity:1.0;font-weight:normal;opacity:1.0;stroke:none;text-anchor:start\" transform=\"translate(518.18181818181813,86.414695428361327)translate(0,3.375)\"><tspan style=\"font-size:12.0px\">1</tspan></text><text class=\"toyplot-Datum\" style=\"fill:rgb(16.1%,15.3%,14.1%);fill-opacity:1.0;font-weight:normal;opacity:1.0;stroke:none;text-anchor:start\" transform=\"translate(518.18181818181813,102.62991788209338)translate(0,3.375)\"><tspan style=\"font-size:12.0px\">2</tspan></text><text class=\"toyplot-Datum\" style=\"fill:rgb(16.1%,15.3%,14.1%);fill-opacity:1.0;font-weight:normal;opacity:1.0;stroke:none;text-anchor:start\" transform=\"translate(518.18181818181813,118.8451403358255)translate(0,3.375)\"><tspan style=\"font-size:12.0px\">3</tspan></text><text class=\"toyplot-Datum\" style=\"fill:rgb(16.1%,15.3%,14.1%);fill-opacity:1.0;font-weight:normal;opacity:1.0;stroke:none;text-anchor:start\" transform=\"translate(518.18181818181813,135.06036278955753)translate(0,3.375)\"><tspan style=\"font-size:12.0px\">4</tspan></text><text class=\"toyplot-Datum\" style=\"fill:rgb(16.1%,15.3%,14.1%);fill-opacity:1.0;font-weight:normal;opacity:1.0;stroke:none;text-anchor:start\" transform=\"translate(518.18181818181813,151.27558524328964)translate(0,3.375)\"><tspan style=\"font-size:12.0px\">5</tspan></text><text class=\"toyplot-Datum\" style=\"fill:rgb(16.1%,15.3%,14.1%);fill-opacity:1.0;font-weight:normal;opacity:1.0;stroke:none;text-anchor:start\" transform=\"translate(518.18181818181813,167.49080769702169)translate(0,3.375)\"><tspan style=\"font-size:12.0px\">6</tspan></text><text class=\"toyplot-Datum\" style=\"fill:rgb(16.1%,15.3%,14.1%);fill-opacity:1.0;font-weight:normal;opacity:1.0;stroke:none;text-anchor:start\" transform=\"translate(518.18181818181813,183.70603015075375)translate(0,3.375)\"><tspan style=\"font-size:12.0px\">7</tspan></text><text class=\"toyplot-Datum\" style=\"fill:rgb(16.1%,15.3%,14.1%);fill-opacity:1.0;font-weight:normal;opacity:1.0;stroke:none;text-anchor:start\" transform=\"translate(518.18181818181813,199.92125260448586)translate(0,3.375)\"><tspan style=\"font-size:12.0px\">8</tspan></text><text class=\"toyplot-Datum\" style=\"fill:rgb(16.1%,15.3%,14.1%);fill-opacity:1.0;font-weight:normal;opacity:1.0;stroke:none;text-anchor:start\" transform=\"translate(518.18181818181813,216.13647505821791)translate(0,3.375)\"><tspan style=\"font-size:12.0px\">9</tspan></text><text class=\"toyplot-Datum\" style=\"fill:rgb(16.1%,15.3%,14.1%);fill-opacity:1.0;font-weight:normal;opacity:1.0;stroke:none;text-anchor:start\" transform=\"translate(518.18181818181813,232.35169751195002)translate(0,3.375)\"><tspan style=\"font-size:12.0px\">10</tspan></text><text class=\"toyplot-Datum\" style=\"fill:rgb(16.1%,15.3%,14.1%);fill-opacity:1.0;font-weight:normal;opacity:1.0;stroke:none;text-anchor:start\" transform=\"translate(518.18181818181813,248.56691996568205)translate(0,3.375)\"><tspan style=\"font-size:12.0px\">11</tspan></text><text class=\"toyplot-Datum\" style=\"fill:rgb(16.1%,15.3%,14.1%);fill-opacity:1.0;font-weight:normal;opacity:1.0;stroke:none;text-anchor:start\" transform=\"translate(518.18181818181813,264.78214241941413)translate(0,3.375)\"><tspan style=\"font-size:12.0px\">12</tspan></text></g></g><g class=\"toyplot-mark-Rect\" id=\"t797ddeed99eb4a81a60144824ec79925\" style=\"stroke:none\"><g class=\"toyplot-Series\"><rect class=\"toyplot-Datum\" height=\"8.1076112268660694\" style=\"fill:rgb(40%,76.1%,64.7%);fill-opacity:1.0;opacity:1.0;stroke:none\" width=\"7.6555023923444878\" x=\"361.24401913875596\" y=\"82.360889814928285\"></rect></g></g><g class=\"toyplot-mark-Rect\" id=\"t6f9021b8ca1a4d01ac578600b16e442f\" style=\"stroke:none\"><g class=\"toyplot-Series\"><rect class=\"toyplot-Datum\" height=\"8.1076112268660694\" style=\"fill:rgb(98.8%,55.3%,38.4%);fill-opacity:1.0;opacity:1.0;stroke:none\" width=\"7.6555023923444878\" x=\"376.55502392344499\" y=\"82.360889814928285\"></rect></g></g><g class=\"toyplot-mark-Rect\" id=\"tb24de62ae13d4711990c1fe367500367\" style=\"stroke:none\"><g class=\"toyplot-Series\"><rect class=\"toyplot-Datum\" height=\"8.1076112268660694\" style=\"fill:rgb(16.1%,15.3%,14.1%);fill-opacity:1.0;opacity:1.0;stroke:none\" width=\"22.96650717703352\" x=\"391.86602870813397\" y=\"82.360889814928285\"></rect></g></g><g class=\"toyplot-mark-Rect\" id=\"tbe7d0d2515f744ea902e3899508ae0e7\" style=\"stroke:none\"><g class=\"toyplot-Series\"><rect class=\"toyplot-Datum\" height=\"8.1076112268660694\" style=\"fill:rgb(70.2%,70.2%,70.2%);fill-opacity:1.0;opacity:1.0;stroke:none\" width=\"7.6555023923445447\" x=\"499.04306220095691\" y=\"82.360889814928285\"></rect></g></g><g class=\"toyplot-mark-Rect\" id=\"t07ff2a01d04b46dda9bdefbdd0c88534\" style=\"stroke:none\"><g class=\"toyplot-Series\"><rect class=\"toyplot-Datum\" height=\"8.1076112268660268\" style=\"fill:rgb(40%,76.1%,64.7%);fill-opacity:1.0;opacity:1.0;stroke:none\" width=\"22.966507177033407\" x=\"330.62200956937801\" y=\"98.576112268660395\"></rect></g></g><g class=\"toyplot-mark-Rect\" id=\"t5624fa8aff674da18259578df6403bea\" style=\"stroke:none\"><g class=\"toyplot-Series\"><rect class=\"toyplot-Datum\" height=\"8.1076112268660268\" style=\"fill:rgb(98.8%,55.3%,38.4%);fill-opacity:1.0;opacity:1.0;stroke:none\" width=\"7.6555023923444878\" x=\"376.55502392344499\" y=\"98.576112268660395\"></rect></g></g><g class=\"toyplot-mark-Rect\" id=\"td712b80bc8ef4c6e84f96a5b8eac9a3f\" style=\"stroke:none\"><g class=\"toyplot-Series\"><rect class=\"toyplot-Datum\" height=\"8.1076112268660268\" style=\"fill:rgb(16.1%,15.3%,14.1%);fill-opacity:1.0;opacity:1.0;stroke:none\" width=\"22.96650717703352\" x=\"391.86602870813397\" y=\"98.576112268660395\"></rect></g></g><g class=\"toyplot-mark-Rect\" id=\"tb61707bd803746d58069c0e13de4ade2\" style=\"stroke:none\"><g class=\"toyplot-Series\"><rect class=\"toyplot-Datum\" height=\"8.1076112268660268\" style=\"fill:rgb(70.2%,70.2%,70.2%);fill-opacity:1.0;opacity:1.0;stroke:none\" width=\"7.6555023923445447\" x=\"499.04306220095691\" y=\"98.576112268660395\"></rect></g></g><g class=\"toyplot-mark-Rect\" id=\"td7af5d9607654f4081883b1360c4bb0b\" style=\"stroke:none\"><g class=\"toyplot-Series\"><rect class=\"toyplot-Datum\" height=\"8.1076112268660552\" style=\"fill:rgb(40%,76.1%,64.7%);fill-opacity:1.0;opacity:1.0;stroke:none\" width=\"7.655502392344431\" x=\"345.93301435406698\" y=\"114.79133472239243\"></rect></g></g><g class=\"toyplot-mark-Rect\" id=\"tc332e626ad1e4c7aabee6df5b869f05e\" style=\"stroke:none\"><g class=\"toyplot-Series\"><rect class=\"toyplot-Datum\" height=\"8.1076112268660552\" style=\"fill:rgb(98.8%,55.3%,38.4%);fill-opacity:1.0;opacity:1.0;stroke:none\" width=\"7.6555023923444878\" x=\"376.55502392344499\" y=\"114.79133472239243\"></rect></g></g><g class=\"toyplot-mark-Rect\" id=\"tcebc7a7c7dbb4649a2408d15737f2540\" style=\"stroke:none\"><g class=\"toyplot-Series\"><rect class=\"toyplot-Datum\" height=\"8.1076112268660552\" style=\"fill:rgb(16.1%,15.3%,14.1%);fill-opacity:1.0;opacity:1.0;stroke:none\" width=\"22.96650717703352\" x=\"391.86602870813397\" y=\"114.79133472239243\"></rect></g></g><g class=\"toyplot-mark-Rect\" id=\"t1d696e60b7074fb6b6bb41c9e5165ca1\" style=\"stroke:none\"><g class=\"toyplot-Series\"><rect class=\"toyplot-Datum\" height=\"8.1076112268660552\" style=\"fill:rgb(70.2%,70.2%,70.2%);fill-opacity:1.0;opacity:1.0;stroke:none\" width=\"7.6555023923445447\" x=\"499.04306220095691\" y=\"114.79133472239243\"></rect></g></g><g class=\"toyplot-mark-Rect\" id=\"t7b16f271fb954a9c92f4cd434ff6e4c8\" style=\"stroke:none\"><g class=\"toyplot-Series\"><rect class=\"toyplot-Datum\" height=\"8.1076112268660268\" style=\"fill:rgb(40%,76.1%,64.7%);fill-opacity:1.0;opacity:1.0;stroke:none\" width=\"7.6555023923444878\" x=\"330.62200956937801\" y=\"131.00655717612455\"></rect></g></g><g class=\"toyplot-mark-Rect\" id=\"t62b20ecd09a74481939940a768159675\" style=\"stroke:none\"><g class=\"toyplot-Series\"><rect class=\"toyplot-Datum\" height=\"8.1076112268660268\" style=\"fill:rgb(98.8%,55.3%,38.4%);fill-opacity:1.0;opacity:1.0;stroke:none\" width=\"7.6555023923444878\" x=\"376.55502392344499\" y=\"131.00655717612455\"></rect></g></g><g class=\"toyplot-mark-Rect\" id=\"t375e7b7f06e04bb6a3a24eab6aef0dcf\" style=\"stroke:none\"><g class=\"toyplot-Series\"><rect class=\"toyplot-Datum\" height=\"8.1076112268660268\" style=\"fill:rgb(16.1%,15.3%,14.1%);fill-opacity:1.0;opacity:1.0;stroke:none\" width=\"22.96650717703352\" x=\"391.86602870813397\" y=\"131.00655717612455\"></rect></g></g><g class=\"toyplot-mark-Rect\" id=\"td0fa219597f24ef280225fe2221ffb77\" style=\"stroke:none\"><g class=\"toyplot-Series\"><rect class=\"toyplot-Datum\" height=\"8.1076112268660268\" style=\"fill:rgb(70.2%,70.2%,70.2%);fill-opacity:1.0;opacity:1.0;stroke:none\" width=\"7.6555023923445447\" x=\"499.04306220095691\" y=\"131.00655717612455\"></rect></g></g><g class=\"toyplot-mark-Rect\" id=\"t46e0fe1ae4b7479c81ba281ef9380a65\" style=\"stroke:none\"><g class=\"toyplot-Series\"><rect class=\"toyplot-Datum\" height=\"8.1076112268660836\" style=\"fill:rgb(40%,76.1%,64.7%);fill-opacity:1.0;opacity:1.0;stroke:none\" width=\"7.6555023923444878\" x=\"361.24401913875596\" y=\"147.22177962985657\"></rect></g></g><g class=\"toyplot-mark-Rect\" id=\"t7dcc92ef8743472e87336bbc0f121e3f\" style=\"stroke:none\"><g class=\"toyplot-Series\"><rect class=\"toyplot-Datum\" height=\"8.1076112268660836\" style=\"fill:rgb(98.8%,55.3%,38.4%);fill-opacity:1.0;opacity:1.0;stroke:none\" width=\"7.6555023923444878\" x=\"376.55502392344499\" y=\"147.22177962985657\"></rect></g></g><g class=\"toyplot-mark-Rect\" id=\"t352fee6ed47e49958873f0cc316bc85e\" style=\"stroke:none\"><g class=\"toyplot-Series\"><rect class=\"toyplot-Datum\" height=\"8.1076112268660836\" style=\"fill:rgb(16.1%,15.3%,14.1%);fill-opacity:1.0;opacity:1.0;stroke:none\" width=\"7.6555023923444878\" x=\"407.177033492823\" y=\"147.22177962985657\"></rect></g></g><g class=\"toyplot-mark-Rect\" id=\"t1b7a457294d34e89b76f25f246e404e0\" style=\"stroke:none\"><g class=\"toyplot-Series\"><rect class=\"toyplot-Datum\" height=\"8.1076112268660836\" style=\"fill:rgb(70.2%,70.2%,70.2%);fill-opacity:1.0;opacity:1.0;stroke:none\" width=\"7.6555023923445447\" x=\"499.04306220095691\" y=\"147.22177962985657\"></rect></g></g><g class=\"toyplot-mark-Rect\" id=\"t6c5a73cefb3445218b6b4158f3d53829\" style=\"stroke:none\"><g class=\"toyplot-Series\"><rect class=\"toyplot-Datum\" height=\"8.1076112268660268\" style=\"fill:rgb(40%,76.1%,64.7%);fill-opacity:1.0;opacity:1.0;stroke:none\" width=\"22.966507177033407\" x=\"330.62200956937801\" y=\"163.43700208358871\"></rect></g></g><g class=\"toyplot-mark-Rect\" id=\"te6d8c3868caa4d24a65b9eee524f6534\" style=\"stroke:none\"><g class=\"toyplot-Series\"><rect class=\"toyplot-Datum\" height=\"8.1076112268660268\" style=\"fill:rgb(98.8%,55.3%,38.4%);fill-opacity:1.0;opacity:1.0;stroke:none\" width=\"7.6555023923444878\" x=\"376.55502392344499\" y=\"163.43700208358871\"></rect></g></g><g class=\"toyplot-mark-Rect\" id=\"t71814138ec76413b96c7ea7a7cd915ec\" style=\"stroke:none\"><g class=\"toyplot-Series\"><rect class=\"toyplot-Datum\" height=\"8.1076112268660268\" style=\"fill:rgb(16.1%,15.3%,14.1%);fill-opacity:1.0;opacity:1.0;stroke:none\" width=\"7.6555023923444878\" x=\"407.177033492823\" y=\"163.43700208358871\"></rect></g></g><g class=\"toyplot-mark-Rect\" id=\"t9d28a8090c5d43b5b4aaaf6636df788c\" style=\"stroke:none\"><g class=\"toyplot-Series\"><rect class=\"toyplot-Datum\" height=\"8.1076112268660268\" style=\"fill:rgb(70.2%,70.2%,70.2%);fill-opacity:1.0;opacity:1.0;stroke:none\" width=\"7.6555023923445447\" x=\"499.04306220095691\" y=\"163.43700208358871\"></rect></g></g><g class=\"toyplot-mark-Rect\" id=\"ta171205c91364c0ca968418e95d2ca77\" style=\"stroke:none\"><g class=\"toyplot-Series\"><rect class=\"toyplot-Datum\" height=\"8.1076112268660552\" style=\"fill:rgb(40%,76.1%,64.7%);fill-opacity:1.0;opacity:1.0;stroke:none\" width=\"7.655502392344431\" x=\"345.93301435406698\" y=\"179.65222453732071\"></rect></g></g><g class=\"toyplot-mark-Rect\" id=\"t6f2558e0979f487999a70daba144c0a4\" style=\"stroke:none\"><g class=\"toyplot-Series\"><rect class=\"toyplot-Datum\" height=\"8.1076112268660552\" style=\"fill:rgb(98.8%,55.3%,38.4%);fill-opacity:1.0;opacity:1.0;stroke:none\" width=\"7.6555023923444878\" x=\"376.55502392344499\" y=\"179.65222453732071\"></rect></g></g><g class=\"toyplot-mark-Rect\" id=\"tb889bc2011fa4f6598bb929d1a5dd7de\" style=\"stroke:none\"><g class=\"toyplot-Series\"><rect class=\"toyplot-Datum\" height=\"8.1076112268660552\" style=\"fill:rgb(16.1%,15.3%,14.1%);fill-opacity:1.0;opacity:1.0;stroke:none\" width=\"7.6555023923444878\" x=\"407.177033492823\" y=\"179.65222453732071\"></rect></g></g><g class=\"toyplot-mark-Rect\" id=\"tee37466dda984b488eb713d8d05a6a22\" style=\"stroke:none\"><g class=\"toyplot-Series\"><rect class=\"toyplot-Datum\" height=\"8.1076112268660552\" style=\"fill:rgb(70.2%,70.2%,70.2%);fill-opacity:1.0;opacity:1.0;stroke:none\" width=\"7.6555023923445447\" x=\"499.04306220095691\" y=\"179.65222453732071\"></rect></g></g><g class=\"toyplot-mark-Rect\" id=\"te5526005d07b466daf1f036a69d6ca26\" style=\"stroke:none\"><g class=\"toyplot-Series\"><rect class=\"toyplot-Datum\" height=\"8.1076112268660552\" style=\"fill:rgb(40%,76.1%,64.7%);fill-opacity:1.0;opacity:1.0;stroke:none\" width=\"7.6555023923444878\" x=\"330.62200956937801\" y=\"195.86744699105284\"></rect></g></g><g class=\"toyplot-mark-Rect\" id=\"tb92f02de3e404ab599cd0c9c37cdffcc\" style=\"stroke:none\"><g class=\"toyplot-Series\"><rect class=\"toyplot-Datum\" height=\"8.1076112268660552\" style=\"fill:rgb(98.8%,55.3%,38.4%);fill-opacity:1.0;opacity:1.0;stroke:none\" width=\"7.6555023923444878\" x=\"376.55502392344499\" y=\"195.86744699105284\"></rect></g></g><g class=\"toyplot-mark-Rect\" id=\"t92e70f56b6cf4581aa9756286267c765\" style=\"stroke:none\"><g class=\"toyplot-Series\"><rect class=\"toyplot-Datum\" height=\"8.1076112268660552\" style=\"fill:rgb(16.1%,15.3%,14.1%);fill-opacity:1.0;opacity:1.0;stroke:none\" width=\"7.6555023923444878\" x=\"407.177033492823\" y=\"195.86744699105284\"></rect></g></g><g class=\"toyplot-mark-Rect\" id=\"t95848ac6ce9e4e97b3e5576b440a8c52\" style=\"stroke:none\"><g class=\"toyplot-Series\"><rect class=\"toyplot-Datum\" height=\"8.1076112268660552\" style=\"fill:rgb(70.2%,70.2%,70.2%);fill-opacity:1.0;opacity:1.0;stroke:none\" width=\"7.6555023923445447\" x=\"499.04306220095691\" y=\"195.86744699105284\"></rect></g></g><g class=\"toyplot-mark-Rect\" id=\"tf79a35d66e9c4af69dee783e4a27ca17\" style=\"stroke:none\"><g class=\"toyplot-Series\"><rect class=\"toyplot-Datum\" height=\"8.1076112268659983\" style=\"fill:rgb(40%,76.1%,64.7%);fill-opacity:1.0;opacity:1.0;stroke:none\" width=\"7.6555023923444878\" x=\"361.24401913875596\" y=\"212.08266944478493\"></rect></g></g><g class=\"toyplot-mark-Rect\" id=\"t7d78a43b18c544c18effeaac6fa3c425\" style=\"stroke:none\"><g class=\"toyplot-Series\"><rect class=\"toyplot-Datum\" height=\"8.1076112268659983\" style=\"fill:rgb(98.8%,55.3%,38.4%);fill-opacity:1.0;opacity:1.0;stroke:none\" width=\"7.6555023923444878\" x=\"376.55502392344499\" y=\"212.08266944478493\"></rect></g></g><g class=\"toyplot-mark-Rect\" id=\"t822be9c1612e449aa6c6ce8d1d868851\" style=\"stroke:none\"><g class=\"toyplot-Series\"><rect class=\"toyplot-Datum\" height=\"8.1076112268659983\" style=\"fill:rgb(16.1%,15.3%,14.1%);fill-opacity:1.0;opacity:1.0;stroke:none\" width=\"7.6555023923444878\" x=\"391.86602870813397\" y=\"212.08266944478493\"></rect></g></g><g class=\"toyplot-mark-Rect\" id=\"t308cbcd02b7b4bb48c6b0592855ceac5\" style=\"stroke:none\"><g class=\"toyplot-Series\"><rect class=\"toyplot-Datum\" height=\"8.1076112268659983\" style=\"fill:rgb(70.2%,70.2%,70.2%);fill-opacity:1.0;opacity:1.0;stroke:none\" width=\"7.6555023923445447\" x=\"499.04306220095691\" y=\"212.08266944478493\"></rect></g></g><g class=\"toyplot-mark-Rect\" id=\"t54951a0434a84aedaa59396b27cbdcc6\" style=\"stroke:none\"><g class=\"toyplot-Series\"><rect class=\"toyplot-Datum\" height=\"8.1076112268660552\" style=\"fill:rgb(40%,76.1%,64.7%);fill-opacity:1.0;opacity:1.0;stroke:none\" width=\"22.966507177033407\" x=\"330.62200956937801\" y=\"228.29789189851698\"></rect></g></g><g class=\"toyplot-mark-Rect\" id=\"te3df717bfc2945d281ff7f5775e9601a\" style=\"stroke:none\"><g class=\"toyplot-Series\"><rect class=\"toyplot-Datum\" height=\"8.1076112268660552\" style=\"fill:rgb(98.8%,55.3%,38.4%);fill-opacity:1.0;opacity:1.0;stroke:none\" width=\"7.6555023923444878\" x=\"376.55502392344499\" y=\"228.29789189851698\"></rect></g></g><g class=\"toyplot-mark-Rect\" id=\"tf3f81e52d9944733a4db6ad2b9bbc6cb\" style=\"stroke:none\"><g class=\"toyplot-Series\"><rect class=\"toyplot-Datum\" height=\"8.1076112268660552\" style=\"fill:rgb(16.1%,15.3%,14.1%);fill-opacity:1.0;opacity:1.0;stroke:none\" width=\"7.6555023923444878\" x=\"391.86602870813397\" y=\"228.29789189851698\"></rect></g></g><g class=\"toyplot-mark-Rect\" id=\"tc5d419ec59de44edbecee5f8fa4572bb\" style=\"stroke:none\"><g class=\"toyplot-Series\"><rect class=\"toyplot-Datum\" height=\"8.1076112268660552\" style=\"fill:rgb(70.2%,70.2%,70.2%);fill-opacity:1.0;opacity:1.0;stroke:none\" width=\"7.6555023923445447\" x=\"499.04306220095691\" y=\"228.29789189851698\"></rect></g></g><g class=\"toyplot-mark-Rect\" id=\"t8afc130a470b4d4b94cc5f51d7d3dc99\" style=\"stroke:none\"><g class=\"toyplot-Series\"><rect class=\"toyplot-Datum\" height=\"8.1076112268659699\" style=\"fill:rgb(40%,76.1%,64.7%);fill-opacity:1.0;opacity:1.0;stroke:none\" width=\"7.655502392344431\" x=\"345.93301435406698\" y=\"244.51311435224909\"></rect></g></g><g class=\"toyplot-mark-Rect\" id=\"tca1dc8097b0940668a822e2ecea070d7\" style=\"stroke:none\"><g class=\"toyplot-Series\"><rect class=\"toyplot-Datum\" height=\"8.1076112268659699\" style=\"fill:rgb(98.8%,55.3%,38.4%);fill-opacity:1.0;opacity:1.0;stroke:none\" width=\"7.6555023923444878\" x=\"376.55502392344499\" y=\"244.51311435224909\"></rect></g></g><g class=\"toyplot-mark-Rect\" id=\"tcdcc1219bc4a4d5598bb03d1b185c3d9\" style=\"stroke:none\"><g class=\"toyplot-Series\"><rect class=\"toyplot-Datum\" height=\"8.1076112268659699\" style=\"fill:rgb(16.1%,15.3%,14.1%);fill-opacity:1.0;opacity:1.0;stroke:none\" width=\"7.6555023923444878\" x=\"391.86602870813397\" y=\"244.51311435224909\"></rect></g></g><g class=\"toyplot-mark-Rect\" id=\"t87c2f15e7aeb44779f9c0302a9a7c46b\" style=\"stroke:none\"><g class=\"toyplot-Series\"><rect class=\"toyplot-Datum\" height=\"8.1076112268659699\" style=\"fill:rgb(70.2%,70.2%,70.2%);fill-opacity:1.0;opacity:1.0;stroke:none\" width=\"7.6555023923445447\" x=\"499.04306220095691\" y=\"244.51311435224909\"></rect></g></g><g class=\"toyplot-mark-Rect\" id=\"tecec55713cd84e26b36c5fe0820bf52e\" style=\"stroke:none\"><g class=\"toyplot-Series\"><rect class=\"toyplot-Datum\" height=\"8.1076112268660268\" style=\"fill:rgb(40%,76.1%,64.7%);fill-opacity:1.0;opacity:1.0;stroke:none\" width=\"7.6555023923444878\" x=\"330.62200956937801\" y=\"260.72833680598114\"></rect></g></g><g class=\"toyplot-mark-Rect\" id=\"t8acf7c60bed34fe68bccb7c6b6557248\" style=\"stroke:none\"><g class=\"toyplot-Series\"><rect class=\"toyplot-Datum\" height=\"8.1076112268660268\" style=\"fill:rgb(98.8%,55.3%,38.4%);fill-opacity:1.0;opacity:1.0;stroke:none\" width=\"7.6555023923444878\" x=\"376.55502392344499\" y=\"260.72833680598114\"></rect></g></g><g class=\"toyplot-mark-Rect\" id=\"ta874db0b61a54159840d90cf4bccc1cb\" style=\"stroke:none\"><g class=\"toyplot-Series\"><rect class=\"toyplot-Datum\" height=\"8.1076112268660268\" style=\"fill:rgb(16.1%,15.3%,14.1%);fill-opacity:1.0;opacity:1.0;stroke:none\" width=\"7.6555023923444878\" x=\"391.86602870813397\" y=\"260.72833680598114\"></rect></g></g><g class=\"toyplot-mark-Rect\" id=\"tef7cb9edb60a4895bb9a749360f9c118\" style=\"stroke:none\"><g class=\"toyplot-Series\"><rect class=\"toyplot-Datum\" height=\"8.1076112268660268\" style=\"fill:rgb(70.2%,70.2%,70.2%);fill-opacity:1.0;opacity:1.0;stroke:none\" width=\"7.6555023923445447\" x=\"499.04306220095691\" y=\"260.72833680598114\"></rect></g></g><g class=\"toyplot-mark-Text\" id=\"t5dd227b5b0c947f19f1919289faa40fb\" style=\"-toyplot-anchor-shift:10px;alignment-baseline:middle;fill:rgb(16.1%,15.3%,14.1%);fill-opacity:1.0;font-size:12px;font-weight:normal;stroke:none;text-anchor:start\"><g class=\"toyplot-Series\"><text class=\"toyplot-Datum\" style=\"fill:rgb(16.1%,15.3%,14.1%);fill-opacity:1.0;font-weight:normal;opacity:1.0;stroke:none;text-anchor:start\" transform=\"translate(502.87081339712921,280.99736487314618)rotate(90.0)translate(10.0,3.375)\"><tspan style=\"font-size:12.0px\">3L_0</tspan></text><text class=\"toyplot-Datum\" style=\"fill:rgb(16.1%,15.3%,14.1%);fill-opacity:1.0;font-weight:normal;opacity:1.0;stroke:none;text-anchor:start\" transform=\"translate(487.55980861244024,280.99736487314618)rotate(90.0)translate(10.0,3.375)\"><tspan style=\"font-size:12.0px\">3K_0</tspan></text><text class=\"toyplot-Datum\" style=\"fill:rgb(16.1%,15.3%,14.1%);fill-opacity:1.0;font-weight:normal;opacity:1.0;stroke:none;text-anchor:start\" transform=\"translate(472.2488038277512,280.99736487314618)rotate(90.0)translate(10.0,3.375)\"><tspan style=\"font-size:12.0px\">3J_0</tspan></text><text class=\"toyplot-Datum\" style=\"fill:rgb(16.1%,15.3%,14.1%);fill-opacity:1.0;font-weight:normal;opacity:1.0;stroke:none;text-anchor:start\" transform=\"translate(456.93779904306217,280.99736487314618)rotate(90.0)translate(10.0,3.375)\"><tspan style=\"font-size:12.0px\">3I_0</tspan></text><text class=\"toyplot-Datum\" style=\"fill:rgb(16.1%,15.3%,14.1%);fill-opacity:1.0;font-weight:normal;opacity:1.0;stroke:none;text-anchor:start\" transform=\"translate(441.6267942583732,280.99736487314618)rotate(90.0)translate(10.0,3.375)\"><tspan style=\"font-size:12.0px\">2H_0</tspan></text><text class=\"toyplot-Datum\" style=\"fill:rgb(16.1%,15.3%,14.1%);fill-opacity:1.0;font-weight:normal;opacity:1.0;stroke:none;text-anchor:start\" transform=\"translate(426.31578947368422,280.99736487314618)rotate(90.0)translate(10.0,3.375)\"><tspan style=\"font-size:12.0px\">2G_0</tspan></text><text class=\"toyplot-Datum\" style=\"fill:rgb(16.1%,15.3%,14.1%);fill-opacity:1.0;font-weight:normal;opacity:1.0;stroke:none;text-anchor:start\" transform=\"translate(411.00478468899524,280.99736487314618)rotate(90.0)translate(10.0,3.375)\"><tspan style=\"font-size:12.0px\">2E_0</tspan></text><text class=\"toyplot-Datum\" style=\"fill:rgb(16.1%,15.3%,14.1%);fill-opacity:1.0;font-weight:normal;opacity:1.0;stroke:none;text-anchor:start\" transform=\"translate(395.69377990430621,280.99736487314618)rotate(90.0)translate(10.0,3.375)\"><tspan style=\"font-size:12.0px\">2F_0</tspan></text><text class=\"toyplot-Datum\" style=\"fill:rgb(16.1%,15.3%,14.1%);fill-opacity:1.0;font-weight:normal;opacity:1.0;stroke:none;text-anchor:start\" transform=\"translate(380.38277511961724,280.99736487314618)rotate(90.0)translate(10.0,3.375)\"><tspan style=\"font-size:12.0px\">1D_0</tspan></text><text class=\"toyplot-Datum\" style=\"fill:rgb(16.1%,15.3%,14.1%);fill-opacity:1.0;font-weight:normal;opacity:1.0;stroke:none;text-anchor:start\" transform=\"translate(365.0717703349282,280.99736487314618)rotate(90.0)translate(10.0,3.375)\"><tspan style=\"font-size:12.0px\">1C_0</tspan></text><text class=\"toyplot-Datum\" style=\"fill:rgb(16.1%,15.3%,14.1%);fill-opacity:1.0;font-weight:normal;opacity:1.0;stroke:none;text-anchor:start\" transform=\"translate(349.76076555023923,280.99736487314618)rotate(90.0)translate(10.0,3.375)\"><tspan style=\"font-size:12.0px\">1B_0</tspan></text><text class=\"toyplot-Datum\" style=\"fill:rgb(16.1%,15.3%,14.1%);fill-opacity:1.0;font-weight:normal;opacity:1.0;stroke:none;text-anchor:start\" transform=\"translate(334.44976076555025,280.99736487314618)rotate(90.0)translate(10.0,3.375)\"><tspan style=\"font-size:12.0px\">1A_0</tspan></text></g></g><g class=\"toyplot-mark-Graph\" id=\"t72e63f549195404da9bd37ddf08d7d2e\"><g class=\"toyplot-Edges\"><path d=\"M 208.133971292 86.4146954284 L 303.827751196 86.4146954284\" style=\"fill:none;stroke:rgb(70.2%,70.2%,70.2%);stroke-dasharray:5, 5;stroke-opacity:1.0;stroke-width:1.0\"></path></g><g class=\"toyplot-Vertices\"><g class=\"toyplot-Datum\" style=\"fill:rgb(100%,85.1%,18.4%);fill-opacity:1.0;opacity:1.0;stroke:rgb(100%,85.1%,18.4%);stroke-opacity:1.0\"><circle cx=\"208.13397129186603\" cy=\"86.414695428361327\" r=\"0.0\"></circle></g><g class=\"toyplot-Datum\" style=\"fill:rgb(100%,85.1%,18.4%);fill-opacity:1.0;opacity:1.0;stroke:rgb(100%,85.1%,18.4%);stroke-opacity:1.0\"><circle cx=\"303.82775119617224\" cy=\"86.414695428361327\" r=\"0.0\"></circle></g></g></g><g class=\"toyplot-mark-Graph\" id=\"t8d497e9adca94feba3141dc0e4bef6f0\"><g class=\"toyplot-Edges\"><path d=\"M 208.133971292 102.629917882 L 303.827751196 102.629917882\" style=\"fill:none;stroke:rgb(70.2%,70.2%,70.2%);stroke-dasharray:5, 5;stroke-opacity:1.0;stroke-width:1.0\"></path></g><g class=\"toyplot-Vertices\"><g class=\"toyplot-Datum\" style=\"fill:rgb(89.8%,76.9%,58%);fill-opacity:1.0;opacity:1.0;stroke:rgb(89.8%,76.9%,58%);stroke-opacity:1.0\"><circle cx=\"208.13397129186603\" cy=\"102.62991788209338\" r=\"0.0\"></circle></g><g class=\"toyplot-Datum\" style=\"fill:rgb(89.8%,76.9%,58%);fill-opacity:1.0;opacity:1.0;stroke:rgb(89.8%,76.9%,58%);stroke-opacity:1.0\"><circle cx=\"303.82775119617224\" cy=\"102.62991788209338\" r=\"0.0\"></circle></g></g></g><g class=\"toyplot-mark-Graph\" id=\"t59e056f3cf7e4824ab109b03f90347b3\"><g class=\"toyplot-Edges\"><path d=\"M 208.133971292 118.845140336 L 303.827751196 118.845140336\" style=\"fill:none;stroke:rgb(70.2%,70.2%,70.2%);stroke-dasharray:5, 5;stroke-opacity:1.0;stroke-width:1.0\"></path></g><g class=\"toyplot-Vertices\"><g class=\"toyplot-Datum\" style=\"fill:rgb(70.2%,70.2%,70.2%);fill-opacity:1.0;opacity:1.0;stroke:rgb(70.2%,70.2%,70.2%);stroke-opacity:1.0\"><circle cx=\"208.13397129186603\" cy=\"118.8451403358255\" r=\"0.0\"></circle></g><g class=\"toyplot-Datum\" style=\"fill:rgb(70.2%,70.2%,70.2%);fill-opacity:1.0;opacity:1.0;stroke:rgb(70.2%,70.2%,70.2%);stroke-opacity:1.0\"><circle cx=\"303.82775119617224\" cy=\"118.8451403358255\" r=\"0.0\"></circle></g></g></g><g class=\"toyplot-mark-Graph\" id=\"td593a91e734e48ffa2dffa04d5a82d57\"><g class=\"toyplot-Edges\"><path d=\"M 208.133971292 135.06036279 L 303.827751196 135.06036279\" style=\"fill:none;stroke:rgb(70.2%,70.2%,70.2%);stroke-dasharray:5, 5;stroke-opacity:1.0;stroke-width:1.0\"></path></g><g class=\"toyplot-Vertices\"><g class=\"toyplot-Datum\" style=\"fill:rgb(40%,76.1%,64.7%);fill-opacity:1.0;opacity:1.0;stroke:rgb(40%,76.1%,64.7%);stroke-opacity:1.0\"><circle cx=\"208.13397129186603\" cy=\"135.06036278955753\" r=\"0.0\"></circle></g><g class=\"toyplot-Datum\" style=\"fill:rgb(40%,76.1%,64.7%);fill-opacity:1.0;opacity:1.0;stroke:rgb(40%,76.1%,64.7%);stroke-opacity:1.0\"><circle cx=\"303.82775119617224\" cy=\"135.06036278955753\" r=\"0.0\"></circle></g></g></g><g class=\"toyplot-mark-Graph\" id=\"t66430021f773484ca5fcabe1c82f7ad8\"><g class=\"toyplot-Edges\"><path d=\"M 208.133971292 151.275585243 L 303.827751196 151.275585243\" style=\"fill:none;stroke:rgb(70.2%,70.2%,70.2%);stroke-dasharray:5, 5;stroke-opacity:1.0;stroke-width:1.0\"></path></g><g class=\"toyplot-Vertices\"><g class=\"toyplot-Datum\" style=\"fill:rgb(98.8%,55.3%,38.4%);fill-opacity:1.0;opacity:1.0;stroke:rgb(98.8%,55.3%,38.4%);stroke-opacity:1.0\"><circle cx=\"208.13397129186603\" cy=\"151.27558524328964\" r=\"0.0\"></circle></g><g class=\"toyplot-Datum\" style=\"fill:rgb(98.8%,55.3%,38.4%);fill-opacity:1.0;opacity:1.0;stroke:rgb(98.8%,55.3%,38.4%);stroke-opacity:1.0\"><circle cx=\"303.82775119617224\" cy=\"151.27558524328964\" r=\"0.0\"></circle></g></g></g><g class=\"toyplot-mark-Graph\" id=\"t2b74dadf18e748929b46aab420cd8266\"><g class=\"toyplot-Edges\"><path d=\"M 208.133971292 167.490807697 L 303.827751196 167.490807697\" style=\"fill:none;stroke:rgb(70.2%,70.2%,70.2%);stroke-dasharray:5, 5;stroke-opacity:1.0;stroke-width:1.0\"></path></g><g class=\"toyplot-Vertices\"><g class=\"toyplot-Datum\" style=\"fill:rgb(55.3%,62.7%,79.6%);fill-opacity:1.0;opacity:1.0;stroke:rgb(55.3%,62.7%,79.6%);stroke-opacity:1.0\"><circle cx=\"208.13397129186603\" cy=\"167.49080769702169\" r=\"0.0\"></circle></g><g class=\"toyplot-Datum\" style=\"fill:rgb(55.3%,62.7%,79.6%);fill-opacity:1.0;opacity:1.0;stroke:rgb(55.3%,62.7%,79.6%);stroke-opacity:1.0\"><circle cx=\"303.82775119617224\" cy=\"167.49080769702169\" r=\"0.0\"></circle></g></g></g><g class=\"toyplot-mark-Graph\" id=\"t26e7871b797b453594b34b5088f876ac\"><g class=\"toyplot-Edges\"><path d=\"M 208.133971292 183.706030151 L 303.827751196 183.706030151\" style=\"fill:none;stroke:rgb(70.2%,70.2%,70.2%);stroke-dasharray:5, 5;stroke-opacity:1.0;stroke-width:1.0\"></path></g><g class=\"toyplot-Vertices\"><g class=\"toyplot-Datum\" style=\"fill:rgb(90.6%,54.1%,76.5%);fill-opacity:1.0;opacity:1.0;stroke:rgb(90.6%,54.1%,76.5%);stroke-opacity:1.0\"><circle cx=\"208.13397129186603\" cy=\"183.70603015075375\" r=\"0.0\"></circle></g><g class=\"toyplot-Datum\" style=\"fill:rgb(90.6%,54.1%,76.5%);fill-opacity:1.0;opacity:1.0;stroke:rgb(90.6%,54.1%,76.5%);stroke-opacity:1.0\"><circle cx=\"303.82775119617224\" cy=\"183.70603015075375\" r=\"0.0\"></circle></g></g></g><g class=\"toyplot-mark-Graph\" id=\"t0e1985d5859440899b90fda513ce06a7\"><g class=\"toyplot-Edges\"><path d=\"M 208.133971292 199.921252604 L 303.827751196 199.921252604\" style=\"fill:none;stroke:rgb(70.2%,70.2%,70.2%);stroke-dasharray:5, 5;stroke-opacity:1.0;stroke-width:1.0\"></path></g><g class=\"toyplot-Vertices\"><g class=\"toyplot-Datum\" style=\"fill:rgb(65.1%,84.7%,32.9%);fill-opacity:1.0;opacity:1.0;stroke:rgb(65.1%,84.7%,32.9%);stroke-opacity:1.0\"><circle cx=\"208.13397129186603\" cy=\"199.92125260448586\" r=\"0.0\"></circle></g><g class=\"toyplot-Datum\" style=\"fill:rgb(65.1%,84.7%,32.9%);fill-opacity:1.0;opacity:1.0;stroke:rgb(65.1%,84.7%,32.9%);stroke-opacity:1.0\"><circle cx=\"303.82775119617224\" cy=\"199.92125260448586\" r=\"0.0\"></circle></g></g></g><g class=\"toyplot-mark-Graph\" id=\"t7473773f5b3c441ead8dc43c21b912f0\"><g class=\"toyplot-Edges\"><path d=\"M 208.133971292 216.136475058 L 303.827751196 216.136475058\" style=\"fill:none;stroke:rgb(70.2%,70.2%,70.2%);stroke-dasharray:5, 5;stroke-opacity:1.0;stroke-width:1.0\"></path></g><g class=\"toyplot-Vertices\"><g class=\"toyplot-Datum\" style=\"fill:rgb(100%,85.1%,18.4%);fill-opacity:1.0;opacity:1.0;stroke:rgb(100%,85.1%,18.4%);stroke-opacity:1.0\"><circle cx=\"208.13397129186603\" cy=\"216.13647505821791\" r=\"0.0\"></circle></g><g class=\"toyplot-Datum\" style=\"fill:rgb(100%,85.1%,18.4%);fill-opacity:1.0;opacity:1.0;stroke:rgb(100%,85.1%,18.4%);stroke-opacity:1.0\"><circle cx=\"303.82775119617224\" cy=\"216.13647505821791\" r=\"0.0\"></circle></g></g></g><g class=\"toyplot-mark-Graph\" id=\"tee91db1f1aa04cfebdb86a1c8c183188\"><g class=\"toyplot-Edges\"><path d=\"M 208.133971292 232.351697512 L 303.827751196 232.351697512\" style=\"fill:none;stroke:rgb(70.2%,70.2%,70.2%);stroke-dasharray:5, 5;stroke-opacity:1.0;stroke-width:1.0\"></path></g><g class=\"toyplot-Vertices\"><g class=\"toyplot-Datum\" style=\"fill:rgb(89.8%,76.9%,58%);fill-opacity:1.0;opacity:1.0;stroke:rgb(89.8%,76.9%,58%);stroke-opacity:1.0\"><circle cx=\"208.13397129186603\" cy=\"232.35169751195002\" r=\"0.0\"></circle></g><g class=\"toyplot-Datum\" style=\"fill:rgb(89.8%,76.9%,58%);fill-opacity:1.0;opacity:1.0;stroke:rgb(89.8%,76.9%,58%);stroke-opacity:1.0\"><circle cx=\"303.82775119617224\" cy=\"232.35169751195002\" r=\"0.0\"></circle></g></g></g><g class=\"toyplot-mark-Graph\" id=\"tca211fa116314cb1b1be9649cfd81811\"><g class=\"toyplot-Edges\"><path d=\"M 208.133971292 248.566919966 L 303.827751196 248.566919966\" style=\"fill:none;stroke:rgb(70.2%,70.2%,70.2%);stroke-dasharray:5, 5;stroke-opacity:1.0;stroke-width:1.0\"></path></g><g class=\"toyplot-Vertices\"><g class=\"toyplot-Datum\" style=\"fill:rgb(70.2%,70.2%,70.2%);fill-opacity:1.0;opacity:1.0;stroke:rgb(70.2%,70.2%,70.2%);stroke-opacity:1.0\"><circle cx=\"208.13397129186603\" cy=\"248.56691996568205\" r=\"0.0\"></circle></g><g class=\"toyplot-Datum\" style=\"fill:rgb(70.2%,70.2%,70.2%);fill-opacity:1.0;opacity:1.0;stroke:rgb(70.2%,70.2%,70.2%);stroke-opacity:1.0\"><circle cx=\"303.82775119617224\" cy=\"248.56691996568205\" r=\"0.0\"></circle></g></g></g><g class=\"toyplot-mark-Graph\" id=\"t7c16e89a9dd143669a1f93b4fe57d7cf\"><g class=\"toyplot-Edges\"><path d=\"M 208.133971292 264.782142419 L 303.827751196 264.782142419\" style=\"fill:none;stroke:rgb(70.2%,70.2%,70.2%);stroke-dasharray:5, 5;stroke-opacity:1.0;stroke-width:1.0\"></path></g><g class=\"toyplot-Vertices\"><g class=\"toyplot-Datum\" style=\"fill:rgb(40%,76.1%,64.7%);fill-opacity:1.0;opacity:1.0;stroke:rgb(40%,76.1%,64.7%);stroke-opacity:1.0\"><circle cx=\"208.13397129186603\" cy=\"264.78214241941413\" r=\"0.0\"></circle></g><g class=\"toyplot-Datum\" style=\"fill:rgb(40%,76.1%,64.7%);fill-opacity:1.0;opacity:1.0;stroke:rgb(40%,76.1%,64.7%);stroke-opacity:1.0\"><circle cx=\"303.82775119617224\" cy=\"264.78214241941413\" r=\"0.0\"></circle></g></g></g><g class=\"toyplot-mark-Rect\" id=\"tfc9eba6429d14379b66c8c9b2d84dc70\" style=\"stroke:none\"><g class=\"toyplot-Series\"><rect class=\"toyplot-Datum\" height=\"8.1076112268660694\" style=\"fill:rgb(90.6%,54.1%,76.5%);fill-opacity:1.0;opacity:1.0;stroke:none\" width=\"27.38262685177159\" x=\"276.44512434440065\" y=\"82.360889814928285\"></rect></g></g><g class=\"toyplot-mark-Rect\" id=\"td2a13da3c2ab4cf19b8757deff63d4ac\" style=\"stroke:none\"><g class=\"toyplot-Series\"><rect class=\"toyplot-Datum\" height=\"8.1076112268660268\" style=\"fill:rgb(90.6%,54.1%,76.5%);fill-opacity:1.0;opacity:1.0;stroke:none\" width=\"5.5359773987075869\" x=\"298.29177379746466\" y=\"98.576112268660395\"></rect></g></g><g class=\"toyplot-mark-Rect\" id=\"te1bc0e3bace843f9abcb04c0826004a9\" style=\"stroke:none\"><g class=\"toyplot-Series\"><rect class=\"toyplot-Datum\" height=\"8.1076112268660552\" style=\"fill:rgb(90.6%,54.1%,76.5%);fill-opacity:1.0;opacity:1.0;stroke:none\" width=\"0.6359904202809048\" x=\"303.19176077589134\" y=\"114.79133472239243\"></rect></g></g><g class=\"toyplot-mark-Rect\" id=\"tca427874d8174c4b9a7d2335f965ef80\" style=\"stroke:none\"><g class=\"toyplot-Series\"><rect class=\"toyplot-Datum\" height=\"8.1076112268660268\" style=\"fill:rgb(90.6%,54.1%,76.5%);fill-opacity:1.0;opacity:1.0;stroke:none\" width=\"8.5756426848354295\" x=\"295.25210851133681\" y=\"131.00655717612455\"></rect></g></g><g class=\"toyplot-mark-Rect\" id=\"t811ad6440ea74500a08065b451dd19c3\" style=\"stroke:none\"><g class=\"toyplot-Series\"><rect class=\"toyplot-Datum\" height=\"8.1076112268660836\" style=\"fill:rgb(90.6%,54.1%,76.5%);fill-opacity:1.0;opacity:1.0;stroke:none\" width=\"18.189461585295533\" x=\"285.63828961087671\" y=\"147.22177962985657\"></rect></g></g><g class=\"toyplot-mark-Rect\" id=\"t29d5ed153faf4db18029c42f6e821971\" style=\"stroke:none\"><g class=\"toyplot-Series\"><rect class=\"toyplot-Datum\" height=\"8.1076112268660268\" style=\"fill:rgb(90.6%,54.1%,76.5%);fill-opacity:1.0;opacity:1.0;stroke:none\" width=\"1.0136329776432262\" x=\"302.81411821852902\" y=\"163.43700208358871\"></rect></g></g><g class=\"toyplot-mark-Rect\" id=\"taee998b74d0f4168882b2868e3b835c4\" style=\"stroke:none\"><g class=\"toyplot-Series\"><rect class=\"toyplot-Datum\" height=\"8.1076112268660552\" style=\"fill:rgb(90.6%,54.1%,76.5%);fill-opacity:1.0;opacity:1.0;stroke:none\" width=\"1.1060495821939753\" x=\"302.72170161397827\" y=\"179.65222453732071\"></rect></g></g><g class=\"toyplot-mark-Rect\" id=\"ta2a4c5eb443f4597a29cd99bba575051\" style=\"stroke:none\"><g class=\"toyplot-Series\"><rect class=\"toyplot-Datum\" height=\"8.1076112268660552\" style=\"fill:rgb(90.6%,54.1%,76.5%);fill-opacity:1.0;opacity:1.0;stroke:none\" width=\"1.2739952528810363\" x=\"302.55375594329121\" y=\"195.86744699105284\"></rect></g></g><g class=\"toyplot-mark-Rect\" id=\"t7254e3a86a6544b882aeef76348c405d\" style=\"stroke:none\"><g class=\"toyplot-Series\"><rect class=\"toyplot-Datum\" height=\"8.1076112268659983\" style=\"fill:rgb(90.6%,54.1%,76.5%);fill-opacity:1.0;opacity:1.0;stroke:none\" width=\"32.196982961443041\" x=\"271.6307682347292\" y=\"212.08266944478493\"></rect></g></g><g class=\"toyplot-mark-Rect\" id=\"t2330efcd68a0427fa3b09094873f33e6\" style=\"stroke:none\"><g class=\"toyplot-Series\"><rect class=\"toyplot-Datum\" height=\"8.1076112268660552\" style=\"fill:rgb(90.6%,54.1%,76.5%);fill-opacity:1.0;opacity:1.0;stroke:none\" width=\"11.45787453511565\" x=\"292.36987666105659\" y=\"228.29789189851698\"></rect></g></g><g class=\"toyplot-mark-Rect\" id=\"t902f69e67bc741fe9b7a72a37822c25d\" style=\"stroke:none\"><g class=\"toyplot-Series\"><rect class=\"toyplot-Datum\" height=\"8.1076112268659699\" style=\"fill:rgb(90.6%,54.1%,76.5%);fill-opacity:1.0;opacity:1.0;stroke:none\" width=\"1.2425455330240993\" x=\"302.58520566314814\" y=\"244.51311435224909\"></rect></g></g><g class=\"toyplot-mark-Rect\" id=\"t40a10fafb6e0470dbd2239747a828f1c\" style=\"stroke:none\"><g class=\"toyplot-Series\"><rect class=\"toyplot-Datum\" height=\"8.1076112268660268\" style=\"fill:rgb(90.6%,54.1%,76.5%);fill-opacity:1.0;opacity:1.0;stroke:none\" width=\"13.542940761221075\" x=\"290.28481043495117\" y=\"260.72833680598114\"></rect></g></g><g class=\"toyplot-mark-Graph\" id=\"tb4f3d5c53c9f428f8daf82db06cb26ca\"><g class=\"toyplot-Edges\"><path d=\"M 208.133971292 280.997364873 L 303.827751196 280.997364873\" style=\"fill:none;stroke:rgb(16.1%,15.3%,14.1%);stroke-opacity:1.0;stroke-width:1.0\"></path><path d=\"M 303.827751196 74.2532785881 L 303.827751196 276.94355926\" style=\"fill:none;stroke:rgb(16.1%,15.3%,14.1%);stroke-opacity:1.0;stroke-width:1.0\"></path><path d=\"M 208.133971292 285.051170487 L 208.133971292 280.997364873\" style=\"fill:none;stroke:rgb(16.1%,15.3%,14.1%);stroke-opacity:1.0;stroke-width:1.0\"></path><path d=\"M 303.827751196 285.051170487 L 303.827751196 280.997364873\" style=\"fill:none;stroke:rgb(16.1%,15.3%,14.1%);stroke-opacity:1.0;stroke-width:1.0\"></path><path d=\"M 81.8181818182 280.997364873 L 177.511961722 280.997364873\" style=\"fill:none;stroke:rgb(16.1%,15.3%,14.1%);stroke-opacity:1.0;stroke-width:1.0\"></path><path d=\"M 81.8181818182 285.051170487 L 81.8181818182 280.997364873\" style=\"fill:none;stroke:rgb(16.1%,15.3%,14.1%);stroke-opacity:1.0;stroke-width:1.0\"></path><path d=\"M 177.511961722 285.051170487 L 177.511961722 280.997364873\" style=\"fill:none;stroke:rgb(16.1%,15.3%,14.1%);stroke-opacity:1.0;stroke-width:1.0\"></path></g><g class=\"toyplot-Vertices\"><g class=\"toyplot-Datum\" style=\"fill:rgb(98.8%,55.3%,38.4%);fill-opacity:1.0;opacity:1.0;stroke:rgb(98.8%,55.3%,38.4%);stroke-opacity:1.0\"><circle cx=\"208.13397129186603\" cy=\"280.99736487314618\" r=\"0.0\"></circle></g><g class=\"toyplot-Datum\" style=\"fill:rgb(98.8%,55.3%,38.4%);fill-opacity:1.0;opacity:1.0;stroke:rgb(98.8%,55.3%,38.4%);stroke-opacity:1.0\"><circle cx=\"303.82775119617224\" cy=\"280.99736487314618\" r=\"0.0\"></circle></g><g class=\"toyplot-Datum\" style=\"fill:rgb(98.8%,55.3%,38.4%);fill-opacity:1.0;opacity:1.0;stroke:rgb(98.8%,55.3%,38.4%);stroke-opacity:1.0\"><circle cx=\"303.82775119617224\" cy=\"74.25327858806223\" r=\"0.0\"></circle></g><g class=\"toyplot-Datum\" style=\"fill:rgb(98.8%,55.3%,38.4%);fill-opacity:1.0;opacity:1.0;stroke:rgb(98.8%,55.3%,38.4%);stroke-opacity:1.0\"><circle cx=\"303.82775119617224\" cy=\"276.9435592597132\" r=\"0.0\"></circle></g><g class=\"toyplot-Datum\" style=\"fill:rgb(98.8%,55.3%,38.4%);fill-opacity:1.0;opacity:1.0;stroke:rgb(98.8%,55.3%,38.4%);stroke-opacity:1.0\"><circle cx=\"208.13397129186603\" cy=\"285.05117048657922\" r=\"0.0\"></circle></g><g class=\"toyplot-Datum\" style=\"fill:rgb(98.8%,55.3%,38.4%);fill-opacity:1.0;opacity:1.0;stroke:rgb(98.8%,55.3%,38.4%);stroke-opacity:1.0\"><circle cx=\"303.82775119617224\" cy=\"285.05117048657922\" r=\"0.0\"></circle></g><g class=\"toyplot-Datum\" style=\"fill:rgb(98.8%,55.3%,38.4%);fill-opacity:1.0;opacity:1.0;stroke:rgb(98.8%,55.3%,38.4%);stroke-opacity:1.0\"><circle cx=\"81.818181818181827\" cy=\"280.99736487314618\" r=\"0.0\"></circle></g><g class=\"toyplot-Datum\" style=\"fill:rgb(98.8%,55.3%,38.4%);fill-opacity:1.0;opacity:1.0;stroke:rgb(98.8%,55.3%,38.4%);stroke-opacity:1.0\"><circle cx=\"177.51196172248802\" cy=\"280.99736487314618\" r=\"0.0\"></circle></g><g class=\"toyplot-Datum\" style=\"fill:rgb(98.8%,55.3%,38.4%);fill-opacity:1.0;opacity:1.0;stroke:rgb(98.8%,55.3%,38.4%);stroke-opacity:1.0\"><circle cx=\"81.818181818181827\" cy=\"285.05117048657922\" r=\"0.0\"></circle></g><g class=\"toyplot-Datum\" style=\"fill:rgb(98.8%,55.3%,38.4%);fill-opacity:1.0;opacity:1.0;stroke:rgb(98.8%,55.3%,38.4%);stroke-opacity:1.0\"><circle cx=\"177.51196172248802\" cy=\"285.05117048657922\" r=\"0.0\"></circle></g></g></g><g class=\"toyplot-mark-Text\" id=\"tfabfbb59c1c3483186b580bed4229adb\" style=\"-toyplot-anchor-shift:0;alignment-baseline:middle;font-size:12px;font-weight:normal;stroke:none;text-anchor:middle\"><g class=\"toyplot-Series\"><text class=\"toyplot-Datum\" style=\"fill:rgb(16.1%,15.3%,14.1%);fill-opacity:1.0;font-weight:normal;opacity:1.0;stroke:none;text-anchor:middle\" transform=\"translate(208.13397129186603,297.21258732687829)translate(0,3.375)\"><tspan style=\"font-size:12.0px\">3.0</tspan></text><text class=\"toyplot-Datum\" style=\"fill:rgb(16.1%,15.3%,14.1%);fill-opacity:1.0;font-weight:normal;opacity:1.0;stroke:none;text-anchor:middle\" transform=\"translate(303.82775119617224,297.21258732687829)translate(0,3.375)\"><tspan style=\"font-size:12.0px\">0.0</tspan></text><text class=\"toyplot-Datum\" style=\"fill:rgb(16.1%,15.3%,14.1%);fill-opacity:1.0;font-weight:normal;opacity:1.0;stroke:none;text-anchor:middle\" transform=\"translate(81.818181818181827,297.21258732687829)translate(0,3.375)\"><tspan style=\"font-size:12.0px\">-0.8</tspan></text><text class=\"toyplot-Datum\" style=\"fill:rgb(16.1%,15.3%,14.1%);fill-opacity:1.0;font-weight:normal;opacity:1.0;stroke:none;text-anchor:middle\" transform=\"translate(177.51196172248802,297.21258732687829)translate(0,3.375)\"><tspan style=\"font-size:12.0px\">0.8</tspan></text></g></g><g class=\"toyplot-mark-Text\" id=\"t67aa168ca9f748dca8c5c1622732caab\" style=\"-toyplot-anchor-shift:0;alignment-baseline:middle;font-size:12px;font-weight:normal;stroke:none;text-anchor:middle\"><g class=\"toyplot-Series\"><text class=\"toyplot-Datum\" style=\"fill:rgb(16.1%,15.3%,14.1%);fill-opacity:1.0;font-weight:normal;opacity:1.0;stroke:none;text-anchor:middle\" transform=\"translate(255.98086124401914,62.09186174776319)translate(0,3.375)\"><tspan style=\"font-size:12.0px\">Z-scores</tspan></text><text class=\"toyplot-Datum\" style=\"fill:rgb(16.1%,15.3%,14.1%);fill-opacity:1.0;font-weight:normal;opacity:1.0;stroke:none;text-anchor:middle\" transform=\"translate(129.66507177033495,62.09186174776319)translate(0,3.375)\"><tspan style=\"font-size:12.0px\">D-statistics</tspan></text></g></g><g class=\"toyplot-mark-FillMagnitudes\" id=\"t5afc24f96d8e4ee3b75a95e2fa63a826\" style=\"stroke:none\"><polygon points=\"81.818181818181827,70.199472974629245 85.007974481658692,70.199472974629245 88.197767145135586,70.199472974629245 91.387559808612451,70.199472974629245 94.577352472089331,70.199472974629245 97.767145135566182,70.199472974629245 100.95693779904309,70.199472974629245 104.14673046251995,70.199472974629245 107.33652312599681,70.199472974629245 110.5263157894737,70.199472974629245 113.71610845295058,70.199472974629245 116.90590111642746,70.199472974629245 120.09569377990431,70.199472974629245 123.2854864433812,70.199472974629245 126.47527910685807,70.199472974629245 129.66507177033495,70.199472974629245 132.85486443381183,70.199472974629245 136.04465709728871,70.199472974629245 139.23444976076556,70.199472974629245 142.42424242424244,70.199472974629245 145.61403508771932,70.199472974629245 148.8038277511962,70.199472974629245 151.99362041467305,70.199472974629245 155.18341307814995,70.199472974629245 158.3732057416268,70.199472974629245 161.56299840510368,70.199472974629245 164.75279106858056,70.199472974629245 167.94258373205741,70.199472974629245 171.13237639553429,70.199472974629245 174.32216905901117,70.199472974629245 174.32216905901117,270.86285083956369 171.13237639553429,270.86285083956369 167.94258373205741,270.86285083956369 164.75279106858056,270.86285083956369 161.56299840510368,270.86285083956369 158.3732057416268,270.86285083956369 155.18341307814995,270.86285083956369 151.99362041467305,270.86285083956369 148.8038277511962,270.86285083956369 145.61403508771932,270.86285083956369 142.42424242424244,270.86285083956369 139.23444976076556,270.86285083956369 136.04465709728871,270.86285083956369 132.85486443381183,270.86285083956369 129.66507177033495,270.86285083956369 126.47527910685807,270.86285083956369 123.2854864433812,270.86285083956369 120.09569377990431,270.86285083956369 116.90590111642746,270.86285083956369 113.71610845295058,270.86285083956369 110.5263157894737,270.86285083956369 107.33652312599681,270.86285083956369 104.14673046251995,270.86285083956369 100.95693779904309,270.86285083956369 97.767145135566182,270.86285083956369 94.577352472089331,270.86285083956369 91.387559808612451,270.86285083956369 88.197767145135586,270.86285083956369 85.007974481658692,270.86285083956369 81.818181818181827,270.86285083956369\" style=\"fill:rgb(100%,100%,100%);fill-opacity:1.0;opacity:1.0;stroke:none\"></polygon><polygon points=\"81.818181818181827,270.86285083956369 85.007974481658692,270.86285083956369 88.197767145135586,270.86285083956369 91.387559808612451,270.86285083956369 94.577352472089331,270.86285083956369 97.767145135566182,270.86285083956369 100.95693779904309,270.86285083956369 104.14673046251995,270.86285083956369 107.33652312599681,270.86285083956369 110.5263157894737,270.86285083956369 113.71610845295058,270.86285083956369 116.90590111642746,270.86285083956369 120.09569377990431,270.86285083956369 123.2854864433812,270.86285083956369 126.47527910685807,270.86285083956369 129.66507177033495,270.86285083956369 132.85486443381183,270.86285083956369 136.04465709728871,270.86285083956369 139.23444976076556,270.86285083956369 142.42424242424244,270.86285083956369 145.61403508771932,270.86285083956369 148.8038277511962,270.86285083956369 151.99362041467305,270.86285083956369 155.18341307814995,270.86285083956369 158.3732057416268,270.86285083956369 161.56299840510368,270.86285083956369 164.75279106858056,270.86285083956369 167.94258373205741,270.86285083956369 171.13237639553429,270.86285083956369 174.32216905901117,270.86285083956369 174.32216905901117,270.86285083956369 171.13237639553429,270.86285083956369 167.94258373205741,270.86285083956369 164.75279106858056,270.86285083956369 161.56299840510368,270.44439348591897 158.3732057416268,270.30490770137072 155.18341307814995,270.16542191682254 151.99362041467305,269.60747877862957 148.8038277511962,269.04953564043666 145.61403508771932,267.37570622585787 142.42424242424244,266.12033416492375 139.23444976076556,265.56239102673084 136.04465709728871,262.2147321975732 132.85486443381183,261.79627484392853 129.66507177033495,258.16964444567452 126.47527910685807,261.51730327483205 123.2854864433812,257.89067287657804 120.09569377990431,258.16964444567452 116.90590111642746,260.1224454293498 113.71610845295058,259.1460449375121 110.5263157894737,260.81987435209089 107.33652312599681,260.68038856754265 104.14673046251995,266.12033416492375 100.95693779904309,266.53879151856847 97.767145135566182,269.32850720953314 94.577352472089331,269.60747877862957 91.387559808612451,270.16542191682254 88.197767145135586,270.58387927046721 85.007974481658692,270.72336505501551 81.818181818181827,270.72336505501551\" style=\"fill:rgb(70.2%,70.2%,70.2%);fill-opacity:1.0;opacity:1.0;stroke:none\"></polygon></g><g class=\"toyplot-mark-FillMagnitudes\" id=\"tbf998d1ba5ab43a9a1b9642a8993b6ed\" style=\"stroke:none\"><polygon points=\"81.818181818181827,70.199472974629245 85.007974481658692,70.199472974629245 88.197767145135586,70.199472974629245 91.387559808612451,70.199472974629245 94.577352472089331,70.199472974629245 97.767145135566182,70.199472974629245 100.95693779904309,70.199472974629245 104.14673046251995,70.199472974629245 107.33652312599681,70.199472974629245 110.5263157894737,70.199472974629245 113.71610845295058,70.199472974629245 116.90590111642746,70.199472974629245 120.09569377990431,70.199472974629245 123.2854864433812,70.199472974629245 126.47527910685807,70.199472974629245 129.66507177033495,70.199472974629245 132.85486443381183,70.199472974629245 136.04465709728871,70.199472974629245 139.23444976076556,70.199472974629245 142.42424242424244,70.199472974629245 145.61403508771932,70.199472974629245 148.8038277511962,70.199472974629245 151.99362041467305,70.199472974629245 155.18341307814995,70.199472974629245 158.3732057416268,70.199472974629245 161.56299840510368,70.199472974629245 164.75279106858056,70.199472974629245 167.94258373205741,70.199472974629245 171.13237639553429,70.199472974629245 174.32216905901117,70.199472974629245 174.32216905901117,254.64762838583158 171.13237639553429,254.64762838583158 167.94258373205741,254.64762838583158 164.75279106858056,254.64762838583158 161.56299840510368,254.64762838583158 158.3732057416268,254.64762838583158 155.18341307814995,254.64762838583158 151.99362041467305,254.64762838583158 148.8038277511962,254.64762838583158 145.61403508771932,254.64762838583158 142.42424242424244,254.64762838583158 139.23444976076556,254.64762838583158 136.04465709728871,254.64762838583158 132.85486443381183,254.64762838583158 129.66507177033495,254.64762838583158 126.47527910685807,254.64762838583158 123.2854864433812,254.64762838583158 120.09569377990431,254.64762838583158 116.90590111642746,254.64762838583158 113.71610845295058,254.64762838583158 110.5263157894737,254.64762838583158 107.33652312599681,254.64762838583158 104.14673046251995,254.64762838583158 100.95693779904309,254.64762838583158 97.767145135566182,254.64762838583158 94.577352472089331,254.64762838583158 91.387559808612451,254.64762838583158 88.197767145135586,254.64762838583158 85.007974481658692,254.64762838583158 81.818181818181827,254.64762838583158\" style=\"fill:rgb(100%,100%,100%);fill-opacity:1.0;opacity:1.0;stroke:none\"></polygon><polygon points=\"81.818181818181827,254.64762838583158 85.007974481658692,254.64762838583158 88.197767145135586,254.64762838583158 91.387559808612451,254.64762838583158 94.577352472089331,254.64762838583158 97.767145135566182,254.64762838583158 100.95693779904309,254.64762838583158 104.14673046251995,254.64762838583158 107.33652312599681,254.64762838583158 110.5263157894737,254.64762838583158 113.71610845295058,254.64762838583158 116.90590111642746,254.64762838583158 120.09569377990431,254.64762838583158 123.2854864433812,254.64762838583158 126.47527910685807,254.64762838583158 129.66507177033495,254.64762838583158 132.85486443381183,254.64762838583158 136.04465709728871,254.64762838583158 139.23444976076556,254.64762838583158 142.42424242424244,254.64762838583158 145.61403508771932,254.64762838583158 148.8038277511962,254.64762838583158 151.99362041467305,254.64762838583158 155.18341307814995,254.64762838583158 158.3732057416268,254.64762838583158 161.56299840510368,254.64762838583158 164.75279106858056,254.64762838583158 167.94258373205741,254.64762838583158 171.13237639553429,254.64762838583158 174.32216905901117,254.64762838583158 174.32216905901117,254.64762838583158 171.13237639553429,254.64762838583158 167.94258373205741,254.64762838583158 164.75279106858056,254.18016251329155 161.56299840510368,254.53076191769659 158.3732057416268,254.18016251329155 155.18341307814995,252.8946313638065 151.99362041467305,251.95969961872646 148.8038277511962,251.60910021432142 145.61403508771932,250.55730200110642 142.42424242424244,247.75250676586623 139.23444976076556,247.40190736146124 136.04465709728871,246.70070855265121 132.85486443381183,244.94771153062609 129.66507177033495,241.67545042284598 126.47527910685807,244.71397859435609 123.2854864433812,244.94771153062609 120.09569377990431,245.06457799876111 116.90590111642746,245.29831093503111 113.71610845295058,246.58384208451616 110.5263157894737,250.44043553297138 107.33652312599681,251.49223374618646 104.14673046251995,252.54403195940145 100.95693779904309,252.66089842753652 97.767145135566182,253.82956310888653 94.577352472089331,254.41389544956155 91.387559808612451,254.41389544956155 88.197767145135586,254.64762838583158 85.007974481658692,254.53076191769659 81.818181818181827,254.64762838583158\" style=\"fill:rgb(70.2%,70.2%,70.2%);fill-opacity:1.0;opacity:1.0;stroke:none\"></polygon></g><g class=\"toyplot-mark-FillMagnitudes\" id=\"t960c821b332d40239e08f0dadc2dc4bc\" style=\"stroke:none\"><polygon points=\"81.818181818181827,70.199472974629245 85.007974481658692,70.199472974629245 88.197767145135586,70.199472974629245 91.387559808612451,70.199472974629245 94.577352472089331,70.199472974629245 97.767145135566182,70.199472974629245 100.95693779904309,70.199472974629245 104.14673046251995,70.199472974629245 107.33652312599681,70.199472974629245 110.5263157894737,70.199472974629245 113.71610845295058,70.199472974629245 116.90590111642746,70.199472974629245 120.09569377990431,70.199472974629245 123.2854864433812,70.199472974629245 126.47527910685807,70.199472974629245 129.66507177033495,70.199472974629245 132.85486443381183,70.199472974629245 136.04465709728871,70.199472974629245 139.23444976076556,70.199472974629245 142.42424242424244,70.199472974629245 145.61403508771932,70.199472974629245 148.8038277511962,70.199472974629245 151.99362041467305,70.199472974629245 155.18341307814995,70.199472974629245 158.3732057416268,70.199472974629245 161.56299840510368,70.199472974629245 164.75279106858056,70.199472974629245 167.94258373205741,70.199472974629245 171.13237639553429,70.199472974629245 174.32216905901117,70.199472974629245 174.32216905901117,238.43240593209953 171.13237639553429,238.43240593209953 167.94258373205741,238.43240593209953 164.75279106858056,238.43240593209953 161.56299840510368,238.43240593209953 158.3732057416268,238.43240593209953 155.18341307814995,238.43240593209953 151.99362041467305,238.43240593209953 148.8038277511962,238.43240593209953 145.61403508771932,238.43240593209953 142.42424242424244,238.43240593209953 139.23444976076556,238.43240593209953 136.04465709728871,238.43240593209953 132.85486443381183,238.43240593209953 129.66507177033495,238.43240593209953 126.47527910685807,238.43240593209953 123.2854864433812,238.43240593209953 120.09569377990431,238.43240593209953 116.90590111642746,238.43240593209953 113.71610845295058,238.43240593209953 110.5263157894737,238.43240593209953 107.33652312599681,238.43240593209953 104.14673046251995,238.43240593209953 100.95693779904309,238.43240593209953 97.767145135566182,238.43240593209953 94.577352472089331,238.43240593209953 91.387559808612451,238.43240593209953 88.197767145135586,238.43240593209953 85.007974481658692,238.43240593209953 81.818181818181827,238.43240593209953\" style=\"fill:rgb(100%,100%,100%);fill-opacity:1.0;opacity:1.0;stroke:none\"></polygon><polygon points=\"81.818181818181827,238.43240593209953 85.007974481658692,238.43240593209953 88.197767145135586,238.43240593209953 91.387559808612451,238.43240593209953 94.577352472089331,238.43240593209953 97.767145135566182,238.43240593209953 100.95693779904309,238.43240593209953 104.14673046251995,238.43240593209953 107.33652312599681,238.43240593209953 110.5263157894737,238.43240593209953 113.71610845295058,238.43240593209953 116.90590111642746,238.43240593209953 120.09569377990431,238.43240593209953 123.2854864433812,238.43240593209953 126.47527910685807,238.43240593209953 129.66507177033495,238.43240593209953 132.85486443381183,238.43240593209953 136.04465709728871,238.43240593209953 139.23444976076556,238.43240593209953 142.42424242424244,238.43240593209953 145.61403508771932,238.43240593209953 148.8038277511962,238.43240593209953 151.99362041467305,238.43240593209953 155.18341307814995,238.43240593209953 158.3732057416268,238.43240593209953 161.56299840510368,238.43240593209953 164.75279106858056,238.43240593209953 167.94258373205741,238.43240593209953 171.13237639553429,238.43240593209953 174.32216905901117,238.43240593209953 174.32216905901117,238.43240593209953 171.13237639553429,238.43240593209953 167.94258373205741,238.43240593209953 164.75279106858056,238.43240593209953 161.56299840510368,238.2028098619582 158.3732057416268,238.31760789702886 155.18341307814995,238.08801182688748 151.99362041467305,237.62881968660483 148.8038277511962,236.82523344111016 145.61403508771932,235.33285898519145 142.42424242424244,234.64407077476741 139.23444976076556,232.23331203828337 136.04465709728871,231.08533168757666 132.85486443381183,229.70775526672864 129.66507177033495,229.0189670563046 126.47527910685807,227.2969965302446 123.2854864433812,227.98578474066858 120.09569377990431,225.46022796911384 116.90590111642746,230.39654347715265 113.71610845295058,230.626139547294 110.5263157894737,230.51134151222331 107.33652312599681,232.69250417856608 104.14673046251995,234.18487863448476 100.95693779904309,235.90684916054479 97.767145135566182,237.85841575674618 94.577352472089331,237.62881968660483 91.387559808612451,237.97321379181685 88.197767145135586,238.08801182688748 85.007974481658692,238.31760789702886 81.818181818181827,238.43240593209953\" style=\"fill:rgb(70.2%,70.2%,70.2%);fill-opacity:1.0;opacity:1.0;stroke:none\"></polygon></g><g class=\"toyplot-mark-FillMagnitudes\" id=\"t1f6776084d5a4870be998401570bd54c\" style=\"stroke:none\"><polygon points=\"81.818181818181827,70.199472974629245 85.007974481658692,70.199472974629245 88.197767145135586,70.199472974629245 91.387559808612451,70.199472974629245 94.577352472089331,70.199472974629245 97.767145135566182,70.199472974629245 100.95693779904309,70.199472974629245 104.14673046251995,70.199472974629245 107.33652312599681,70.199472974629245 110.5263157894737,70.199472974629245 113.71610845295058,70.199472974629245 116.90590111642746,70.199472974629245 120.09569377990431,70.199472974629245 123.2854864433812,70.199472974629245 126.47527910685807,70.199472974629245 129.66507177033495,70.199472974629245 132.85486443381183,70.199472974629245 136.04465709728871,70.199472974629245 139.23444976076556,70.199472974629245 142.42424242424244,70.199472974629245 145.61403508771932,70.199472974629245 148.8038277511962,70.199472974629245 151.99362041467305,70.199472974629245 155.18341307814995,70.199472974629245 158.3732057416268,70.199472974629245 161.56299840510368,70.199472974629245 164.75279106858056,70.199472974629245 167.94258373205741,70.199472974629245 171.13237639553429,70.199472974629245 174.32216905901117,70.199472974629245 174.32216905901117,222.21718347836745 171.13237639553429,222.21718347836745 167.94258373205741,222.21718347836745 164.75279106858056,222.21718347836745 161.56299840510368,222.21718347836745 158.3732057416268,222.21718347836745 155.18341307814995,222.21718347836745 151.99362041467305,222.21718347836745 148.8038277511962,222.21718347836745 145.61403508771932,222.21718347836745 142.42424242424244,222.21718347836745 139.23444976076556,222.21718347836745 136.04465709728871,222.21718347836745 132.85486443381183,222.21718347836745 129.66507177033495,222.21718347836745 126.47527910685807,222.21718347836745 123.2854864433812,222.21718347836745 120.09569377990431,222.21718347836745 116.90590111642746,222.21718347836745 113.71610845295058,222.21718347836745 110.5263157894737,222.21718347836745 107.33652312599681,222.21718347836745 104.14673046251995,222.21718347836745 100.95693779904309,222.21718347836745 97.767145135566182,222.21718347836745 94.577352472089331,222.21718347836745 91.387559808612451,222.21718347836745 88.197767145135586,222.21718347836745 85.007974481658692,222.21718347836745 81.818181818181827,222.21718347836745\" style=\"fill:rgb(100%,100%,100%);fill-opacity:1.0;opacity:1.0;stroke:none\"></polygon><polygon points=\"81.818181818181827,222.21718347836745 85.007974481658692,222.21718347836745 88.197767145135586,222.21718347836745 91.387559808612451,222.21718347836745 94.577352472089331,222.21718347836745 97.767145135566182,222.21718347836745 100.95693779904309,222.21718347836745 104.14673046251995,222.21718347836745 107.33652312599681,222.21718347836745 110.5263157894737,222.21718347836745 113.71610845295058,222.21718347836745 116.90590111642746,222.21718347836745 120.09569377990431,222.21718347836745 123.2854864433812,222.21718347836745 126.47527910685807,222.21718347836745 129.66507177033495,222.21718347836745 132.85486443381183,222.21718347836745 136.04465709728871,222.21718347836745 139.23444976076556,222.21718347836745 142.42424242424244,222.21718347836745 145.61403508771932,222.21718347836745 148.8038277511962,222.21718347836745 151.99362041467305,222.21718347836745 155.18341307814995,222.21718347836745 158.3732057416268,222.21718347836745 161.56299840510368,222.21718347836745 164.75279106858056,222.21718347836745 167.94258373205741,222.21718347836745 171.13237639553429,222.21718347836745 174.32216905901117,222.21718347836745 174.32216905901117,222.09925458779483 171.13237639553429,222.21718347836745 167.94258373205741,222.21718347836745 164.75279106858056,222.21718347836745 161.56299840510368,222.21718347836745 158.3732057416268,221.98132569722225 155.18341307814995,222.09925458779483 151.99362041467305,221.86339680664966 148.8038277511962,221.50961013493185 145.61403508771932,221.39168124435926 142.42424242424244,221.27375235378668 139.23444976076556,219.85860566691551 136.04465709728871,219.62274788577031 132.85486443381183,217.61795674603619 129.66507177033495,215.14145004401163 126.47527910685807,216.55659673088283 123.2854864433812,214.08009002885825 120.09569377990431,212.7828722325597 116.90590111642746,211.36772554568856 113.71610845295058,209.24500551538182 110.5263157894737,214.19801891943084 107.33652312599681,209.71672107767219 104.14673046251995,213.37251668542265 100.95693779904309,214.90559226286646 97.767145135566182,217.61795674603619 94.577352472089331,218.20760119889914 91.387559808612451,219.62274788577031 88.197767145135586,221.27375235378668 85.007974481658692,220.80203679149628 81.818181818181827,221.62753902550446\" style=\"fill:rgb(70.2%,70.2%,70.2%);fill-opacity:1.0;opacity:1.0;stroke:none\"></polygon></g><g class=\"toyplot-mark-FillMagnitudes\" id=\"td81ff52600724d4aa42fac7b36ff58c5\" style=\"stroke:none\"><polygon points=\"81.818181818181827,70.199472974629245 85.007974481658692,70.199472974629245 88.197767145135586,70.199472974629245 91.387559808612451,70.199472974629245 94.577352472089331,70.199472974629245 97.767145135566182,70.199472974629245 100.95693779904309,70.199472974629245 104.14673046251995,70.199472974629245 107.33652312599681,70.199472974629245 110.5263157894737,70.199472974629245 113.71610845295058,70.199472974629245 116.90590111642746,70.199472974629245 120.09569377990431,70.199472974629245 123.2854864433812,70.199472974629245 126.47527910685807,70.199472974629245 129.66507177033495,70.199472974629245 132.85486443381183,70.199472974629245 136.04465709728871,70.199472974629245 139.23444976076556,70.199472974629245 142.42424242424244,70.199472974629245 145.61403508771932,70.199472974629245 148.8038277511962,70.199472974629245 151.99362041467305,70.199472974629245 155.18341307814995,70.199472974629245 158.3732057416268,70.199472974629245 161.56299840510368,70.199472974629245 164.75279106858056,70.199472974629245 167.94258373205741,70.199472974629245 171.13237639553429,70.199472974629245 174.32216905901117,70.199472974629245 174.32216905901117,206.00196102463536 171.13237639553429,206.00196102463536 167.94258373205741,206.00196102463536 164.75279106858056,206.00196102463536 161.56299840510368,206.00196102463536 158.3732057416268,206.00196102463536 155.18341307814995,206.00196102463536 151.99362041467305,206.00196102463536 148.8038277511962,206.00196102463536 145.61403508771932,206.00196102463536 142.42424242424244,206.00196102463536 139.23444976076556,206.00196102463536 136.04465709728871,206.00196102463536 132.85486443381183,206.00196102463536 129.66507177033495,206.00196102463536 126.47527910685807,206.00196102463536 123.2854864433812,206.00196102463536 120.09569377990431,206.00196102463536 116.90590111642746,206.00196102463536 113.71610845295058,206.00196102463536 110.5263157894737,206.00196102463536 107.33652312599681,206.00196102463536 104.14673046251995,206.00196102463536 100.95693779904309,206.00196102463536 97.767145135566182,206.00196102463536 94.577352472089331,206.00196102463536 91.387559808612451,206.00196102463536 88.197767145135586,206.00196102463536 85.007974481658692,206.00196102463536 81.818181818181827,206.00196102463536\" style=\"fill:rgb(100%,100%,100%);fill-opacity:1.0;opacity:1.0;stroke:none\"></polygon><polygon points=\"81.818181818181827,206.00196102463536 85.007974481658692,206.00196102463536 88.197767145135586,206.00196102463536 91.387559808612451,206.00196102463536 94.577352472089331,206.00196102463536 97.767145135566182,206.00196102463536 100.95693779904309,206.00196102463536 104.14673046251995,206.00196102463536 107.33652312599681,206.00196102463536 110.5263157894737,206.00196102463536 113.71610845295058,206.00196102463536 116.90590111642746,206.00196102463536 120.09569377990431,206.00196102463536 123.2854864433812,206.00196102463536 126.47527910685807,206.00196102463536 129.66507177033495,206.00196102463536 132.85486443381183,206.00196102463536 136.04465709728871,206.00196102463536 139.23444976076556,206.00196102463536 142.42424242424244,206.00196102463536 145.61403508771932,206.00196102463536 148.8038277511962,206.00196102463536 151.99362041467305,206.00196102463536 155.18341307814995,206.00196102463536 158.3732057416268,206.00196102463536 161.56299840510368,206.00196102463536 164.75279106858056,206.00196102463536 167.94258373205741,206.00196102463536 171.13237639553429,206.00196102463536 174.32216905901117,206.00196102463536 174.32216905901117,206.00196102463536 171.13237639553429,206.00196102463536 167.94258373205741,205.8871629895647 164.75279106858056,205.8871629895647 161.56299840510368,205.31317281421136 158.3732057416268,205.19837477914069 155.18341307814995,204.62438460378735 151.99362041467305,202.67281800758596 148.8038277511962,202.4432219374446 145.61403508771932,202.32842390237397 142.42424242424244,201.18044355166722 139.23444976076556,198.19569463982984 136.04465709728871,198.42529070997119 132.85486443381183,196.24412804362845 129.66507177033495,193.02978306164971 126.47527910685807,197.96609856968851 123.2854864433812,194.75175358770974 120.09569377990431,196.81811821898179 116.90590111642746,196.93291625405249 113.71610845295058,199.45847302560719 110.5263157894737,201.86923176209129 107.33652312599681,202.32842390237397 104.14673046251995,203.82079835829265 100.95693779904309,203.82079835829265 97.767145135566182,204.96877870899934 94.577352472089331,205.42797084928202 91.387559808612451,205.8871629895647 88.197767145135586,205.8871629895647 85.007974481658692,206.00196102463536 81.818181818181827,206.00196102463536\" style=\"fill:rgb(70.2%,70.2%,70.2%);fill-opacity:1.0;opacity:1.0;stroke:none\"></polygon></g><g class=\"toyplot-mark-FillMagnitudes\" id=\"t1f63576285e948018223293cf7d668c4\" style=\"stroke:none\"><polygon points=\"81.818181818181827,70.199472974629245 85.007974481658692,70.199472974629245 88.197767145135586,70.199472974629245 91.387559808612451,70.199472974629245 94.577352472089331,70.199472974629245 97.767145135566182,70.199472974629245 100.95693779904309,70.199472974629245 104.14673046251995,70.199472974629245 107.33652312599681,70.199472974629245 110.5263157894737,70.199472974629245 113.71610845295058,70.199472974629245 116.90590111642746,70.199472974629245 120.09569377990431,70.199472974629245 123.2854864433812,70.199472974629245 126.47527910685807,70.199472974629245 129.66507177033495,70.199472974629245 132.85486443381183,70.199472974629245 136.04465709728871,70.199472974629245 139.23444976076556,70.199472974629245 142.42424242424244,70.199472974629245 145.61403508771932,70.199472974629245 148.8038277511962,70.199472974629245 151.99362041467305,70.199472974629245 155.18341307814995,70.199472974629245 158.3732057416268,70.199472974629245 161.56299840510368,70.199472974629245 164.75279106858056,70.199472974629245 167.94258373205741,70.199472974629245 171.13237639553429,70.199472974629245 174.32216905901117,70.199472974629245 174.32216905901117,189.78673857090331 171.13237639553429,189.78673857090331 167.94258373205741,189.78673857090331 164.75279106858056,189.78673857090331 161.56299840510368,189.78673857090331 158.3732057416268,189.78673857090331 155.18341307814995,189.78673857090331 151.99362041467305,189.78673857090331 148.8038277511962,189.78673857090331 145.61403508771932,189.78673857090331 142.42424242424244,189.78673857090331 139.23444976076556,189.78673857090331 136.04465709728871,189.78673857090331 132.85486443381183,189.78673857090331 129.66507177033495,189.78673857090331 126.47527910685807,189.78673857090331 123.2854864433812,189.78673857090331 120.09569377990431,189.78673857090331 116.90590111642746,189.78673857090331 113.71610845295058,189.78673857090331 110.5263157894737,189.78673857090331 107.33652312599681,189.78673857090331 104.14673046251995,189.78673857090331 100.95693779904309,189.78673857090331 97.767145135566182,189.78673857090331 94.577352472089331,189.78673857090331 91.387559808612451,189.78673857090331 88.197767145135586,189.78673857090331 85.007974481658692,189.78673857090331 81.818181818181827,189.78673857090331\" style=\"fill:rgb(100%,100%,100%);fill-opacity:1.0;opacity:1.0;stroke:none\"></polygon><polygon points=\"81.818181818181827,189.78673857090331 85.007974481658692,189.78673857090331 88.197767145135586,189.78673857090331 91.387559808612451,189.78673857090331 94.577352472089331,189.78673857090331 97.767145135566182,189.78673857090331 100.95693779904309,189.78673857090331 104.14673046251995,189.78673857090331 107.33652312599681,189.78673857090331 110.5263157894737,189.78673857090331 113.71610845295058,189.78673857090331 116.90590111642746,189.78673857090331 120.09569377990431,189.78673857090331 123.2854864433812,189.78673857090331 126.47527910685807,189.78673857090331 129.66507177033495,189.78673857090331 132.85486443381183,189.78673857090331 136.04465709728871,189.78673857090331 139.23444976076556,189.78673857090331 142.42424242424244,189.78673857090331 145.61403508771932,189.78673857090331 148.8038277511962,189.78673857090331 151.99362041467305,189.78673857090331 155.18341307814995,189.78673857090331 158.3732057416268,189.78673857090331 161.56299840510368,189.78673857090331 164.75279106858056,189.78673857090331 167.94258373205741,189.78673857090331 171.13237639553429,189.78673857090331 174.32216905901117,189.78673857090331 174.32216905901117,189.78673857090331 171.13237639553429,189.78673857090331 167.94258373205741,189.6786370878784 164.75279106858056,189.46243412182869 161.56299840510368,189.46243412182869 158.3732057416268,189.03002818972917 155.18341307814995,188.16521632553011 151.99362041467305,187.84091187645546 148.8038277511962,186.65179556318176 145.61403508771932,186.435592597132 142.42424242424244,185.35457776688318 139.23444976076556,181.03051844588799 136.04465709728871,179.51709768353965 132.85486443381183,181.78722882706217 129.66507177033495,176.81456060791768 126.47527910685807,177.78747395514159 123.2854864433812,180.81431547983823 120.09569377990431,181.46292437798749 116.90590111642746,182.97634514033587 113.71610845295058,185.13837480083342 110.5263157894737,185.2464762838583 107.33652312599681,187.30040446133103 104.14673046251995,187.73281039343055 100.95693779904309,188.8138252236794 97.767145135566182,188.8138252236794 94.577352472089331,189.57053560485357 91.387559808612451,189.6786370878784 88.197767145135586,189.78673857090331 85.007974481658692,189.78673857090331 81.818181818181827,189.78673857090331\" style=\"fill:rgb(70.2%,70.2%,70.2%);fill-opacity:1.0;opacity:1.0;stroke:none\"></polygon></g><g class=\"toyplot-mark-FillMagnitudes\" id=\"t2ac054c7b52e4cb0a167b9a020d6ab06\" style=\"stroke:none\"><polygon points=\"81.818181818181827,70.199472974629245 85.007974481658692,70.199472974629245 88.197767145135586,70.199472974629245 91.387559808612451,70.199472974629245 94.577352472089331,70.199472974629245 97.767145135566182,70.199472974629245 100.95693779904309,70.199472974629245 104.14673046251995,70.199472974629245 107.33652312599681,70.199472974629245 110.5263157894737,70.199472974629245 113.71610845295058,70.199472974629245 116.90590111642746,70.199472974629245 120.09569377990431,70.199472974629245 123.2854864433812,70.199472974629245 126.47527910685807,70.199472974629245 129.66507177033495,70.199472974629245 132.85486443381183,70.199472974629245 136.04465709728871,70.199472974629245 139.23444976076556,70.199472974629245 142.42424242424244,70.199472974629245 145.61403508771932,70.199472974629245 148.8038277511962,70.199472974629245 151.99362041467305,70.199472974629245 155.18341307814995,70.199472974629245 158.3732057416268,70.199472974629245 161.56299840510368,70.199472974629245 164.75279106858056,70.199472974629245 167.94258373205741,70.199472974629245 171.13237639553429,70.199472974629245 174.32216905901117,70.199472974629245 174.32216905901117,173.57151611717123 171.13237639553429,173.57151611717123 167.94258373205741,173.57151611717123 164.75279106858056,173.57151611717123 161.56299840510368,173.57151611717123 158.3732057416268,173.57151611717123 155.18341307814995,173.57151611717123 151.99362041467305,173.57151611717123 148.8038277511962,173.57151611717123 145.61403508771932,173.57151611717123 142.42424242424244,173.57151611717123 139.23444976076556,173.57151611717123 136.04465709728871,173.57151611717123 132.85486443381183,173.57151611717123 129.66507177033495,173.57151611717123 126.47527910685807,173.57151611717123 123.2854864433812,173.57151611717123 120.09569377990431,173.57151611717123 116.90590111642746,173.57151611717123 113.71610845295058,173.57151611717123 110.5263157894737,173.57151611717123 107.33652312599681,173.57151611717123 104.14673046251995,173.57151611717123 100.95693779904309,173.57151611717123 97.767145135566182,173.57151611717123 94.577352472089331,173.57151611717123 91.387559808612451,173.57151611717123 88.197767145135586,173.57151611717123 85.007974481658692,173.57151611717123 81.818181818181827,173.57151611717123\" style=\"fill:rgb(100%,100%,100%);fill-opacity:1.0;opacity:1.0;stroke:none\"></polygon><polygon points=\"81.818181818181827,173.57151611717123 85.007974481658692,173.57151611717123 88.197767145135586,173.57151611717123 91.387559808612451,173.57151611717123 94.577352472089331,173.57151611717123 97.767145135566182,173.57151611717123 100.95693779904309,173.57151611717123 104.14673046251995,173.57151611717123 107.33652312599681,173.57151611717123 110.5263157894737,173.57151611717123 113.71610845295058,173.57151611717123 116.90590111642746,173.57151611717123 120.09569377990431,173.57151611717123 123.2854864433812,173.57151611717123 126.47527910685807,173.57151611717123 129.66507177033495,173.57151611717123 132.85486443381183,173.57151611717123 136.04465709728871,173.57151611717123 139.23444976076556,173.57151611717123 142.42424242424244,173.57151611717123 145.61403508771932,173.57151611717123 148.8038277511962,173.57151611717123 151.99362041467305,173.57151611717123 155.18341307814995,173.57151611717123 158.3732057416268,173.57151611717123 161.56299840510368,173.57151611717123 164.75279106858056,173.57151611717123 167.94258373205741,173.57151611717123 171.13237639553429,173.57151611717123 174.32216905901117,173.57151611717123 174.32216905901117,173.57151611717123 171.13237639553429,173.46430803483253 167.94258373205741,173.57151611717123 164.75279106858056,173.57151611717123 161.56299840510368,173.46430803483253 158.3732057416268,172.49943529378399 155.18341307814995,172.60664337612272 151.99362041467305,171.85618679975164 148.8038277511962,170.99852214104183 145.61403508771932,170.03364939999332 142.42424242424244,168.85436049426733 139.23444976076556,165.42370185942815 136.04465709728871,166.71019884749288 132.85486443381183,163.06512404797621 129.66507177033495,162.31466747160511 126.47527910685807,162.95791596563754 123.2854864433812,160.59933815418557 120.09569377990431,164.99486953007326 116.90590111642746,165.9597422711218 113.71610845295058,167.88948775321884 110.5263157894737,169.92644131765456 107.33652312599681,170.78410597636437 104.14673046251995,172.71385145846142 100.95693779904309,172.1778110467678 97.767145135566182,172.82105954080015 94.577352472089331,173.24989187015507 91.387559808612451,173.57151611717123 88.197767145135586,173.35709995249377 85.007974481658692,173.35709995249377 81.818181818181827,173.57151611717123\" style=\"fill:rgb(70.2%,70.2%,70.2%);fill-opacity:1.0;opacity:1.0;stroke:none\"></polygon></g><g class=\"toyplot-mark-FillMagnitudes\" id=\"t4e2bb028c23645918fbbf34778924992\" style=\"stroke:none\"><polygon points=\"81.818181818181827,70.199472974629245 85.007974481658692,70.199472974629245 88.197767145135586,70.199472974629245 91.387559808612451,70.199472974629245 94.577352472089331,70.199472974629245 97.767145135566182,70.199472974629245 100.95693779904309,70.199472974629245 104.14673046251995,70.199472974629245 107.33652312599681,70.199472974629245 110.5263157894737,70.199472974629245 113.71610845295058,70.199472974629245 116.90590111642746,70.199472974629245 120.09569377990431,70.199472974629245 123.2854864433812,70.199472974629245 126.47527910685807,70.199472974629245 129.66507177033495,70.199472974629245 132.85486443381183,70.199472974629245 136.04465709728871,70.199472974629245 139.23444976076556,70.199472974629245 142.42424242424244,70.199472974629245 145.61403508771932,70.199472974629245 148.8038277511962,70.199472974629245 151.99362041467305,70.199472974629245 155.18341307814995,70.199472974629245 158.3732057416268,70.199472974629245 161.56299840510368,70.199472974629245 164.75279106858056,70.199472974629245 167.94258373205741,70.199472974629245 171.13237639553429,70.199472974629245 174.32216905901117,70.199472974629245 174.32216905901117,157.35629366343915 171.13237639553429,157.35629366343915 167.94258373205741,157.35629366343915 164.75279106858056,157.35629366343915 161.56299840510368,157.35629366343915 158.3732057416268,157.35629366343915 155.18341307814995,157.35629366343915 151.99362041467305,157.35629366343915 148.8038277511962,157.35629366343915 145.61403508771932,157.35629366343915 142.42424242424244,157.35629366343915 139.23444976076556,157.35629366343915 136.04465709728871,157.35629366343915 132.85486443381183,157.35629366343915 129.66507177033495,157.35629366343915 126.47527910685807,157.35629366343915 123.2854864433812,157.35629366343915 120.09569377990431,157.35629366343915 116.90590111642746,157.35629366343915 113.71610845295058,157.35629366343915 110.5263157894737,157.35629366343915 107.33652312599681,157.35629366343915 104.14673046251995,157.35629366343915 100.95693779904309,157.35629366343915 97.767145135566182,157.35629366343915 94.577352472089331,157.35629366343915 91.387559808612451,157.35629366343915 88.197767145135586,157.35629366343915 85.007974481658692,157.35629366343915 81.818181818181827,157.35629366343915\" style=\"fill:rgb(100%,100%,100%);fill-opacity:1.0;opacity:1.0;stroke:none\"></polygon><polygon points=\"81.818181818181827,157.35629366343915 85.007974481658692,157.35629366343915 88.197767145135586,157.35629366343915 91.387559808612451,157.35629366343915 94.577352472089331,157.35629366343915 97.767145135566182,157.35629366343915 100.95693779904309,157.35629366343915 104.14673046251995,157.35629366343915 107.33652312599681,157.35629366343915 110.5263157894737,157.35629366343915 113.71610845295058,157.35629366343915 116.90590111642746,157.35629366343915 120.09569377990431,157.35629366343915 123.2854864433812,157.35629366343915 126.47527910685807,157.35629366343915 129.66507177033495,157.35629366343915 132.85486443381183,157.35629366343915 136.04465709728871,157.35629366343915 139.23444976076556,157.35629366343915 142.42424242424244,157.35629366343915 145.61403508771932,157.35629366343915 148.8038277511962,157.35629366343915 151.99362041467305,157.35629366343915 155.18341307814995,157.35629366343915 158.3732057416268,157.35629366343915 161.56299840510368,157.35629366343915 164.75279106858056,157.35629366343915 167.94258373205741,157.35629366343915 171.13237639553429,157.35629366343915 174.32216905901117,157.35629366343915 174.32216905901117,157.35629366343915 171.13237639553429,157.35629366343915 167.94258373205741,157.35629366343915 164.75279106858056,157.35629366343915 161.56299840510368,156.871352431178 158.3732057416268,156.99258773924331 155.18341307814995,157.11382304730859 151.99362041467305,156.99258773924331 148.8038277511962,155.78023465859042 145.61403508771932,155.4165287343946 142.42424242424244,153.84046972954587 139.23444976076556,153.11305788115413 136.04465709728871,152.14317541663183 132.85486443381183,150.68835171984838 129.66507177033495,147.29376309402036 126.47527910685807,147.77870432628151 123.2854864433812,146.44511593756337 120.09569377990431,147.17252778595508 116.90590111642746,144.38411570045349 113.71610845295058,146.93005716982452 110.5263157894737,148.74858679080381 107.33652312599681,149.71846925532611 104.14673046251995,151.77946949243596 100.95693779904309,153.23429318921944 97.767145135566182,154.56788157793756 94.577352472089331,155.78023465859042 91.387559808612451,156.75011712311274 88.197767145135586,156.02270527472101 85.007974481658692,157.35629366343915 81.818181818181827,157.11382304730859\" style=\"fill:rgb(70.2%,70.2%,70.2%);fill-opacity:1.0;opacity:1.0;stroke:none\"></polygon></g><g class=\"toyplot-mark-FillMagnitudes\" id=\"tf284228f57e2463385e9f7d9d2877e0f\" style=\"stroke:none\"><polygon points=\"81.818181818181827,70.199472974629245 85.007974481658692,70.199472974629245 88.197767145135586,70.199472974629245 91.387559808612451,70.199472974629245 94.577352472089331,70.199472974629245 97.767145135566182,70.199472974629245 100.95693779904309,70.199472974629245 104.14673046251995,70.199472974629245 107.33652312599681,70.199472974629245 110.5263157894737,70.199472974629245 113.71610845295058,70.199472974629245 116.90590111642746,70.199472974629245 120.09569377990431,70.199472974629245 123.2854864433812,70.199472974629245 126.47527910685807,70.199472974629245 129.66507177033495,70.199472974629245 132.85486443381183,70.199472974629245 136.04465709728871,70.199472974629245 139.23444976076556,70.199472974629245 142.42424242424244,70.199472974629245 145.61403508771932,70.199472974629245 148.8038277511962,70.199472974629245 151.99362041467305,70.199472974629245 155.18341307814995,70.199472974629245 158.3732057416268,70.199472974629245 161.56299840510368,70.199472974629245 164.75279106858056,70.199472974629245 167.94258373205741,70.199472974629245 171.13237639553429,70.199472974629245 174.32216905901117,70.199472974629245 174.32216905901117,141.14107120970709 171.13237639553429,141.14107120970709 167.94258373205741,141.14107120970709 164.75279106858056,141.14107120970709 161.56299840510368,141.14107120970709 158.3732057416268,141.14107120970709 155.18341307814995,141.14107120970709 151.99362041467305,141.14107120970709 148.8038277511962,141.14107120970709 145.61403508771932,141.14107120970709 142.42424242424244,141.14107120970709 139.23444976076556,141.14107120970709 136.04465709728871,141.14107120970709 132.85486443381183,141.14107120970709 129.66507177033495,141.14107120970709 126.47527910685807,141.14107120970709 123.2854864433812,141.14107120970709 120.09569377990431,141.14107120970709 116.90590111642746,141.14107120970709 113.71610845295058,141.14107120970709 110.5263157894737,141.14107120970709 107.33652312599681,141.14107120970709 104.14673046251995,141.14107120970709 100.95693779904309,141.14107120970709 97.767145135566182,141.14107120970709 94.577352472089331,141.14107120970709 91.387559808612451,141.14107120970709 88.197767145135586,141.14107120970709 85.007974481658692,141.14107120970709 81.818181818181827,141.14107120970709\" style=\"fill:rgb(100%,100%,100%);fill-opacity:1.0;opacity:1.0;stroke:none\"></polygon><polygon points=\"81.818181818181827,141.14107120970709 85.007974481658692,141.14107120970709 88.197767145135586,141.14107120970709 91.387559808612451,141.14107120970709 94.577352472089331,141.14107120970709 97.767145135566182,141.14107120970709 100.95693779904309,141.14107120970709 104.14673046251995,141.14107120970709 107.33652312599681,141.14107120970709 110.5263157894737,141.14107120970709 113.71610845295058,141.14107120970709 116.90590111642746,141.14107120970709 120.09569377990431,141.14107120970709 123.2854864433812,141.14107120970709 126.47527910685807,141.14107120970709 129.66507177033495,141.14107120970709 132.85486443381183,141.14107120970709 136.04465709728871,141.14107120970709 139.23444976076556,141.14107120970709 142.42424242424244,141.14107120970709 145.61403508771932,141.14107120970709 148.8038277511962,141.14107120970709 151.99362041467305,141.14107120970709 155.18341307814995,141.14107120970709 158.3732057416268,141.14107120970709 161.56299840510368,141.14107120970709 164.75279106858056,141.14107120970709 167.94258373205741,141.14107120970709 171.13237639553429,141.14107120970709 174.32216905901117,141.14107120970709 174.32216905901117,141.14107120970709 171.13237639553429,141.14107120970709 167.94258373205741,141.14107120970709 164.75279106858056,141.14107120970709 161.56299840510368,140.87633288393189 158.3732057416268,140.21448706949383 155.18341307814995,140.08211790660619 151.99362041467305,139.55264125505579 148.8038277511962,139.42027209216815 145.61403508771932,137.03762716019122 142.42424242424244,135.5815663684275 139.23444976076556,135.31682804265228 136.04465709728871,131.87522980757444 132.85486443381183,131.21338399313643 129.66507177033495,128.56600073538425 126.47527910685807,129.88969236426033 123.2854864433812,128.43363157249661 120.09569377990431,128.16889324672144 116.90590111642746,130.94864566736118 113.71610845295058,132.80181394778774 110.5263157894737,133.46365976222575 107.33652312599681,134.91972055398944 104.14673046251995,136.64051967152838 100.95693779904309,138.89079544061772 97.767145135566182,140.21448706949383 94.577352472089331,140.08211790660619 91.387559808612451,140.61159455815664 88.197767145135586,140.34685623238144 85.007974481658692,141.00870204681945 81.818181818181827,141.14107120970709\" style=\"fill:rgb(70.2%,70.2%,70.2%);fill-opacity:1.0;opacity:1.0;stroke:none\"></polygon></g><g class=\"toyplot-mark-FillMagnitudes\" id=\"td2b17154adc345c68ec2e36a17d80123\" style=\"stroke:none\"><polygon points=\"81.818181818181827,70.199472974629245 85.007974481658692,70.199472974629245 88.197767145135586,70.199472974629245 91.387559808612451,70.199472974629245 94.577352472089331,70.199472974629245 97.767145135566182,70.199472974629245 100.95693779904309,70.199472974629245 104.14673046251995,70.199472974629245 107.33652312599681,70.199472974629245 110.5263157894737,70.199472974629245 113.71610845295058,70.199472974629245 116.90590111642746,70.199472974629245 120.09569377990431,70.199472974629245 123.2854864433812,70.199472974629245 126.47527910685807,70.199472974629245 129.66507177033495,70.199472974629245 132.85486443381183,70.199472974629245 136.04465709728871,70.199472974629245 139.23444976076556,70.199472974629245 142.42424242424244,70.199472974629245 145.61403508771932,70.199472974629245 148.8038277511962,70.199472974629245 151.99362041467305,70.199472974629245 155.18341307814995,70.199472974629245 158.3732057416268,70.199472974629245 161.56299840510368,70.199472974629245 164.75279106858056,70.199472974629245 167.94258373205741,70.199472974629245 171.13237639553429,70.199472974629245 174.32216905901117,70.199472974629245 174.32216905901117,124.92584875597501 171.13237639553429,124.92584875597501 167.94258373205741,124.92584875597501 164.75279106858056,124.92584875597501 161.56299840510368,124.92584875597501 158.3732057416268,124.92584875597501 155.18341307814995,124.92584875597501 151.99362041467305,124.92584875597501 148.8038277511962,124.92584875597501 145.61403508771932,124.92584875597501 142.42424242424244,124.92584875597501 139.23444976076556,124.92584875597501 136.04465709728871,124.92584875597501 132.85486443381183,124.92584875597501 129.66507177033495,124.92584875597501 126.47527910685807,124.92584875597501 123.2854864433812,124.92584875597501 120.09569377990431,124.92584875597501 116.90590111642746,124.92584875597501 113.71610845295058,124.92584875597501 110.5263157894737,124.92584875597501 107.33652312599681,124.92584875597501 104.14673046251995,124.92584875597501 100.95693779904309,124.92584875597501 97.767145135566182,124.92584875597501 94.577352472089331,124.92584875597501 91.387559808612451,124.92584875597501 88.197767145135586,124.92584875597501 85.007974481658692,124.92584875597501 81.818181818181827,124.92584875597501\" style=\"fill:rgb(100%,100%,100%);fill-opacity:1.0;opacity:1.0;stroke:none\"></polygon><polygon points=\"81.818181818181827,124.92584875597501 85.007974481658692,124.92584875597501 88.197767145135586,124.92584875597501 91.387559808612451,124.92584875597501 94.577352472089331,124.92584875597501 97.767145135566182,124.92584875597501 100.95693779904309,124.92584875597501 104.14673046251995,124.92584875597501 107.33652312599681,124.92584875597501 110.5263157894737,124.92584875597501 113.71610845295058,124.92584875597501 116.90590111642746,124.92584875597501 120.09569377990431,124.92584875597501 123.2854864433812,124.92584875597501 126.47527910685807,124.92584875597501 129.66507177033495,124.92584875597501 132.85486443381183,124.92584875597501 136.04465709728871,124.92584875597501 139.23444976076556,124.92584875597501 142.42424242424244,124.92584875597501 145.61403508771932,124.92584875597501 148.8038277511962,124.92584875597501 151.99362041467305,124.92584875597501 155.18341307814995,124.92584875597501 158.3732057416268,124.92584875597501 161.56299840510368,124.92584875597501 164.75279106858056,124.92584875597501 167.94258373205741,124.92584875597501 171.13237639553429,124.92584875597501 174.32216905901117,124.92584875597501 174.32216905901117,124.92584875597501 171.13237639553429,124.80573599705845 167.94258373205741,124.80573599705845 164.75279106858056,124.80573599705845 161.56299840510368,124.68562323814194 158.3732057416268,123.84483392572622 155.18341307814995,123.84483392572615 151.99362041467305,123.24427013114351 148.8038277511962,121.44257874739552 145.61403508771932,120.12133839931364 142.42424242424244,119.04032356906482 139.23444976076556,117.59897046206643 136.04465709728871,115.55705356048534 132.85486443381183,112.67434734648855 129.66507177033495,113.75536217673736 126.47527910685807,113.15479838215468 123.2854864433812,111.95367079298936 120.09569377990431,114.47603873023657 116.90590111642746,117.47885770314987 113.71610845295058,119.16043632798137 110.5263157894737,120.36156391714671 107.33652312599681,122.40348081872776 104.14673046251995,123.12415737222696 100.95693779904309,123.24427013114351 97.767145135566182,123.84483392572622 94.577352472089331,124.20517220247581 91.387559808612451,124.56551047922542 88.197767145135586,124.68562323814194 85.007974481658692,124.92584875597501 81.818181818181827,124.92584875597501\" style=\"fill:rgb(70.2%,70.2%,70.2%);fill-opacity:1.0;opacity:1.0;stroke:none\"></polygon></g><g class=\"toyplot-mark-FillMagnitudes\" id=\"tbb699a7aec4642da9c5aae3f655f290e\" style=\"stroke:none\"><polygon points=\"81.818181818181827,70.199472974629245 85.007974481658692,70.199472974629245 88.197767145135586,70.199472974629245 91.387559808612451,70.199472974629245 94.577352472089331,70.199472974629245 97.767145135566182,70.199472974629245 100.95693779904309,70.199472974629245 104.14673046251995,70.199472974629245 107.33652312599681,70.199472974629245 110.5263157894737,70.199472974629245 113.71610845295058,70.199472974629245 116.90590111642746,70.199472974629245 120.09569377990431,70.199472974629245 123.2854864433812,70.199472974629245 126.47527910685807,70.199472974629245 129.66507177033495,70.199472974629245 132.85486443381183,70.199472974629245 136.04465709728871,70.199472974629245 139.23444976076556,70.199472974629245 142.42424242424244,70.199472974629245 145.61403508771932,70.199472974629245 148.8038277511962,70.199472974629245 151.99362041467305,70.199472974629245 155.18341307814995,70.199472974629245 158.3732057416268,70.199472974629245 161.56299840510368,70.199472974629245 164.75279106858056,70.199472974629245 167.94258373205741,70.199472974629245 171.13237639553429,70.199472974629245 174.32216905901117,70.199472974629245 174.32216905901117,108.71062630224293 171.13237639553429,108.71062630224293 167.94258373205741,108.71062630224293 164.75279106858056,108.71062630224293 161.56299840510368,108.71062630224293 158.3732057416268,108.71062630224293 155.18341307814995,108.71062630224293 151.99362041467305,108.71062630224293 148.8038277511962,108.71062630224293 145.61403508771932,108.71062630224293 142.42424242424244,108.71062630224293 139.23444976076556,108.71062630224293 136.04465709728871,108.71062630224293 132.85486443381183,108.71062630224293 129.66507177033495,108.71062630224293 126.47527910685807,108.71062630224293 123.2854864433812,108.71062630224293 120.09569377990431,108.71062630224293 116.90590111642746,108.71062630224293 113.71610845295058,108.71062630224293 110.5263157894737,108.71062630224293 107.33652312599681,108.71062630224293 104.14673046251995,108.71062630224293 100.95693779904309,108.71062630224293 97.767145135566182,108.71062630224293 94.577352472089331,108.71062630224293 91.387559808612451,108.71062630224293 88.197767145135586,108.71062630224293 85.007974481658692,108.71062630224293 81.818181818181827,108.71062630224293\" style=\"fill:rgb(100%,100%,100%);fill-opacity:1.0;opacity:1.0;stroke:none\"></polygon><polygon points=\"81.818181818181827,108.71062630224293 85.007974481658692,108.71062630224293 88.197767145135586,108.71062630224293 91.387559808612451,108.71062630224293 94.577352472089331,108.71062630224293 97.767145135566182,108.71062630224293 100.95693779904309,108.71062630224293 104.14673046251995,108.71062630224293 107.33652312599681,108.71062630224293 110.5263157894737,108.71062630224293 113.71610845295058,108.71062630224293 116.90590111642746,108.71062630224293 120.09569377990431,108.71062630224293 123.2854864433812,108.71062630224293 126.47527910685807,108.71062630224293 129.66507177033495,108.71062630224293 132.85486443381183,108.71062630224293 136.04465709728871,108.71062630224293 139.23444976076556,108.71062630224293 142.42424242424244,108.71062630224293 145.61403508771932,108.71062630224293 148.8038277511962,108.71062630224293 151.99362041467305,108.71062630224293 155.18341307814995,108.71062630224293 158.3732057416268,108.71062630224293 161.56299840510368,108.71062630224293 164.75279106858056,108.71062630224293 167.94258373205741,108.71062630224293 171.13237639553429,108.71062630224293 174.32216905901117,108.71062630224293 174.32216905901117,108.71062630224293 171.13237639553429,108.71062630224293 167.94258373205741,108.58468282687413 164.75279106858056,108.58468282687413 161.56299840510368,108.71062630224293 158.3732057416268,108.33279587613654 155.18341307814995,107.451191548555 151.99362041467305,107.32524807318619 148.8038277511962,106.82147417171102 145.61403508771932,104.68043509044156 142.42424242424244,104.17666118896638 139.23444976076556,100.65024387864018 136.04465709728871,99.26486564958347 132.85486443381183,95.738448339257275 129.66507177033495,95.738448339257275 126.47527910685807,96.116278765363646 123.2854864433812,99.642696075689841 120.09569377990431,97.501656994420372 116.90590111642746,99.894583026427426 113.71610845295058,100.02052650179624 110.5263157894737,102.91722643527842 107.33652312599681,103.04316991064726 104.14673046251995,106.44364374560465 100.95693779904309,106.44364374560465 97.767145135566182,107.451191548555 94.577352472089331,107.95496545003017 91.387559808612451,108.45873935150532 88.197767145135586,108.58468282687413 85.007974481658692,108.71062630224293 81.818181818181827,108.71062630224293\" style=\"fill:rgb(70.2%,70.2%,70.2%);fill-opacity:1.0;opacity:1.0;stroke:none\"></polygon></g><g class=\"toyplot-mark-FillMagnitudes\" id=\"t5460b438de3c403d8f6b10fe8bdf9789\" style=\"stroke:none\"><polygon points=\"81.818181818181827,70.199472974629245 85.007974481658692,70.199472974629245 88.197767145135586,70.199472974629245 91.387559808612451,70.199472974629245 94.577352472089331,70.199472974629245 97.767145135566182,70.199472974629245 100.95693779904309,70.199472974629245 104.14673046251995,70.199472974629245 107.33652312599681,70.199472974629245 110.5263157894737,70.199472974629245 113.71610845295058,70.199472974629245 116.90590111642746,70.199472974629245 120.09569377990431,70.199472974629245 123.2854864433812,70.199472974629245 126.47527910685807,70.199472974629245 129.66507177033495,70.199472974629245 132.85486443381183,70.199472974629245 136.04465709728871,70.199472974629245 139.23444976076556,70.199472974629245 142.42424242424244,70.199472974629245 145.61403508771932,70.199472974629245 148.8038277511962,70.199472974629245 151.99362041467305,70.199472974629245 155.18341307814995,70.199472974629245 158.3732057416268,70.199472974629245 161.56299840510368,70.199472974629245 164.75279106858056,70.199472974629245 167.94258373205741,70.199472974629245 171.13237639553429,70.199472974629245 174.32216905901117,70.199472974629245 174.32216905901117,92.495403848510847 171.13237639553429,92.495403848510847 167.94258373205741,92.495403848510847 164.75279106858056,92.495403848510847 161.56299840510368,92.495403848510847 158.3732057416268,92.495403848510847 155.18341307814995,92.495403848510847 151.99362041467305,92.495403848510847 148.8038277511962,92.495403848510847 145.61403508771932,92.495403848510847 142.42424242424244,92.495403848510847 139.23444976076556,92.495403848510847 136.04465709728871,92.495403848510847 132.85486443381183,92.495403848510847 129.66507177033495,92.495403848510847 126.47527910685807,92.495403848510847 123.2854864433812,92.495403848510847 120.09569377990431,92.495403848510847 116.90590111642746,92.495403848510847 113.71610845295058,92.495403848510847 110.5263157894737,92.495403848510847 107.33652312599681,92.495403848510847 104.14673046251995,92.495403848510847 100.95693779904309,92.495403848510847 97.767145135566182,92.495403848510847 94.577352472089331,92.495403848510847 91.387559808612451,92.495403848510847 88.197767145135586,92.495403848510847 85.007974481658692,92.495403848510847 81.818181818181827,92.495403848510847\" style=\"fill:rgb(100%,100%,100%);fill-opacity:1.0;opacity:1.0;stroke:none\"></polygon><polygon points=\"81.818181818181827,92.495403848510847 85.007974481658692,92.495403848510847 88.197767145135586,92.495403848510847 91.387559808612451,92.495403848510847 94.577352472089331,92.495403848510847 97.767145135566182,92.495403848510847 100.95693779904309,92.495403848510847 104.14673046251995,92.495403848510847 107.33652312599681,92.495403848510847 110.5263157894737,92.495403848510847 113.71610845295058,92.495403848510847 116.90590111642746,92.495403848510847 120.09569377990431,92.495403848510847 123.2854864433812,92.495403848510847 126.47527910685807,92.495403848510847 129.66507177033495,92.495403848510847 132.85486443381183,92.495403848510847 136.04465709728871,92.495403848510847 139.23444976076556,92.495403848510847 142.42424242424244,92.495403848510847 145.61403508771932,92.495403848510847 148.8038277511962,92.495403848510847 151.99362041467305,92.495403848510847 155.18341307814995,92.495403848510847 158.3732057416268,92.495403848510847 161.56299840510368,92.495403848510847 164.75279106858056,92.495403848510847 167.94258373205741,92.495403848510847 171.13237639553429,92.495403848510847 174.32216905901117,92.495403848510847 174.32216905901117,92.495403848510847 171.13237639553429,92.495403848510847 167.94258373205741,92.495403848510847 164.75279106858056,92.495403848510847 161.56299840510368,92.495403848510847 158.3732057416268,92.358854606795219 155.18341307814995,92.358854606795177 151.99362041467305,92.358854606795219 148.8038277511962,91.812657639932667 145.61403508771932,91.129911431354458 142.42424242424244,90.856812947923189 139.23444976076556,89.764419014198054 136.04465709728871,86.896884938169649 132.85486443381183,86.350687971307124 129.66507177033495,84.165900103856927 126.47527910685807,81.434915269544149 123.2854864433812,80.205972094103402 120.09569377990431,80.479070577534657 116.90590111642746,79.796324368956491 113.71610845295058,79.796324368956491 110.5263157894737,79.523225885525164 107.33652312599681,82.117661478122315 104.14673046251995,85.667941762728887 100.95693779904309,86.623786454738408 97.767145135566182,88.672025080472977 94.577352472089331,87.443081905032216 91.387559808612451,90.856812947923189 88.197767145135586,91.403009914785741 85.007974481658692,91.949206881648252 81.818181818181827,91.949206881648252\" style=\"fill:rgb(70.2%,70.2%,70.2%);fill-opacity:1.0;opacity:1.0;stroke:none\"></polygon></g><g class=\"toyplot-mark-Graph\" id=\"t4d6d3b0a145b4b7391d13770bd9fe39e\"><g class=\"toyplot-Edges\"><path d=\"M 129.66507177 276.94355926 L 129.66507177 74.2532785881\" style=\"fill:none;stroke:rgb(16.1%,15.3%,14.1%);stroke-dasharray:5, 5;stroke-opacity:1.0;stroke-width:1.0\"></path></g><g class=\"toyplot-Vertices\"><g class=\"toyplot-Datum\" style=\"fill:rgb(55.3%,62.7%,79.6%);fill-opacity:1.0;opacity:1.0;stroke:rgb(55.3%,62.7%,79.6%);stroke-opacity:1.0\"><circle cx=\"129.66507177033495\" cy=\"276.9435592597132\" r=\"0.0\"></circle></g><g class=\"toyplot-Datum\" style=\"fill:rgb(55.3%,62.7%,79.6%);fill-opacity:1.0;opacity:1.0;stroke:rgb(55.3%,62.7%,79.6%);stroke-opacity:1.0\"><circle cx=\"129.66507177033495\" cy=\"74.25327858806223\" r=\"0.0\"></circle></g></g></g></g></g></svg><div class=\"toyplot-interactive\"><ul class=\"toyplot-mark-popup\" onmouseleave=\"this.style.visibility='hidden'\" style=\"background:rgba(0%,0%,0%,0.75);border:0;border-radius:6px;color:white;cursor:default;list-style:none;margin:0;padding:5px;position:fixed;visibility:hidden\">\n",
       "            <li class=\"toyplot-mark-popup-title\" style=\"color:lightgray;cursor:default;padding:5px;list-style:none;margin:0\"></li>\n",
       "            <li class=\"toyplot-mark-popup-save-csv\" onmouseout=\"this.style.color='white';this.style.background='steelblue'\" onmouseover=\"this.style.color='steelblue';this.style.background='white'\" style=\"border-radius:3px;padding:5px;list-style:none;margin:0\">\n",
       "                Save as .csv\n",
       "            </li>\n",
       "        </ul><script>\n",
       "        (function()\n",
       "        {\n",
       "          var data_tables = [{\"title\": \"Scatterplot Data\", \"names\": [\"x\", \"y0\"], \"id\": \"t74a7e8304536463d81570408f57caff8\", \"columns\": [[7.125, 10.125, 9.25, 8.5, 4.125, 6.125, 5.25, 4.5, 2.125, 1.25, 0.5, 11.0, 10.0, 9.0, 8.0, 7.0, 6.0, 5.0, 4.0, 3.0, 2.0, 1.0, 0.0], [5.0, 3.0, 2.0, 1.0, 4.0, 3.0, 2.0, 1.0, 3.0, 2.0, 1.0, 0.0, 0.0, 0.0, 0.0, 0.0, 0.0, 0.0, 0.0, 0.0, 0.0, 0.0, 0.0]], \"filename\": \"toyplot\"}, {\"title\": \"Fill Data\", \"names\": [\"x\", \"y0\", \"y1\"], \"id\": \"t5afc24f96d8e4ee3b75a95e2fa63a826\", \"columns\": [[-16.5, -16.291666666666668, -16.083333333333332, -15.875, -15.666666666666666, -15.458333333333334, -15.25, -15.041666666666666, -14.833333333333334, -14.625, -14.416666666666666, -14.208333333333332, -14.0, -13.791666666666666, -13.583333333333332, -13.375, -13.166666666666666, -12.958333333333332, -12.75, -12.541666666666666, -12.333333333333332, -12.125, -11.916666666666666, -11.708333333333332, -11.5, -11.291666666666666, -11.083333333333332, -10.875, -10.666666666666666, -10.458333333333332], [-19.03846153846154, -19.03846153846154, -19.03846153846154, -19.03846153846154, -19.03846153846154, -19.03846153846154, -19.03846153846154, -19.03846153846154, -19.03846153846154, -19.03846153846154, -19.03846153846154, -19.03846153846154, -19.03846153846154, -19.03846153846154, -19.03846153846154, -19.03846153846154, -19.03846153846154, -19.03846153846154, -19.03846153846154, -19.03846153846154, -19.03846153846154, -19.03846153846154, -19.03846153846154, -19.03846153846154, -19.03846153846154, -19.03846153846154, -19.03846153846154, -19.03846153846154, -19.03846153846154, -19.03846153846154], [0.013234077750206782, 0.013234077750206782, 0.026468155500413565, 0.06617038875103391, 0.1191066997518613, 0.14557485525227445, 0.41025641025641035, 0.44995864350703063, 0.9660876757650952, 0.9528535980148896, 1.1116625310173698, 1.0190239867659223, 1.2043010752688175, 1.2307692307692308, 0.8866832092638545, 1.2043010752688175, 0.860215053763441, 0.8205128205128207, 0.5028949545078578, 0.4499586435070316, 0.3308519437551689, 0.17204301075268857, 0.11910669975186079, 0.06617038875103405, 0.05293631100082703, 0.03970223325062044, 0.0, 0.0, 0.0, 0.0]], \"filename\": \"toyplot\"}, {\"title\": \"Fill Data\", \"names\": [\"x\", \"y0\", \"y1\"], \"id\": \"tbf998d1ba5ab43a9a1b9642a8993b6ed\", \"columns\": [[-16.5, -16.291666666666668, -16.083333333333332, -15.875, -15.666666666666666, -15.458333333333334, -15.25, -15.041666666666666, -14.833333333333334, -14.625, -14.416666666666666, -14.208333333333332, -14.0, -13.791666666666666, -13.583333333333332, -13.375, -13.166666666666666, -12.958333333333332, -12.75, -12.541666666666666, -12.333333333333332, -12.125, -11.916666666666666, -11.708333333333332, -11.5, -11.291666666666666, -11.083333333333332, -10.875, -10.666666666666666, -10.458333333333332], [-17.5, -17.5, -17.5, -17.5, -17.5, -17.5, -17.5, -17.5, -17.5, -17.5, -17.5, -17.5, -17.5, -17.5, -17.5, -17.5, -17.5, -17.5, -17.5, -17.5, -17.5, -17.5, -17.5, -17.5, -17.5, -17.5, -17.5, -17.5, -17.5, -17.5], [0.0, 0.01108801108801109, 0.0, 0.02217602217602218, 0.022176022176022228, 0.07761607761607756, 0.18849618849618854, 0.19958419958419965, 0.2993762993762994, 0.3991683991683997, 0.7650727650727652, 0.8870408870408872, 0.9092169092169095, 0.9203049203049205, 0.9424809424809428, 1.2307692307692308, 0.9203049203049205, 0.7539847539847542, 0.6874566874566876, 0.6541926541926557, 0.38808038808038736, 0.28828828828828895, 0.2550242550242546, 0.1663201663201667, 0.04435204435204427, 0.011088011088011114, 0.04435204435204427, 0.0, 0.0, 0.0]], \"filename\": \"toyplot\"}, {\"title\": \"Fill Data\", \"names\": [\"x\", \"y0\", \"y1\"], \"id\": \"t960c821b332d40239e08f0dadc2dc4bc\", \"columns\": [[-16.5, -16.291666666666668, -16.083333333333332, -15.875, -15.666666666666666, -15.458333333333334, -15.25, -15.041666666666666, -14.833333333333334, -14.625, -14.416666666666666, -14.208333333333332, -14.0, -13.791666666666666, -13.583333333333332, -13.375, -13.166666666666666, -12.958333333333332, -12.75, -12.541666666666666, -12.333333333333332, -12.125, -11.916666666666666, -11.708333333333332, -11.5, -11.291666666666666, -11.083333333333332, -10.875, -10.666666666666666, -10.458333333333332], [-15.961538461538462, -15.961538461538462, -15.961538461538462, -15.961538461538462, -15.961538461538462, -15.961538461538462, -15.961538461538462, -15.961538461538462, -15.961538461538462, -15.961538461538462, -15.961538461538462, -15.961538461538462, -15.961538461538462, -15.961538461538462, -15.961538461538462, -15.961538461538462, -15.961538461538462, -15.961538461538462, -15.961538461538462, -15.961538461538462, -15.961538461538462, -15.961538461538462, -15.961538461538462, -15.961538461538462, -15.961538461538462, -15.961538461538462, -15.961538461538462, -15.961538461538462, -15.961538461538462, -15.961538461538462], [0.0, 0.010891763104152486, 0.03267528931245746, 0.04356705241660994, 0.07624234172906758, 0.05445881552076237, 0.23961878829135472, 0.402995234853642, 0.5445881552076243, 0.7515316541865222, 0.740639891082369, 0.7624234172906741, 1.2307692307692308, 0.9911504424778764, 1.0565010211027912, 0.893124574540504, 0.827773995915589, 0.6970728386657591, 0.5881552076242342, 0.3594281824370328, 0.29407760381211656, 0.15248468345813515, 0.07624234172906724, 0.03267528931245752, 0.010891763104152463, 0.02178352620830502, 0.0, 0.0, 0.0, 0.0]], \"filename\": \"toyplot\"}, {\"title\": \"Fill Data\", \"names\": [\"x\", \"y0\", \"y1\"], \"id\": \"t1f6776084d5a4870be998401570bd54c\", \"columns\": [[-16.5, -16.291666666666668, -16.083333333333332, -15.875, -15.666666666666666, -15.458333333333334, -15.25, -15.041666666666666, -14.833333333333334, -14.625, -14.416666666666666, -14.208333333333332, -14.0, -13.791666666666666, -13.583333333333332, -13.375, -13.166666666666666, -12.958333333333332, -12.75, -12.541666666666666, -12.333333333333332, -12.125, -11.916666666666666, -11.708333333333332, -11.5, -11.291666666666666, -11.083333333333332, -10.875, -10.666666666666666, -10.458333333333332], [-14.423076923076923, -14.423076923076923, -14.423076923076923, -14.423076923076923, -14.423076923076923, -14.423076923076923, -14.423076923076923, -14.423076923076923, -14.423076923076923, -14.423076923076923, -14.423076923076923, -14.423076923076923, -14.423076923076923, -14.423076923076923, -14.423076923076923, -14.423076923076923, -14.423076923076923, -14.423076923076923, -14.423076923076923, -14.423076923076923, -14.423076923076923, -14.423076923076923, -14.423076923076923, -14.423076923076923, -14.423076923076923, -14.423076923076923, -14.423076923076923, -14.423076923076923, -14.423076923076923, -14.423076923076923], [0.05594405594405594, 0.13426573426573427, 0.08951048951048951, 0.24615384615384617, 0.3804195804195813, 0.4363636363636359, 0.6937062937062937, 0.8391608391608392, 1.186013986013986, 0.7608391608391618, 1.2307692307692308, 1.0293706293706295, 0.895104895104895, 0.772027972027972, 0.5370629370629371, 0.6713286713286714, 0.43636363636363634, 0.24615384615384617, 0.22377622377622375, 0.0895104895104897, 0.07832167832167815, 0.06713286713286727, 0.0335664335664335, 0.011188811188811213, 0.022377622377622333, 0.0, 0.0, 0.0, 0.0, 0.011188811188811213]], \"filename\": \"toyplot\"}, {\"title\": \"Fill Data\", \"names\": [\"x\", \"y0\", \"y1\"], \"id\": \"td81ff52600724d4aa42fac7b36ff58c5\", \"columns\": [[-16.5, -16.291666666666668, -16.083333333333332, -15.875, -15.666666666666666, -15.458333333333334, -15.25, -15.041666666666666, -14.833333333333334, -14.625, -14.416666666666666, -14.208333333333332, -14.0, -13.791666666666666, -13.583333333333332, -13.375, -13.166666666666666, -12.958333333333332, -12.75, -12.541666666666666, -12.333333333333332, -12.125, -11.916666666666666, -11.708333333333332, -11.5, -11.291666666666666, -11.083333333333332, -10.875, -10.666666666666666, -10.458333333333332], [-12.884615384615385, -12.884615384615385, -12.884615384615385, -12.884615384615385, -12.884615384615385, -12.884615384615385, -12.884615384615385, -12.884615384615385, -12.884615384615385, -12.884615384615385, -12.884615384615385, -12.884615384615385, -12.884615384615385, -12.884615384615385, -12.884615384615385, -12.884615384615385, -12.884615384615385, -12.884615384615385, -12.884615384615385, -12.884615384615385, -12.884615384615385, -12.884615384615385, -12.884615384615385, -12.884615384615385, -12.884615384615385, -12.884615384615385, -12.884615384615385, -12.884615384615385, -12.884615384615385, -12.884615384615385], [0.0, 0.0, 0.010891763104152486, 0.010891763104152486, 0.05445881552076254, 0.09802586793737228, 0.2069434989788972, 0.2069434989788972, 0.34853641933287954, 0.3921034717494898, 0.6208304969366917, 0.8604492852280464, 0.8713410483321988, 1.0673927842069435, 0.762423417290674, 1.2307692307692308, 0.9257998638529614, 0.718856364874064, 0.740639891082369, 0.45745405037440534, 0.3485364193328788, 0.3376446562287278, 0.3158611300204214, 0.13070115724983009, 0.07624234172906723, 0.06535057862491504, 0.010891763104152463, 0.010891763104152507, 0.0, 0.0]], \"filename\": \"toyplot\"}, {\"title\": \"Fill Data\", \"names\": [\"x\", \"y0\", \"y1\"], \"id\": \"t1f63576285e948018223293cf7d668c4\", \"columns\": [[-16.5, -16.291666666666668, -16.083333333333332, -15.875, -15.666666666666666, -15.458333333333334, -15.25, -15.041666666666666, -14.833333333333334, -14.625, -14.416666666666666, -14.208333333333332, -14.0, -13.791666666666666, -13.583333333333332, -13.375, -13.166666666666666, -12.958333333333332, -12.75, -12.541666666666666, -12.333333333333332, -12.125, -11.916666666666666, -11.708333333333332, -11.5, -11.291666666666666, -11.083333333333332, -10.875, -10.666666666666666, -10.458333333333332], [-11.346153846153847, -11.346153846153847, -11.346153846153847, -11.346153846153847, -11.346153846153847, -11.346153846153847, -11.346153846153847, -11.346153846153847, -11.346153846153847, -11.346153846153847, -11.346153846153847, -11.346153846153847, -11.346153846153847, -11.346153846153847, -11.346153846153847, -11.346153846153847, -11.346153846153847, -11.346153846153847, -11.346153846153847, -11.346153846153847, -11.346153846153847, -11.346153846153847, -11.346153846153847, -11.346153846153847, -11.346153846153847, -11.346153846153847, -11.346153846153847, -11.346153846153847, -11.346153846153847, -11.346153846153847], [0.0, 0.0, 0.0, 0.010256410256410258, 0.020512820512820558, 0.09230769230769223, 0.09230769230769233, 0.19487179487179493, 0.23589743589743595, 0.4307692307692313, 0.44102564102564107, 0.6461538461538461, 0.7897435897435899, 0.8512820512820514, 1.1384615384615386, 1.2307692307692308, 0.758974358974359, 0.9743589743589745, 0.8307692307692309, 0.42051282051282146, 0.31794871794871726, 0.2974358974358981, 0.1846153846153842, 0.1538461538461542, 0.07179487179487165, 0.03076923076923084, 0.030769230769230705, 0.010256410256410279, 0.0, 0.0]], \"filename\": \"toyplot\"}, {\"title\": \"Fill Data\", \"names\": [\"x\", \"y0\", \"y1\"], \"id\": \"t2ac054c7b52e4cb0a167b9a020d6ab06\", \"columns\": [[-16.5, -16.291666666666668, -16.083333333333332, -15.875, -15.666666666666666, -15.458333333333334, -15.25, -15.041666666666666, -14.833333333333334, -14.625, -14.416666666666666, -14.208333333333332, -14.0, -13.791666666666666, -13.583333333333332, -13.375, -13.166666666666666, -12.958333333333332, -12.75, -12.541666666666666, -12.333333333333332, -12.125, -11.916666666666666, -11.708333333333332, -11.5, -11.291666666666666, -11.083333333333332, -10.875, -10.666666666666666, -10.458333333333332], [-9.807692307692308, -9.807692307692308, -9.807692307692308, -9.807692307692308, -9.807692307692308, -9.807692307692308, -9.807692307692308, -9.807692307692308, -9.807692307692308, -9.807692307692308, -9.807692307692308, -9.807692307692308, -9.807692307692308, -9.807692307692308, -9.807692307692308, -9.807692307692308, -9.807692307692308, -9.807692307692308, -9.807692307692308, -9.807692307692308, -9.807692307692308, -9.807692307692308, -9.807692307692308, -9.807692307692308, -9.807692307692308, -9.807692307692308, -9.807692307692308, -9.807692307692308, -9.807692307692308, -9.807692307692308], [0.0, 0.0203432930705658, 0.0203432930705658, 0.0, 0.030514939605848765, 0.07120152574698023, 0.1322314049586777, 0.0813731722822632, 0.2644628099173554, 0.34583598219961903, 0.5390972663699938, 0.722186904005086, 0.8137317228226322, 1.2307692307692308, 1.0069930069930073, 1.0680228862047045, 0.9968213604577241, 0.6509853782581057, 0.7730451366815005, 0.4475524475524486, 0.33566433566433507, 0.24411951684679012, 0.16274634456452608, 0.09154481881754628, 0.1017164653528288, 0.010171646535282922, 0.0, 0.0, 0.01017164653528288, 0.0]], \"filename\": \"toyplot\"}, {\"title\": \"Fill Data\", \"names\": [\"x\", \"y0\", \"y1\"], \"id\": \"t4e2bb028c23645918fbbf34778924992\", \"columns\": [[-16.5, -16.291666666666668, -16.083333333333332, -15.875, -15.666666666666666, -15.458333333333334, -15.25, -15.041666666666666, -14.833333333333334, -14.625, -14.416666666666666, -14.208333333333332, -14.0, -13.791666666666666, -13.583333333333332, -13.375, -13.166666666666666, -12.958333333333332, -12.75, -12.541666666666666, -12.333333333333332, -12.125, -11.916666666666666, -11.708333333333332, -11.5, -11.291666666666666, -11.083333333333332, -10.875, -10.666666666666666, -10.458333333333332], [-8.26923076923077, -8.26923076923077, -8.26923076923077, -8.26923076923077, -8.26923076923077, -8.26923076923077, -8.26923076923077, -8.26923076923077, -8.26923076923077, -8.26923076923077, -8.26923076923077, -8.26923076923077, -8.26923076923077, -8.26923076923077, -8.26923076923077, -8.26923076923077, -8.26923076923077, -8.26923076923077, -8.26923076923077, -8.26923076923077, -8.26923076923077, -8.26923076923077, -8.26923076923077, -8.26923076923077, -8.26923076923077, -8.26923076923077, -8.26923076923077, -8.26923076923077, -8.26923076923077, -8.26923076923077], [0.023005032350826744, 0.0, 0.12652767792954708, 0.05751258087706686, 0.14953271028037415, 0.2645578720345073, 0.39108554996405465, 0.5291157440690152, 0.7246585190510424, 0.8166786484543505, 0.9892163910855502, 1.2307692307692308, 0.9662113587347232, 1.0352264557872037, 0.9086987778576564, 0.95470884255931, 0.6326383896477354, 0.4946081955427751, 0.40258806613946807, 0.3335729690869885, 0.18404025880661357, 0.14953271028037415, 0.034507548526240044, 0.023005032350826793, 0.034507548526240044, 0.046010064701653586, 0.0, 0.0, 0.0, 0.0]], \"filename\": \"toyplot\"}, {\"title\": \"Fill Data\", \"names\": [\"x\", \"y0\", \"y1\"], \"id\": \"tf284228f57e2463385e9f7d9d2877e0f\", \"columns\": [[-16.5, -16.291666666666668, -16.083333333333332, -15.875, -15.666666666666666, -15.458333333333334, -15.25, -15.041666666666666, -14.833333333333334, -14.625, -14.416666666666666, -14.208333333333332, -14.0, -13.791666666666666, -13.583333333333332, -13.375, -13.166666666666666, -12.958333333333332, -12.75, -12.541666666666666, -12.333333333333332, -12.125, -11.916666666666666, -11.708333333333332, -11.5, -11.291666666666666, -11.083333333333332, -10.875, -10.666666666666666, -10.458333333333332], [-6.730769230769231, -6.730769230769231, -6.730769230769231, -6.730769230769231, -6.730769230769231, -6.730769230769231, -6.730769230769231, -6.730769230769231, -6.730769230769231, -6.730769230769231, -6.730769230769231, -6.730769230769231, -6.730769230769231, -6.730769230769231, -6.730769230769231, -6.730769230769231, -6.730769230769231, -6.730769230769231, -6.730769230769231, -6.730769230769231, -6.730769230769231, -6.730769230769231, -6.730769230769231, -6.730769230769231, -6.730769230769231, -6.730769230769231, -6.730769230769231, -6.730769230769231, -6.730769230769231, -6.730769230769231], [0.0, 0.012558869701726847, 0.07535321821036109, 0.05023547880690739, 0.10047095761381497, 0.08791208791208782, 0.2135007849293564, 0.4270015698587128, 0.5902668759811618, 0.7284144427001579, 0.7912087912087914, 0.9670329670329674, 1.2307692307692308, 1.2056514913657774, 1.0675039246467821, 1.1930926216640505, 0.9419152276295135, 0.8791208791208794, 0.5525902668759812, 0.5274725274725287, 0.3893249607535314, 0.16326530612244936, 0.15070643642072185, 0.10047095761381497, 0.08791208791208775, 0.025117739403453743, 0.0, 0.0, 0.0, 0.0]], \"filename\": \"toyplot\"}, {\"title\": \"Fill Data\", \"names\": [\"x\", \"y0\", \"y1\"], \"id\": \"td2b17154adc345c68ec2e36a17d80123\", \"columns\": [[-16.5, -16.291666666666668, -16.083333333333332, -15.875, -15.666666666666666, -15.458333333333334, -15.25, -15.041666666666666, -14.833333333333334, -14.625, -14.416666666666666, -14.208333333333332, -14.0, -13.791666666666666, -13.583333333333332, -13.375, -13.166666666666666, -12.958333333333332, -12.75, -12.541666666666666, -12.333333333333332, -12.125, -11.916666666666666, -11.708333333333332, -11.5, -11.291666666666666, -11.083333333333332, -10.875, -10.666666666666666, -10.458333333333332], [-5.1923076923076925, -5.1923076923076925, -5.1923076923076925, -5.1923076923076925, -5.1923076923076925, -5.1923076923076925, -5.1923076923076925, -5.1923076923076925, -5.1923076923076925, -5.1923076923076925, -5.1923076923076925, -5.1923076923076925, -5.1923076923076925, -5.1923076923076925, -5.1923076923076925, -5.1923076923076925, -5.1923076923076925, -5.1923076923076925, -5.1923076923076925, -5.1923076923076925, -5.1923076923076925, -5.1923076923076925, -5.1923076923076925, -5.1923076923076925, -5.1923076923076925, -5.1923076923076925, -5.1923076923076925, -5.1923076923076925, -5.1923076923076925, -5.1923076923076925], [0.0, 0.0, 0.022792022792022797, 0.0341880341880342, 0.06837606837606854, 0.10256410256410248, 0.15954415954415957, 0.17094017094017097, 0.23931623931623935, 0.43304843304843355, 0.5470085470085472, 0.7065527065527069, 0.9914529914529917, 1.2307692307692308, 1.1168091168091168, 1.05982905982906, 1.1623931623931625, 0.888888888888889, 0.6951566951566953, 0.5584045584045597, 0.45584045584045496, 0.33048433048433123, 0.15954415954415924, 0.10256410256410278, 0.10256410256410234, 0.02279202279202284, 0.011396011396011374, 0.01139601139601142, 0.011396011396011374, 0.0]], \"filename\": \"toyplot\"}, {\"title\": \"Fill Data\", \"names\": [\"x\", \"y0\", \"y1\"], \"id\": \"tbb699a7aec4642da9c5aae3f655f290e\", \"columns\": [[-16.5, -16.291666666666668, -16.083333333333332, -15.875, -15.666666666666666, -15.458333333333334, -15.25, -15.041666666666666, -14.833333333333334, -14.625, -14.416666666666666, -14.208333333333332, -14.0, -13.791666666666666, -13.583333333333332, -13.375, -13.166666666666666, -12.958333333333332, -12.75, -12.541666666666666, -12.333333333333332, -12.125, -11.916666666666666, -11.708333333333332, -11.5, -11.291666666666666, -11.083333333333332, -10.875, -10.666666666666666, -10.458333333333332], [-3.653846153846154, -3.653846153846154, -3.653846153846154, -3.653846153846154, -3.653846153846154, -3.653846153846154, -3.653846153846154, -3.653846153846154, -3.653846153846154, -3.653846153846154, -3.653846153846154, -3.653846153846154, -3.653846153846154, -3.653846153846154, -3.653846153846154, -3.653846153846154, -3.653846153846154, -3.653846153846154, -3.653846153846154, -3.653846153846154, -3.653846153846154, -3.653846153846154, -3.653846153846154, -3.653846153846154, -3.653846153846154, -3.653846153846154, -3.653846153846154, -3.653846153846154, -3.653846153846154, -3.653846153846154], [0.0, 0.0, 0.011949215832710981, 0.023898431665421962, 0.07169529499626603, 0.11949215832710969, 0.2150858849887977, 0.2150858849887977, 0.5377147124719942, 0.5496639283047057, 0.8244958924570576, 0.8364451082897686, 1.0634802091112772, 0.8603435399551908, 1.194921583271098, 1.2307692307692308, 1.2307692307692308, 0.8961911874533236, 0.7647498132935028, 0.4301717699775962, 0.38237490664675056, 0.17923823749066506, 0.13144137415982052, 0.11949215832711002, 0.03584764749813287, 0.0, 0.011949215832710955, 0.011949215832711003, 0.0, 0.0]], \"filename\": \"toyplot\"}, {\"title\": \"Fill Data\", \"names\": [\"x\", \"y0\", \"y1\"], \"id\": \"t5460b438de3c403d8f6b10fe8bdf9789\", \"columns\": [[-16.5, -16.291666666666668, -16.083333333333332, -15.875, -15.666666666666666, -15.458333333333334, -15.25, -15.041666666666666, -14.833333333333334, -14.625, -14.416666666666666, -14.208333333333332, -14.0, -13.791666666666666, -13.583333333333332, -13.375, -13.166666666666666, -12.958333333333332, -12.75, -12.541666666666666, -12.333333333333332, -12.125, -11.916666666666666, -11.708333333333332, -11.5, -11.291666666666666, -11.083333333333332, -10.875, -10.666666666666666, -10.458333333333332], [-2.1153846153846154, -2.1153846153846154, -2.1153846153846154, -2.1153846153846154, -2.1153846153846154, -2.1153846153846154, -2.1153846153846154, -2.1153846153846154, -2.1153846153846154, -2.1153846153846154, -2.1153846153846154, -2.1153846153846154, -2.1153846153846154, -2.1153846153846154, -2.1153846153846154, -2.1153846153846154, -2.1153846153846154, -2.1153846153846154, -2.1153846153846154, -2.1153846153846154, -2.1153846153846154, -2.1153846153846154, -2.1153846153846154, -2.1153846153846154, -2.1153846153846154, -2.1153846153846154, -2.1153846153846154, -2.1153846153846154, -2.1153846153846154, -2.1153846153846154], [0.05182186234817809, 0.05182186234817809, 0.10364372469635617, 0.15546558704453428, 0.4793522267206483, 0.3627530364372462, 0.5570850202429145, 0.6477732793522261, 0.9846153846153837, 1.2307692307692308, 1.2048582995951407, 1.2048582995951407, 1.140080971659918, 1.165991902834007, 1.0493927125506062, 0.7902834008097158, 0.5829959514170036, 0.5311740890688254, 0.2591093117408904, 0.1554655870445346, 0.12955465587044493, 0.06477732793522274, 0.012955465587044494, 0.01295546558704455, 0.012955465587044494, 0.0, 0.0, 0.0, 0.0, 0.0]], \"filename\": \"toyplot\"}];\n",
       "\n",
       "          function save_csv(data_table)\n",
       "          {\n",
       "            var uri = \"data:text/csv;charset=utf-8,\";\n",
       "            uri += data_table.names.join(\",\") + \"\\n\";\n",
       "            for(var i = 0; i != data_table.columns[0].length; ++i)\n",
       "            {\n",
       "              for(var j = 0; j != data_table.columns.length; ++j)\n",
       "              {\n",
       "                if(j)\n",
       "                  uri += \",\";\n",
       "                uri += data_table.columns[j][i];\n",
       "              }\n",
       "              uri += \"\\n\";\n",
       "            }\n",
       "            uri = encodeURI(uri);\n",
       "\n",
       "            var link = document.createElement(\"a\");\n",
       "            if(typeof link.download != \"undefined\")\n",
       "            {\n",
       "              link.href = uri;\n",
       "              link.style = \"visibility:hidden\";\n",
       "              link.download = data_table.filename + \".csv\";\n",
       "\n",
       "              document.body.appendChild(link);\n",
       "              link.click();\n",
       "              document.body.removeChild(link);\n",
       "            }\n",
       "            else\n",
       "            {\n",
       "              window.open(uri);\n",
       "            }\n",
       "          }\n",
       "\n",
       "          function open_popup(data_table)\n",
       "          {\n",
       "            return function(e)\n",
       "            {\n",
       "              var popup = document.querySelector(\"#tc5fc5feb753f4550847352f5d9c1b9c0 .toyplot-mark-popup\");\n",
       "              popup.querySelector(\".toyplot-mark-popup-title\").innerHTML = data_table.title;\n",
       "              popup.querySelector(\".toyplot-mark-popup-save-csv\").onclick = function() { popup.style.visibility = \"hidden\"; save_csv(data_table); }\n",
       "              popup.style.left = (e.clientX - 50) + \"px\";\n",
       "              popup.style.top = (e.clientY - 20) + \"px\";\n",
       "              popup.style.visibility = \"visible\";\n",
       "              e.stopPropagation();\n",
       "              e.preventDefault();\n",
       "            }\n",
       "\n",
       "          }\n",
       "\n",
       "          for(var i = 0; i != data_tables.length; ++i)\n",
       "          {\n",
       "            var data_table = data_tables[i];\n",
       "            var event_target = document.querySelector(\"#\" + data_table.id);\n",
       "            event_target.oncontextmenu = open_popup(data_table);\n",
       "          }\n",
       "        })();\n",
       "        </script></div></div>"
      ]
     },
     "metadata": {},
     "output_type": "display_data"
    }
   ],
   "source": [
    "b.plot(\n",
    "    height=350,\n",
    "    pct_tree_x = 0.4,\n",
    "    pct_tree_y = 0.2,\n",
    "    );"
   ]
  },
  {
   "cell_type": "code",
   "execution_count": 15,
   "metadata": {
    "slideshow": {
     "slide_type": "subslide"
    }
   },
   "outputs": [],
   "source": [
    "### Save the plot \n",
    "import toyplot.pdf\n",
    "canvas, axes, mark = b.plot(height=350, pct_tree_x=0.4, pct_tree_y=0.2)\n",
    "toyplot.pdf.render(canvas, \"/home/deren/workshop/abba-baba.pdf\")\n",
    "\n",
    "## save the results table\n",
    "b.results_table.to_csv(\"~/workshop/abba-baba.csv\", sep=\"\\t\")"
   ]
  },
  {
   "cell_type": "markdown",
   "metadata": {
    "slideshow": {
     "slide_type": "slide"
    }
   },
   "source": [
    "### Species tree inference by phylogenetic invariants\n",
    "The program tetrad follows the algorithm of SVDquartets by inferring all possible quartet trees from a large SNP alignment and uses the program quartet maxcut (Snir et al. 2012) to infer a species tree by quartet joining. "
   ]
  },
  {
   "cell_type": "code",
   "execution_count": 16,
   "metadata": {},
   "outputs": [
    {
     "name": "stdout",
     "output_type": "stream",
     "text": [
      "loading seq array [12 taxa x 4314 bp]\n",
      "max unlinked SNPs per quartet (nloci): 984\n",
      "host compute node: [4 cores] on oud\n",
      "inferring 495 induced quartet trees\n",
      "[####################] 100%  initial tree | 0:00:00 |  \n",
      "[####################] 100%  boot 100     | 0:00:40 |  \n"
     ]
    }
   ],
   "source": [
    "## create a tetrad class object\n",
    "tet = ipa.tetrad(\n",
    "    name=data.name,\n",
    "    seqfile=data.outfiles.snpsphy,\n",
    "    mapfile=data.outfiles.snpsmap,\n",
    "    workdir=\"~/workshop/analysis-tetrad\",\n",
    "    nboots=100\n",
    "    )\n",
    "\n",
    "## run the analysis\n",
    "tet.run(ipyclient)"
   ]
  },
  {
   "cell_type": "markdown",
   "metadata": {},
   "source": [
    "### Access result tetrad trees and draw"
   ]
  },
  {
   "cell_type": "code",
   "execution_count": 17,
   "metadata": {
    "slideshow": {
     "slide_type": "subslide"
    }
   },
   "outputs": [
    {
     "data": {
      "text/plain": [
       "boots                /home/deren/workshop/analysis-tetrad/simdata.boots\n",
       "cons                 /home/deren/workshop/analysis-tetrad/simdata.cons\n",
       "nhx                  /home/deren/workshop/analysis-tetrad/simdata.nhx\n",
       "tree                 /home/deren/workshop/analysis-tetrad/simdata.tree"
      ]
     },
     "execution_count": 17,
     "metadata": {},
     "output_type": "execute_result"
    }
   ],
   "source": [
    "tet.trees"
   ]
  },
  {
   "cell_type": "code",
   "execution_count": 63,
   "metadata": {
    "slideshow": {
     "slide_type": "subslide"
    }
   },
   "outputs": [
    {
     "data": {
      "text/html": [
       "<div align=\"center\" class=\"toyplot\" id=\"t58f6c4e57bfd495e878c31b0363ab520\"><svg class=\"toyplot-canvas-Canvas\" height=\"300.0px\" id=\"t3f547b6e64674c1aaa46fca2cadd7077\" preserveAspectRatio=\"xMidYMid meet\" style=\"background-color:transparent;fill:rgb(16.1%,15.3%,14.1%);fill-opacity:1.0;font-family:Helvetica;font-size:12px;opacity:1.0;stroke:rgb(16.1%,15.3%,14.1%);stroke-opacity:1.0;stroke-width:1.0\" viewBox=\"0 0 300.0 300.0\" width=\"300.0px\" xmlns=\"http://www.w3.org/2000/svg\" xmlns:toyplot=\"http://www.sandia.gov/toyplot\" xmlns:xlink=\"http://www.w3.org/1999/xlink\"><g class=\"toyplot-coordinates-Cartesian\" id=\"t98ce150cbd2a406daa8402f55fbdf7bb\"><clipPath id=\"t616272aaa70e4a74bca248eee4aed105\"><rect height=\"260.0\" width=\"260.0\" x=\"20.0\" y=\"20.0\"></rect></clipPath><g clip-path=\"url(#t616272aaa70e4a74bca248eee4aed105)\"><g class=\"toyplot-mark-Text\" id=\"t056537399a4b40569068f84b7c8428fc\" style=\"-toyplot-anchor-shift:15px;alignment-baseline:middle;font-size:12px;font-weight:normal;stroke:none;text-anchor:start\"><g class=\"toyplot-Series\"><text class=\"toyplot-Datum\" style=\"fill:rgb(16.1%,15.3%,14.1%);fill-opacity:1.0;font-weight:normal;opacity:1.0;stroke:none;text-anchor:start\" transform=\"translate(220.09900990099013,35.714285714285694)translate(15.0,3.375)\"><tspan style=\"font-size:12.0px\">1D_0</tspan></text><text class=\"toyplot-Datum\" style=\"fill:rgb(16.1%,15.3%,14.1%);fill-opacity:1.0;font-weight:normal;opacity:1.0;stroke:none;text-anchor:start\" transform=\"translate(220.09900990099013,56.493506493506459)translate(15.0,3.375)\"><tspan style=\"font-size:12.0px\">1C_0</tspan></text><text class=\"toyplot-Datum\" style=\"fill:rgb(16.1%,15.3%,14.1%);fill-opacity:1.0;font-weight:normal;opacity:1.0;stroke:none;text-anchor:start\" transform=\"translate(220.09900990099013,77.272727272727252)translate(15.0,3.375)\"><tspan style=\"font-size:12.0px\">1A_0</tspan></text><text class=\"toyplot-Datum\" style=\"fill:rgb(16.1%,15.3%,14.1%);fill-opacity:1.0;font-weight:normal;opacity:1.0;stroke:none;text-anchor:start\" transform=\"translate(220.09900990099013,98.051948051948031)translate(15.0,3.375)\"><tspan style=\"font-size:12.0px\">1B_0</tspan></text><text class=\"toyplot-Datum\" style=\"fill:rgb(16.1%,15.3%,14.1%);fill-opacity:1.0;font-weight:normal;opacity:1.0;stroke:none;text-anchor:start\" transform=\"translate(220.09900990099013,118.83116883116882)translate(15.0,3.375)\"><tspan style=\"font-size:12.0px\">2H_0</tspan></text><text class=\"toyplot-Datum\" style=\"fill:rgb(16.1%,15.3%,14.1%);fill-opacity:1.0;font-weight:normal;opacity:1.0;stroke:none;text-anchor:start\" transform=\"translate(220.09900990099013,139.61038961038957)translate(15.0,3.375)\"><tspan style=\"font-size:12.0px\">2G_0</tspan></text><text class=\"toyplot-Datum\" style=\"fill:rgb(16.1%,15.3%,14.1%);fill-opacity:1.0;font-weight:normal;opacity:1.0;stroke:none;text-anchor:start\" transform=\"translate(220.09900990099013,160.38961038961034)translate(15.0,3.375)\"><tspan style=\"font-size:12.0px\">2E_0</tspan></text><text class=\"toyplot-Datum\" style=\"fill:rgb(16.1%,15.3%,14.1%);fill-opacity:1.0;font-weight:normal;opacity:1.0;stroke:none;text-anchor:start\" transform=\"translate(220.09900990099013,181.16883116883116)translate(15.0,3.375)\"><tspan style=\"font-size:12.0px\">2F_0</tspan></text><text class=\"toyplot-Datum\" style=\"fill:rgb(16.1%,15.3%,14.1%);fill-opacity:1.0;font-weight:normal;opacity:1.0;stroke:none;text-anchor:start\" transform=\"translate(220.09900990099013,201.94805194805195)translate(15.0,3.375)\"><tspan style=\"font-size:12.0px\">3L_0</tspan></text><text class=\"toyplot-Datum\" style=\"fill:rgb(16.1%,15.3%,14.1%);fill-opacity:1.0;font-weight:normal;opacity:1.0;stroke:none;text-anchor:start\" transform=\"translate(220.09900990099013,222.72727272727272)translate(15.0,3.375)\"><tspan style=\"font-size:12.0px\">3K_0</tspan></text><text class=\"toyplot-Datum\" style=\"fill:rgb(16.1%,15.3%,14.1%);fill-opacity:1.0;font-weight:normal;opacity:1.0;stroke:none;text-anchor:start\" transform=\"translate(220.09900990099013,243.50649350649351)translate(15.0,3.375)\"><tspan style=\"font-size:12.0px\">3I_0</tspan></text><text class=\"toyplot-Datum\" style=\"fill:rgb(16.1%,15.3%,14.1%);fill-opacity:1.0;font-weight:normal;opacity:1.0;stroke:none;text-anchor:start\" transform=\"translate(220.09900990099013,264.28571428571428)translate(15.0,3.375)\"><tspan style=\"font-size:12.0px\">3J_0</tspan></text></g></g><g class=\"toyplot-mark-Graph\" id=\"t0ba9ba6ac16a47e6bdb324f10ee101b8\"><g class=\"toyplot-Edges\"><path d=\"M 30.0 137.012987013 L 30.0 53.8961038961\" style=\"fill:none;stroke:rgb(16.1%,15.3%,14.1%);stroke-linecap:round;stroke-opacity:1.0;stroke-width:2\"></path><path d=\"M 30.0 53.8961038961 L 77.5247524752 53.8961038961\" style=\"fill:none;stroke:rgb(16.1%,15.3%,14.1%);stroke-linecap:round;stroke-opacity:1.0;stroke-width:2\"></path><path d=\"M 30.0 137.012987013 L 30.0 137.012987013\" style=\"fill:none;stroke:rgb(16.1%,15.3%,14.1%);stroke-linecap:round;stroke-opacity:1.0;stroke-width:2\"></path><path d=\"M 30.0 137.012987013 L 77.5247524752 137.012987013\" style=\"fill:none;stroke:rgb(16.1%,15.3%,14.1%);stroke-linecap:round;stroke-opacity:1.0;stroke-width:2\"></path><path d=\"M 30.0 137.012987013 L 30.0 220.12987013\" style=\"fill:none;stroke:rgb(16.1%,15.3%,14.1%);stroke-linecap:round;stroke-opacity:1.0;stroke-width:2\"></path><path d=\"M 30.0 220.12987013 L 77.5247524752 220.12987013\" style=\"fill:none;stroke:rgb(16.1%,15.3%,14.1%);stroke-linecap:round;stroke-opacity:1.0;stroke-width:2\"></path><path d=\"M 77.5247524752 53.8961038961 L 77.5247524752 35.7142857143\" style=\"fill:none;stroke:rgb(16.1%,15.3%,14.1%);stroke-linecap:round;stroke-opacity:1.0;stroke-width:2\"></path><path d=\"M 77.5247524752 35.7142857143 L 220.099009901 35.7142857143\" style=\"fill:none;stroke:rgb(16.1%,15.3%,14.1%);stroke-linecap:round;stroke-opacity:1.0;stroke-width:2\"></path><path d=\"M 77.5247524752 53.8961038961 L 77.5247524752 72.0779220779\" style=\"fill:none;stroke:rgb(16.1%,15.3%,14.1%);stroke-linecap:round;stroke-opacity:1.0;stroke-width:2\"></path><path d=\"M 77.5247524752 72.0779220779 L 125.04950495 72.0779220779\" style=\"fill:none;stroke:rgb(16.1%,15.3%,14.1%);stroke-linecap:round;stroke-opacity:1.0;stroke-width:2\"></path><path d=\"M 77.5247524752 137.012987013 L 77.5247524752 118.831168831\" style=\"fill:none;stroke:rgb(16.1%,15.3%,14.1%);stroke-linecap:round;stroke-opacity:1.0;stroke-width:2\"></path><path d=\"M 77.5247524752 118.831168831 L 220.099009901 118.831168831\" style=\"fill:none;stroke:rgb(16.1%,15.3%,14.1%);stroke-linecap:round;stroke-opacity:1.0;stroke-width:2\"></path><path d=\"M 77.5247524752 137.012987013 L 77.5247524752 155.194805195\" style=\"fill:none;stroke:rgb(16.1%,15.3%,14.1%);stroke-linecap:round;stroke-opacity:1.0;stroke-width:2\"></path><path d=\"M 77.5247524752 155.194805195 L 125.04950495 155.194805195\" style=\"fill:none;stroke:rgb(16.1%,15.3%,14.1%);stroke-linecap:round;stroke-opacity:1.0;stroke-width:2\"></path><path d=\"M 77.5247524752 220.12987013 L 77.5247524752 201.948051948\" style=\"fill:none;stroke:rgb(16.1%,15.3%,14.1%);stroke-linecap:round;stroke-opacity:1.0;stroke-width:2\"></path><path d=\"M 77.5247524752 201.948051948 L 220.099009901 201.948051948\" style=\"fill:none;stroke:rgb(16.1%,15.3%,14.1%);stroke-linecap:round;stroke-opacity:1.0;stroke-width:2\"></path><path d=\"M 77.5247524752 220.12987013 L 77.5247524752 238.311688312\" style=\"fill:none;stroke:rgb(16.1%,15.3%,14.1%);stroke-linecap:round;stroke-opacity:1.0;stroke-width:2\"></path><path d=\"M 77.5247524752 238.311688312 L 125.04950495 238.311688312\" style=\"fill:none;stroke:rgb(16.1%,15.3%,14.1%);stroke-linecap:round;stroke-opacity:1.0;stroke-width:2\"></path><path d=\"M 125.04950495 72.0779220779 L 125.04950495 56.4935064935\" style=\"fill:none;stroke:rgb(16.1%,15.3%,14.1%);stroke-linecap:round;stroke-opacity:1.0;stroke-width:2\"></path><path d=\"M 125.04950495 56.4935064935 L 220.099009901 56.4935064935\" style=\"fill:none;stroke:rgb(16.1%,15.3%,14.1%);stroke-linecap:round;stroke-opacity:1.0;stroke-width:2\"></path><path d=\"M 125.04950495 72.0779220779 L 125.04950495 87.6623376623\" style=\"fill:none;stroke:rgb(16.1%,15.3%,14.1%);stroke-linecap:round;stroke-opacity:1.0;stroke-width:2\"></path><path d=\"M 125.04950495 87.6623376623 L 172.574257426 87.6623376623\" style=\"fill:none;stroke:rgb(16.1%,15.3%,14.1%);stroke-linecap:round;stroke-opacity:1.0;stroke-width:2\"></path><path d=\"M 125.04950495 155.194805195 L 125.04950495 139.61038961\" style=\"fill:none;stroke:rgb(16.1%,15.3%,14.1%);stroke-linecap:round;stroke-opacity:1.0;stroke-width:2\"></path><path d=\"M 125.04950495 139.61038961 L 220.099009901 139.61038961\" style=\"fill:none;stroke:rgb(16.1%,15.3%,14.1%);stroke-linecap:round;stroke-opacity:1.0;stroke-width:2\"></path><path d=\"M 125.04950495 155.194805195 L 125.04950495 170.779220779\" style=\"fill:none;stroke:rgb(16.1%,15.3%,14.1%);stroke-linecap:round;stroke-opacity:1.0;stroke-width:2\"></path><path d=\"M 125.04950495 170.779220779 L 172.574257426 170.779220779\" style=\"fill:none;stroke:rgb(16.1%,15.3%,14.1%);stroke-linecap:round;stroke-opacity:1.0;stroke-width:2\"></path><path d=\"M 125.04950495 238.311688312 L 125.04950495 222.727272727\" style=\"fill:none;stroke:rgb(16.1%,15.3%,14.1%);stroke-linecap:round;stroke-opacity:1.0;stroke-width:2\"></path><path d=\"M 125.04950495 222.727272727 L 220.099009901 222.727272727\" style=\"fill:none;stroke:rgb(16.1%,15.3%,14.1%);stroke-linecap:round;stroke-opacity:1.0;stroke-width:2\"></path><path d=\"M 125.04950495 238.311688312 L 125.04950495 253.896103896\" style=\"fill:none;stroke:rgb(16.1%,15.3%,14.1%);stroke-linecap:round;stroke-opacity:1.0;stroke-width:2\"></path><path d=\"M 125.04950495 253.896103896 L 172.574257426 253.896103896\" style=\"fill:none;stroke:rgb(16.1%,15.3%,14.1%);stroke-linecap:round;stroke-opacity:1.0;stroke-width:2\"></path><path d=\"M 172.574257426 87.6623376623 L 172.574257426 77.2727272727\" style=\"fill:none;stroke:rgb(16.1%,15.3%,14.1%);stroke-linecap:round;stroke-opacity:1.0;stroke-width:2\"></path><path d=\"M 172.574257426 77.2727272727 L 220.099009901 77.2727272727\" style=\"fill:none;stroke:rgb(16.1%,15.3%,14.1%);stroke-linecap:round;stroke-opacity:1.0;stroke-width:2\"></path><path d=\"M 172.574257426 87.6623376623 L 172.574257426 98.0519480519\" style=\"fill:none;stroke:rgb(16.1%,15.3%,14.1%);stroke-linecap:round;stroke-opacity:1.0;stroke-width:2\"></path><path d=\"M 172.574257426 98.0519480519 L 220.099009901 98.0519480519\" style=\"fill:none;stroke:rgb(16.1%,15.3%,14.1%);stroke-linecap:round;stroke-opacity:1.0;stroke-width:2\"></path><path d=\"M 172.574257426 170.779220779 L 172.574257426 160.38961039\" style=\"fill:none;stroke:rgb(16.1%,15.3%,14.1%);stroke-linecap:round;stroke-opacity:1.0;stroke-width:2\"></path><path d=\"M 172.574257426 160.38961039 L 220.099009901 160.38961039\" style=\"fill:none;stroke:rgb(16.1%,15.3%,14.1%);stroke-linecap:round;stroke-opacity:1.0;stroke-width:2\"></path><path d=\"M 172.574257426 170.779220779 L 172.574257426 181.168831169\" style=\"fill:none;stroke:rgb(16.1%,15.3%,14.1%);stroke-linecap:round;stroke-opacity:1.0;stroke-width:2\"></path><path d=\"M 172.574257426 181.168831169 L 220.099009901 181.168831169\" style=\"fill:none;stroke:rgb(16.1%,15.3%,14.1%);stroke-linecap:round;stroke-opacity:1.0;stroke-width:2\"></path><path d=\"M 172.574257426 253.896103896 L 172.574257426 243.506493506\" style=\"fill:none;stroke:rgb(16.1%,15.3%,14.1%);stroke-linecap:round;stroke-opacity:1.0;stroke-width:2\"></path><path d=\"M 172.574257426 243.506493506 L 220.099009901 243.506493506\" style=\"fill:none;stroke:rgb(16.1%,15.3%,14.1%);stroke-linecap:round;stroke-opacity:1.0;stroke-width:2\"></path><path d=\"M 172.574257426 253.896103896 L 172.574257426 264.285714286\" style=\"fill:none;stroke:rgb(16.1%,15.3%,14.1%);stroke-linecap:round;stroke-opacity:1.0;stroke-width:2\"></path><path d=\"M 172.574257426 264.285714286 L 220.099009901 264.285714286\" style=\"fill:none;stroke:rgb(16.1%,15.3%,14.1%);stroke-linecap:round;stroke-opacity:1.0;stroke-width:2\"></path></g><g class=\"toyplot-Vertices\"><g class=\"toyplot-Datum\" style=\"fill:rgb(40%,76.1%,64.7%);fill-opacity:1.0;opacity:1.0;stroke:rgb(40%,76.1%,64.7%);stroke-opacity:1.0\"><circle cx=\"30.0\" cy=\"137.01298701298697\" r=\"0.0\"></circle></g><g class=\"toyplot-Datum\" style=\"fill:rgb(40%,76.1%,64.7%);fill-opacity:1.0;opacity:1.0;stroke:rgb(40%,76.1%,64.7%);stroke-opacity:1.0\"><circle cx=\"30.0\" cy=\"53.89610389610386\" r=\"0.0\"></circle></g><g class=\"toyplot-Datum\" style=\"fill:rgb(40%,76.1%,64.7%);fill-opacity:1.0;opacity:1.0;stroke:rgb(40%,76.1%,64.7%);stroke-opacity:1.0\"><circle cx=\"77.524752475247539\" cy=\"53.89610389610386\" r=\"0.0\"></circle></g><g class=\"toyplot-Datum\" style=\"fill:rgb(40%,76.1%,64.7%);fill-opacity:1.0;opacity:1.0;stroke:rgb(40%,76.1%,64.7%);stroke-opacity:1.0\"><circle cx=\"30.0\" cy=\"137.01298701298697\" r=\"0.0\"></circle></g><g class=\"toyplot-Datum\" style=\"fill:rgb(40%,76.1%,64.7%);fill-opacity:1.0;opacity:1.0;stroke:rgb(40%,76.1%,64.7%);stroke-opacity:1.0\"><circle cx=\"77.524752475247539\" cy=\"137.01298701298697\" r=\"0.0\"></circle></g><g class=\"toyplot-Datum\" style=\"fill:rgb(40%,76.1%,64.7%);fill-opacity:1.0;opacity:1.0;stroke:rgb(40%,76.1%,64.7%);stroke-opacity:1.0\"><circle cx=\"30.0\" cy=\"220.12987012987011\" r=\"0.0\"></circle></g><g class=\"toyplot-Datum\" style=\"fill:rgb(40%,76.1%,64.7%);fill-opacity:1.0;opacity:1.0;stroke:rgb(40%,76.1%,64.7%);stroke-opacity:1.0\"><circle cx=\"77.524752475247539\" cy=\"220.12987012987011\" r=\"0.0\"></circle></g><g class=\"toyplot-Datum\" style=\"fill:rgb(40%,76.1%,64.7%);fill-opacity:1.0;opacity:1.0;stroke:rgb(40%,76.1%,64.7%);stroke-opacity:1.0\"><circle cx=\"77.524752475247539\" cy=\"53.89610389610386\" r=\"0.0\"></circle></g><g class=\"toyplot-Datum\" style=\"fill:rgb(40%,76.1%,64.7%);fill-opacity:1.0;opacity:1.0;stroke:rgb(40%,76.1%,64.7%);stroke-opacity:1.0\"><circle cx=\"77.524752475247539\" cy=\"35.714285714285694\" r=\"0.0\"></circle></g><g class=\"toyplot-Datum\" style=\"fill:rgb(40%,76.1%,64.7%);fill-opacity:1.0;opacity:1.0;stroke:rgb(40%,76.1%,64.7%);stroke-opacity:1.0\"><circle cx=\"220.09900990099013\" cy=\"35.714285714285694\" r=\"0.0\"></circle></g><g class=\"toyplot-Datum\" style=\"fill:rgb(40%,76.1%,64.7%);fill-opacity:1.0;opacity:1.0;stroke:rgb(40%,76.1%,64.7%);stroke-opacity:1.0\"><circle cx=\"77.524752475247539\" cy=\"72.077922077922054\" r=\"0.0\"></circle></g><g class=\"toyplot-Datum\" style=\"fill:rgb(40%,76.1%,64.7%);fill-opacity:1.0;opacity:1.0;stroke:rgb(40%,76.1%,64.7%);stroke-opacity:1.0\"><circle cx=\"125.04950495049506\" cy=\"72.077922077922054\" r=\"0.0\"></circle></g><g class=\"toyplot-Datum\" style=\"fill:rgb(40%,76.1%,64.7%);fill-opacity:1.0;opacity:1.0;stroke:rgb(40%,76.1%,64.7%);stroke-opacity:1.0\"><circle cx=\"77.524752475247539\" cy=\"137.01298701298697\" r=\"0.0\"></circle></g><g class=\"toyplot-Datum\" style=\"fill:rgb(40%,76.1%,64.7%);fill-opacity:1.0;opacity:1.0;stroke:rgb(40%,76.1%,64.7%);stroke-opacity:1.0\"><circle cx=\"77.524752475247539\" cy=\"118.83116883116882\" r=\"0.0\"></circle></g><g class=\"toyplot-Datum\" style=\"fill:rgb(40%,76.1%,64.7%);fill-opacity:1.0;opacity:1.0;stroke:rgb(40%,76.1%,64.7%);stroke-opacity:1.0\"><circle cx=\"220.09900990099013\" cy=\"118.83116883116882\" r=\"0.0\"></circle></g><g class=\"toyplot-Datum\" style=\"fill:rgb(40%,76.1%,64.7%);fill-opacity:1.0;opacity:1.0;stroke:rgb(40%,76.1%,64.7%);stroke-opacity:1.0\"><circle cx=\"77.524752475247539\" cy=\"155.19480519480518\" r=\"0.0\"></circle></g><g class=\"toyplot-Datum\" style=\"fill:rgb(40%,76.1%,64.7%);fill-opacity:1.0;opacity:1.0;stroke:rgb(40%,76.1%,64.7%);stroke-opacity:1.0\"><circle cx=\"125.04950495049506\" cy=\"155.19480519480518\" r=\"0.0\"></circle></g><g class=\"toyplot-Datum\" style=\"fill:rgb(40%,76.1%,64.7%);fill-opacity:1.0;opacity:1.0;stroke:rgb(40%,76.1%,64.7%);stroke-opacity:1.0\"><circle cx=\"77.524752475247539\" cy=\"220.12987012987011\" r=\"0.0\"></circle></g><g class=\"toyplot-Datum\" style=\"fill:rgb(40%,76.1%,64.7%);fill-opacity:1.0;opacity:1.0;stroke:rgb(40%,76.1%,64.7%);stroke-opacity:1.0\"><circle cx=\"77.524752475247539\" cy=\"201.94805194805195\" r=\"0.0\"></circle></g><g class=\"toyplot-Datum\" style=\"fill:rgb(40%,76.1%,64.7%);fill-opacity:1.0;opacity:1.0;stroke:rgb(40%,76.1%,64.7%);stroke-opacity:1.0\"><circle cx=\"220.09900990099013\" cy=\"201.94805194805195\" r=\"0.0\"></circle></g><g class=\"toyplot-Datum\" style=\"fill:rgb(40%,76.1%,64.7%);fill-opacity:1.0;opacity:1.0;stroke:rgb(40%,76.1%,64.7%);stroke-opacity:1.0\"><circle cx=\"77.524752475247539\" cy=\"238.3116883116883\" r=\"0.0\"></circle></g><g class=\"toyplot-Datum\" style=\"fill:rgb(40%,76.1%,64.7%);fill-opacity:1.0;opacity:1.0;stroke:rgb(40%,76.1%,64.7%);stroke-opacity:1.0\"><circle cx=\"125.04950495049506\" cy=\"238.3116883116883\" r=\"0.0\"></circle></g><g class=\"toyplot-Datum\" style=\"fill:rgb(40%,76.1%,64.7%);fill-opacity:1.0;opacity:1.0;stroke:rgb(40%,76.1%,64.7%);stroke-opacity:1.0\"><circle cx=\"125.04950495049506\" cy=\"72.077922077922054\" r=\"0.0\"></circle></g><g class=\"toyplot-Datum\" style=\"fill:rgb(40%,76.1%,64.7%);fill-opacity:1.0;opacity:1.0;stroke:rgb(40%,76.1%,64.7%);stroke-opacity:1.0\"><circle cx=\"125.04950495049506\" cy=\"56.493506493506459\" r=\"0.0\"></circle></g><g class=\"toyplot-Datum\" style=\"fill:rgb(40%,76.1%,64.7%);fill-opacity:1.0;opacity:1.0;stroke:rgb(40%,76.1%,64.7%);stroke-opacity:1.0\"><circle cx=\"220.09900990099013\" cy=\"56.493506493506459\" r=\"0.0\"></circle></g><g class=\"toyplot-Datum\" style=\"fill:rgb(40%,76.1%,64.7%);fill-opacity:1.0;opacity:1.0;stroke:rgb(40%,76.1%,64.7%);stroke-opacity:1.0\"><circle cx=\"125.04950495049506\" cy=\"87.662337662337634\" r=\"0.0\"></circle></g><g class=\"toyplot-Datum\" style=\"fill:rgb(40%,76.1%,64.7%);fill-opacity:1.0;opacity:1.0;stroke:rgb(40%,76.1%,64.7%);stroke-opacity:1.0\"><circle cx=\"172.57425742574256\" cy=\"87.662337662337634\" r=\"0.0\"></circle></g><g class=\"toyplot-Datum\" style=\"fill:rgb(40%,76.1%,64.7%);fill-opacity:1.0;opacity:1.0;stroke:rgb(40%,76.1%,64.7%);stroke-opacity:1.0\"><circle cx=\"125.04950495049506\" cy=\"155.19480519480518\" r=\"0.0\"></circle></g><g class=\"toyplot-Datum\" style=\"fill:rgb(40%,76.1%,64.7%);fill-opacity:1.0;opacity:1.0;stroke:rgb(40%,76.1%,64.7%);stroke-opacity:1.0\"><circle cx=\"125.04950495049506\" cy=\"139.61038961038957\" r=\"0.0\"></circle></g><g class=\"toyplot-Datum\" style=\"fill:rgb(40%,76.1%,64.7%);fill-opacity:1.0;opacity:1.0;stroke:rgb(40%,76.1%,64.7%);stroke-opacity:1.0\"><circle cx=\"220.09900990099013\" cy=\"139.61038961038957\" r=\"0.0\"></circle></g><g class=\"toyplot-Datum\" style=\"fill:rgb(40%,76.1%,64.7%);fill-opacity:1.0;opacity:1.0;stroke:rgb(40%,76.1%,64.7%);stroke-opacity:1.0\"><circle cx=\"125.04950495049506\" cy=\"170.77922077922076\" r=\"0.0\"></circle></g><g class=\"toyplot-Datum\" style=\"fill:rgb(40%,76.1%,64.7%);fill-opacity:1.0;opacity:1.0;stroke:rgb(40%,76.1%,64.7%);stroke-opacity:1.0\"><circle cx=\"172.57425742574256\" cy=\"170.77922077922076\" r=\"0.0\"></circle></g><g class=\"toyplot-Datum\" style=\"fill:rgb(40%,76.1%,64.7%);fill-opacity:1.0;opacity:1.0;stroke:rgb(40%,76.1%,64.7%);stroke-opacity:1.0\"><circle cx=\"125.04950495049506\" cy=\"238.3116883116883\" r=\"0.0\"></circle></g><g class=\"toyplot-Datum\" style=\"fill:rgb(40%,76.1%,64.7%);fill-opacity:1.0;opacity:1.0;stroke:rgb(40%,76.1%,64.7%);stroke-opacity:1.0\"><circle cx=\"125.04950495049506\" cy=\"222.72727272727272\" r=\"0.0\"></circle></g><g class=\"toyplot-Datum\" style=\"fill:rgb(40%,76.1%,64.7%);fill-opacity:1.0;opacity:1.0;stroke:rgb(40%,76.1%,64.7%);stroke-opacity:1.0\"><circle cx=\"220.09900990099013\" cy=\"222.72727272727272\" r=\"0.0\"></circle></g><g class=\"toyplot-Datum\" style=\"fill:rgb(40%,76.1%,64.7%);fill-opacity:1.0;opacity:1.0;stroke:rgb(40%,76.1%,64.7%);stroke-opacity:1.0\"><circle cx=\"125.04950495049506\" cy=\"253.89610389610391\" r=\"0.0\"></circle></g><g class=\"toyplot-Datum\" style=\"fill:rgb(40%,76.1%,64.7%);fill-opacity:1.0;opacity:1.0;stroke:rgb(40%,76.1%,64.7%);stroke-opacity:1.0\"><circle cx=\"172.57425742574256\" cy=\"253.89610389610391\" r=\"0.0\"></circle></g><g class=\"toyplot-Datum\" style=\"fill:rgb(40%,76.1%,64.7%);fill-opacity:1.0;opacity:1.0;stroke:rgb(40%,76.1%,64.7%);stroke-opacity:1.0\"><circle cx=\"172.57425742574256\" cy=\"87.662337662337634\" r=\"0.0\"></circle></g><g class=\"toyplot-Datum\" style=\"fill:rgb(40%,76.1%,64.7%);fill-opacity:1.0;opacity:1.0;stroke:rgb(40%,76.1%,64.7%);stroke-opacity:1.0\"><circle cx=\"172.57425742574256\" cy=\"77.272727272727252\" r=\"0.0\"></circle></g><g class=\"toyplot-Datum\" style=\"fill:rgb(40%,76.1%,64.7%);fill-opacity:1.0;opacity:1.0;stroke:rgb(40%,76.1%,64.7%);stroke-opacity:1.0\"><circle cx=\"220.09900990099013\" cy=\"77.272727272727252\" r=\"0.0\"></circle></g><g class=\"toyplot-Datum\" style=\"fill:rgb(40%,76.1%,64.7%);fill-opacity:1.0;opacity:1.0;stroke:rgb(40%,76.1%,64.7%);stroke-opacity:1.0\"><circle cx=\"172.57425742574256\" cy=\"98.051948051948031\" r=\"0.0\"></circle></g><g class=\"toyplot-Datum\" style=\"fill:rgb(40%,76.1%,64.7%);fill-opacity:1.0;opacity:1.0;stroke:rgb(40%,76.1%,64.7%);stroke-opacity:1.0\"><circle cx=\"220.09900990099013\" cy=\"98.051948051948031\" r=\"0.0\"></circle></g><g class=\"toyplot-Datum\" style=\"fill:rgb(40%,76.1%,64.7%);fill-opacity:1.0;opacity:1.0;stroke:rgb(40%,76.1%,64.7%);stroke-opacity:1.0\"><circle cx=\"172.57425742574256\" cy=\"170.77922077922076\" r=\"0.0\"></circle></g><g class=\"toyplot-Datum\" style=\"fill:rgb(40%,76.1%,64.7%);fill-opacity:1.0;opacity:1.0;stroke:rgb(40%,76.1%,64.7%);stroke-opacity:1.0\"><circle cx=\"172.57425742574256\" cy=\"160.38961038961034\" r=\"0.0\"></circle></g><g class=\"toyplot-Datum\" style=\"fill:rgb(40%,76.1%,64.7%);fill-opacity:1.0;opacity:1.0;stroke:rgb(40%,76.1%,64.7%);stroke-opacity:1.0\"><circle cx=\"220.09900990099013\" cy=\"160.38961038961034\" r=\"0.0\"></circle></g><g class=\"toyplot-Datum\" style=\"fill:rgb(40%,76.1%,64.7%);fill-opacity:1.0;opacity:1.0;stroke:rgb(40%,76.1%,64.7%);stroke-opacity:1.0\"><circle cx=\"172.57425742574256\" cy=\"181.16883116883116\" r=\"0.0\"></circle></g><g class=\"toyplot-Datum\" style=\"fill:rgb(40%,76.1%,64.7%);fill-opacity:1.0;opacity:1.0;stroke:rgb(40%,76.1%,64.7%);stroke-opacity:1.0\"><circle cx=\"220.09900990099013\" cy=\"181.16883116883116\" r=\"0.0\"></circle></g><g class=\"toyplot-Datum\" style=\"fill:rgb(40%,76.1%,64.7%);fill-opacity:1.0;opacity:1.0;stroke:rgb(40%,76.1%,64.7%);stroke-opacity:1.0\"><circle cx=\"172.57425742574256\" cy=\"253.89610389610391\" r=\"0.0\"></circle></g><g class=\"toyplot-Datum\" style=\"fill:rgb(40%,76.1%,64.7%);fill-opacity:1.0;opacity:1.0;stroke:rgb(40%,76.1%,64.7%);stroke-opacity:1.0\"><circle cx=\"172.57425742574256\" cy=\"243.50649350649351\" r=\"0.0\"></circle></g><g class=\"toyplot-Datum\" style=\"fill:rgb(40%,76.1%,64.7%);fill-opacity:1.0;opacity:1.0;stroke:rgb(40%,76.1%,64.7%);stroke-opacity:1.0\"><circle cx=\"220.09900990099013\" cy=\"243.50649350649351\" r=\"0.0\"></circle></g><g class=\"toyplot-Datum\" style=\"fill:rgb(40%,76.1%,64.7%);fill-opacity:1.0;opacity:1.0;stroke:rgb(40%,76.1%,64.7%);stroke-opacity:1.0\"><circle cx=\"172.57425742574256\" cy=\"264.28571428571428\" r=\"0.0\"></circle></g><g class=\"toyplot-Datum\" style=\"fill:rgb(40%,76.1%,64.7%);fill-opacity:1.0;opacity:1.0;stroke:rgb(40%,76.1%,64.7%);stroke-opacity:1.0\"><circle cx=\"220.09900990099013\" cy=\"264.28571428571428\" r=\"0.0\"></circle></g></g></g><g class=\"toyplot-mark-Scatterplot\" id=\"t92dc5121b1e9417cb439a125ab32fa6b\" style=\"\"><g class=\"toyplot-Series\"><g class=\"toyplot-Datum\" style=\"fill:rgb(40%,76.1%,64.7%);fill-opacity:1.0;opacity:1.0;stroke:none\"><circle cx=\"30.0\" cy=\"137.01298701298697\" r=\"0.0\"></circle></g><g class=\"toyplot-Datum\" style=\"fill:rgb(40%,76.1%,64.7%);fill-opacity:1.0;opacity:1.0;stroke:none\"><circle cx=\"77.524752475247539\" cy=\"53.89610389610386\" r=\"10.0\"></circle></g><g class=\"toyplot-Datum\" style=\"fill:rgb(40%,76.1%,64.7%);fill-opacity:1.0;opacity:1.0;stroke:none\"><circle cx=\"125.04950495049506\" cy=\"72.077922077922054\" r=\"10.0\"></circle></g><g class=\"toyplot-Datum\" style=\"fill:rgb(40%,76.1%,64.7%);fill-opacity:1.0;opacity:1.0;stroke:none\"><circle cx=\"172.57425742574256\" cy=\"87.662337662337634\" r=\"10.0\"></circle></g><g class=\"toyplot-Datum\" style=\"fill:rgb(40%,76.1%,64.7%);fill-opacity:1.0;opacity:1.0;stroke:none\"><circle cx=\"77.524752475247539\" cy=\"137.01298701298697\" r=\"10.0\"></circle></g><g class=\"toyplot-Datum\" style=\"fill:rgb(40%,76.1%,64.7%);fill-opacity:1.0;opacity:1.0;stroke:none\"><circle cx=\"125.04950495049506\" cy=\"155.19480519480518\" r=\"10.0\"></circle></g><g class=\"toyplot-Datum\" style=\"fill:rgb(40%,76.1%,64.7%);fill-opacity:1.0;opacity:1.0;stroke:none\"><circle cx=\"172.57425742574256\" cy=\"170.77922077922076\" r=\"10.0\"></circle></g><g class=\"toyplot-Datum\" style=\"fill:rgb(40%,76.1%,64.7%);fill-opacity:1.0;opacity:1.0;stroke:none\"><circle cx=\"77.524752475247539\" cy=\"220.12987012987011\" r=\"10.0\"></circle></g><g class=\"toyplot-Datum\" style=\"fill:rgb(40%,76.1%,64.7%);fill-opacity:1.0;opacity:1.0;stroke:none\"><circle cx=\"125.04950495049506\" cy=\"238.3116883116883\" r=\"10.0\"></circle></g><g class=\"toyplot-Datum\" style=\"fill:rgb(40%,76.1%,64.7%);fill-opacity:1.0;opacity:1.0;stroke:none\"><circle cx=\"172.57425742574256\" cy=\"253.89610389610391\" r=\"10.0\"></circle></g><g class=\"toyplot-Datum\" style=\"fill:rgb(40%,76.1%,64.7%);fill-opacity:1.0;opacity:1.0;stroke:none\"><circle cx=\"220.09900990099013\" cy=\"35.714285714285694\" r=\"0.0\"></circle></g><g class=\"toyplot-Datum\" style=\"fill:rgb(40%,76.1%,64.7%);fill-opacity:1.0;opacity:1.0;stroke:none\"><circle cx=\"220.09900990099013\" cy=\"56.493506493506459\" r=\"0.0\"></circle></g><g class=\"toyplot-Datum\" style=\"fill:rgb(40%,76.1%,64.7%);fill-opacity:1.0;opacity:1.0;stroke:none\"><circle cx=\"220.09900990099013\" cy=\"77.272727272727252\" r=\"0.0\"></circle></g><g class=\"toyplot-Datum\" style=\"fill:rgb(40%,76.1%,64.7%);fill-opacity:1.0;opacity:1.0;stroke:none\"><circle cx=\"220.09900990099013\" cy=\"98.051948051948031\" r=\"0.0\"></circle></g><g class=\"toyplot-Datum\" style=\"fill:rgb(40%,76.1%,64.7%);fill-opacity:1.0;opacity:1.0;stroke:none\"><circle cx=\"220.09900990099013\" cy=\"118.83116883116882\" r=\"0.0\"></circle></g><g class=\"toyplot-Datum\" style=\"fill:rgb(40%,76.1%,64.7%);fill-opacity:1.0;opacity:1.0;stroke:none\"><circle cx=\"220.09900990099013\" cy=\"139.61038961038957\" r=\"0.0\"></circle></g><g class=\"toyplot-Datum\" style=\"fill:rgb(40%,76.1%,64.7%);fill-opacity:1.0;opacity:1.0;stroke:none\"><circle cx=\"220.09900990099013\" cy=\"160.38961038961034\" r=\"0.0\"></circle></g><g class=\"toyplot-Datum\" style=\"fill:rgb(40%,76.1%,64.7%);fill-opacity:1.0;opacity:1.0;stroke:none\"><circle cx=\"220.09900990099013\" cy=\"181.16883116883116\" r=\"0.0\"></circle></g><g class=\"toyplot-Datum\" style=\"fill:rgb(40%,76.1%,64.7%);fill-opacity:1.0;opacity:1.0;stroke:none\"><circle cx=\"220.09900990099013\" cy=\"201.94805194805195\" r=\"0.0\"></circle></g><g class=\"toyplot-Datum\" style=\"fill:rgb(40%,76.1%,64.7%);fill-opacity:1.0;opacity:1.0;stroke:none\"><circle cx=\"220.09900990099013\" cy=\"222.72727272727272\" r=\"0.0\"></circle></g><g class=\"toyplot-Datum\" style=\"fill:rgb(40%,76.1%,64.7%);fill-opacity:1.0;opacity:1.0;stroke:none\"><circle cx=\"220.09900990099013\" cy=\"243.50649350649351\" r=\"0.0\"></circle></g><g class=\"toyplot-Datum\" style=\"fill:rgb(40%,76.1%,64.7%);fill-opacity:1.0;opacity:1.0;stroke:none\"><circle cx=\"220.09900990099013\" cy=\"264.28571428571428\" r=\"0.0\"></circle></g></g></g><g class=\"toyplot-mark-Text\" id=\"tb7dd783204fa4e9b9b17245e9919eff2\" style=\"alignment-baseline:middle;fill:262626;font-size:9px;font-weight:normal;stroke:none;text-anchor:middle\"><g class=\"toyplot-Series\"><text class=\"toyplot-Datum\" style=\"fill:262626;font-weight:normal;opacity:1.0;stroke:none;text-anchor:middle\" transform=\"translate(77.524752475247539,53.89610389610386)translate(0,2.53125)\"><tspan style=\"font-size:9.0px\">100</tspan></text><text class=\"toyplot-Datum\" style=\"fill:262626;font-weight:normal;opacity:1.0;stroke:none;text-anchor:middle\" transform=\"translate(125.04950495049506,72.077922077922054)translate(0,2.53125)\"><tspan style=\"font-size:9.0px\">100</tspan></text><text class=\"toyplot-Datum\" style=\"fill:262626;font-weight:normal;opacity:1.0;stroke:none;text-anchor:middle\" transform=\"translate(172.57425742574256,87.662337662337634)translate(0,2.53125)\"><tspan style=\"font-size:9.0px\">100</tspan></text><text class=\"toyplot-Datum\" style=\"fill:262626;font-weight:normal;opacity:1.0;stroke:none;text-anchor:middle\" transform=\"translate(77.524752475247539,137.01298701298697)translate(0,2.53125)\"><tspan style=\"font-size:9.0px\">100</tspan></text><text class=\"toyplot-Datum\" style=\"fill:262626;font-weight:normal;opacity:1.0;stroke:none;text-anchor:middle\" transform=\"translate(125.04950495049506,155.19480519480518)translate(0,2.53125)\"><tspan style=\"font-size:9.0px\">100</tspan></text><text class=\"toyplot-Datum\" style=\"fill:262626;font-weight:normal;opacity:1.0;stroke:none;text-anchor:middle\" transform=\"translate(172.57425742574256,170.77922077922076)translate(0,2.53125)\"><tspan style=\"font-size:9.0px\">100</tspan></text><text class=\"toyplot-Datum\" style=\"fill:262626;font-weight:normal;opacity:1.0;stroke:none;text-anchor:middle\" transform=\"translate(77.524752475247539,220.12987012987011)translate(0,2.53125)\"><tspan style=\"font-size:9.0px\">100</tspan></text><text class=\"toyplot-Datum\" style=\"fill:262626;font-weight:normal;opacity:1.0;stroke:none;text-anchor:middle\" transform=\"translate(125.04950495049506,238.3116883116883)translate(0,2.53125)\"><tspan style=\"font-size:9.0px\">100</tspan></text><text class=\"toyplot-Datum\" style=\"fill:262626;font-weight:normal;opacity:1.0;stroke:none;text-anchor:middle\" transform=\"translate(172.57425742574256,253.89610389610391)translate(0,2.53125)\"><tspan style=\"font-size:9.0px\">100</tspan></text></g></g></g></g></svg><div class=\"toyplot-interactive\"><ul class=\"toyplot-mark-popup\" onmouseleave=\"this.style.visibility='hidden'\" style=\"background:rgba(0%,0%,0%,0.75);border:0;border-radius:6px;color:white;cursor:default;list-style:none;margin:0;padding:5px;position:fixed;visibility:hidden\">\n",
       "            <li class=\"toyplot-mark-popup-title\" style=\"color:lightgray;cursor:default;padding:5px;list-style:none;margin:0\"></li>\n",
       "            <li class=\"toyplot-mark-popup-save-csv\" onmouseout=\"this.style.color='white';this.style.background='steelblue'\" onmouseover=\"this.style.color='steelblue';this.style.background='white'\" style=\"border-radius:3px;padding:5px;list-style:none;margin:0\">\n",
       "                Save as .csv\n",
       "            </li>\n",
       "        </ul><script>\n",
       "        (function()\n",
       "        {\n",
       "          var data_tables = [{\"title\": \"Scatterplot Data\", \"names\": [\"x\", \"y0\"], \"id\": \"t92dc5121b1e9417cb439a125ab32fa6b\", \"columns\": [[-4.0, -3.0, -2.0, -1.0, -3.0, -2.0, -1.0, -3.0, -2.0, -1.0, 0.0, 0.0, 0.0, 0.0, 0.0, 0.0, 0.0, 0.0, 0.0, 0.0, 0.0, 0.0], [6.125, 10.125, 9.25, 8.5, 6.125, 5.25, 4.5, 2.125, 1.25, 0.5, 11.0, 10.0, 9.0, 8.0, 7.0, 6.0, 5.0, 4.0, 3.0, 2.0, 1.0, 0.0]], \"filename\": \"toyplot\"}];\n",
       "\n",
       "          function save_csv(data_table)\n",
       "          {\n",
       "            var uri = \"data:text/csv;charset=utf-8,\";\n",
       "            uri += data_table.names.join(\",\") + \"\\n\";\n",
       "            for(var i = 0; i != data_table.columns[0].length; ++i)\n",
       "            {\n",
       "              for(var j = 0; j != data_table.columns.length; ++j)\n",
       "              {\n",
       "                if(j)\n",
       "                  uri += \",\";\n",
       "                uri += data_table.columns[j][i];\n",
       "              }\n",
       "              uri += \"\\n\";\n",
       "            }\n",
       "            uri = encodeURI(uri);\n",
       "\n",
       "            var link = document.createElement(\"a\");\n",
       "            if(typeof link.download != \"undefined\")\n",
       "            {\n",
       "              link.href = uri;\n",
       "              link.style = \"visibility:hidden\";\n",
       "              link.download = data_table.filename + \".csv\";\n",
       "\n",
       "              document.body.appendChild(link);\n",
       "              link.click();\n",
       "              document.body.removeChild(link);\n",
       "            }\n",
       "            else\n",
       "            {\n",
       "              window.open(uri);\n",
       "            }\n",
       "          }\n",
       "\n",
       "          function open_popup(data_table)\n",
       "          {\n",
       "            return function(e)\n",
       "            {\n",
       "              var popup = document.querySelector(\"#t58f6c4e57bfd495e878c31b0363ab520 .toyplot-mark-popup\");\n",
       "              popup.querySelector(\".toyplot-mark-popup-title\").innerHTML = data_table.title;\n",
       "              popup.querySelector(\".toyplot-mark-popup-save-csv\").onclick = function() { popup.style.visibility = \"hidden\"; save_csv(data_table); }\n",
       "              popup.style.left = (e.clientX - 50) + \"px\";\n",
       "              popup.style.top = (e.clientY - 20) + \"px\";\n",
       "              popup.style.visibility = \"visible\";\n",
       "              e.stopPropagation();\n",
       "              e.preventDefault();\n",
       "            }\n",
       "\n",
       "          }\n",
       "\n",
       "          for(var i = 0; i != data_tables.length; ++i)\n",
       "          {\n",
       "            var data_table = data_tables[i];\n",
       "            var event_target = document.querySelector(\"#\" + data_table.id);\n",
       "            event_target.oncontextmenu = open_popup(data_table);\n",
       "          }\n",
       "        })();\n",
       "        </script></div></div>"
      ]
     },
     "metadata": {},
     "output_type": "display_data"
    }
   ],
   "source": [
    "## load unrooted result tree with toytree and draw\n",
    "tre = toytree.tree(tet.trees.cons)\n",
    "tre.draw(\n",
    "    node_labels=tre.get_node_values(\"support\"),\n",
    "    node_size=20,\n",
    "    );"
   ]
  },
  {
   "cell_type": "markdown",
   "metadata": {},
   "source": [
    "### Infer a species tree with BPP"
   ]
  },
  {
   "cell_type": "code",
   "execution_count": null,
   "metadata": {
    "collapsed": true
   },
   "outputs": [],
   "source": [
    "# conda install bpp -c ipyrad"
   ]
  },
  {
   "cell_type": "code",
   "execution_count": 19,
   "metadata": {},
   "outputs": [
    {
     "name": "stderr",
     "output_type": "stream",
     "text": [
      "submitted 2 bpp jobs [A00] (1000 loci)\n"
     ]
    }
   ],
   "source": [
    "## setup: define how samples group into 'species'\n",
    "IMAP = {\n",
    "    \"1\": [\"1A_0\", \"1B_0\", \"1C_0\"],\n",
    "    \"D\": [\"1D_0\"],\n",
    "    \"2\": [\"2F_0\", \"2E_0\", \"2G_0\"],\n",
    "    \"H\": [\"2H_0\"],\n",
    "    \"3\": [\"3J_0\", \"3I_0\", \"3K_0\"],\n",
    "    \"L\": [\"3L_0\"],    \n",
    "}\n",
    "\n",
    "## setup: define a guidetree\n",
    "GUIDE = \"(((1,D),(2,H)),(3,L));\"\n",
    "\n",
    "## init a bpp object \n",
    "bpp = ipa.bpp(\n",
    "    locifile=data.outfiles.loci, \n",
    "    imap=IMAP, \n",
    "    guidetree=GUIDE,\n",
    "    workdir=\"~/workshop/analysis-bpp\"\n",
    "    );\n",
    "\n",
    "## submit jobs to run on the cluster\n",
    "bpp.submit_bpp_jobs(\"A00\", nreps=2, ipyclient=ipyclient)"
   ]
  },
  {
   "cell_type": "markdown",
   "metadata": {
    "slideshow": {
     "slide_type": "subslide"
    }
   },
   "source": [
    "### Set parameters and filters\n",
    "You can define all of the parameter settings that will be used in the BPP .ctl file by modifying the .params attributes. Similarly, you can modify which loci will be included in the analysis using the .filters attributes. "
   ]
  },
  {
   "cell_type": "code",
   "execution_count": 20,
   "metadata": {},
   "outputs": [
    {
     "name": "stderr",
     "output_type": "stream",
     "text": [
      "submitted 2 bpp jobs [A00] (200 loci)\n"
     ]
    }
   ],
   "source": [
    "## set some parameters \n",
    "bpp.params.burnin = 1000\n",
    "bpp.params.nsample = 5000\n",
    "bpp.params.infer_sptree = 1\n",
    "bpp.params.infer_delimit = 0 \n",
    "\n",
    "## set some filters\n",
    "bpp.filters.maxloci = 200\n",
    "bpp.filters.minsnps = 2\n",
    "\n",
    "## submit jobs to run on the cluster\n",
    "bpp.submit_bpp_jobs(\"A00\", nreps=2, ipyclient=ipyclient)"
   ]
  },
  {
   "cell_type": "markdown",
   "metadata": {
    "slideshow": {
     "slide_type": "subslide"
    }
   },
   "source": [
    "### Track running jobs\n",
    "Unlike some of the other ipyrad.analysis tools, the bpp object does not \"block\" while the jobs are running. Meaning that after it sends jobs to run on the cluster you can continue to interact with the notebook. This is useful since BPP is not multi-threaded, so you will likely want to submit many different types of jobs. You can check on running jobs like below. "
   ]
  },
  {
   "cell_type": "code",
   "execution_count": 21,
   "metadata": {},
   "outputs": [
    {
     "name": "stdout",
     "output_type": "stream",
     "text": [
      "[<AsyncResult: _call_bpp>, <AsyncResult: _call_bpp>, <AsyncResult: _call_bpp>, <AsyncResult: _call_bpp>]\n",
      "locifile    ~/workshop/simdata_outfiles/simdata.loci\n",
      "mcmcfiles   ['~/workshop/analysis-bpp/A00-r0.mcmc.txt', '~/workshop/analysis-bpp/A00-r1.mcmc.txt']\n",
      "outfiles    ['~/workshop/analysis-bpp/A00-r0.out.txt', '~/workshop/analysis-bpp/A00-r1.out.txt']\n",
      "\n"
     ]
    }
   ],
   "source": [
    "## a list of submitted jobs\n",
    "print bpp.asyncs\n",
    "\n",
    "## a list of result files produced by jobs\n",
    "print bpp.files"
   ]
  },
  {
   "cell_type": "markdown",
   "metadata": {
    "slideshow": {
     "slide_type": "slide"
    }
   },
   "source": [
    "### Structure analyses"
   ]
  },
  {
   "cell_type": "code",
   "execution_count": 1,
   "metadata": {
    "slideshow": {
     "slide_type": "skip"
    }
   },
   "outputs": [
    {
     "name": "stdout",
     "output_type": "stream",
     "text": [
      "  loading Assembly: simdata\n",
      "  from saved path: ~/workshop/simdata.json\n"
     ]
    }
   ],
   "source": [
    "import ipyrad as ip\n",
    "import ipyrad.analysis as ipa\n",
    "import ipyparallel as ipp\n",
    "\n",
    "data = ip.load_json(\"/home/deren/workshop/simdata.json\")\n",
    "ipyclient = ipp.Client()"
   ]
  },
  {
   "cell_type": "code",
   "execution_count": 2,
   "metadata": {
    "collapsed": true
   },
   "outputs": [],
   "source": [
    "# conda install structure -c ipyrad\n",
    "# conda install clumpp -c ipyrad"
   ]
  },
  {
   "cell_type": "code",
   "execution_count": 3,
   "metadata": {
    "scrolled": false
   },
   "outputs": [
    {
     "name": "stdout",
     "output_type": "stream",
     "text": [
      "['simdata', '/home/deren/workshop/analysis-structure', 572500868, 12, 984, 2, 0]\n",
      "['simdata', '/home/deren/workshop/analysis-structure', 709458039, 12, 984, 2, 1]\n",
      "['simdata', '/home/deren/workshop/analysis-structure', 292133950, 12, 984, 2, 2]\n",
      "['simdata', '/home/deren/workshop/analysis-structure', 316688770, 12, 984, 2, 3]\n",
      "['simdata', '/home/deren/workshop/analysis-structure', 265959297, 12, 984, 2, 4]\n"
     ]
    },
    {
     "name": "stderr",
     "output_type": "stream",
     "text": [
      "submitted 5 structure jobs [simdata-K-2]\n"
     ]
    },
    {
     "name": "stdout",
     "output_type": "stream",
     "text": [
      "['simdata', '/home/deren/workshop/analysis-structure', 572500868, 12, 984, 3, 0]\n",
      "['simdata', '/home/deren/workshop/analysis-structure', 709458039, 12, 984, 3, 1]\n",
      "['simdata', '/home/deren/workshop/analysis-structure', 292133950, 12, 984, 3, 2]\n",
      "['simdata', '/home/deren/workshop/analysis-structure', 316688770, 12, 984, 3, 3]\n",
      "['simdata', '/home/deren/workshop/analysis-structure', 265959297, 12, 984, 3, 4]\n"
     ]
    },
    {
     "name": "stderr",
     "output_type": "stream",
     "text": [
      "submitted 5 structure jobs [simdata-K-3]\n"
     ]
    },
    {
     "name": "stdout",
     "output_type": "stream",
     "text": [
      "['simdata', '/home/deren/workshop/analysis-structure', 572500868, 12, 984, 4, 0]\n",
      "['simdata', '/home/deren/workshop/analysis-structure', 709458039, 12, 984, 4, 1]\n",
      "['simdata', '/home/deren/workshop/analysis-structure', 292133950, 12, 984, 4, 2]\n",
      "['simdata', '/home/deren/workshop/analysis-structure', 316688770, 12, 984, 4, 3]\n",
      "['simdata', '/home/deren/workshop/analysis-structure', 265959297, 12, 984, 4, 4]\n"
     ]
    },
    {
     "name": "stderr",
     "output_type": "stream",
     "text": [
      "submitted 5 structure jobs [simdata-K-4]\n"
     ]
    },
    {
     "name": "stdout",
     "output_type": "stream",
     "text": [
      "['simdata', '/home/deren/workshop/analysis-structure', 572500868, 12, 984, 5, 0]\n",
      "['simdata', '/home/deren/workshop/analysis-structure', 709458039, 12, 984, 5, 1]\n",
      "['simdata', '/home/deren/workshop/analysis-structure', 292133950, 12, 984, 5, 2]\n",
      "['simdata', '/home/deren/workshop/analysis-structure', 316688770, 12, 984, 5, 3]\n",
      "['simdata', '/home/deren/workshop/analysis-structure', 265959297, 12, 984, 5, 4]\n"
     ]
    },
    {
     "name": "stderr",
     "output_type": "stream",
     "text": [
      "submitted 5 structure jobs [simdata-K-5]\n"
     ]
    }
   ],
   "source": [
    "## create a structure class object\n",
    "s = ipa.structure(\n",
    "    name=data.name,\n",
    "    strfile=data.outfiles.str,\n",
    "    mapfile=data.outfiles.snpsmap,\n",
    "    workdir=\"~/workshop/analysis-structure\",    \n",
    "    );\n",
    "\n",
    "s.mainparams.burnin = 100\n",
    "s.mainparams.numreps = 1000\n",
    "\n",
    "## submit jobs to run on the cluster\n",
    "for kpop in [2, 3, 4, 5]:\n",
    "    s.submit_structure_jobs(kpop=kpop, nreps=5, ipyclient=ipyclient)"
   ]
  },
  {
   "cell_type": "markdown",
   "metadata": {
    "slideshow": {
     "slide_type": "subslide"
    }
   },
   "source": [
    "### Modify parameters settings"
   ]
  },
  {
   "cell_type": "code",
   "execution_count": 5,
   "metadata": {
    "collapsed": true
   },
   "outputs": [],
   "source": [
    "s.mainparams.burnin = 10000\n",
    "s.mainparams.numreps = 100000\n",
    "s.extraparams.usepopinfo = 0"
   ]
  },
  {
   "cell_type": "markdown",
   "metadata": {},
   "source": [
    "### Summarize results with CLUMPP"
   ]
  },
  {
   "cell_type": "code",
   "execution_count": 6,
   "metadata": {},
   "outputs": [
    {
     "name": "stdout",
     "output_type": "stream",
     "text": [
      "[]\n"
     ]
    },
    {
     "ename": "OSError",
     "evalue": "[Errno 2] No such file or directory",
     "output_type": "error",
     "traceback": [
      "\u001b[0;31m---------------------------------------------------------------------------\u001b[0m",
      "\u001b[0;31mOSError\u001b[0m                                   Traceback (most recent call last)",
      "\u001b[0;32m<ipython-input-6-42ce0b7e0eb0>\u001b[0m in \u001b[0;36m<module>\u001b[0;34m()\u001b[0m\n\u001b[1;32m      1\u001b[0m \u001b[0;31m## get results for a single K value\u001b[0m\u001b[0;34m\u001b[0m\u001b[0;34m\u001b[0m\u001b[0m\n\u001b[0;32m----> 2\u001b[0;31m \u001b[0ms\u001b[0m\u001b[0;34m.\u001b[0m\u001b[0mget_clumpp_table\u001b[0m\u001b[0;34m(\u001b[0m\u001b[0;36m3\u001b[0m\u001b[0;34m)\u001b[0m\u001b[0;34m\u001b[0m\u001b[0m\n\u001b[0m\u001b[1;32m      3\u001b[0m \u001b[0;34m\u001b[0m\u001b[0m\n\u001b[1;32m      4\u001b[0m \u001b[0;31m## make a dict for all results\u001b[0m\u001b[0;34m\u001b[0m\u001b[0;34m\u001b[0m\u001b[0m\n\u001b[1;32m      5\u001b[0m \u001b[0mtables\u001b[0m \u001b[0;34m=\u001b[0m \u001b[0;34m{\u001b[0m\u001b[0;34m}\u001b[0m\u001b[0;34m\u001b[0m\u001b[0m\n",
      "\u001b[0;32m/home/deren/Documents/ipyrad/ipyrad/analysis/structure.py\u001b[0m in \u001b[0;36mget_clumpp_table\u001b[0;34m(self, kpop)\u001b[0m\n\u001b[1;32m    332\u001b[0m \u001b[0;34m\u001b[0m\u001b[0m\n\u001b[1;32m    333\u001b[0m     \u001b[0;32mdef\u001b[0m \u001b[0mget_clumpp_table\u001b[0m\u001b[0;34m(\u001b[0m\u001b[0mself\u001b[0m\u001b[0;34m,\u001b[0m \u001b[0mkpop\u001b[0m\u001b[0;34m)\u001b[0m\u001b[0;34m:\u001b[0m\u001b[0;34m\u001b[0m\u001b[0m\n\u001b[0;32m--> 334\u001b[0;31m         \u001b[0mtable\u001b[0m \u001b[0;34m=\u001b[0m \u001b[0m_get_clumpp_table\u001b[0m\u001b[0;34m(\u001b[0m\u001b[0mself\u001b[0m\u001b[0;34m,\u001b[0m \u001b[0mkpop\u001b[0m\u001b[0;34m)\u001b[0m\u001b[0;34m\u001b[0m\u001b[0m\n\u001b[0m\u001b[1;32m    335\u001b[0m         \u001b[0;32mreturn\u001b[0m \u001b[0mtable\u001b[0m\u001b[0;34m\u001b[0m\u001b[0m\n\u001b[1;32m    336\u001b[0m \u001b[0;34m\u001b[0m\u001b[0m\n",
      "\u001b[0;32m/home/deren/Documents/ipyrad/ipyrad/analysis/structure.py\u001b[0m in \u001b[0;36m_get_clumpp_table\u001b[0;34m(self, kpop)\u001b[0m\n\u001b[1;32m    543\u001b[0m     proc = subprocess.Popen(cmd, \n\u001b[1;32m    544\u001b[0m                             \u001b[0mstderr\u001b[0m\u001b[0;34m=\u001b[0m\u001b[0msubprocess\u001b[0m\u001b[0;34m.\u001b[0m\u001b[0mSTDOUT\u001b[0m\u001b[0;34m,\u001b[0m\u001b[0;34m\u001b[0m\u001b[0m\n\u001b[0;32m--> 545\u001b[0;31m                             stdout=subprocess.PIPE)\n\u001b[0m\u001b[1;32m    546\u001b[0m     \u001b[0m_\u001b[0m \u001b[0;34m=\u001b[0m \u001b[0mproc\u001b[0m\u001b[0;34m.\u001b[0m\u001b[0mcommunicate\u001b[0m\u001b[0;34m(\u001b[0m\u001b[0;34m)\u001b[0m\u001b[0;34m\u001b[0m\u001b[0m\n\u001b[1;32m    547\u001b[0m \u001b[0;34m\u001b[0m\u001b[0m\n",
      "\u001b[0;32m/home/deren/miniconda2/lib/python2.7/subprocess.pyc\u001b[0m in \u001b[0;36m__init__\u001b[0;34m(self, args, bufsize, executable, stdin, stdout, stderr, preexec_fn, close_fds, shell, cwd, env, universal_newlines, startupinfo, creationflags)\u001b[0m\n\u001b[1;32m    388\u001b[0m                                 \u001b[0mp2cread\u001b[0m\u001b[0;34m,\u001b[0m \u001b[0mp2cwrite\u001b[0m\u001b[0;34m,\u001b[0m\u001b[0;34m\u001b[0m\u001b[0m\n\u001b[1;32m    389\u001b[0m                                 \u001b[0mc2pread\u001b[0m\u001b[0;34m,\u001b[0m \u001b[0mc2pwrite\u001b[0m\u001b[0;34m,\u001b[0m\u001b[0;34m\u001b[0m\u001b[0m\n\u001b[0;32m--> 390\u001b[0;31m                                 errread, errwrite)\n\u001b[0m\u001b[1;32m    391\u001b[0m         \u001b[0;32mexcept\u001b[0m \u001b[0mException\u001b[0m\u001b[0;34m:\u001b[0m\u001b[0;34m\u001b[0m\u001b[0m\n\u001b[1;32m    392\u001b[0m             \u001b[0;31m# Preserve original exception in case os.close raises.\u001b[0m\u001b[0;34m\u001b[0m\u001b[0;34m\u001b[0m\u001b[0m\n",
      "\u001b[0;32m/home/deren/miniconda2/lib/python2.7/subprocess.pyc\u001b[0m in \u001b[0;36m_execute_child\u001b[0;34m(self, args, executable, preexec_fn, close_fds, cwd, env, universal_newlines, startupinfo, creationflags, shell, to_close, p2cread, p2cwrite, c2pread, c2pwrite, errread, errwrite)\u001b[0m\n\u001b[1;32m   1022\u001b[0m                         \u001b[0;32mraise\u001b[0m\u001b[0;34m\u001b[0m\u001b[0m\n\u001b[1;32m   1023\u001b[0m                 \u001b[0mchild_exception\u001b[0m \u001b[0;34m=\u001b[0m \u001b[0mpickle\u001b[0m\u001b[0;34m.\u001b[0m\u001b[0mloads\u001b[0m\u001b[0;34m(\u001b[0m\u001b[0mdata\u001b[0m\u001b[0;34m)\u001b[0m\u001b[0;34m\u001b[0m\u001b[0m\n\u001b[0;32m-> 1024\u001b[0;31m                 \u001b[0;32mraise\u001b[0m \u001b[0mchild_exception\u001b[0m\u001b[0;34m\u001b[0m\u001b[0m\n\u001b[0m\u001b[1;32m   1025\u001b[0m \u001b[0;34m\u001b[0m\u001b[0m\n\u001b[1;32m   1026\u001b[0m \u001b[0;34m\u001b[0m\u001b[0m\n",
      "\u001b[0;31mOSError\u001b[0m: [Errno 2] No such file or directory"
     ]
    }
   ],
   "source": [
    "## get results for a single K value\n",
    "s.get_clumpp_table(3)\n",
    "\n",
    "## make a dict for all results\n",
    "tables = {}\n",
    "for kpop in [2, 3, 4, 5]:\n",
    "    tables[kpop] = s.get_clumpp_table(kpop)"
   ]
  },
  {
   "cell_type": "code",
   "execution_count": null,
   "metadata": {
    "collapsed": true
   },
   "outputs": [],
   "source": []
  }
 ],
 "metadata": {
  "celltoolbar": "Slideshow",
  "kernelspec": {
   "display_name": "Python 2",
   "language": "python",
   "name": "python2"
  },
  "language_info": {
   "codemirror_mode": {
    "name": "ipython",
    "version": 2
   },
   "file_extension": ".py",
   "mimetype": "text/x-python",
   "name": "python",
   "nbconvert_exporter": "python",
   "pygments_lexer": "ipython2",
   "version": "2.7.13"
  }
 },
 "nbformat": 4,
 "nbformat_minor": 2
}
