{
 "cells": [
  {
   "cell_type": "markdown",
   "metadata": {},
   "source": [
    "# Midterm exam (EEEBGU4055)\n",
    "### 3/13/2019\n",
    "\n",
    "### Instructions\n",
    "Use Mardown or code to answer questions as instructed. The exam is open book so you are allowed and encouraged to use any online resources available. However, you must answer questions on your own. **You cannot use chat applications to share answers**. \n",
    "\n",
    "This exam is composed of 15 questions of which <span style=\"color:red\">you only need to answer 10</span>. I recommend that you start by browsing the questions to choose which you plan to answer. For the questions you choose not to answer please leave the answer cell empty. \n",
    "\n",
    "**The exam is due at 12:50pm**. You must download the notebook in HTML format at that time and upload it to courseworks. "
   ]
  },
  {
   "cell_type": "markdown",
   "metadata": {},
   "source": [
    "<div class=\"alert alert-success\">\n",
    "    <b>Question 1</b>: Find the <b>RefSeq</b> reference genome of the Brown Rat (<i>Rattus_norvegicus</i>) on an online database. \n",
    "    \n",
    "(1) What are the scaffold and contig N50 size statistics for this genome? \n",
    "\n",
    "(2) What does the N50 statistic measure?\n",
    "\n",
    "(3) Why is the N50 scaffold size always larger than the N50 contig size?\n",
    "</div>"
   ]
  },
  {
   "cell_type": "code",
   "execution_count": 51,
   "metadata": {},
   "outputs": [],
   "source": [
    "## answer here "
   ]
  },
  {
   "cell_type": "markdown",
   "metadata": {},
   "source": [
    "<div class=\"alert alert-success\">\n",
    "    <b>Question 2:</b> \n",
    "    \n",
    "(1) Describe briefly, what is a genome annotation? \n",
    "\n",
    "(2) Describe the format of a GFF file and how genome annotation information is represented in it. \n",
    "\n",
    "(3) Name two types of evidence/data that are used to generate genome annotation information for a GFF file? \n",
    "</div>"
   ]
  },
  {
   "cell_type": "code",
   "execution_count": 66,
   "metadata": {},
   "outputs": [],
   "source": [
    "## answer here "
   ]
  },
  {
   "cell_type": "markdown",
   "metadata": {},
   "source": [
    "<div class=\"alert alert-success\">\n",
    "    <b>Question 3:</b> \n",
    "Write Python code to accomplish the following three tasks. Pay careful attention to exactly what each task is asking for. \n",
    "    \n",
    "(1) Write a Python *dictionary* that represents barcode information that could be used to demultiplex samples. The keys of the dictionary should be sample names (anything you wish) and the values of the dictionary should be unique six base barcode sequences.\n",
    "<br>\n",
    "<br>\n",
    "(2) Write a Python *function* to return a random sequence of DNA of a given length determined by an argument provided to the function. \n",
    "<br>\n",
    "<br>\n",
    "(3) Write a Python *function* to return the *reverse complement* of a sequence that is given to the function as an argument. "
   ]
  },
  {
   "cell_type": "code",
   "execution_count": 59,
   "metadata": {},
   "outputs": [],
   "source": [
    "# code 1"
   ]
  },
  {
   "cell_type": "code",
   "execution_count": 60,
   "metadata": {},
   "outputs": [],
   "source": [
    "# code 2"
   ]
  },
  {
   "cell_type": "code",
   "execution_count": 42,
   "metadata": {},
   "outputs": [],
   "source": [
    "# code 3"
   ]
  },
  {
   "cell_type": "markdown",
   "metadata": {},
   "source": [
    "<div class=\"alert alert-success\">\n",
    "    <b>Question 4:</b>\n",
    "    Write Python code to answer the following questions (this will be graded as part of your answer), using the file: <b><tt>/home/jovyan/ro-data/SRP021469/35236_rex_SRR1754731.fastq.gz</tt></b> as input.\n",
    "\n",
    "(1) How many reads are in this fastq file?    \n",
    "(2) What are the lengths of reads in the file?\n",
    "\n",
    "</div>"
   ]
  },
  {
   "cell_type": "code",
   "execution_count": 61,
   "metadata": {},
   "outputs": [],
   "source": [
    "# code here"
   ]
  },
  {
   "cell_type": "code",
   "execution_count": 62,
   "metadata": {},
   "outputs": [],
   "source": [
    "# markdown here"
   ]
  },
  {
   "cell_type": "markdown",
   "metadata": {},
   "source": [
    "<div class=\"alert alert-success\">\n",
    "    <b>Question 5:</b>\n",
    "    A man and a woman who are both carriers of the same mutation that causes Tay Sachs (an autosomal recessive disease) decide to have children. What is the probability that their first child will be born with Tay Sachs? What is the probability that their second child will be born with Tay Sachs? What is the probability, if they have four children, that at least one will have Tay Sachs? \n",
    "</div>"
   ]
  },
  {
   "cell_type": "code",
   "execution_count": 63,
   "metadata": {},
   "outputs": [],
   "source": [
    "# answer"
   ]
  },
  {
   "cell_type": "markdown",
   "metadata": {},
   "source": [
    "<div class=\"alert alert-success\">\n",
    "    <b>Question 6:</b>\n",
    "    Answer separately for each image below. What is the most likely mode of inheritance in each pedigree? \n",
    "    \n",
    "![](images/midterm-pedigree-1.jpg)\n",
    "![](images/midterm-pedigree-2.jpg)\n",
    "![](images/midterm-pedigree-3.jpg)\n",
    "\n",
    "</div>"
   ]
  },
  {
   "cell_type": "code",
   "execution_count": 64,
   "metadata": {},
   "outputs": [],
   "source": [
    "# answer"
   ]
  },
  {
   "cell_type": "markdown",
   "metadata": {},
   "source": [
    "<div class=\"alert alert-success\">\n",
    "    <b>Question 7:</b>\n",
    "   Explain in detail how you would find the mutation that causes a <b>completely penetrant autosomal dominant disease</b>. \n",
    "    \n",
    "(1) What population, families, or individuals would you study?  \n",
    "(2) Which individuals would you sequence?   \n",
    "(3) Which sequencing technology would you use and to what coverage?  \n",
    "(4) What would you do with the data once you get it from the sequencer?   \n",
    "(5) What logic would you use to identify the causal mutation and gene?\n",
    "</div>\n",
    "\n"
   ]
  },
  {
   "cell_type": "code",
   "execution_count": 65,
   "metadata": {},
   "outputs": [],
   "source": [
    "# answer"
   ]
  },
  {
   "cell_type": "markdown",
   "metadata": {},
   "source": [
    "<div class=\"alert alert-success\">\n",
    "    <b>Question 8:</b>\n",
    "   You were awarded a \\$50K grant to sequence a reference genome for your study organism, a species of salamander. You don't know the genome size of your species ahead of time. \n",
    "   \n",
    "(1) What approach could you use to estimate genome size and heterozygosity?  \n",
    "(2) Why does genome size and heterozygosity matter for assembling a genome?   \n",
    "(3) Approximately what size range are salamander genomes, generally?   \n",
    "(4) Is this considered large or small? (5) How would this affect your plan for spending your $50K efficiently?     \n",
    "</div>\n",
    "\n"
   ]
  },
  {
   "cell_type": "code",
   "execution_count": 47,
   "metadata": {},
   "outputs": [],
   "source": [
    "# answer"
   ]
  },
  {
   "cell_type": "markdown",
   "metadata": {},
   "source": [
    "<div class=\"alert alert-success\">\n",
    "    <b>Question 9:</b>\n",
    "    You are interested in the studying the evolution of gene A by examining the phylogenetic history of this gene in clade X, which includes many species that vary with respect to a phenotype affected by gene A. \n",
    "    \n",
    "(1) How/Where could you find published available data for gene A in clade X?   \n",
    "(2) What steps are involved in inferring a phylogeny from these data?   \n",
    "(3) If this gene was duplicated at some point during the evolution of clade X, describe the type of phylogenetic patterns that this could cause, while using the proper terms to refer to duplicated gene copies versus copies that are inherited from a common ancestor. \n",
    "</div>\n",
    "\n"
   ]
  },
  {
   "cell_type": "code",
   "execution_count": null,
   "metadata": {},
   "outputs": [],
   "source": [
    "# answer"
   ]
  },
  {
   "cell_type": "markdown",
   "metadata": {},
   "source": [
    "<div class=\"alert alert-success\">\n",
    "    <b>Question 10:</b>\n",
    "    \n",
    "You cross a Â· b / A Â· B x a Â· b / a Â· b and get 100 offspring: 25 a Â· B / a Â· b, 25 A Â· b / a Â· b, 25 a Â· b / a Â· b, 25 A Â· B / a Â· b. \n",
    "\n",
    "\n",
    "(1) How many centimorgans are there between A(a) and B(b)? \n",
    "    \n",
    "(2) Are A(a) and B(b) from the same or different chromosomes? \n",
    "\n",
    "<br>\n",
    "\n",
    "Next you cross a Â· b / A Â· B x a Â· b / a Â· b and get 100 offspring: 10 a Â· B / a Â· b, 10 A Â· b / a Â· b, 40 a Â· b / a Â· b, 40 A Â· B / a Â· b. \n",
    "\n",
    "(3) How many centimorgans are there between A(a) and B(b)? \n",
    "\n",
    "(4) Are A(a) and B(b) from the same or different chromosomes? \n",
    "\n",
    "\n",
    "</div>"
   ]
  },
  {
   "cell_type": "code",
   "execution_count": 48,
   "metadata": {},
   "outputs": [],
   "source": [
    "# answer"
   ]
  },
  {
   "cell_type": "markdown",
   "metadata": {},
   "source": [
    "<div class=\"alert alert-success\">\n",
    "    <b>Question 11:</b> In the context of <i>de novo</i> genome assembly:\n",
    "\n",
    "(1) What is a *de Bruijn* graph and what do the edges and nodes of the graph represent?  \n",
    "\n",
    "(2) Why does a *de Bruijn* graph provide a more efficient way than Hamiltonian graphs for *de novo* assembly of short read data? \n",
    "\n",
    "(3) Name two things that make *de novo* genome assembly difficult because they introduce ambiguities into the path connecting nodes in a graph. \n",
    "\n",
    "(4) Name two reasons why *de novo* genome assemblies from short reads are typically not able to assemble full chromosome-scale contigs. \n",
    "    \n",
    "</div>"
   ]
  },
  {
   "cell_type": "code",
   "execution_count": null,
   "metadata": {},
   "outputs": [],
   "source": [
    "# answer"
   ]
  },
  {
   "cell_type": "markdown",
   "metadata": {},
   "source": [
    "<div class=\"alert alert-success\">\n",
    "    <b>Question 12:</b>\n",
    "\n",
    "(1) How many bases do you need to sequence a human genome to a coverage of 30X? Explain how you calculated this?\n",
    "<br>\n",
    "<br>\n",
    "(2) If the sequencing library of that human is made up of fragments that are all >300 bp and you sequence those fragments from both ends, how many reads (each end counts as a read) do you need to sequence to a coverage of 30X?\n",
    "<br>\n",
    "<br>\n",
    "(3) If you are just sequencing the exome (the exons / coding sequence) of a human genome (1% of the genome) because that's where most of the mutations that cause disease are located, how many bases do you need to get 60X coverage? \n",
    "    \n",
    "</div>"
   ]
  },
  {
   "cell_type": "code",
   "execution_count": null,
   "metadata": {},
   "outputs": [],
   "source": [
    "# answer"
   ]
  },
  {
   "cell_type": "markdown",
   "metadata": {},
   "source": [
    "<div class=\"alert alert-success\">\n",
    "    <b>Question 13:</b>\n",
    "    \n",
    "A male mouse of strain A and a female mouse of strain B are crossed, and the female F1 offspring is mated to the same male mouse of strain A to produce a backcrossed mouse.\n",
    "\n",
    "(1) What is the probability that a given chromosome pair of the backcrossed mouse contains <=50% genetic material inherited from the male mouse of strain A? \n",
    "\n",
    "(2) What is the probability that a given chromosome pair of the backcrossed mouse contains >50% genetic material inherited from the male mouse of strain A? \n",
    "    \n",
    "</div>\n"
   ]
  },
  {
   "cell_type": "code",
   "execution_count": 50,
   "metadata": {},
   "outputs": [],
   "source": [
    "# answer"
   ]
  },
  {
   "cell_type": "markdown",
   "metadata": {},
   "source": [
    "<div class=\"alert alert-success\">\n",
    "    <b>Question 14:</b>\n",
    "    \n",
    "(1) Describe briefly, what is RAD-seq?  \n",
    "(2) Describe an example type of study where RAD-seq would be useful?  \n",
    "(3) Approximately how many loci and SNPs would you expect RAD-seq to provide for this study?   \n",
    "(4) If you generated an initial RAD-seq data set and found that it yielded way fewer loci and SNPs than you were hoping, how could you modify the protocol to sample the genome more densely?\n",
    "    \n",
    "</div>\n"
   ]
  },
  {
   "cell_type": "code",
   "execution_count": null,
   "metadata": {},
   "outputs": [],
   "source": []
  },
  {
   "cell_type": "markdown",
   "metadata": {},
   "source": [
    "<div class=\"alert alert-success\">\n",
    "    <b>Question 15:</b>\n",
    "\n",
    "(1) At Metaphase I, one pair of sister chromatids contain genetic material inherited from: (A) only one parent, (B) both parents, (C) either one or both parents. \n",
    "\n",
    "<br>\n",
    "(2) How many recombination events does each chromosome pair have during meiosis? Give a reasonable range? \n",
    "\n",
    "</div>"
   ]
  },
  {
   "cell_type": "code",
   "execution_count": null,
   "metadata": {},
   "outputs": [],
   "source": []
  }
 ],
 "metadata": {
  "kernelspec": {
   "display_name": "Python 3",
   "language": "python",
   "name": "python3"
  },
  "language_info": {
   "codemirror_mode": {
    "name": "ipython",
    "version": 3
   },
   "file_extension": ".py",
   "mimetype": "text/x-python",
   "name": "python",
   "nbconvert_exporter": "python",
   "pygments_lexer": "ipython3",
   "version": "3.6.7"
  }
 },
 "nbformat": 4,
 "nbformat_minor": 2
}
