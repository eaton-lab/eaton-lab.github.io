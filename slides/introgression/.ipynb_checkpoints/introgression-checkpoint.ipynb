{
 "cells": [
  {
   "cell_type": "markdown",
   "metadata": {
    "slideshow": {
     "slide_type": "slide"
    }
   },
   "source": [
    "# Introgression analysis with RAD-seq data"
   ]
  },
  {
   "cell_type": "markdown",
   "metadata": {
    "slideshow": {
     "slide_type": "slide"
    }
   },
   "source": [
    "### Definitions \n",
    "\n",
    "Many terms in the literature are used interchangeably in the discussion of gene flow. Several popular terms that are often confused, but sometimes have distinct meanings, are *admixture*, *introgression*, and *hybridization*. "
   ]
  },
  {
   "cell_type": "markdown",
   "metadata": {
    "slideshow": {
     "slide_type": "fragment"
    }
   },
   "source": [
    "**Admixture**: A detectable genetic signature of *mixed* ancestry from one or more distinct lineages. It is a <span style=\"text-decoration: underline;\">pattern</span> that can be detected. It is possible for two populations to *appear* admixed even if they have not exchanged genetic material. "
   ]
  },
  {
   "cell_type": "markdown",
   "metadata": {
    "slideshow": {
     "slide_type": "fragment"
    }
   },
   "source": [
    "**Introgression**: The *exchange* of alleles from one or more distinct lineages into another. It is a <span style=\"text-decoration: underline;\">process</span> that occurs in time. We rarely observe introgression, and therefore we aim to reconstruct introgression events in the past. "
   ]
  },
  {
   "cell_type": "markdown",
   "metadata": {
    "slideshow": {
     "slide_type": "fragment"
    }
   },
   "source": [
    "**hybridization**: Successful reproduction between individuals from two distinct lingeages. We often observe hybridization among extant individuals, but further investigation is necessary to determine whether hybridization (e.g., F1s) result in introgression of alleles between lineages. "
   ]
  },
  {
   "cell_type": "markdown",
   "metadata": {
    "slideshow": {
     "slide_type": "slide"
    }
   },
   "source": [
    "## Drift-based statistics for modelling admixture\n",
    "\n",
    "Methods for detecting admixture within and between populations typically rely on the assumption that existing variation in populations is a result of the sorting of ancestral standing variation in the ancestor of those populations. Therefore it does *not account for de novo mutations*. Examples include **STRUCTURE** and **TREEMIX**. \n",
    "\n",
    "<br>\n",
    "\n",
    "<div align=\"center\" class=\"toyplot\" id=\"tbeef8aec88cf4927ae74baf874cd1763\"><svg class=\"toyplot-canvas-Canvas\" height=\"250.0px\" id=\"t717dd46c769d49dfbbc0f3af2ed9086b\" preserveAspectRatio=\"xMidYMid meet\" style=\"background-color:transparent;fill:rgb(16.1%,15.3%,14.1%);fill-opacity:1.0;font-family:Helvetica;font-size:12px;opacity:1.0;stroke:rgb(16.1%,15.3%,14.1%);stroke-opacity:1.0;stroke-width:1.0\" viewBox=\"0 0 600.0 250.0\" width=\"600.0px\" xmlns=\"http://www.w3.org/2000/svg\" xmlns:toyplot=\"http://www.sandia.gov/toyplot\" xmlns:xlink=\"http://www.w3.org/1999/xlink\"><g class=\"toyplot-coordinates-Cartesian\" id=\"td7608dae20fe482386243b924db1cab9\"><clipPath id=\"t1d986409cb2848acbc73dd3037686408\"><rect height=\"145.0\" width=\"560.0\" x=\"20.0\" y=\"2.5\"></rect></clipPath><g clip-path=\"url(#t1d986409cb2848acbc73dd3037686408)\"><g class=\"toyplot-mark-BarMagnitudes\" id=\"tefef7ce712dc494299e2cc9807c76ec0\" style=\"stroke:rgb(16.1%,15.3%,14.1%);stroke-opacity:1.0;stroke-width:2\"><g class=\"toyplot-Series\"><rect class=\"toyplot-Datum\" height=\"0.0\" style=\"fill:rgb(40%,76.1%,64.7%);fill-opacity:1.0;opacity:1.0;stroke:rgb(16.1%,15.3%,14.1%);stroke-opacity:1.0;stroke-width:2\" width=\"41.538461538461547\" x=\"30.0\" y=\"137.5\"><title>Name: 32082_przewalskii\n",
    "Group: 0\n",
    "Prop: 0.0</title></rect><rect class=\"toyplot-Datum\" height=\"0.0\" style=\"fill:rgb(40%,76.1%,64.7%);fill-opacity:1.0;opacity:1.0;stroke:rgb(16.1%,15.3%,14.1%);stroke-opacity:1.0;stroke-width:2\" width=\"41.538461538461533\" x=\"71.538461538461547\" y=\"137.5\"><title>Name: 33588_przewalskii\n",
    "Group: 0\n",
    "Prop: 0.0</title></rect><rect class=\"toyplot-Datum\" height=\"0.0\" style=\"fill:rgb(40%,76.1%,64.7%);fill-opacity:1.0;opacity:1.0;stroke:rgb(16.1%,15.3%,14.1%);stroke-opacity:1.0;stroke-width:2\" width=\"41.538461538461533\" x=\"113.07692307692308\" y=\"137.5\"><title>Name: 41478_cyathophylloides\n",
    "Group: 0\n",
    "Prop: 0.0</title></rect><rect class=\"toyplot-Datum\" height=\"0.012498750124990465\" style=\"fill:rgb(40%,76.1%,64.7%);fill-opacity:1.0;opacity:1.0;stroke:rgb(16.1%,15.3%,14.1%);stroke-opacity:1.0;stroke-width:2\" width=\"41.538461538461547\" x=\"154.61538461538461\" y=\"137.48750124987501\"><title>Name: 41954_cyathophylloides\n",
    "Group: 0\n",
    "Prop: 0.0001</title></rect><rect class=\"toyplot-Datum\" height=\"93.340665933406655\" style=\"fill:rgb(40%,76.1%,64.7%);fill-opacity:1.0;opacity:1.0;stroke:rgb(16.1%,15.3%,14.1%);stroke-opacity:1.0;stroke-width:2\" width=\"41.538461538461547\" x=\"196.15384615384616\" y=\"44.159334066593338\"><title>Name: 29154_superba\n",
    "Group: 0\n",
    "Prop: 0.7468</title></rect><rect class=\"toyplot-Datum\" height=\"64.06859314068592\" style=\"fill:rgb(40%,76.1%,64.7%);fill-opacity:1.0;opacity:1.0;stroke:rgb(16.1%,15.3%,14.1%);stroke-opacity:1.0;stroke-width:2\" width=\"41.538461538461519\" x=\"237.69230769230771\" y=\"73.43140685931408\"><title>Name: 30686_cyathophylla\n",
    "Group: 0\n",
    "Prop: 0.5126</title></rect><rect class=\"toyplot-Datum\" height=\"8.749125087491251\" style=\"fill:rgb(40%,76.1%,64.7%);fill-opacity:1.0;opacity:1.0;stroke:rgb(16.1%,15.3%,14.1%);stroke-opacity:1.0;stroke-width:2\" width=\"41.538461538461547\" x=\"279.23076923076923\" y=\"128.75087491250875\"><title>Name: 33413_thamno\n",
    "Group: 0\n",
    "Prop: 0.07</title></rect><rect class=\"toyplot-Datum\" height=\"19.873012698730122\" style=\"fill:rgb(40%,76.1%,64.7%);fill-opacity:1.0;opacity:1.0;stroke:rgb(16.1%,15.3%,14.1%);stroke-opacity:1.0;stroke-width:2\" width=\"41.538461538461547\" x=\"320.76923076923077\" y=\"117.62698730126988\"><title>Name: 30556_thamno\n",
    "Group: 0\n",
    "Prop: 0.159</title></rect><rect class=\"toyplot-Datum\" height=\"14.211078892110791\" style=\"fill:rgb(40%,76.1%,64.7%);fill-opacity:1.0;opacity:1.0;stroke:rgb(16.1%,15.3%,14.1%);stroke-opacity:1.0;stroke-width:2\" width=\"41.53846153846149\" x=\"362.30769230769232\" y=\"123.28892110788921\"><title>Name: 35236_rex\n",
    "Group: 0\n",
    "Prop: 0.1137</title></rect><rect class=\"toyplot-Datum\" height=\"9.1115888411158892\" style=\"fill:rgb(40%,76.1%,64.7%);fill-opacity:1.0;opacity:1.0;stroke:rgb(16.1%,15.3%,14.1%);stroke-opacity:1.0;stroke-width:2\" width=\"41.538461538461604\" x=\"403.84615384615381\" y=\"128.38841115888411\"><title>Name: 40578_rex\n",
    "Group: 0\n",
    "Prop: 0.0729</title></rect><rect class=\"toyplot-Datum\" height=\"11.186381361863823\" style=\"fill:rgb(40%,76.1%,64.7%);fill-opacity:1.0;opacity:1.0;stroke:rgb(16.1%,15.3%,14.1%);stroke-opacity:1.0;stroke-width:2\" width=\"41.538461538461547\" x=\"445.38461538461542\" y=\"126.31361863813618\"><title>Name: 35855_rex\n",
    "Group: 0\n",
    "Prop: 0.0895</title></rect><rect class=\"toyplot-Datum\" height=\"0.0\" style=\"fill:rgb(40%,76.1%,64.7%);fill-opacity:1.0;opacity:1.0;stroke:rgb(16.1%,15.3%,14.1%);stroke-opacity:1.0;stroke-width:2\" width=\"41.53846153846149\" x=\"486.92307692307696\" y=\"137.5\"><title>Name: 39618_rex\n",
    "Group: 0\n",
    "Prop: 0.0</title></rect><rect class=\"toyplot-Datum\" height=\"0.0\" style=\"fill:rgb(40%,76.1%,64.7%);fill-opacity:1.0;opacity:1.0;stroke:rgb(16.1%,15.3%,14.1%);stroke-opacity:1.0;stroke-width:2\" width=\"41.538461538461547\" x=\"528.46153846153845\" y=\"137.5\"><title>Name: 38362_rex\n",
    "Group: 0\n",
    "Prop: 0.0</title></rect></g><g class=\"toyplot-Series\"><rect class=\"toyplot-Datum\" height=\"0.0\" style=\"fill:rgb(98.8%,55.3%,38.4%);fill-opacity:1.0;opacity:1.0;stroke:rgb(16.1%,15.3%,14.1%);stroke-opacity:1.0;stroke-width:2\" width=\"41.538461538461547\" x=\"30.0\" y=\"137.5\"><title>Name: 32082_przewalskii\n",
    "Group: 1\n",
    "Prop: 0.0</title></rect><rect class=\"toyplot-Datum\" height=\"0.0\" style=\"fill:rgb(98.8%,55.3%,38.4%);fill-opacity:1.0;opacity:1.0;stroke:rgb(16.1%,15.3%,14.1%);stroke-opacity:1.0;stroke-width:2\" width=\"41.538461538461533\" x=\"71.538461538461547\" y=\"137.5\"><title>Name: 33588_przewalskii\n",
    "Group: 1\n",
    "Prop: 0.0</title></rect><rect class=\"toyplot-Datum\" height=\"121.85031496850316\" style=\"fill:rgb(98.8%,55.3%,38.4%);fill-opacity:1.0;opacity:1.0;stroke:rgb(16.1%,15.3%,14.1%);stroke-opacity:1.0;stroke-width:2\" width=\"41.538461538461533\" x=\"113.07692307692308\" y=\"15.649685031496848\"><title>Name: 41478_cyathophylloides\n",
    "Group: 1\n",
    "Prop: 0.9749</title></rect><rect class=\"toyplot-Datum\" height=\"121.81281871812818\" style=\"fill:rgb(98.8%,55.3%,38.4%);fill-opacity:1.0;opacity:1.0;stroke:rgb(16.1%,15.3%,14.1%);stroke-opacity:1.0;stroke-width:2\" width=\"41.538461538461547\" x=\"154.61538461538461\" y=\"15.674682531746825\"><title>Name: 41954_cyathophylloides\n",
    "Group: 1\n",
    "Prop: 0.9746</title></rect><rect class=\"toyplot-Datum\" height=\"31.584341565843417\" style=\"fill:rgb(98.8%,55.3%,38.4%);fill-opacity:1.0;opacity:1.0;stroke:rgb(16.1%,15.3%,14.1%);stroke-opacity:1.0;stroke-width:2\" width=\"41.538461538461547\" x=\"196.15384615384616\" y=\"12.574992500749923\"><title>Name: 29154_superba\n",
    "Group: 1\n",
    "Prop: 0.2527</title></rect><rect class=\"toyplot-Datum\" height=\"34.746525347465258\" style=\"fill:rgb(98.8%,55.3%,38.4%);fill-opacity:1.0;opacity:1.0;stroke:rgb(16.1%,15.3%,14.1%);stroke-opacity:1.0;stroke-width:2\" width=\"41.538461538461519\" x=\"237.69230769230771\" y=\"38.684881511848822\"><title>Name: 30686_cyathophylla\n",
    "Group: 1\n",
    "Prop: 0.278</title></rect><rect class=\"toyplot-Datum\" height=\"0.0\" style=\"fill:rgb(98.8%,55.3%,38.4%);fill-opacity:1.0;opacity:1.0;stroke:rgb(16.1%,15.3%,14.1%);stroke-opacity:1.0;stroke-width:2\" width=\"41.538461538461547\" x=\"279.23076923076923\" y=\"128.75087491250875\"><title>Name: 33413_thamno\n",
    "Group: 1\n",
    "Prop: 0.0</title></rect><rect class=\"toyplot-Datum\" height=\"0.0\" style=\"fill:rgb(98.8%,55.3%,38.4%);fill-opacity:1.0;opacity:1.0;stroke:rgb(16.1%,15.3%,14.1%);stroke-opacity:1.0;stroke-width:2\" width=\"41.538461538461547\" x=\"320.76923076923077\" y=\"117.62698730126988\"><title>Name: 30556_thamno\n",
    "Group: 1\n",
    "Prop: 0.0</title></rect><rect class=\"toyplot-Datum\" height=\"0.73742625737425271\" style=\"fill:rgb(98.8%,55.3%,38.4%);fill-opacity:1.0;opacity:1.0;stroke:rgb(16.1%,15.3%,14.1%);stroke-opacity:1.0;stroke-width:2\" width=\"41.53846153846149\" x=\"362.30769230769232\" y=\"122.55149485051496\"><title>Name: 35236_rex\n",
    "Group: 1\n",
    "Prop: 0.0059</title></rect><rect class=\"toyplot-Datum\" height=\"0.062493750624923905\" style=\"fill:rgb(98.8%,55.3%,38.4%);fill-opacity:1.0;opacity:1.0;stroke:rgb(16.1%,15.3%,14.1%);stroke-opacity:1.0;stroke-width:2\" width=\"41.538461538461604\" x=\"403.84615384615381\" y=\"128.32591740825919\"><title>Name: 40578_rex\n",
    "Group: 1\n",
    "Prop: 0.0005</title></rect><rect class=\"toyplot-Datum\" height=\"0.37496250374961448\" style=\"fill:rgb(98.8%,55.3%,38.4%);fill-opacity:1.0;opacity:1.0;stroke:rgb(16.1%,15.3%,14.1%);stroke-opacity:1.0;stroke-width:2\" width=\"41.538461538461547\" x=\"445.38461538461542\" y=\"125.93865613438656\"><title>Name: 35855_rex\n",
    "Group: 1\n",
    "Prop: 0.003</title></rect><rect class=\"toyplot-Datum\" height=\"0.0\" style=\"fill:rgb(98.8%,55.3%,38.4%);fill-opacity:1.0;opacity:1.0;stroke:rgb(16.1%,15.3%,14.1%);stroke-opacity:1.0;stroke-width:2\" width=\"41.53846153846149\" x=\"486.92307692307696\" y=\"137.5\"><title>Name: 39618_rex\n",
    "Group: 1\n",
    "Prop: 0.0</title></rect><rect class=\"toyplot-Datum\" height=\"0.0\" style=\"fill:rgb(98.8%,55.3%,38.4%);fill-opacity:1.0;opacity:1.0;stroke:rgb(16.1%,15.3%,14.1%);stroke-opacity:1.0;stroke-width:2\" width=\"41.538461538461547\" x=\"528.46153846153845\" y=\"137.5\"><title>Name: 38362_rex\n",
    "Group: 1\n",
    "Prop: 0.0</title></rect></g><g class=\"toyplot-Series\"><rect class=\"toyplot-Datum\" height=\"0.0\" style=\"fill:rgb(55.3%,62.7%,79.6%);fill-opacity:1.0;opacity:1.0;stroke:rgb(16.1%,15.3%,14.1%);stroke-opacity:1.0;stroke-width:2\" width=\"41.538461538461547\" x=\"30.0\" y=\"137.5\"><title>Name: 32082_przewalskii\n",
    "Group: 2\n",
    "Prop: 0.0</title></rect><rect class=\"toyplot-Datum\" height=\"0.0\" style=\"fill:rgb(55.3%,62.7%,79.6%);fill-opacity:1.0;opacity:1.0;stroke:rgb(16.1%,15.3%,14.1%);stroke-opacity:1.0;stroke-width:2\" width=\"41.538461538461533\" x=\"71.538461538461547\" y=\"137.5\"><title>Name: 33588_przewalskii\n",
    "Group: 2\n",
    "Prop: 0.0</title></rect><rect class=\"toyplot-Datum\" height=\"0.0\" style=\"fill:rgb(55.3%,62.7%,79.6%);fill-opacity:1.0;opacity:1.0;stroke:rgb(16.1%,15.3%,14.1%);stroke-opacity:1.0;stroke-width:2\" width=\"41.538461538461533\" x=\"113.07692307692308\" y=\"15.649685031496848\"><title>Name: 41478_cyathophylloides\n",
    "Group: 2\n",
    "Prop: 0.0</title></rect><rect class=\"toyplot-Datum\" height=\"0.0\" style=\"fill:rgb(55.3%,62.7%,79.6%);fill-opacity:1.0;opacity:1.0;stroke:rgb(16.1%,15.3%,14.1%);stroke-opacity:1.0;stroke-width:2\" width=\"41.538461538461547\" x=\"154.61538461538461\" y=\"15.674682531746825\"><title>Name: 41954_cyathophylloides\n",
    "Group: 2\n",
    "Prop: 0.0</title></rect><rect class=\"toyplot-Datum\" height=\"0.0\" style=\"fill:rgb(55.3%,62.7%,79.6%);fill-opacity:1.0;opacity:1.0;stroke:rgb(16.1%,15.3%,14.1%);stroke-opacity:1.0;stroke-width:2\" width=\"41.538461538461547\" x=\"196.15384615384616\" y=\"12.574992500749923\"><title>Name: 29154_superba\n",
    "Group: 2\n",
    "Prop: 0.0</title></rect><rect class=\"toyplot-Datum\" height=\"25.634936506349376\" style=\"fill:rgb(55.3%,62.7%,79.6%);fill-opacity:1.0;opacity:1.0;stroke:rgb(16.1%,15.3%,14.1%);stroke-opacity:1.0;stroke-width:2\" width=\"41.538461538461519\" x=\"237.69230769230771\" y=\"13.049945005499444\"><title>Name: 30686_cyathophylla\n",
    "Group: 2\n",
    "Prop: 0.2051</title></rect><rect class=\"toyplot-Datum\" height=\"38.008699130086981\" style=\"fill:rgb(55.3%,62.7%,79.6%);fill-opacity:1.0;opacity:1.0;stroke:rgb(16.1%,15.3%,14.1%);stroke-opacity:1.0;stroke-width:2\" width=\"41.538461538461547\" x=\"279.23076923076923\" y=\"90.742175782421768\"><title>Name: 33413_thamno\n",
    "Group: 2\n",
    "Prop: 0.3041</title></rect><rect class=\"toyplot-Datum\" height=\"19.298070192980717\" style=\"fill:rgb(55.3%,62.7%,79.6%);fill-opacity:1.0;opacity:1.0;stroke:rgb(16.1%,15.3%,14.1%);stroke-opacity:1.0;stroke-width:2\" width=\"41.538461538461547\" x=\"320.76923076923077\" y=\"98.328917108289161\"><title>Name: 30556_thamno\n",
    "Group: 2\n",
    "Prop: 0.1544</title></rect><rect class=\"toyplot-Datum\" height=\"25.709929007099291\" style=\"fill:rgb(55.3%,62.7%,79.6%);fill-opacity:1.0;opacity:1.0;stroke:rgb(16.1%,15.3%,14.1%);stroke-opacity:1.0;stroke-width:2\" width=\"41.53846153846149\" x=\"362.30769230769232\" y=\"96.841565843415665\"><title>Name: 35236_rex\n",
    "Group: 2\n",
    "Prop: 0.2057</title></rect><rect class=\"toyplot-Datum\" height=\"17.060793920607949\" style=\"fill:rgb(55.3%,62.7%,79.6%);fill-opacity:1.0;opacity:1.0;stroke:rgb(16.1%,15.3%,14.1%);stroke-opacity:1.0;stroke-width:2\" width=\"41.538461538461604\" x=\"403.84615384615381\" y=\"111.26512348765124\"><title>Name: 40578_rex\n",
    "Group: 2\n",
    "Prop: 0.1365</title></rect><rect class=\"toyplot-Datum\" height=\"13.148685131486843\" style=\"fill:rgb(55.3%,62.7%,79.6%);fill-opacity:1.0;opacity:1.0;stroke:rgb(16.1%,15.3%,14.1%);stroke-opacity:1.0;stroke-width:2\" width=\"41.538461538461547\" x=\"445.38461538461542\" y=\"112.78997100289972\"><title>Name: 35855_rex\n",
    "Group: 2\n",
    "Prop: 0.1052</title></rect><rect class=\"toyplot-Datum\" height=\"0.0\" style=\"fill:rgb(55.3%,62.7%,79.6%);fill-opacity:1.0;opacity:1.0;stroke:rgb(16.1%,15.3%,14.1%);stroke-opacity:1.0;stroke-width:2\" width=\"41.53846153846149\" x=\"486.92307692307696\" y=\"137.5\"><title>Name: 39618_rex\n",
    "Group: 2\n",
    "Prop: 0.0</title></rect><rect class=\"toyplot-Datum\" height=\"0.0\" style=\"fill:rgb(55.3%,62.7%,79.6%);fill-opacity:1.0;opacity:1.0;stroke:rgb(16.1%,15.3%,14.1%);stroke-opacity:1.0;stroke-width:2\" width=\"41.538461538461547\" x=\"528.46153846153845\" y=\"137.5\"><title>Name: 38362_rex\n",
    "Group: 2\n",
    "Prop: 0.0</title></rect></g><g class=\"toyplot-Series\"><rect class=\"toyplot-Datum\" height=\"0.0\" style=\"fill:rgb(90.6%,54.1%,76.5%);fill-opacity:1.0;opacity:1.0;stroke:rgb(16.1%,15.3%,14.1%);stroke-opacity:1.0;stroke-width:2\" width=\"41.538461538461547\" x=\"30.0\" y=\"137.5\"><title>Name: 32082_przewalskii\n",
    "Group: 3\n",
    "Prop: 0.0</title></rect><rect class=\"toyplot-Datum\" height=\"0.0\" style=\"fill:rgb(90.6%,54.1%,76.5%);fill-opacity:1.0;opacity:1.0;stroke:rgb(16.1%,15.3%,14.1%);stroke-opacity:1.0;stroke-width:2\" width=\"41.538461538461533\" x=\"71.538461538461547\" y=\"137.5\"><title>Name: 33588_przewalskii\n",
    "Group: 3\n",
    "Prop: 0.0</title></rect><rect class=\"toyplot-Datum\" height=\"0.0\" style=\"fill:rgb(90.6%,54.1%,76.5%);fill-opacity:1.0;opacity:1.0;stroke:rgb(16.1%,15.3%,14.1%);stroke-opacity:1.0;stroke-width:2\" width=\"41.538461538461533\" x=\"113.07692307692308\" y=\"15.649685031496848\"><title>Name: 41478_cyathophylloides\n",
    "Group: 3\n",
    "Prop: 0.0</title></rect><rect class=\"toyplot-Datum\" height=\"0.0\" style=\"fill:rgb(90.6%,54.1%,76.5%);fill-opacity:1.0;opacity:1.0;stroke:rgb(16.1%,15.3%,14.1%);stroke-opacity:1.0;stroke-width:2\" width=\"41.538461538461547\" x=\"154.61538461538461\" y=\"15.674682531746825\"><title>Name: 41954_cyathophylloides\n",
    "Group: 3\n",
    "Prop: 0.0</title></rect><rect class=\"toyplot-Datum\" height=\"0.062493750624934563\" style=\"fill:rgb(90.6%,54.1%,76.5%);fill-opacity:1.0;opacity:1.0;stroke:rgb(16.1%,15.3%,14.1%);stroke-opacity:1.0;stroke-width:2\" width=\"41.538461538461547\" x=\"196.15384615384616\" y=\"12.512498750124989\"><title>Name: 29154_superba\n",
    "Group: 3\n",
    "Prop: 0.0005</title></rect><rect class=\"toyplot-Datum\" height=\"0.48745125487450913\" style=\"fill:rgb(90.6%,54.1%,76.5%);fill-opacity:1.0;opacity:1.0;stroke:rgb(16.1%,15.3%,14.1%);stroke-opacity:1.0;stroke-width:2\" width=\"41.538461538461519\" x=\"237.69230769230771\" y=\"12.562493750624935\"><title>Name: 30686_cyathophylla\n",
    "Group: 3\n",
    "Prop: 0.0039</title></rect><rect class=\"toyplot-Datum\" height=\"77.954704529547058\" style=\"fill:rgb(90.6%,54.1%,76.5%);fill-opacity:1.0;opacity:1.0;stroke:rgb(16.1%,15.3%,14.1%);stroke-opacity:1.0;stroke-width:2\" width=\"41.538461538461547\" x=\"279.23076923076923\" y=\"12.787471252874704\"><title>Name: 33413_thamno\n",
    "Group: 3\n",
    "Prop: 0.6237</title></rect><rect class=\"toyplot-Datum\" height=\"85.253974602539742\" style=\"fill:rgb(90.6%,54.1%,76.5%);fill-opacity:1.0;opacity:1.0;stroke:rgb(16.1%,15.3%,14.1%);stroke-opacity:1.0;stroke-width:2\" width=\"41.538461538461547\" x=\"320.76923076923077\" y=\"13.074942505749423\"><title>Name: 30556_thamno\n",
    "Group: 3\n",
    "Prop: 0.6821</title></rect><rect class=\"toyplot-Datum\" height=\"83.71662833716627\" style=\"fill:rgb(90.6%,54.1%,76.5%);fill-opacity:1.0;opacity:1.0;stroke:rgb(16.1%,15.3%,14.1%);stroke-opacity:1.0;stroke-width:2\" width=\"41.53846153846149\" x=\"362.30769230769232\" y=\"13.124937506249395\"><title>Name: 35236_rex\n",
    "Group: 3\n",
    "Prop: 0.6698</title></rect><rect class=\"toyplot-Datum\" height=\"98.765123487651238\" style=\"fill:rgb(90.6%,54.1%,76.5%);fill-opacity:1.0;opacity:1.0;stroke:rgb(16.1%,15.3%,14.1%);stroke-opacity:1.0;stroke-width:2\" width=\"41.538461538461604\" x=\"403.84615384615381\" y=\"12.5\"><title>Name: 40578_rex\n",
    "Group: 3\n",
    "Prop: 0.7902</title></rect><rect class=\"toyplot-Datum\" height=\"100.13998600139988\" style=\"fill:rgb(90.6%,54.1%,76.5%);fill-opacity:1.0;opacity:1.0;stroke:rgb(16.1%,15.3%,14.1%);stroke-opacity:1.0;stroke-width:2\" width=\"41.538461538461547\" x=\"445.38461538461542\" y=\"12.649985001499848\"><title>Name: 35855_rex\n",
    "Group: 3\n",
    "Prop: 0.8012</title></rect><rect class=\"toyplot-Datum\" height=\"124.98750124987501\" style=\"fill:rgb(90.6%,54.1%,76.5%);fill-opacity:1.0;opacity:1.0;stroke:rgb(16.1%,15.3%,14.1%);stroke-opacity:1.0;stroke-width:2\" width=\"41.53846153846149\" x=\"486.92307692307696\" y=\"12.512498750124989\"><title>Name: 39618_rex\n",
    "Group: 3\n",
    "Prop: 1.0</title></rect><rect class=\"toyplot-Datum\" height=\"124.98750124987501\" style=\"fill:rgb(90.6%,54.1%,76.5%);fill-opacity:1.0;opacity:1.0;stroke:rgb(16.1%,15.3%,14.1%);stroke-opacity:1.0;stroke-width:2\" width=\"41.538461538461547\" x=\"528.46153846153845\" y=\"12.512498750124989\"><title>Name: 38362_rex\n",
    "Group: 3\n",
    "Prop: 1.0</title></rect></g><g class=\"toyplot-Series\"><rect class=\"toyplot-Datum\" height=\"124.98750124987501\" style=\"fill:rgb(65.1%,84.7%,32.9%);fill-opacity:1.0;opacity:1.0;stroke:rgb(16.1%,15.3%,14.1%);stroke-opacity:1.0;stroke-width:2\" width=\"41.538461538461547\" x=\"30.0\" y=\"12.512498750124989\"><title>Name: 32082_przewalskii\n",
    "Group: 4\n",
    "Prop: 1.0</title></rect><rect class=\"toyplot-Datum\" height=\"124.98750124987501\" style=\"fill:rgb(65.1%,84.7%,32.9%);fill-opacity:1.0;opacity:1.0;stroke:rgb(16.1%,15.3%,14.1%);stroke-opacity:1.0;stroke-width:2\" width=\"41.538461538461533\" x=\"71.538461538461547\" y=\"12.512498750124989\"><title>Name: 33588_przewalskii\n",
    "Group: 4\n",
    "Prop: 1.0</title></rect><rect class=\"toyplot-Datum\" height=\"3.137186281371859\" style=\"fill:rgb(65.1%,84.7%,32.9%);fill-opacity:1.0;opacity:1.0;stroke:rgb(16.1%,15.3%,14.1%);stroke-opacity:1.0;stroke-width:2\" width=\"41.538461538461533\" x=\"113.07692307692308\" y=\"12.512498750124989\"><title>Name: 41478_cyathophylloides\n",
    "Group: 4\n",
    "Prop: 0.0251</title></rect><rect class=\"toyplot-Datum\" height=\"3.174682531746825\" style=\"fill:rgb(65.1%,84.7%,32.9%);fill-opacity:1.0;opacity:1.0;stroke:rgb(16.1%,15.3%,14.1%);stroke-opacity:1.0;stroke-width:2\" width=\"41.538461538461547\" x=\"154.61538461538461\" y=\"12.5\"><title>Name: 41954_cyathophylloides\n",
    "Group: 4\n",
    "Prop: 0.0254</title></rect><rect class=\"toyplot-Datum\" height=\"0.0\" style=\"fill:rgb(65.1%,84.7%,32.9%);fill-opacity:1.0;opacity:1.0;stroke:rgb(16.1%,15.3%,14.1%);stroke-opacity:1.0;stroke-width:2\" width=\"41.538461538461547\" x=\"196.15384615384616\" y=\"12.512498750124989\"><title>Name: 29154_superba\n",
    "Group: 4\n",
    "Prop: 0.0</title></rect><rect class=\"toyplot-Datum\" height=\"0.062493750624934563\" style=\"fill:rgb(65.1%,84.7%,32.9%);fill-opacity:1.0;opacity:1.0;stroke:rgb(16.1%,15.3%,14.1%);stroke-opacity:1.0;stroke-width:2\" width=\"41.538461538461519\" x=\"237.69230769230771\" y=\"12.5\"><title>Name: 30686_cyathophylla\n",
    "Group: 4\n",
    "Prop: 0.0005</title></rect><rect class=\"toyplot-Datum\" height=\"0.28747125287470432\" style=\"fill:rgb(65.1%,84.7%,32.9%);fill-opacity:1.0;opacity:1.0;stroke:rgb(16.1%,15.3%,14.1%);stroke-opacity:1.0;stroke-width:2\" width=\"41.538461538461547\" x=\"279.23076923076923\" y=\"12.5\"><title>Name: 33413_thamno\n",
    "Group: 4\n",
    "Prop: 0.0023</title></rect><rect class=\"toyplot-Datum\" height=\"0.54994500549944547\" style=\"fill:rgb(65.1%,84.7%,32.9%);fill-opacity:1.0;opacity:1.0;stroke:rgb(16.1%,15.3%,14.1%);stroke-opacity:1.0;stroke-width:2\" width=\"41.538461538461547\" x=\"320.76923076923077\" y=\"12.524997500249977\"><title>Name: 30556_thamno\n",
    "Group: 4\n",
    "Prop: 0.0044</title></rect><rect class=\"toyplot-Datum\" height=\"0.62493750624936872\" style=\"fill:rgb(65.1%,84.7%,32.9%);fill-opacity:1.0;opacity:1.0;stroke:rgb(16.1%,15.3%,14.1%);stroke-opacity:1.0;stroke-width:2\" width=\"41.53846153846149\" x=\"362.30769230769232\" y=\"12.500000000000027\"><title>Name: 35236_rex\n",
    "Group: 4\n",
    "Prop: 0.005</title></rect><rect class=\"toyplot-Datum\" height=\"0.0\" style=\"fill:rgb(65.1%,84.7%,32.9%);fill-opacity:1.0;opacity:1.0;stroke:rgb(16.1%,15.3%,14.1%);stroke-opacity:1.0;stroke-width:2\" width=\"41.538461538461604\" x=\"403.84615384615381\" y=\"12.5\"><title>Name: 40578_rex\n",
    "Group: 4\n",
    "Prop: 0.0</title></rect><rect class=\"toyplot-Datum\" height=\"0.13748625137485959\" style=\"fill:rgb(65.1%,84.7%,32.9%);fill-opacity:1.0;opacity:1.0;stroke:rgb(16.1%,15.3%,14.1%);stroke-opacity:1.0;stroke-width:2\" width=\"41.538461538461547\" x=\"445.38461538461542\" y=\"12.512498750124989\"><title>Name: 35855_rex\n",
    "Group: 4\n",
    "Prop: 0.0011</title></rect><rect class=\"toyplot-Datum\" height=\"0.0\" style=\"fill:rgb(65.1%,84.7%,32.9%);fill-opacity:1.0;opacity:1.0;stroke:rgb(16.1%,15.3%,14.1%);stroke-opacity:1.0;stroke-width:2\" width=\"41.53846153846149\" x=\"486.92307692307696\" y=\"12.512498750124989\"><title>Name: 39618_rex\n",
    "Group: 4\n",
    "Prop: 0.0</title></rect><rect class=\"toyplot-Datum\" height=\"0.0\" style=\"fill:rgb(65.1%,84.7%,32.9%);fill-opacity:1.0;opacity:1.0;stroke:rgb(16.1%,15.3%,14.1%);stroke-opacity:1.0;stroke-width:2\" width=\"41.538461538461547\" x=\"528.46153846153845\" y=\"12.512498750124989\"><title>Name: 38362_rex\n",
    "Group: 4\n",
    "Prop: 0.0</title></rect></g></g></g><g class=\"toyplot-coordinates-Axis\" id=\"t5372a025974545039f8980ee558e5f5f\" transform=\"translate(30.0,137.5)translate(0,10.0)\"><line style=\"stroke:rgb(16.1%,15.3%,14.1%);stroke-opacity:1.0;stroke-width:2\" x1=\"0\" x2=\"540.0\" y1=\"0\" y2=\"0\"></line><g><line style=\"\" x1=\"20.76923076923077\" x2=\"20.76923076923077\" y1=\"0\" y2=\"-5\"></line><line style=\"\" x1=\"62.307692307692314\" x2=\"62.307692307692314\" y1=\"0\" y2=\"-5\"></line><line style=\"\" x1=\"103.84615384615385\" x2=\"103.84615384615385\" y1=\"0\" y2=\"-5\"></line><line style=\"\" x1=\"145.3846153846154\" x2=\"145.3846153846154\" y1=\"0\" y2=\"-5\"></line><line style=\"\" x1=\"186.9230769230769\" x2=\"186.9230769230769\" y1=\"0\" y2=\"-5\"></line><line style=\"\" x1=\"228.46153846153845\" x2=\"228.46153846153845\" y1=\"0\" y2=\"-5\"></line><line style=\"\" x1=\"270.0\" x2=\"270.0\" y1=\"0\" y2=\"-5\"></line><line style=\"\" x1=\"311.5384615384615\" x2=\"311.5384615384615\" y1=\"0\" y2=\"-5\"></line><line style=\"\" x1=\"353.0769230769231\" x2=\"353.0769230769231\" y1=\"0\" y2=\"-5\"></line><line style=\"\" x1=\"394.6153846153846\" x2=\"394.6153846153846\" y1=\"0\" y2=\"-5\"></line><line style=\"\" x1=\"436.1538461538462\" x2=\"436.1538461538462\" y1=\"0\" y2=\"-5\"></line><line style=\"\" x1=\"477.6923076923077\" x2=\"477.6923076923077\" y1=\"0\" y2=\"-5\"></line><line style=\"\" x1=\"519.2307692307693\" x2=\"519.2307692307693\" y1=\"0\" y2=\"-5\"></line></g><g><text style=\"dominant-baseline:central;font-size:10px;font-weight:normal;stroke:none;text-anchor:start\" transform=\"translate(20.76923076923077,10.0)rotate(60)\"><tspan style=\"dominant-baseline:inherit\">32082_przewalskii</tspan></text><text style=\"dominant-baseline:central;font-size:10px;font-weight:normal;stroke:none;text-anchor:start\" transform=\"translate(62.307692307692314,10.0)rotate(60)\"><tspan style=\"dominant-baseline:inherit\">33588_przewalskii</tspan></text><text style=\"dominant-baseline:central;font-size:10px;font-weight:normal;stroke:none;text-anchor:start\" transform=\"translate(103.84615384615385,10.0)rotate(60)\"><tspan style=\"dominant-baseline:inherit\">41478_cyathophylloides</tspan></text><text style=\"dominant-baseline:central;font-size:10px;font-weight:normal;stroke:none;text-anchor:start\" transform=\"translate(145.3846153846154,10.0)rotate(60)\"><tspan style=\"dominant-baseline:inherit\">41954_cyathophylloides</tspan></text><text style=\"dominant-baseline:central;font-size:10px;font-weight:normal;stroke:none;text-anchor:start\" transform=\"translate(186.9230769230769,10.0)rotate(60)\"><tspan style=\"dominant-baseline:inherit\">29154_superba</tspan></text><text style=\"dominant-baseline:central;font-size:10px;font-weight:normal;stroke:none;text-anchor:start\" transform=\"translate(228.46153846153845,10.0)rotate(60)\"><tspan style=\"dominant-baseline:inherit\">30686_cyathophylla</tspan></text><text style=\"dominant-baseline:central;font-size:10px;font-weight:normal;stroke:none;text-anchor:start\" transform=\"translate(270.0,10.0)rotate(60)\"><tspan style=\"dominant-baseline:inherit\">33413_thamno</tspan></text><text style=\"dominant-baseline:central;font-size:10px;font-weight:normal;stroke:none;text-anchor:start\" transform=\"translate(311.5384615384615,10.0)rotate(60)\"><tspan style=\"dominant-baseline:inherit\">30556_thamno</tspan></text><text style=\"dominant-baseline:central;font-size:10px;font-weight:normal;stroke:none;text-anchor:start\" transform=\"translate(353.0769230769231,10.0)rotate(60)\"><tspan style=\"dominant-baseline:inherit\">35236_rex</tspan></text><text style=\"dominant-baseline:central;font-size:10px;font-weight:normal;stroke:none;text-anchor:start\" transform=\"translate(394.6153846153846,10.0)rotate(60)\"><tspan style=\"dominant-baseline:inherit\">40578_rex</tspan></text><text style=\"dominant-baseline:central;font-size:10px;font-weight:normal;stroke:none;text-anchor:start\" transform=\"translate(436.1538461538462,10.0)rotate(60)\"><tspan style=\"dominant-baseline:inherit\">35855_rex</tspan></text><text style=\"dominant-baseline:central;font-size:10px;font-weight:normal;stroke:none;text-anchor:start\" transform=\"translate(477.6923076923077,10.0)rotate(60)\"><tspan style=\"dominant-baseline:inherit\">39618_rex</tspan></text><text style=\"dominant-baseline:central;font-size:10px;font-weight:normal;stroke:none;text-anchor:start\" transform=\"translate(519.2307692307693,10.0)rotate(60)\"><tspan style=\"dominant-baseline:inherit\">38362_rex</tspan></text></g><g class=\"toyplot-coordinates-Axis-coordinates\" style=\"visibility:hidden\" transform=\"\"><line style=\"stroke:rgb(43.9%,50.2%,56.5%);stroke-opacity:1.0;stroke-width:1.0\" x1=\"0\" x2=\"0\" y1=\"-5.0\" y2=\"7.5\"></line><text style=\"alignment-baseline:alphabetic;fill:rgb(43.9%,50.2%,56.5%);fill-opacity:1.0;font-size:10px;font-weight:normal;stroke:none;text-anchor:middle\" x=\"0\" y=\"-10.0\"></text></g></g></g></svg><div class=\"toyplot-interactive\"><ul class=\"toyplot-mark-popup\" onmouseleave=\"this.style.visibility='hidden'\" style=\"background:rgba(0%,0%,0%,0.75);border:0;border-radius:6px;color:white;cursor:default;list-style:none;margin:0;padding:5px;position:fixed;visibility:hidden\">\n",
    "            <li class=\"toyplot-mark-popup-title\" style=\"color:lightgray;cursor:default;padding:5px;list-style:none;margin:0\"></li>\n",
    "            <li class=\"toyplot-mark-popup-save-csv\" onmouseout=\"this.style.color='white';this.style.background='steelblue'\" onmouseover=\"this.style.color='steelblue';this.style.background='white'\" style=\"border-radius:3px;padding:5px;list-style:none;margin:0\">\n",
    "                Save as .csv\n",
    "            </li>\n",
    "        </ul><script>\n",
    "        (function()\n",
    "        {\n",
    "          var data_tables = [{\"title\": \"Bar Data\", \"names\": [\"left\", \"right\", \"baseline\", \"magnitude0\", \"magnitude1\", \"magnitude2\", \"magnitude3\", \"magnitude4\"], \"id\": \"tefef7ce712dc494299e2cc9807c76ec0\", \"columns\": [[-0.5, 0.5, 1.5, 2.5, 3.5, 4.5, 5.5, 6.5, 7.5, 8.5, 9.5, 10.5, 11.5], [0.5, 1.5, 2.5, 3.5, 4.5, 5.5, 6.5, 7.5, 8.5, 9.5, 10.5, 11.5, 12.5], [0.0, 0.0, 0.0, 0.0, 0.0, 0.0, 0.0, 0.0, 0.0, 0.0, 0.0, 0.0, 0.0], [0.0, 0.0, 0.0, 0.0001, 0.7468, 0.5126, 0.07, 0.159, 0.1137, 0.0729, 0.0895, 0.0, 0.0], [0.0, 0.0, 0.9749, 0.9746, 0.2527, 0.278, 0.0, 0.0, 0.0059, 0.0005, 0.003, 0.0, 0.0], [0.0, 0.0, 0.0, 0.0, 0.0, 0.2051, 0.3041, 0.1544, 0.2057, 0.1365, 0.1052, 0.0, 0.0], [0.0, 0.0, 0.0, 0.0, 0.0005, 0.0039, 0.6237, 0.6821, 0.6698, 0.7902, 0.8012, 1.0, 1.0], [1.0, 1.0, 0.0251, 0.0254, 0.0, 0.0005, 0.0023, 0.0044, 0.005, 0.0, 0.0011, 0.0, 0.0]], \"filename\": \"toyplot\"}];\n",
    "\n",
    "          function save_csv(data_table)\n",
    "          {\n",
    "            var uri = \"data:text/csv;charset=utf-8,\";\n",
    "            uri += data_table.names.join(\",\") + \"\\n\";\n",
    "            for(var i = 0; i != data_table.columns[0].length; ++i)\n",
    "            {\n",
    "              for(var j = 0; j != data_table.columns.length; ++j)\n",
    "              {\n",
    "                if(j)\n",
    "                  uri += \",\";\n",
    "                uri += data_table.columns[j][i];\n",
    "              }\n",
    "              uri += \"\\n\";\n",
    "            }\n",
    "            uri = encodeURI(uri);\n",
    "\n",
    "            var link = document.createElement(\"a\");\n",
    "            if(typeof link.download != \"undefined\")\n",
    "            {\n",
    "              link.href = uri;\n",
    "              link.style = \"visibility:hidden\";\n",
    "              link.download = data_table.filename + \".csv\";\n",
    "\n",
    "              document.body.appendChild(link);\n",
    "              link.click();\n",
    "              document.body.removeChild(link);\n",
    "            }\n",
    "            else\n",
    "            {\n",
    "              window.open(uri);\n",
    "            }\n",
    "          }\n",
    "\n",
    "          function open_popup(data_table)\n",
    "          {\n",
    "            return function(e)\n",
    "            {\n",
    "              var popup = document.querySelector(\"#tbeef8aec88cf4927ae74baf874cd1763 .toyplot-mark-popup\");\n",
    "              popup.querySelector(\".toyplot-mark-popup-title\").innerHTML = data_table.title;\n",
    "              popup.querySelector(\".toyplot-mark-popup-save-csv\").onclick = function() { popup.style.visibility = \"hidden\"; save_csv(data_table); }\n",
    "              popup.style.left = (e.clientX - 50) + \"px\";\n",
    "              popup.style.top = (e.clientY - 20) + \"px\";\n",
    "              popup.style.visibility = \"visible\";\n",
    "              e.stopPropagation();\n",
    "              e.preventDefault();\n",
    "            }\n",
    "\n",
    "          }\n",
    "\n",
    "          for(var i = 0; i != data_tables.length; ++i)\n",
    "          {\n",
    "            var data_table = data_tables[i];\n",
    "            var event_target = document.querySelector(\"#\" + data_table.id);\n",
    "            event_target.oncontextmenu = open_popup(data_table);\n",
    "          }\n",
    "        })();\n",
    "        </script><script>\n",
    "        (function()\n",
    "        {\n",
    "            function _sign(x)\n",
    "            {\n",
    "                return x < 0 ? -1 : x > 0 ? 1 : 0;\n",
    "            }\n",
    "\n",
    "            function _mix(a, b, amount)\n",
    "            {\n",
    "                return ((1.0 - amount) * a) + (amount * b);\n",
    "            }\n",
    "\n",
    "            function _log(x, base)\n",
    "            {\n",
    "                return Math.log(Math.abs(x)) / Math.log(base);\n",
    "            }\n",
    "\n",
    "            function _in_range(a, x, b)\n",
    "            {\n",
    "                var left = Math.min(a, b);\n",
    "                var right = Math.max(a, b);\n",
    "                return left <= x && x <= right;\n",
    "            }\n",
    "\n",
    "            function inside(range, projection)\n",
    "            {\n",
    "                for(var i = 0; i != projection.length; ++i)\n",
    "                {\n",
    "                    var segment = projection[i];\n",
    "                    if(_in_range(segment.range.min, range, segment.range.max))\n",
    "                        return true;\n",
    "                }\n",
    "                return false;\n",
    "            }\n",
    "\n",
    "            function to_domain(range, projection)\n",
    "            {\n",
    "                for(var i = 0; i != projection.length; ++i)\n",
    "                {\n",
    "                    var segment = projection[i];\n",
    "                    if(_in_range(segment.range.bounds.min, range, segment.range.bounds.max))\n",
    "                    {\n",
    "                        if(segment.scale == \"linear\")\n",
    "                        {\n",
    "                            var amount = (range - segment.range.min) / (segment.range.max - segment.range.min);\n",
    "                            return _mix(segment.domain.min, segment.domain.max, amount)\n",
    "                        }\n",
    "                        else if(segment.scale[0] == \"log\")\n",
    "                        {\n",
    "                            var amount = (range - segment.range.min) / (segment.range.max - segment.range.min);\n",
    "                            var base = segment.scale[1];\n",
    "                            return _sign(segment.domain.min) * Math.pow(base, _mix(_log(segment.domain.min, base), _log(segment.domain.max, base), amount));\n",
    "                        }\n",
    "                    }\n",
    "                }\n",
    "            }\n",
    "\n",
    "            function display_coordinates(e)\n",
    "            {\n",
    "                var current = svg.createSVGPoint();\n",
    "                current.x = e.clientX;\n",
    "                current.y = e.clientY;\n",
    "\n",
    "                for(var axis_id in axes)\n",
    "                {\n",
    "                    var axis = document.querySelector(\"#\" + axis_id);\n",
    "                    var coordinates = axis.querySelector(\".toyplot-coordinates-Axis-coordinates\");\n",
    "                    if(coordinates)\n",
    "                    {\n",
    "                        var projection = axes[axis_id];\n",
    "                        var local = current.matrixTransform(axis.getScreenCTM().inverse());\n",
    "                        if(inside(local.x, projection))\n",
    "                        {\n",
    "                            var domain = to_domain(local.x, projection);\n",
    "                            coordinates.style.visibility = \"visible\";\n",
    "                            coordinates.setAttribute(\"transform\", \"translate(\" + local.x + \")\");\n",
    "                            var text = coordinates.querySelector(\"text\");\n",
    "                            text.textContent = domain.toFixed(2);\n",
    "                        }\n",
    "                        else\n",
    "                        {\n",
    "                            coordinates.style.visibility= \"hidden\";\n",
    "                        }\n",
    "                    }\n",
    "                }\n",
    "            }\n",
    "\n",
    "            var root_id = \"tbeef8aec88cf4927ae74baf874cd1763\";\n",
    "            var axes = {\"t5372a025974545039f8980ee558e5f5f\": [{\"domain\": {\"bounds\": {\"max\": Infinity, \"min\": -Infinity}, \"max\": 12.5, \"min\": -0.5}, \"range\": {\"bounds\": {\"max\": Infinity, \"min\": -Infinity}, \"max\": 540.0, \"min\": 0.0}, \"scale\": \"linear\"}]};\n",
    "\n",
    "            var svg = document.querySelector(\"#\" + root_id + \" svg\");\n",
    "            svg.addEventListener(\"click\", display_coordinates);\n",
    "        })();\n",
    "        </script></div></div>"
   ]
  },
  {
   "cell_type": "markdown",
   "metadata": {
    "slideshow": {
     "slide_type": "slide"
    }
   },
   "source": [
    "### Phylogenetic models for modelling admixture\n",
    "The D-statistics (ABBA-BABA) tests. \n",
    "\n",
    "References: \n",
    "    \n",
    "+ [Durand et al. (2012)](https://academic.oup.com/mbe/article-lookup/doi/10.1093/molbev/msr048)\n",
    "+ [Eaton & Ree (2013)](sysbio.oxfordjournals.org/content/62/5/689)  \n",
    "+ [Eaton et al. (2015)](http://onlinelibrary.wiley.com/doi/10.1111/evo.12758/full)\n",
    "+ [Pease & Hahn (2014)](http://sysbio.oxfordjournals.org/content/64/4/651.short)\n",
    "+ [Peters (2015)](http://www.genetics.org/content/early/2016/02/03/genetics.115.183913)\n"
   ]
  },
  {
   "cell_type": "markdown",
   "metadata": {
    "slideshow": {
     "slide_type": "subslide"
    }
   },
   "source": [
    "### Full-genome implementations\n",
    "The software admix-tools is often used to calculate ABBA-BABA scores from genome wide sequence alignments where the value if often measured using a sliding-widow approach along the genome. \n",
    "\n",
    "https://github.com/DReichLab/AdmixTools"
   ]
  },
  {
   "cell_type": "markdown",
   "metadata": {
    "slideshow": {
     "slide_type": "subslide"
    }
   },
   "source": [
    "### RAD-seq implementation\n",
    "\n",
    "Because RAD-seq provides only a subset of the genome the data must be analyzed a little differently than for full genome data. "
   ]
  },
  {
   "cell_type": "markdown",
   "metadata": {
    "slideshow": {
     "slide_type": "subslide"
    }
   },
   "source": [
    "### Download and run the code in jupyter \n",
    "\n",
    "[https://github.com/dereneaton/ipyrad/blob/master/tests/cookbook-abba-baba.ipynb](https://github.com/dereneaton/ipyrad/blob/master/tests/cookbook-abba-baba.ipyn)"
   ]
  },
  {
   "cell_type": "markdown",
   "metadata": {
    "slideshow": {
     "slide_type": "slide"
    }
   },
   "source": [
    "### Phylogenetic invariants and tetrad\n",
    "A more general implementation of the *general markov model*. "
   ]
  },
  {
   "cell_type": "markdown",
   "metadata": {
    "slideshow": {
     "slide_type": "subslide"
    }
   },
   "source": [
    "### Download and run the code in jupyter\n",
    "\n",
    "[https://github.com/dereneaton/ipyrad/blob/master/tests/phylogenetic_invariants.ipynb](https://github.com/dereneaton/ipyrad/blob/master/tests/phylogenetic_invariants.ipynb)"
   ]
  }
 ],
 "metadata": {
  "celltoolbar": "Slideshow",
  "kernelspec": {
   "display_name": "Python 2",
   "language": "python",
   "name": "python2"
  },
  "language_info": {
   "codemirror_mode": {
    "name": "ipython",
    "version": 2
   },
   "file_extension": ".py",
   "mimetype": "text/x-python",
   "name": "python",
   "nbconvert_exporter": "python",
   "pygments_lexer": "ipython2",
   "version": "2.7.13"
  }
 },
 "nbformat": 4,
 "nbformat_minor": 2
}
