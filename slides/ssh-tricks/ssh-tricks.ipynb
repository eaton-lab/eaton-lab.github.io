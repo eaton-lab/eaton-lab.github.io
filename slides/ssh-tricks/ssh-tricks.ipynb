{
 "cells": [
  {
   "cell_type": "markdown",
   "metadata": {
    "slideshow": {
     "slide_type": "slide"
    }
   },
   "source": [
    "# SSH server connection tricks\n",
    "Oldenburg bioinformatics workshop 2017  \n",
    "Deren Eaton"
   ]
  },
  {
   "cell_type": "markdown",
   "metadata": {
    "slideshow": {
     "slide_type": "slide"
    }
   },
   "source": [
    "### Faster & easier login\n",
    "\n",
    "Create a file called `.ssh/config` and enter your host and user names:"
   ]
  },
  {
   "cell_type": "code",
   "execution_count": 1,
   "metadata": {},
   "outputs": [
    {
     "name": "stdout",
     "output_type": "stream",
     "text": [
      "Host tinus\n",
      "    HostName tinus.eeb.yale.internal\n",
      "    User deren\n",
      "\n",
      "Host farnam\n",
      "    HostName farnam.hpc.yale.edu\n",
      "    User de243\n",
      "\n",
      "Host oldenburg\n",
      "    HostName carl.hpc.uni-oldenburg.de\n",
      "    User adta5102\n"
     ]
    }
   ],
   "source": [
    "## here is what mine looks like\n",
    "cat ~/.ssh/config"
   ]
  },
  {
   "cell_type": "markdown",
   "metadata": {
    "slideshow": {
     "slide_type": "slide"
    }
   },
   "source": [
    "### Simple connection\n",
    "You can now connect to the **login node** where you can submit jobs to the cluster scheduler to be distributed on **compute nodes**. Before connecting with SSH you may need to use a VPN if you are off-campus. "
   ]
  },
  {
   "cell_type": "code",
   "execution_count": null,
   "metadata": {
    "collapsed": true,
    "slideshow": {
     "slide_type": "-"
    }
   },
   "outputs": [],
   "source": [
    "## connect to the cluster with ssh\n",
    "ssh oldenburg"
   ]
  },
  {
   "cell_type": "markdown",
   "metadata": {
    "slideshow": {
     "slide_type": "slide"
    }
   },
   "source": [
    "### Check the queue\n",
    "You can specify specific users with the `-u` flag. "
   ]
  },
  {
   "cell_type": "code",
   "execution_count": null,
   "metadata": {
    "collapsed": true,
    "slideshow": {
     "slide_type": "-"
    }
   },
   "outputs": [],
   "source": [
    "### Check the queue on the Cluster\n",
    "squeue -u adta5102"
   ]
  },
  {
   "cell_type": "markdown",
   "metadata": {
    "slideshow": {
     "slide_type": "fragment"
    }
   },
   "source": [
    "```bash\n",
    "\n",
    "    JOBID PARTITION     NAME     USER ST       TIME  NODES NODELIST(REASON)\n",
    "  2635677    carl.p     test adta5102  R      56:54      1 mpcl009\n",
    "  2635709    carl.p     bash adta5102  R      29:02      1 mpcl009\n",
    "  \n",
    "```"
   ]
  },
  {
   "cell_type": "markdown",
   "metadata": {
    "slideshow": {
     "slide_type": "slide"
    }
   },
   "source": [
    "### Connect to a compute node interactively\n",
    "\n",
    "This is very useful for debugging. Select the most available queue and enter a short walltime. It should connect quickly. Install software or run short tests on your scripts to ensure they work before submitting a long running job. "
   ]
  },
  {
   "cell_type": "code",
   "execution_count": null,
   "metadata": {
    "collapsed": true,
    "slideshow": {
     "slide_type": "-"
    }
   },
   "outputs": [],
   "source": [
    ">>> srun -p carl.p -t 1:00:00 -N 1 -n 4 --pty /bin/bash"
   ]
  },
  {
   "cell_type": "markdown",
   "metadata": {
    "slideshow": {
     "slide_type": "slide"
    }
   },
   "source": [
    "### Access system-wide software\n",
    "On a shared cluster there is a typically software that is installed system-wide by an administrator. Although you cannot install *system-wide* software, you can ask the administrator to do it for you. The following commands are useful to find and load system software. "
   ]
  },
  {
   "cell_type": "code",
   "execution_count": null,
   "metadata": {
    "collapsed": true,
    "slideshow": {
     "slide_type": "-"
    }
   },
   "outputs": [],
   "source": [
    "## shows all available software\n",
    "module avail\n",
    "\n",
    "## load a module\n",
    "module load OpenMPI/2.0.1-GCC-6.2.0"
   ]
  },
  {
   "cell_type": "markdown",
   "metadata": {
    "slideshow": {
     "slide_type": "slide"
    }
   },
   "source": [
    "### Install local software\n",
    "Alternatively, you can install software locally, in which case, I recommend using [conda](https://conda.io/docs/). This is the default mode by which `ipyrad` should be installed, and is useful for other software which you want to update frequently. "
   ]
  },
  {
   "cell_type": "code",
   "execution_count": null,
   "metadata": {
    "collapsed": true
   },
   "outputs": [],
   "source": [
    "## download and install conda for linux\n",
    "curl -O https://repo.continuum.io/miniconda/Miniconda2-latest-Linux-x86_64.sh\n",
    "bash -b Miniconda2-latest-Linux-x86_64.sh \n",
    "\n",
    "## source the installation (puts it in your $PATH)\n",
    "source ~/.bashrc"
   ]
  },
  {
   "cell_type": "code",
   "execution_count": 2,
   "metadata": {
    "slideshow": {
     "slide_type": "subslide"
    }
   },
   "outputs": [
    {
     "name": "stdout",
     "output_type": "stream",
     "text": [
      "Current conda install:\n",
      "\n",
      "               platform : linux-64\n",
      "          conda version : 4.3.16\n",
      "       conda is private : False\n",
      "      conda-env version : 4.3.16\n",
      "    conda-build version : 2.1.10\n",
      "         python version : 2.7.13.final.0\n",
      "       requests version : 2.12.4\n",
      "       root environment : /home/deren/miniconda2  (writable)\n",
      "    default environment : /home/deren/miniconda2\n",
      "       envs directories : /home/deren/miniconda2/envs\n",
      "                          /home/deren/.conda/envs\n",
      "          package cache : /home/deren/miniconda2/pkgs\n",
      "                          /home/deren/.conda/pkgs\n",
      "           channel URLs : https://repo.continuum.io/pkgs/free/linux-64\n",
      "                          https://repo.continuum.io/pkgs/free/noarch\n",
      "                          https://repo.continuum.io/pkgs/r/linux-64\n",
      "                          https://repo.continuum.io/pkgs/r/noarch\n",
      "                          https://repo.continuum.io/pkgs/pro/linux-64\n",
      "                          https://repo.continuum.io/pkgs/pro/noarch\n",
      "            config file : /home/deren/.condarc\n",
      "           offline mode : False\n",
      "             user-agent : conda/4.3.16 requests/2.12.4 CPython/2.7.13 Linux/4.4.0-75-generic debian/stretch/sid glibc/2.23\n",
      "                UID:GID : 1000:1000\n",
      "\n"
     ]
    }
   ],
   "source": [
    "## test that conda is installed. \n",
    "conda info"
   ]
  },
  {
   "cell_type": "markdown",
   "metadata": {
    "slideshow": {
     "slide_type": "slide"
    }
   },
   "source": [
    "### Once conda is installed almost anything is available to you\n",
    "Google conda + the software you are looking for and you will probably find a recipe. One repository with a lot of useful bioinformatics software is called `bioconda`. "
   ]
  },
  {
   "cell_type": "code",
   "execution_count": null,
   "metadata": {
    "collapsed": true,
    "slideshow": {
     "slide_type": "-"
    }
   },
   "outputs": [],
   "source": [
    "## install some recipes from the bioconda channel\n",
    "conda install raxml -c bioconda\n",
    "\n",
    "## install some recipes from the ipyrad channel\n",
    "conda install bpp -c bioconda"
   ]
  },
  {
   "cell_type": "markdown",
   "metadata": {
    "slideshow": {
     "slide_type": "slide"
    }
   },
   "source": [
    "### Write a SLURM (sbatch) submission script for `carl`\n",
    "This is just a test to confirm that our software can be found from the job scheduler. "
   ]
  },
  {
   "cell_type": "code",
   "execution_count": null,
   "metadata": {
    "collapsed": true,
    "slideshow": {
     "slide_type": "-"
    }
   },
   "outputs": [],
   "source": [
    "#!/bin/bash\n",
    "#SBATCH --partition carl.p\n",
    "#SBATCH --nodes 1\n",
    "#SBATCH --ntasks-per-node 24\n",
    "#SBATCH --exclusive\n",
    "#SBATCH --time 4:00:00\n",
    "#SBATCH --mem-per-cpu 4000\n",
    "#SBATCH --job-name test\n",
    "#SBATCH --output test-conda-%J.txt\n",
    "\n",
    "## show the location of my software\n",
    "which conda\n",
    "which raxml\n",
    "which bpp"
   ]
  },
  {
   "cell_type": "markdown",
   "metadata": {
    "slideshow": {
     "slide_type": "subslide"
    }
   },
   "source": [
    "### If not, just add a source command\n",
    "Some HPC systems do not store the user's $PATH in the job scheduler. If you see an error in which your software is not being found then simply add the `source` call to your sbatch script. "
   ]
  },
  {
   "cell_type": "code",
   "execution_count": null,
   "metadata": {
    "collapsed": true,
    "slideshow": {
     "slide_type": "-"
    }
   },
   "outputs": [],
   "source": [
    "#!/bin/bash\n",
    "#SBATCH --partition carl.p\n",
    "#SBATCH --nodes 1\n",
    "#SBATCH --ntasks-per-node 24\n",
    "#SBATCH --exclusive\n",
    "#SBATCH --time 4:00:00\n",
    "#SBATCH --mem-per-cpu 4000\n",
    "#SBATCH --job-name test\n",
    "#SBATCH --output test-conda-%J.txt\n",
    "\n",
    "## re-source the $PATH\n",
    "source /user/adta5102/.bashrc\n",
    "\n",
    "## show the location of my software\n",
    "which conda\n",
    "which raxml\n",
    "which bpp"
   ]
  },
  {
   "cell_type": "markdown",
   "metadata": {
    "slideshow": {
     "slide_type": "slide"
    }
   },
   "source": [
    "### Start a jupyter notebook server\n",
    "A powerful way to work on an HPC cluster is through Jupyter notebooks, which allow you to work interactively while also keeping a detailed record of your work. Submit this script below and follow the instructions to launch an SSH tunnel to connect to a remote jupyter server from your laptop."
   ]
  },
  {
   "cell_type": "code",
   "execution_count": null,
   "metadata": {
    "collapsed": true,
    "slideshow": {
     "slide_type": "-"
    }
   },
   "outputs": [],
   "source": [
    "#!/bin/bash\n",
    "#SBATCH --partition carl.p\n",
    "#SBATCH --nodes 1\n",
    "#SBATCH --ntasks-per-node 24\n",
    "#SBATCH --exclusive\n",
    "#SBATCH --time 24:00:00\n",
    "#SBATCH --mem-per-cpu 4000\n",
    "#SBATCH --job-name tunnel\n",
    "#SBATCH --output jupyter-log-%J.txt\n",
    "\n",
    "## get tunneling info\n",
    "XDG_RUNTIME_DIR=\"\"\n",
    "ipnport=$(shuf -i8000-9999 -n1)\n",
    "ipnip=$(hostname -i)\n",
    "\n",
    "## print tunneling instructions to jupyter-log-{jobid}.txt\n",
    "echo -e \"\n",
    "   Paste this ssh command in a terminal on local host (i.e., laptop)\n",
    "   -----------------------------------------------------------------\n",
    "   ssh -N -L $ipnport:$ipnip:$ipnport {user@host}      \n",
    "\n",
    "   Open this address in a browser on local host; see token below.\n",
    "   -----------------------------------------------------------------\n",
    "   localhost:$ipnport  (prepend with https:// if using a password)\n",
    "   \"\n",
    "\n",
    "## launch a jupyter server on the specified port & ip\n",
    "jupyter-notebook --no-browser --port=$ipnport --ip=$ipnip"
   ]
  },
  {
   "cell_type": "markdown",
   "metadata": {
    "slideshow": {
     "slide_type": "slide"
    }
   },
   "source": [
    "### Submit the script to the queue\n",
    "Once the job starts check the log file which it produces named `jupyter-log-{xxx}.txt`. It should look something like the output below. On your local computer (i.e., laptop) open a terminal and paste in the ssh tunneling command. Replace {user@host} with your credentials. "
   ]
  },
  {
   "cell_type": "code",
   "execution_count": null,
   "metadata": {
    "collapsed": true,
    "slideshow": {
     "slide_type": "-"
    }
   },
   "outputs": [],
   "source": [
    "## submit the job\n",
    "sbatch slurm_jupyter.sbatch"
   ]
  },
  {
   "cell_type": "code",
   "execution_count": null,
   "metadata": {
    "collapsed": true,
    "slideshow": {
     "slide_type": "-"
    }
   },
   "outputs": [],
   "source": [
    "## check the lob\n",
    "cat jupyter-log-2637903.txt"
   ]
  },
  {
   "cell_type": "markdown",
   "metadata": {
    "slideshow": {
     "slide_type": "subslide"
    }
   },
   "source": [
    "### The jupyter log file\n",
    "Follow the instructions. Paste the ssh command into your local terminal and open the localhost address in a browser. "
   ]
  },
  {
   "cell_type": "markdown",
   "metadata": {
    "slideshow": {
     "slide_type": "-"
    }
   },
   "source": [
    "```bash\n",
    "\n",
    "   Paste this ssh command in a terminal on local host (i.e., laptop)\n",
    "   -----------------------------------------------------------------\n",
    "   ssh -N -L 8506:10.151.9.5:8506 {user@host}      \n",
    "\n",
    "   Open this address in a browser on local host; see token below.\n",
    "   -----------------------------------------------------------------\n",
    "   localhost:8506  (prepend with https:// if using a password)\n",
    "   \n",
    "[I 20:14:58.579 NotebookApp] Serving notebooks from local directory: /user/adta5102\n",
    "[I 20:14:58.580 NotebookApp] 0 active kernels \n",
    "[I 20:14:58.580 NotebookApp] The Jupyter Notebook is running at: http://10.151.9.5:8506/?token=039fbda2b6139c8ba4e213e4af1e77662b8091d6714846e1\n",
    "[I 20:14:58.580 NotebookApp] Use Control-C to stop this server and shut down all kernels (twice to skip confirmation).\n",
    "[C 20:14:58.589 NotebookApp] \n",
    "    \n",
    "    Copy/paste this URL into your browser when you connect for the first time,\n",
    "    to login with a token:\n",
    "        http://10.151.9.5:8506/?token=039fbda2b6139c8ba4e213e4af1e77662b8091d6714846e1\n",
    "```"
   ]
  },
  {
   "cell_type": "markdown",
   "metadata": {
    "slideshow": {
     "slide_type": "subslide"
    }
   },
   "source": [
    "### Connecting to the notebook server (video tutorial)"
   ]
  },
  {
   "cell_type": "markdown",
   "metadata": {},
   "source": [
    "<iframe width=\"560\" height=\"315\" src=\"https://www.youtube.com/embed/hjBJw1fY5Uo\" frameborder=\"0\" allowfullscreen></iframe>"
   ]
  }
 ],
 "metadata": {
  "celltoolbar": "Slideshow",
  "kernelspec": {
   "display_name": "Bash",
   "language": "bash",
   "name": "bash"
  },
  "language_info": {
   "codemirror_mode": "shell",
   "file_extension": ".sh",
   "mimetype": "text/x-sh",
   "name": "bash"
  }
 },
 "nbformat": 4,
 "nbformat_minor": 2
}
