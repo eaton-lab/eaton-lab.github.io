{
 "cells": [
  {
   "cell_type": "markdown",
   "metadata": {
    "slideshow": {
     "slide_type": "slide"
    }
   },
   "source": [
    "# Advances in RAD-seq phylogenetics \n",
    "Deren Eaton "
   ]
  },
  {
   "cell_type": "markdown",
   "metadata": {
    "slideshow": {
     "slide_type": "slide"
    }
   },
   "source": [
    "Phylogenetic methods are continually advancing, both in terms of the <span style=\"color:darkorange\">speed</span> of analyses as well as in the <span style=\"color:darkcyan\">statistical models</span> that are applied. "
   ]
  },
  {
   "cell_type": "markdown",
   "metadata": {
    "slideshow": {
     "slide_type": "subslide"
    }
   },
   "source": [
    "### The problem of phylogenetic inference\n",
    "There are $(2n-3)!!$ possible rooted binary topologies to explain relationships among n samples. The size of **tree space** quickly becomes too large to search exhaustively. ![n-topologies](../slide-images/N-topologies.png)"
   ]
  },
  {
   "cell_type": "markdown",
   "metadata": {
    "slideshow": {
     "slide_type": "subslide"
    }
   },
   "source": [
    "### Large numbers of taxa\n",
    "\n",
    "The *mega-phylogeny* approach [(Smith et al. 2008)](https://bmcevolbiol.biomedcentral.com/articles/10.1186/1471-2148-9-37) and related methods describe an approach of mining data from online resources to assemble large *supermatrices* that contain few traditional markers (e.g., COI, cytB, ITS) sampled across hundreds or thousands of taxa.  \n",
    "\n",
    "#### Typical software: \n",
    "+ raxml (fast & memory-efficient ML inference)  \n",
    "+ exabayes (less-fast, more more-memory efficient Bayesian inference)  "
   ]
  },
  {
   "cell_type": "markdown",
   "metadata": {
    "slideshow": {
     "slide_type": "subslide"
    }
   },
   "source": [
    "### Full genomes\n",
    "Early phylogenomic studies typically compared few species (often model organisms) for which full genome data was available. The primary difficulties with using full genome data is in identifying proper phylogenetic markers. Many genomic regions are *difficult to align*, and it is *difficult to identify homology* between genes. For this reason, many studies with full genomes restrict phylogenetic analyses to the use of transcriptomes. \n",
    "\n",
    "#### Example full genome papers:\n",
    "\n",
    "+ Dunn et al. \n",
    "+ Plants"
   ]
  },
  {
   "cell_type": "code",
   "execution_count": null,
   "metadata": {
    "collapsed": true
   },
   "outputs": [],
   "source": []
  },
  {
   "cell_type": "markdown",
   "metadata": {
    "slideshow": {
     "slide_type": "subslide"
    }
   },
   "source": [
    "### Many sequences and many taxa\n",
    "Example links. "
   ]
  },
  {
   "cell_type": "markdown",
   "metadata": {
    "slideshow": {
     "slide_type": "subslide"
    }
   },
   "source": [
    "### The influence of missing data\n",
    "\n",
    "In large-scale **megaphylogenies** -- data mined matrices of few traditional markers across thousands of taxa -- missing data often ranges up to >90%.  \n",
    "\n",
    "In large-scale **sub-genomic** data sets, like RAD-seq, the proportion of missing data often ranges between 10-90%.   \n",
    "\n",
    "Importantly, the first type of problem is more sensitive to the problem of *terraces in phylogenetic tree space* [Sanderson et al. 2012](http://science.sciencemag.org/content/333/6041/448.long), where many taxa in the phylogeny share no information, whereas in the latter there is typically still significant phylogenetic information for all taxa. "
   ]
  },
  {
   "cell_type": "markdown",
   "metadata": {},
   "source": [
    "# Models"
   ]
  },
  {
   "cell_type": "markdown",
   "metadata": {},
   "source": [
    "### Likelihood calculation: how likely is a tree\n",
    "\n",
    "Maximum likelihood is a method of **optimizing** the likelihood of the data given a defined model $P(D|M)$, and is done by estimating the parameters of the model. Different models have different numbers of parameters. \n",
    "\n",
    "+ Jukes-Cantor (JC) = 1 parameter (simple)\n",
    "+ General time-reversible (GTR) = 6 parametes (complex)"
   ]
  },
  {
   "cell_type": "markdown",
   "metadata": {},
   "source": [
    "### Calculation\n",
    "The likelihood of the full tree is the product of the likelihood at each site. \n",
    "\n",
    "<br>\n",
    "<center>\n",
    "$L = \\prod_{j=1}^N{ln~L(j)}$\n",
    "</center>"
   ]
  },
  {
   "cell_type": "markdown",
   "metadata": {},
   "source": [
    "### Phylogenetic invariants\n",
    "This is an old method that has recently been revived to great popularity. It is a *non-parametric* method, meaning that it does not aim to infer parameters to fit a model. Instead, it uses a *geometric model* called the <span style=\"color:darkcyan\">general Markov model</span>."
   ]
  }
 ],
 "metadata": {
  "celltoolbar": "Slideshow",
  "kernelspec": {
   "display_name": "Python 2",
   "language": "python",
   "name": "python2"
  },
  "language_info": {
   "codemirror_mode": {
    "name": "ipython",
    "version": 2
   },
   "file_extension": ".py",
   "mimetype": "text/x-python",
   "name": "python",
   "nbconvert_exporter": "python",
   "pygments_lexer": "ipython2",
   "version": "2.7.13"
  }
 },
 "nbformat": 4,
 "nbformat_minor": 2
}
